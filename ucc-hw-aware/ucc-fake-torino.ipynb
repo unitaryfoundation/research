{
 "cells": [
  {
   "cell_type": "markdown",
   "id": "5af7f3f8",
   "metadata": {},
   "source": [
    "### Using UCC on FakeTorino\n"
   ]
  },
  {
   "cell_type": "code",
   "execution_count": 1,
   "id": "224950fe",
   "metadata": {},
   "outputs": [],
   "source": [
    "from qiskit import QuantumCircuit\n",
    "from qiskit import transpile as qiskit_transpile\n",
    "from qiskit_ibm_runtime.fake_provider import FakeTorino\n",
    "from qiskit_aer import AerSimulator"
   ]
  },
  {
   "cell_type": "code",
   "execution_count": 2,
   "id": "f49b634e",
   "metadata": {},
   "outputs": [],
   "source": [
    "%matplotlib inline"
   ]
  },
  {
   "cell_type": "code",
   "execution_count": 3,
   "id": "20d8fda5-693c-46f6-98e7-04413982fe47",
   "metadata": {},
   "outputs": [],
   "source": [
    "# 1. Initialize the fake backend\n",
    "fake_backend = FakeTorino()"
   ]
  },
  {
   "cell_type": "code",
   "execution_count": 4,
   "id": "93446733",
   "metadata": {},
   "outputs": [],
   "source": [
    "# 2. Create a quantum circuit\n",
    "def bell_state_circuit(num_qubits=2):\n",
    "    qc = QuantumCircuit(num_qubits, num_qubits)\n",
    "    qc.h(0)\n",
    "    qc.cx(0, 1)\n",
    "    qc.measure([0, 1], [0, 1])\n",
    "    return qc"
   ]
  },
  {
   "cell_type": "code",
   "execution_count": 5,
   "id": "1b66db1d-ae9c-4a4a-9412-4aaf02721216",
   "metadata": {},
   "outputs": [
    {
     "name": "stderr",
     "output_type": "stream",
     "text": [
      "/Users/jordansullivan/UnitaryFund/research/ucc-hw-aware/.venv/lib/python3.13/site-packages/qbraid/_entrypoints.py:20: UserWarning: pkg_resources is deprecated as an API. See https://setuptools.pypa.io/en/latest/pkg_resources.html. The pkg_resources package is slated for removal as early as 2025-11-30. Refrain from using this package or pin to Setuptools<81.\n",
      "  import pkg_resources\n"
     ]
    }
   ],
   "source": [
    "import ucc\n",
    "\n",
    "def run_circuit(qc, simulator, compiler_name, shots=5000):\n",
    "    if compiler_name == 'ucc':\n",
    "        compiled_qc = ucc.compile(qc, target_device=fake_backend.target)\n",
    "    elif compiler_name == 'qiskit':\n",
    "        compiled_qc = qiskit_transpile(qc, fake_backend)\n",
    "    \n",
    "    # 5. Run the compiled circuit on the simulator\n",
    "    job = simulator.run(compiled_qc, shots=shots)\n",
    "    result = job.result()\n",
    "    counts = result.get_counts(compiled_qc)\n",
    "    \n",
    "    # 6. Print the results\n",
    "    print(\n",
    "        f\"Counts from noisy simulation on FakeTorino with {compiler_name}: {counts}\"\n",
    "    )\n",
    "\n",
    "    return (compiler_name, counts)"
   ]
  },
  {
   "cell_type": "code",
   "execution_count": 8,
   "id": "3def85c9-030e-409e-8ed0-2c660d7e34df",
   "metadata": {},
   "outputs": [
    {
     "name": "stderr",
     "output_type": "stream",
     "text": [
      "/Users/jordansullivan/UnitaryFund/research/ucc-hw-aware/.venv/lib/python3.13/site-packages/ucc/compile.py:73: UserWarning: Warning: The target gateset None is not supported by the target device. \n",
      "  warnings.warn(\n"
     ]
    },
    {
     "name": "stdout",
     "output_type": "stream",
     "text": [
      "Counts from noisy simulation on FakeTorino with ucc: {'0000000001': 109, '0000000010': 111, '0000000011': 4967, '0000000000': 4813}\n",
      "Counts from noisy simulation on FakeTorino with qiskit: {'0000000001': 105, '0000000010': 121, '0000000000': 4902, '0000000011': 4872}\n"
     ]
    }
   ],
   "source": [
    "# 3. Create an AerSimulator with the noise model of the fake backend\n",
    "# This allows for noisy simulation mimicking the real hardware.\n",
    "simulator = AerSimulator.from_backend(fake_backend)\n",
    "\n",
    "results = []\n",
    "qc = bell_state_circuit(10)\n",
    "\n",
    "# 4. Compile and simulate with UCC\n",
    "results.append(run_circuit(qc, simulator, 'ucc', 10000))\n",
    "\n",
    "# 5. Compile and simulate with Qiskit\n",
    "qc = bell_state_circuit(10)\n",
    "results.append(run_circuit(qc, simulator, 'qiskit', 10000))"
   ]
  },
  {
   "cell_type": "code",
   "execution_count": 9,
   "id": "e25bca05",
   "metadata": {},
   "outputs": [
    {
     "name": "stdout",
     "output_type": "stream",
     "text": [
      "[('ucc', {'0000000001': 109, '0000000010': 111, '0000000011': 4967, '0000000000': 4813}), ('qiskit', {'0000000001': 105, '0000000010': 121, '0000000000': 4902, '0000000011': 4872})]\n"
     ]
    }
   ],
   "source": [
    "import matplotlib.pyplot as plt\n",
    "\n",
    "print(results)"
   ]
  },
  {
   "cell_type": "code",
   "execution_count": 11,
   "id": "610c4b27",
   "metadata": {},
   "outputs": [
    {
     "data": {
      "image/png": "[encoded data removed]",
      "text/plain": [
       "<Figure size 1000x600 with 1 Axes>"
      ]
     },
     "metadata": {},
     "output_type": "display_data"
    }
   ],
   "source": [
    "import numpy as np\n",
    "\n",
    "# Your data\n",
    "data = results\n",
    "# Extract binary strings (keys) and sort them\n",
    "binary_strings = sorted(data[0][1].keys())\n",
    "compilers = [item[0] for item in data]\n",
    "\n",
    "# Prepare data for plotting\n",
    "values = []\n",
    "for compiler, counts in data:\n",
    "    values.append([counts[b] for b in binary_strings])\n",
    "\n",
    "# Set up the plot\n",
    "x = np.arange(len(binary_strings))\n",
    "width = 0.35  # Width of the bars\n",
    "\n",
    "fig, ax = plt.subplots(figsize=(10, 6))\n",
    "\n",
    "# Create bars for each compiler\n",
    "for i, (compiler, compiler_values) in enumerate(zip(compilers, values)):\n",
    "    offset = width * i\n",
    "    ax.bar(x + offset, compiler_values, width, label=compiler)\n",
    "\n",
    "# Customize the plot\n",
    "ax.set_xlabel(\"Bitstrings\")\n",
    "ax.set_ylabel(\"Counts\")\n",
    "ax.set_title(\"Compiler Results Comparison\")\n",
    "ax.set_xticks(x + width / 2)\n",
    "ax.set_xticklabels(binary_strings, rotation=45)\n",
    "ax.legend()\n",
    "\n",
    "plt.tight_layout()\n",
    "plt.show()"
   ]
  },
  {
   "cell_type": "markdown",
   "id": "3c8c5497-6a76-44b3-8f28-cf30481c460b",
   "metadata": {},
   "source": [
    "### Next steps\n",
    "Since it appears UCC is doing about on par with Qiskit in this case, we most likely next wish to run our full ucc-bench benchmarks on these devices to compare performance"
   ]
  },
  {
   "cell_type": "code",
   "execution_count": null,
   "id": "57e66874-2af1-4280-8c0c-531b67dd9bc5",
   "metadata": {},
   "outputs": [],
   "source": []
  }
 ],
 "metadata": {
  "kernelspec": {
   "display_name": "Python 3 (ipykernel)",
   "language": "python",
   "name": "python3"
  },
  "language_info": {
   "codemirror_mode": {
    "name": "ipython",
    "version": 3
   },
   "file_extension": ".py",
   "mimetype": "text/x-python",
   "name": "python",
   "nbconvert_exporter": "python",
   "pygments_lexer": "ipython3",
   "version": "3.13.7"
  }
 },
 "nbformat": 4,
 "nbformat_minor": 5
}
