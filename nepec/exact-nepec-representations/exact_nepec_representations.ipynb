{
 "cells": [
  {
   "cell_type": "markdown",
   "id": "dce0cbc3",
   "metadata": {},
   "source": [
    "# Exact NEPEC representations vs exact PEC representations"
   ]
  },
  {
   "cell_type": "markdown",
   "id": "8df7281b",
   "metadata": {},
   "source": [
    "One of the key steps for implementing probabilistic error cancellation is to represent each ideal gate of a circuit of interest as a linear combination of a set of noisy operations which are implementable on hardware.\n",
    "\n",
    "In this notebook we compare the optimal representation of a an ideal gate obtained with:\n",
    "- a fixed-noise basis of implementable operations (PEC)\n",
    "- a noise-scaled basis of implementable operations (NEPEC).\n",
    "\n",
    "We assume an amplitude damping noise model."
   ]
  },
  {
   "cell_type": "markdown",
   "id": "1bb6090f",
   "metadata": {},
   "source": [
    "## Imports"
   ]
  },
  {
   "cell_type": "code",
   "execution_count": null,
   "id": "3b19300e",
   "metadata": {},
   "outputs": [],
   "source": [
    "import numpy as np\n",
    "from cirq import LineQubit, channel, Circuit, X, Y, Z, I, H, CNOT, S, reset, T\n",
    "\n",
    "from mitiq.pec.types import NoisyOperation, NoisyBasis, OperationRepresentation\n",
    "from mitiq.pec.representations.damping import amplitude_damping_kraus\n",
    "from mitiq.pec.channels import kraus_to_super\n",
    "from mitiq.pec.representations.optimal import find_optimal_representation\n"
   ]
  },
  {
   "cell_type": "markdown",
   "id": "ca15d907",
   "metadata": {},
   "source": [
    "## Define the ideal operation that we aim to represent"
   ]
  },
  {
   "cell_type": "code",
   "execution_count": 10,
   "id": "b31cdee6",
   "metadata": {},
   "outputs": [],
   "source": [
    "q = LineQubit(0)\n",
    "ideal_operation = Circuit(I(q))"
   ]
  },
  {
   "cell_type": "markdown",
   "id": "206deb7d",
   "metadata": {},
   "source": [
    "## Define an ideal basis (gate set)\n",
    "We consider 3 different get sets. The results will be different depending on the choice of the gate set.\n",
    "\n",
    "- If RESET is in the gate set, NEPEC is not beneficial (same sampling cost of PEC).\n",
    "- If RESET is missing in the gate set PEC fails to represent the ideal gate, while NEPEC succeeds. \n",
    "- Moreover NEPEC can be applied even with a single gate and 3 scale factors (gate extrapolation method)."
   ]
  },
  {
   "cell_type": "code",
   "execution_count": 11,
   "id": "b1eb2e09",
   "metadata": {},
   "outputs": [],
   "source": [
    "# basis_gates = [I, Z, reset]\n",
    "basis_gates = [I, Z]\n",
    "# basis_gates = [I]"
   ]
  },
  {
   "cell_type": "markdown",
   "id": "a5c2ce41",
   "metadata": {},
   "source": [
    "## Define noisy basis of implementable operations (for PEC)"
   ]
  },
  {
   "cell_type": "code",
   "execution_count": 4,
   "id": "f4082ce8",
   "metadata": {},
   "outputs": [
    {
     "name": "stdout",
     "output_type": "stream",
     "text": [
      "Number of implementable operations in the PEC basis: 2\n"
     ]
    }
   ],
   "source": [
    "# Base noise of the quantum device\n",
    "damp_level = 0.1\n",
    "\n",
    "damp_basis_elements = [\n",
    "    NoisyOperation(\n",
    "        circuit=Circuit(gate(q)),\n",
    "        channel_matrix=\n",
    "            kraus_to_super(amplitude_damping_kraus(damp_level, 1)) @\n",
    "            kraus_to_super(channel(gate(q))),\n",
    "    )\n",
    "    for j, gate in enumerate(basis_gates)\n",
    "]\n",
    "\n",
    "damp_basis = NoisyBasis(*damp_basis_elements)\n",
    "print(\"Number of implementable operations in the PEC basis:\", len(damp_basis_elements))"
   ]
  },
  {
   "cell_type": "markdown",
   "id": "da302627",
   "metadata": {},
   "source": [
    "## Define noisy basis of noise-scaled implementable operations (for NEPEC)"
   ]
  },
  {
   "cell_type": "code",
   "execution_count": 5,
   "id": "2ecee170",
   "metadata": {},
   "outputs": [
    {
     "name": "stdout",
     "output_type": "stream",
     "text": [
      "Number of implementable operations in the NEPEC basis: 6\n"
     ]
    }
   ],
   "source": [
    "# Noise scale factors to be used for defining the NEPEC basis\n",
    "scale_factors = [1, 4, 8]\n",
    "\n",
    "if max(scale_factors) * damp_level > 1:\n",
    "    damp_basis_scaled = None\n",
    "    raise ValueError(\"scalfe_factor * damp_level cannot be larger than 1\")\n",
    "\n",
    "damp_basis_elements_scaled = []\n",
    "\n",
    "for scale_factor in scale_factors:\n",
    "    damp_basis_elements_scaled += [\n",
    "        NoisyOperation(\n",
    "            circuit=Circuit(gate(q)),\n",
    "            channel_matrix=\n",
    "            kraus_to_super(amplitude_damping_kraus(scale_factor * damp_level, 1)) @ \n",
    "            kraus_to_super(channel(gate(q))),\n",
    "        )\n",
    "        for j, gate in enumerate(basis_gates)\n",
    "    ]\n",
    "\n",
    "damp_basis_scaled = NoisyBasis(*damp_basis_elements_scaled)\n",
    "print(\"Number of implementable operations in the NEPEC basis:\", len(damp_basis_elements_scaled))"
   ]
  },
  {
   "cell_type": "markdown",
   "id": "7373a298",
   "metadata": {},
   "source": [
    "## Find the PEC representation with minimum sampling cost (minimum one-norm)"
   ]
  },
  {
   "cell_type": "code",
   "execution_count": 6,
   "id": "6e9ecfbb",
   "metadata": {},
   "outputs": [
    {
     "name": "stdout",
     "output_type": "stream",
     "text": [
      "Optimization for PEC representation failed.\n"
     ]
    }
   ],
   "source": [
    "try:\n",
    "    damp_rep = find_optimal_representation(\n",
    "        ideal_operation,\n",
    "        noisy_basis=damp_basis,\n",
    "    )\n",
    "    pec_failed = False\n",
    "    print(\"Optimal PEC representation:\", damp_rep)\n",
    "    print(\"One-norm of PEC representation:\", damp_rep.norm)\n",
    "except RuntimeError:\n",
    "    pec_failed = True\n",
    "    print(\"Optimization for PEC representation failed.\")"
   ]
  },
  {
   "cell_type": "markdown",
   "id": "042a408c",
   "metadata": {},
   "source": [
    "## Find the PEC representation with minimum sampling cost (minimum one-norm)optimal representation"
   ]
  },
  {
   "cell_type": "code",
   "execution_count": 7,
   "id": "78f4c0fd",
   "metadata": {},
   "outputs": [
    {
     "name": "stdout",
     "output_type": "stream",
     "text": [
      "Optimization for PEC representation failed.\n",
      "One-norm of NEPEC representation: 1.2857150682209122\n"
     ]
    }
   ],
   "source": [
    "try:\n",
    "    damp_rep_scaled = find_optimal_representation(\n",
    "        ideal_operation,\n",
    "        noisy_basis=damp_basis_scaled,\n",
    "    )\n",
    "    nepec_failed = False\n",
    "except (RuntimeError, AttributeError):\n",
    "    nepec_failed = True\n",
    "    nepec_failed = True\n",
    "\n",
    "\n",
    "if pec_failed:\n",
    "    print(\"Optimization for PEC representation failed.\")\n",
    "else:\n",
    "    print(\"One-norm of PEC representation:  \", damp_rep.norm)\n",
    "\n",
    "if nepec_failed:\n",
    "    print(\"Optimization for NEPEC representation failed.\")\n",
    "else:\n",
    "    print(\"One-norm of NEPEC representation:\", damp_rep_scaled.norm)\n",
    "   "
   ]
  },
  {
   "cell_type": "markdown",
   "id": "d0b6efdc",
   "metadata": {},
   "source": [
    "### Hint: \n",
    "Go back to the section **Define an ideal basis**, choose a different gate set, and re-execute the notebook."
   ]
  },
  {
   "cell_type": "code",
   "execution_count": null,
   "id": "99dfd165",
   "metadata": {},
   "outputs": [],
   "source": [
    "import mitiq\n",
    "\n",
    "mitiq.about()"
   ]
  }
 ],
 "metadata": {
  "kernelspec": {
   "display_name": "Python 3",
   "language": "python",
   "name": "python3"
  },
  "language_info": {
   "codemirror_mode": {
    "name": "ipython",
    "version": 3
   },
   "file_extension": ".py",
   "mimetype": "text/x-python",
   "name": "python",
   "nbconvert_exporter": "python",
   "pygments_lexer": "ipython3",
   "version": "3.7.7"
  }
 },
 "nbformat": 4,
 "nbformat_minor": 5
}
