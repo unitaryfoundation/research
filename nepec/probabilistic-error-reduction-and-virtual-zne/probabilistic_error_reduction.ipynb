{
 "cells": [
  {
   "cell_type": "markdown",
   "metadata": {},
   "source": [
    "# Probabilistic error reduction (PER) and virtual ZNE"
   ]
  },
  {
   "cell_type": "markdown",
   "metadata": {},
   "source": [
    "## Overview of PEC\n",
    "\n",
    "**Probabilistic error cancellation** (PEC) is an error mitigation method (K. Temme et al., Phys. Rev. Lett., 2017 and Y. Li and S. Benjamin, Phys. Rev. X, 2017). Its practical implementation can be decomposed in the following 4 tasks:\n",
    "\n",
    " - **Task 1: Expanding an <span style=\"color:red\"> ideal gate </span> as linear combination of implementable noisy gates.**\n",
    " - **Task 2: Sampling an implementable gate from the representation of an <span style=\"color:red\"> ideal gate </span>.**\n",
    " - **Task 3: Sampling an implementable circuit from the representation of an <span style=\"color:red\"> ideal circuit </span>.**\n",
    " - **Task 4: Infer an <span style=\"color:red\"> ideal expectation value </span> from the noisy execution of the sampled circuits.**"
   ]
  },
  {
   "cell_type": "markdown",
   "metadata": {},
   "source": [
    "## Probabilistic Error Reduction (PER) = Virtual Noise Scaling\n",
    "\n",
    "The idea of **Probabilistic error reduction** is to represent **less noisy gates**,  instead of representing ideal gates (PEC). The motivation is a reduction of the sampling overhead. Indeed, reducing the noise is easier (in terms of representation negativity) compared to a complete noise cancellation.\n",
    "\n",
    " - **Task 1: Expanding a <span style=\"color:red\"> less noisy gate </span> as linear combination of implementable noisy gates.**\n",
    " - **Task 2: Sampling an implementable gate from the representation of a <span style=\"color:red\"> less noisy gate </span>.**\n",
    " - **Task 3: Sampling an implementable circuit from the representation of a <span style=\"color:red\"> less noisy circuit </span>.**\n",
    " - **Task 4: Infer a <span style=\"color:red\"> less noisy expectation value </span> from the noisy execution of the sampled circuits.**"
   ]
  },
  {
   "cell_type": "markdown",
   "metadata": {},
   "source": [
    "## Note\n",
    "The full execution this notebook may require a large amount of time. If you are only interested in reproducing the figure of the paper without re-executing all the simulations, you can set `RUN_SIMULATION = False`. In this case pre-simulated results will be used and visualized.\n",
    "\n",
    "Alternatively, another way of reducing the execution time of the full notebook (at the cost of less accurate results) is to reduce the value of `num_samples`."
   ]
  },
  {
   "cell_type": "code",
   "execution_count": 1,
   "metadata": {},
   "outputs": [],
   "source": [
    "RUN_SIMULATION = False\n",
    "SAVE_NOTEBOOK_SESSION = False  # If True this notebook will overwrite a previously saved session.\n",
    "num_samples = 50000  # Set to 50000 to repdouce the results of the paper. Irrelevant if RUN_SIMULATION is False.\n",
    "batch_size = 2000 # Set to  2000 to repdouce the results of the paper. Irrelevant if RUN_SIMULATION is False.\n",
    "if num_samples % batch_size:\n",
    "    raise ValueError(\"num_samples must be a multiple of batch_size\")"
   ]
  },
  {
   "cell_type": "code",
   "execution_count": 2,
   "metadata": {},
   "outputs": [],
   "source": [
    "import time\n",
    "from functools import partial\n",
    "import numpy as np\n",
    "\n",
    "# Set a seed only if there is interest in reproducibility. Otherwise one can comment next line.\n",
    "np.random.seed(0)\n",
    "rnd_state = np.random.RandomState(0)\n",
    "\n",
    "from matplotlib import pyplot as plt\n",
    "plt.rcParams.update({\"font.family\": \"serif\", \"font.size\": 14, 'text.latex.preamble': r'\\usepackage{amsmath,amssymb,bm,physics,lmodern}'})\n",
    "\n",
    "# This is for loading or saving a notebook session. If unnecessary, it can be commented.\n",
    "import dill\n",
    "\n",
    "from cirq import LineQubit, Circuit, X, DensityMatrixSimulator, depolarize\n",
    "\n",
    "from mitiq.benchmarks import generate_rb_circuits\n",
    "from mitiq import pec\n",
    "from mitiq.pec.representations.depolarizing import represent_operations_in_circuit_with_local_depolarizing_noise\n",
    "from mitiq import zne\n",
    "\n",
    "from mitiq.benchmarks import generate_rb_circuits\n",
    "from mitiq.pec.sampling import sample_circuit"
   ]
  },
  {
   "cell_type": "markdown",
   "metadata": {},
   "source": [
    "## Expanding a _less noisy_ gate as linear combination of implementable noisy gates"
   ]
  },
  {
   "cell_type": "markdown",
   "metadata": {},
   "source": [
    "We define the noise scaled gates as $G^{(\\lambda)}$, where $\\lambda$ is the noise scale factor.\n",
    "\n",
    "For example, for a depolarizing channel $\\mathcal E_{\\epsilon}$ of hardware strength $\\epsilon$:\n",
    "$$ \\mathcal E_\\epsilon (\\rho) = (1 - \\epsilon ) \\rho   + \\epsilon I/2 ,$$\n",
    "\n",
    "we could define a noise-scaled gate as:\n",
    "\n",
    "$$ G^{(\\lambda)} = \\mathcal E_\\epsilon^{(\\lambda)} \\circ G (\\rho) \n",
    "    =  \\mathcal E_{\\lambda \\epsilon} \\circ G (\\rho). $$\n",
    "   "
   ]
  },
  {
   "cell_type": "markdown",
   "metadata": {},
   "source": [
    "In standard PEC, one usually looks for a quasi-probability representation of the following type $G^{(\\lambda=0)} = \\alpha_1 G_1^{(\\lambda=1)}  + \\alpha_2 G_2^{(\\lambda=1)} + \\dots .$\n",
    "\n",
    "In PER instead we just require the left-hand-side to be less noisy compared to the implementable gates on the right-hand side. So we look for the following representation type: \n",
    "\n",
    "$$G^{(\\lambda)} = \\alpha_1 G_1^{(\\lambda=1)}  + \\alpha_2 G_2^{(\\lambda=1)} + \\dots,$$\n",
    "\n",
    "where $0 < \\lambda < 1$ and $\\{\\alpha_j\\}$ are real coefficients.\n",
    "\n",
    "The **explicit decomposition for a depolarizing channel** can be easily obtained as:\n",
    "\n",
    "For \n",
    "\n",
    "$$ \\tilde G =\\mathcal E \\circ G  \\quad \n",
    "\\text{where,}\\quad \\mathcal E(\\rho) =  (1 - \\epsilon ) \\rho   + \\epsilon I/2 ,$$\n",
    "\n",
    "then, it is easy to show (for $\\lambda=0$ see Temme, Bravyi, Gambetta, 2017 or Tagagi 2020) that the following decomposition holds **for any single-qubit gate $G$**:\n",
    "\n",
    "$$ G^{(\\lambda)}  = \\alpha_1 G_1^{(\\lambda=1)} + \\alpha_2 G_2^{(\\lambda=1)} + \\alpha_3 G_3^{(\\lambda=1)} + \\alpha_4 G_4^{(\\lambda=1)} $$\n",
    "\n",
    "where,\n",
    "$$\\alpha_1 =\\left(1 + \\frac{3}{4} \\frac{\\epsilon \\color{red}{(1-\\lambda)}}{1- \\epsilon} \\right ), \\qquad G_1^{(\\lambda=1)} = \\mathcal E_\\epsilon \\circ  G$$\n",
    "\n",
    "$$\\alpha_2 =- \\frac{1}{4}\\frac{\\epsilon \\color{red}{(1-\\lambda)}}{1- \\epsilon} , \\qquad  G_2^{(\\lambda=1)} = \\mathcal E_\\epsilon \\circ  X \\circ G$$\n",
    "\n",
    "$$\\alpha_3 =-\\frac{1}{4}\\frac{\\epsilon \\color{red}{(1-\\lambda)}}{1- \\epsilon} , \\qquad  G_3^{(\\lambda=1)} = \\mathcal E_\\epsilon \\circ  Y \\circ G$$\n",
    "\n",
    "$$\\alpha_4 =- \\frac{1}{4}\\frac{\\epsilon \\color{red}{(1-\\lambda)}}{1- \\epsilon} , \\qquad  G_4^{(\\lambda=1)}  = \\mathcal E_\\epsilon \\circ  Z \\circ G$$\n"
   ]
  },
  {
   "cell_type": "markdown",
   "metadata": {},
   "source": [
    "## Note\n",
    "\n",
    "The PER distribution can also be written as the PEC distribution for a smaller value of the noise parameter.\n",
    "\n",
    "$$\\text{PER distrib. } \\alpha_j(\\epsilon, \\lambda) = \\alpha_j(   \\dfrac{\\epsilon (1 - \\lambda)}{1- \\lambda \\epsilon}, 0 ) \n",
    "= \\text{PEC distrib for } \\epsilon' =\\frac{\\epsilon(1 - \\lambda)}{1- \\lambda \\epsilon}. $$\n",
    "\n",
    "In other words, if one applies standard PEC with a representation based on $\\epsilon'$, then one is effectively scaling the noise by $\\lambda$.\n",
    "\n",
    "This motivates the following functions."
   ]
  },
  {
   "cell_type": "markdown",
   "metadata": {},
   "source": [
    "## Define `mitiq.representations` for probabilistic error reduciton "
   ]
  },
  {
   "cell_type": "code",
   "execution_count": 3,
   "metadata": {},
   "outputs": [],
   "source": [
    "def epsilon_to_epsilon_prime(epsilon, scale_factor):\n",
    "    return epsilon * (1 - scale_factor) / (1 - scale_factor * epsilon)\n",
    "\n",
    "# noise_level = p = 3/4 epsilon  [ lambda_max  4 /3 p = 1  ==> lambda_max = 3 / (4 p)\n",
    "def p_to_p_prime(p, scale_factor):\n",
    "    return p * (1 - scale_factor) / (1 - (4 / 3) * scale_factor * p)\n",
    "\n",
    "\n",
    "from mitiq.pec.representations import (\n",
    "    represent_operation_with_local_depolarizing_noise,\n",
    "    represent_operations_in_circuit_with_local_depolarizing_noise,\n",
    ")\n",
    "\n",
    "def represent_noise_scaled_operation_with_local_depolarizing_noise(operation, base_noise, scale_factor: float):\n",
    "    noise_level_prime = p_to_p_prime(base_noise, scale_factor)\n",
    "    return represent_operation_with_local_depolarizing_noise(operation, noise_level_prime)\n",
    "    \n",
    "def represent_noise_scaled_operations_in_circuit_with_local_depolarizing_noise(ideal_circuit, base_noise, scale_factor: float):\n",
    "    noise_level_prime = p_to_p_prime(base_noise, scale_factor)\n",
    "    return represent_operations_in_circuit_with_local_depolarizing_noise(ideal_circuit, noise_level_prime)\n",
    "    "
   ]
  },
  {
   "cell_type": "code",
   "execution_count": 4,
   "metadata": {},
   "outputs": [
    {
     "name": "stdout",
     "output_type": "stream",
     "text": [
      "1: ───X─── = 1.115*1: ───X───-0.038*1: ───X───X───-0.038*1: ───X───Y───-0.038*1: ───X───Z───\n"
     ]
    }
   ],
   "source": [
    "base_noise = 0.1\n",
    "scalre_factors = np.arange(0, min(2, 3 / (4 * base_noise)), 0.01)\n",
    "\n",
    "q = LineQubit(1)\n",
    "x_op = Circuit(X(q))\n",
    "\n",
    "x_rep = represent_noise_scaled_operation_with_local_depolarizing_noise(\n",
    "    x_op, base_noise=base_noise, scale_factor=0,\n",
    ")\n",
    "print(x_rep)"
   ]
  },
  {
   "cell_type": "markdown",
   "metadata": {},
   "source": [
    "The representation above is equal to the standard PEC representation. The opposite limit is the following."
   ]
  },
  {
   "cell_type": "code",
   "execution_count": 5,
   "metadata": {},
   "outputs": [
    {
     "name": "stdout",
     "output_type": "stream",
     "text": [
      "1: ───X─── = 1.000*1: ───X───\n"
     ]
    }
   ],
   "source": [
    "x_rep = represent_noise_scaled_operation_with_local_depolarizing_noise(\n",
    "    x_op, base_noise=base_noise, scale_factor=1,\n",
    ")\n",
    "print(x_rep)"
   ]
  },
  {
   "cell_type": "markdown",
   "metadata": {},
   "source": [
    "Where noise is not reduced, and one simply avoid sampling."
   ]
  },
  {
   "cell_type": "markdown",
   "metadata": {},
   "source": [
    "Let us plot the one-norm $\\gamma=\\sum_j |\\alpha_j|$ of the distribution as a function of the noise scale factor."
   ]
  },
  {
   "cell_type": "markdown",
   "metadata": {},
   "source": [
    "## Analysis of the sampling cost for probabilistic error reduction"
   ]
  },
  {
   "cell_type": "code",
   "execution_count": 6,
   "metadata": {},
   "outputs": [
    {
     "data": {
      "image/png": "[encoded data removed]",
      "text/plain": [
       "<Figure size 576x360 with 1 Axes>"
      ]
     },
     "metadata": {
      "needs_background": "light"
     },
     "output_type": "display_data"
    }
   ],
   "source": [
    "base_noise = 0.1\n",
    "lambda_max = 3.0 / (4.0 * base_noise)\n",
    "scale_factors = np.arange(0,  lambda_max / 3, 0.2)\n",
    "\n",
    "norms = [represent_noise_scaled_operation_with_local_depolarizing_noise(\n",
    "    Circuit(X(q)), base_noise=base_noise, scale_factor=s,\n",
    ").norm for s in scale_factors]\n",
    "\n",
    "plt.figure(figsize=(8, 5))\n",
    "plt.plot(scale_factors, norms, label=\"$\\gamma$ of gate representation\")\n",
    "plt.xlabel(\"Noise scale factor\")\n",
    "plt.xlabel(\"Noise scale factor $\\lambda$\")\n",
    "plt.legend()\n",
    "plt.show()"
   ]
  },
  {
   "cell_type": "markdown",
   "metadata": {},
   "source": [
    "For a full circuit, the overhead (one-norm) decreases exponentially with respect to the scale factor."
   ]
  },
  {
   "cell_type": "code",
   "execution_count": 7,
   "metadata": {},
   "outputs": [
    {
     "data": {
      "image/png": "[encoded data removed]",
      "text/plain": [
       "<Figure size 576x360 with 1 Axes>"
      ]
     },
     "metadata": {
      "needs_background": "light"
     },
     "output_type": "display_data"
    }
   ],
   "source": [
    "num_qubits = 1\n",
    "num_cliffords = 10\n",
    "ideal_circuit = generate_rb_circuits(n_qubits=num_qubits, num_cliffords=num_cliffords, trials=1)[0]\n",
    "\n",
    "norms = []\n",
    "for s in scale_factors:\n",
    "    representations = represent_noise_scaled_operations_in_circuit_with_local_depolarizing_noise(\n",
    "        ideal_circuit, base_noise=base_noise, scale_factor=s,\n",
    "    )\n",
    "    # Evaluate the 1 norm of the quasi-probability of the full circuit\n",
    "    _, _, norm = sample_circuit(ideal_circuit, representations)\n",
    "    norms.append(norm)\n",
    "\n",
    "plt.figure(figsize=(8, 5))\n",
    "plt.plot(scale_factors, norms, label=\"$\\gamma$ of circuit representation\")\n",
    "plt.legend()\n",
    "plt.xlabel(\"Noise scale factor $\\lambda$\")\n",
    "plt.ylabel(\"Sampling cost $\\gamma$\")\n",
    "plt.show()"
   ]
  },
  {
   "cell_type": "markdown",
   "metadata": {},
   "source": [
    "## Defining a noisy executor"
   ]
  },
  {
   "cell_type": "markdown",
   "metadata": {},
   "source": [
    "We define a function which executes a circuit with depolarizing noise and returns an expectation value (in this example it corresponds to the probability of finding all qubits in the ground state)."
   ]
  },
  {
   "cell_type": "code",
   "execution_count": 8,
   "metadata": {},
   "outputs": [],
   "source": [
    "SIMULATOR = DensityMatrixSimulator()\n",
    "\n",
    "def noisy_executor_shots(circ: Circuit, base_noise, shots: int = 0) -> float:\n",
    "    \"\"\"Simulates a circuit with depolarizing noise and returns the expectation value\n",
    "    of the projector on the ground state |00...><00...|.\n",
    "    \"\"\" \n",
    "    circuit = circ.with_noise(depolarize(base_noise))\n",
    "    rho = SIMULATOR.simulate(circuit).final_density_matrix\n",
    "    expectation = np.real(rho[0, 0])\n",
    "    \n",
    "    if shots == 0:\n",
    "        # Return exact expectation value\n",
    "        return expectation\n",
    "    else:\n",
    "        # Simulate fake shot noise when \"shots\" is nonzero\n",
    "        fake_results = np.random.binomial(1, expectation, size=shots)\n",
    "        return np.average(fake_results)"
   ]
  },
  {
   "cell_type": "markdown",
   "metadata": {},
   "source": [
    " # STEP 1: Probabilistc error reduction"
   ]
  },
  {
   "cell_type": "code",
   "execution_count": 9,
   "metadata": {
    "scrolled": true
   },
   "outputs": [],
   "source": [
    "if RUN_SIMULATION:\n",
    "    base_noise = 0.01\n",
    "    num_cliffords = 20\n",
    "    ideal_circuit = generate_rb_circuits(n_qubits=1, num_cliffords=num_cliffords, trials=1)[0]\n",
    "    shots = 1\n",
    "\n",
    "    scale_factors = np.linspace(0, 1, 11)\n",
    "    noise_scaled_values =[noisy_executor_shots(ideal_circuit, base_noise * s) for s in scale_factors]\n",
    "\n",
    "    per_values = []\n",
    "    per_all_samples = []\n",
    "\n",
    "    init_time = time.time()\n",
    "    for scale_factor in scale_factors:\n",
    "\n",
    "        # Build PER representations\n",
    "        per_representations = represent_noise_scaled_operations_in_circuit_with_local_depolarizing_noise(\n",
    "            ideal_circuit=ideal_circuit,\n",
    "            base_noise=base_noise,\n",
    "            scale_factor=scale_factor,\n",
    "        )\n",
    "\n",
    "        # run PER\n",
    "        _per_value, _per_data = pec.execute_with_pec(\n",
    "            ideal_circuit,\n",
    "            executor=partial(noisy_executor_shots, base_noise=base_noise, shots=shots),\n",
    "            representations=per_representations,\n",
    "            num_samples=num_samples,\n",
    "            full_output=True,\n",
    "        )\n",
    "        per_values.append(_per_value)\n",
    "        per_all_samples.append(np.array(_per_data[\"unbiased_estimators\"]))\n",
    "\n",
    "        print(f\"Expectation value with PER, (virtual scale_factor={scale_factor:.2f}): {_per_value:.5f}\")\n",
    "\n",
    "    per_total_time = time.time() - init_time\n",
    "    print(\"Total PER execution time (seconds):\", round(per_total_time))\n",
    "else:\n",
    "    # Load notebook session with pre-executed results from a .db file\n",
    "    dill.load_session('probabilistic_error_reduction_session.db')\n",
    "    "
   ]
  },
  {
   "cell_type": "markdown",
   "metadata": {},
   "source": [
    "## Print all parameters to log their value in the notebook"
   ]
  },
  {
   "cell_type": "code",
   "execution_count": 10,
   "metadata": {},
   "outputs": [
    {
     "name": "stdout",
     "output_type": "stream",
     "text": [
      "PROBLEM PARAMETERS\n",
      "num_cliffords: 20\n",
      "Circuit: 0: ───Y───X^0.5───X^0.5───Y^0───Y^-0.5───X^0.5───Y^0.5───Y^0.5───X^0───Y───X───X───Y^0───Y───X^-0.5───Y^0.5───X^-0.5───Y^0.5───X^0.5───Y───X───Y^0.5───X^0───Y^-0.5───X^-0.5───Y^0.5───Y───X^-0.5───X^0.5───Y^0.5───Y^0.5───X^-0.5───X^-0.5───Y^0.5───X───Y^0───X^0.5───Y^0.5───Y───X───X^0.5───Y^0───Y^-0.5───X^0───\n",
      "Number of ideal gates: 44\n",
      "Base noise: 0.015\n",
      "Shots: 1\n",
      "Num samples 50000\n",
      "Noise scale factors [0.  0.1 0.2 0.3 0.4 0.5 0.6 0.7 0.8 0.9 1. ]\n",
      "\n",
      "Unmitigated expectation value (lambda=1): 0.70554835\n",
      "Theoretical noise scaled values: [1.0, 0.9578391, 0.919159, 0.88368267, 0.85114276, 0.8213057, 0.79395175, 0.76887625, 0.745898, 0.72484046, 0.70554835]\n",
      "Ideal expectation value (lambda=0): 1.0\n",
      "PER values: [0.9935836102218324, 0.9667779624511009, 0.9055407889815017, 0.8815179648841923, 0.8525116817046562, 0.826386401279865, 0.792245045087265, 0.7681267349940551, 0.7450083800782984, 0.7286053243702733, 0.7049]\n"
     ]
    }
   ],
   "source": [
    "print(\"PROBLEM PARAMETERS\")\n",
    "print(\"num_cliffords:\", num_cliffords)\n",
    "print(\"Circuit:\", ideal_circuit)\n",
    "print(\"Number of ideal gates:\", len(list(ideal_circuit.all_operations())))\n",
    "print(\"Base noise:\", base_noise)\n",
    "print(\"Shots:\", shots)\n",
    "print(\"Num samples\", num_samples)\n",
    "print(\"Noise scale factors\", scale_factors)\n",
    "print(\"\")\n",
    "print(\"Unmitigated expectation value (lambda=1):\", noisy_executor_shots(ideal_circuit, base_noise))\n",
    "print(\"Theoretical noise scaled values:\", noise_scaled_values)\n",
    "print(\"Ideal expectation value (lambda=0):\", noisy_executor_shots(ideal_circuit, base_noise=0))\n",
    "print(\"PER values:\", per_values)"
   ]
  },
  {
   "cell_type": "markdown",
   "metadata": {},
   "source": [
    "## Data analysis\n",
    "\n",
    "To estimate the statistical distribution of the mitigated results, all the samples are divided into batches of equal size (batch_size). The results associated to all batches are combined to get the average error mitigated expectation value and its statistical distribution."
   ]
  },
  {
   "cell_type": "code",
   "execution_count": 11,
   "metadata": {},
   "outputs": [],
   "source": [
    "if not RUN_SIMULATION:\n",
    "    batch_size = 2000 # Set to  2000 to repdouce the results of the paper. Irrelevant if RUN_SIMULATION is False.\n",
    "\n",
    "if num_samples % batch_size:\n",
    "    raise ValueError(\"num_samples must be a multiple of batch_size\")\n",
    "    \n",
    "per_all_sub_means = []\n",
    "for scale_factor, _per_samples in zip(scale_factors, per_all_samples):\n",
    "\n",
    "    per_samples_subsets = _per_samples.reshape((num_samples // batch_size, batch_size))\n",
    "    per_sub_means = np.mean(per_samples_subsets, axis=1)\n",
    "    per_all_sub_means.append(per_sub_means)\n",
    "    \n",
    "labels = [f\"{s:.2f}\" for s in scale_factors]"
   ]
  },
  {
   "cell_type": "markdown",
   "metadata": {},
   "source": [
    "# Visualize PER"
   ]
  },
  {
   "cell_type": "code",
   "execution_count": 12,
   "metadata": {},
   "outputs": [
    {
     "data": {
      "image/png": "[encoded data removed]",
      "text/plain": [
       "<Figure size 576x360 with 1 Axes>"
      ]
     },
     "metadata": {
      "needs_background": "light"
     },
     "output_type": "display_data"
    }
   ],
   "source": [
    "plt.rcParams.update({\"font.family\": \"serif\", \"font.size\": 14})\n",
    "axis_title_size = 17\n",
    "\n",
    "few_y = per_all_sub_means[::2]\n",
    "few_labels = labels[::2]\n",
    "fig_a = plt.figure(figsize=(8, 5))\n",
    "\n",
    "\n",
    "violin_parts_per = plt.violinplot(few_y, showmeans=True)\n",
    "\n",
    "# Change facecolor of violins\n",
    "for pc in violin_parts_per[\"bodies\"]:\n",
    "    pc.set_facecolor(\"green\")\n",
    "    #pc.set_edgecolor('green')\n",
    "\n",
    "# Set color of PEC\n",
    "violin_parts_per[\"bodies\"][0].set_facecolor(\"orange\")\n",
    "violin_parts_per[\"bodies\"][0].set_alpha(0.6)\n",
    "\n",
    "# Set color of unmitigated\n",
    "violin_parts_per[\"bodies\"][-1].set_facecolor(\"#1f77b4\")\n",
    "violin_parts_per[\"bodies\"][-1].set_alpha(0.4)\n",
    "\n",
    "# Change color of edges\n",
    "for partname in (\"cbars\",\"cmins\",\"cmaxes\",\"cmeans\"):\n",
    "    vp = violin_parts_per[partname]\n",
    "    vp.set_edgecolor(\"green\")\n",
    "    #vp.set_linewidth(1.5)\n",
    "\n",
    "plt.title(\"(a)\", fontsize = 20, position=(0.97, 0.0))\n",
    "plt.hlines(1, 0.5, len(few_y) + 0.3, color=\"Gray\", alpha=1, linestyle=\"dashed\", label=\"Ideal value\", linewidth=2.3)\n",
    "plt.hlines(1, 0.5, 0.5, color=\"green\", alpha=1, label=\"Probabilistic error reduction (PER)\")\n",
    "plt.ylabel(\"Expectation value\", size=axis_title_size)\n",
    "\n",
    "tick_label_size = 15 \n",
    "#few_labels[0]=few_labels[0] + \"\\n (PEC)\"\n",
    "#few_labels[-1]=few_labels[-1] + \"\\n (Unmitig.)\"\n",
    "plt.xticks(np.array(range(1, len(few_y) + 1)), few_labels, size=tick_label_size)\n",
    "plt.yticks(size=tick_label_size)\n",
    "plt.xlabel(\"Virtual noise scale factor $\\lambda$\", size=axis_title_size)\n",
    "plt.legend()\n",
    "\n",
    "plt.show()\n",
    "\n",
    "fig_a.savefig(\"per.pdf\")"
   ]
  },
  {
   "cell_type": "markdown",
   "metadata": {},
   "source": [
    "# Step 2: Virtual ZNE"
   ]
  },
  {
   "cell_type": "code",
   "execution_count": 13,
   "metadata": {},
   "outputs": [
    {
     "name": "stdout",
     "output_type": "stream",
     "text": [
      "The following results should be equal.\n",
      "Expectation value with virtual ZNE (average of sub values) 0.9557009862268775\n",
      "Expectation value with virtual ZNE (direct) 0.9557009862268777\n"
     ]
    }
   ],
   "source": [
    "extrapolation_order = 1\n",
    "# Select the third scale factor and the last one (i.e. the unmitigated result)\n",
    "selected_indeces =[2, len(scale_factors) - 1]\n",
    "zne_scale_factors = [scale_factors[j] for j in selected_indeces]\n",
    "selected_sub_means_list = np.array([per_all_sub_means[j] for j in selected_indeces])\n",
    "\n",
    "# Direct evaluation \n",
    "expvalues_average_list = [np.mean(per_sub_means) for per_sub_means in selected_sub_means_list]\n",
    "zne_value = zne.PolyFactory.extrapolate(zne_scale_factors, expvalues_average_list, order=extrapolation_order)\n",
    "\n",
    "# Multiple evaluations for each batch of samples\n",
    "zne_sub_values = []\n",
    "for sub_j in range(num_samples // batch_size):\n",
    "    sub_expvalues = selected_sub_means_list[:, sub_j]\n",
    "    zne_sub_values.append(\n",
    "        zne.PolyFactory.extrapolate(zne_scale_factors, sub_expvalues, order=extrapolation_order)\n",
    "    )\n",
    "print(\"The following results should be equal.\")\n",
    "print(\"Expectation value with virtual ZNE (average of sub values)\", np.mean(zne_sub_values))\n",
    "print(\"Expectation value with virtual ZNE (direct)\", zne_value)\n",
    "\n",
    "## Data analysis\n",
    "\n",
    "y_values = [zne_sub_values]\n",
    "mitigation_labels = [f\"Virtual ZNE \\n $\\lambda \\in $ {set(np.round(zne_scale_factors, 2))}\"]\n",
    "\n",
    "y_values.append(per_all_sub_means[0])\n",
    "mitigation_labels.append(\"PEC \\n $\\lambda=0$\")\n",
    "\n",
    "for j in selected_indeces[:-1]:\n",
    "    y_values.append(per_all_sub_means[j]) \n",
    "    mitigation_labels.append(f\"PER \\n $\\lambda=${scale_factors[j]:.2f}\")\n",
    "\n",
    "y_values.append(per_all_sub_means[-1])\n",
    "mitigation_labels.append(\"Unmitigated \\n $\\lambda=1$\")   "
   ]
  },
  {
   "cell_type": "markdown",
   "metadata": {},
   "source": [
    "# Visualize virtual ZNE"
   ]
  },
  {
   "cell_type": "code",
   "execution_count": 14,
   "metadata": {},
   "outputs": [
    {
     "data": {
      "image/png": "[encoded data removed]",
      "text/plain": [
       "<Figure size 576x360 with 1 Axes>"
      ]
     },
     "metadata": {
      "needs_background": "light"
     },
     "output_type": "display_data"
    }
   ],
   "source": [
    "plt.rcParams.update({\"font.family\": \"serif\", \"font.size\": 14})\n",
    "axis_title_size = 17\n",
    "\n",
    "fig_b= plt.figure(figsize=(8, 5))\n",
    "violin_parts_methods = plt.violinplot(y_values, showmeans=True)\n",
    "\n",
    "\n",
    "# Change facecolor of violins\n",
    "for pc in violin_parts_methods[\"bodies\"]:\n",
    "    pc.set_facecolor(\"green\")\n",
    "    #pc.set_edgecolor('green')\n",
    "    \n",
    "# Change color of edges\n",
    "for partname in (\"cbars\",\"cmins\",\"cmaxes\",\"cmeans\"):\n",
    "    vp = violin_parts_methods[partname]\n",
    "    vp.set_edgecolor(\"green\")\n",
    "    #vp.set_linewidth(1.5)\n",
    "\n",
    "# Set color of virtual ZNE\n",
    "violin_parts_methods[\"bodies\"][0].set_facecolor(\"purple\")\n",
    "\n",
    "# Set color of PEC\n",
    "violin_parts_methods[\"bodies\"][1].set_facecolor(\"orange\")\n",
    "violin_parts_methods[\"bodies\"][1].set_alpha(0.6)\n",
    "\n",
    "# Set color of unmitigated\n",
    "violin_parts_methods[\"bodies\"][-1].set_facecolor(\"#1f77b4\")\n",
    "violin_parts_methods[\"bodies\"][-1].set_alpha(0.4)\n",
    "\n",
    "\n",
    "plt.title(\"(b)\", fontsize = 20, position=(0.97, 0.0))\n",
    "plt.hlines(1, 0.5, len(y_values) + 0.3, color=\"Gray\", alpha=1, linestyle=\"dashed\", label=\"Ideal value\", linewidth=2.3)\n",
    "plt.hlines(1, 0.5, 0.5, color=\"green\", alpha=1, label=\"Error mitigated value\")\n",
    "\n",
    "plt.ylabel(\"Expectation value\", size=axis_title_size)\n",
    "\n",
    "tick_label_size = 15\n",
    "plt.xticks(range(1, len(y_values) + 1), mitigation_labels, size=tick_label_size)\n",
    "plt.yticks(size=tick_label_size)\n",
    "\n",
    "plt.legend()\n",
    "plt.show()\n",
    "\n",
    "fig_b.savefig(\"virtual_zne.pdf\")"
   ]
  },
  {
   "cell_type": "markdown",
   "metadata": {},
   "source": [
    "# Save notebook session"
   ]
  },
  {
   "cell_type": "code",
   "execution_count": 15,
   "metadata": {},
   "outputs": [
    {
     "name": "stdout",
     "output_type": "stream",
     "text": [
      "Not saved since SAVE_NOTEBOOK_SESSION is False\n"
     ]
    }
   ],
   "source": [
    "if SAVE_NOTEBOOK_SESSION:\n",
    "    try:\n",
    "        del _per_data\n",
    "    except NameError:\n",
    "        pass\n",
    "    dill.dump_session('probabilistic_error_reduction_session.db')\n",
    "else:\n",
    "    print(\"Not saved since SAVE_NOTEBOOK_SESSION is\", SAVE_NOTEBOOK_SESSION)"
   ]
  },
  {
   "cell_type": "code",
   "execution_count": null,
   "metadata": {},
   "outputs": [],
   "source": [
    "import mitiq\n",
    "\n",
    "mitiq.about()"
   ]
  }
 ],
 "metadata": {
  "kernelspec": {
   "display_name": "Python 3",
   "language": "python",
   "name": "python3"
  },
  "language_info": {
   "codemirror_mode": {
    "name": "ipython",
    "version": 3
   },
   "file_extension": ".py",
   "mimetype": "text/x-python",
   "name": "python",
   "nbconvert_exporter": "python",
   "pygments_lexer": "ipython3",
   "version": "3.7.7"
  }
 },
 "nbformat": 4,
 "nbformat_minor": 2
}
