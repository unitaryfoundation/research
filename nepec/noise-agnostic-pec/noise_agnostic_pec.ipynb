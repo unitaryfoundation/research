{
 "cells": [
  {
   "cell_type": "markdown",
   "metadata": {},
   "source": [
    "# Noise-agnostic PEC via gate extrapolation"
   ]
  },
  {
   "cell_type": "markdown",
   "metadata": {},
   "source": [
    "We try to approximate each ideal gate with a _noise-agnostic_ Richardson extrapolation. For example, for 2 noise scale factors respectively equal to $1$ and $3$, an ideal gate can be appriximated as:\n",
    "$$G \\simeq 1.5 \\, \\tilde G_1^{(\\lambda=1)}  - 0.5 \\, \\tilde G^{(\\lambda=3)} $$.\n",
    "\n",
    "More generally, for noise scale factors $\\lambda \\in S=\\{\\lambda_1, ... \\lambda_m\\}$, we have:\n",
    "$$G \\simeq  \\sum_{\\lambda \\in S} \\eta_\\lambda \\tilde G_1^{(\\lambda)}, $$\n",
    "where $\\eta_\\lambda$ is the quasi-probability distribution associated to Richardson extrapolation:\n",
    "$$\\eta_\\lambda = \\prod_{\\lambda' \\in S \\setminus \\{\\lambda\\}} \\frac{\\lambda'}{\\lambda' - \\lambda} .$$\n"
   ]
  },
  {
   "cell_type": "markdown",
   "metadata": {},
   "source": [
    "One could scale the noise in many different ways e.g. via _pulse stretching_. Here we use _unitary folding_ which is already implemented in Mitiq."
   ]
  },
  {
   "cell_type": "markdown",
   "metadata": {},
   "source": [
    "## Note\n",
    "The full execution this notebook may require a significant amount of time. If you are only interested in reproducing the figure of the paper without re-executing all the simulations, you can set `RUN_SIMULATION = False`. In this case pre-simulated results will be used and visualized.\n",
    "\n",
    "Alternatively, another way of reducing the execution time of the full notebook (at the cost of less accurate results) is to reduce the value of `num_samples`."
   ]
  },
  {
   "cell_type": "code",
   "execution_count": 1,
   "metadata": {},
   "outputs": [],
   "source": [
    "RUN_SIMULATION = True\n",
    "num_samples = 5000 # hint 5000"
   ]
  },
  {
   "cell_type": "code",
   "execution_count": 2,
   "metadata": {},
   "outputs": [],
   "source": [
    "# This notebook was tested with version 0.9.3 of Mitiq.\n",
    "# If necessary downgrade with the following command.\n",
    "# !pip install -U mitiq==0.9.3"
   ]
  },
  {
   "cell_type": "code",
   "execution_count": 3,
   "metadata": {},
   "outputs": [],
   "source": [
    "import time\n",
    "from functools import partial\n",
    "import numpy as np\n",
    "from typing import List\n",
    "\n",
    "rnd_state = np.random.RandomState(0)  # Set a seed\n",
    "\n",
    "from matplotlib import pyplot as plt\n",
    "\n",
    "import cirq\n",
    "from cirq import Circuit, X, Y, Z, LineQubit, depolarize, DensityMatrixSimulator\n",
    "\n",
    "from mitiq.pec.types import NoisyOperation\n",
    "from mitiq.zne.scaling import fold_all as scale_circuit\n",
    "from mitiq.benchmarks import generate_rb_circuits\n",
    "from mitiq.pec.representations.depolarizing import represent_operation_with_local_depolarizing_noise\n",
    "from mitiq.pec.types import OperationRepresentation\n",
    "from mitiq import pec"
   ]
  },
  {
   "cell_type": "markdown",
   "metadata": {},
   "source": [
    "## Utilities for NEPEC representations\n",
    "\n",
    "We first define some functions to evaluate the quasi-probability distribution."
   ]
  },
  {
   "cell_type": "code",
   "execution_count": 4,
   "metadata": {},
   "outputs": [],
   "source": [
    "def get_richardson_coefficients(scale_factors: List[float]) -> List[float]:\n",
    "    \"\"\"Returns the array of Richardson extrapolation coefficients associated\n",
    "    to the input array of scale factors.\"\"\"\n",
    "    \n",
    "    # This is based on the Lagrange interpolation formula\n",
    "    richardson_coeffs = []\n",
    "    for l in scale_factors:\n",
    "        coeff = 1.0\n",
    "        for l_prime in scale_factors:\n",
    "            if l_prime == l:\n",
    "                continue\n",
    "            coeff *= l_prime / (l_prime - l)\n",
    "        richardson_coeffs.append(coeff)\n",
    "\n",
    "    return richardson_coeffs\n",
    "\n",
    "# Test of get_richardson_coefficients\n",
    "assert np.allclose(get_richardson_coefficients([1, 3]), [1.5, -0.5])"
   ]
  },
  {
   "cell_type": "markdown",
   "metadata": {},
   "source": [
    "We now define a function is usueful to easily generate NEPEC representations of arbitrary operations and with arbitrary scale factors. This is based on Richardson extrapolation of an individual gate to the zero-noise limit. "
   ]
  },
  {
   "cell_type": "code",
   "execution_count": 5,
   "metadata": {},
   "outputs": [
    {
     "name": "stdout",
     "output_type": "stream",
     "text": [
      "0: ───X─── = 1.500*0: ───X───-0.500*0: ───X───X───X───\n",
      "0: ───Y─── = 1.167*0: ───Y───-0.167*0: ───Y───Y───Y───Y───Y───Y───Y───\n",
      "0: ───Z─── = 1.875*0: ───Z───-1.250*0: ───Z───Z───Z───+0.375*0: ───Z───Z───Z───Z───Z───\n"
     ]
    }
   ],
   "source": [
    "def represent_operation_with_nepec(\n",
    "    ideal_operation: Circuit, scale_factors: List[float]\n",
    ") -> OperationRepresentation:\n",
    "    \"\"\"Returns the OperationRepresentation contructed by noise scaling and extrapolation.\"\"\"\n",
    "    \n",
    "    coeffs = get_richardson_coefficients(scale_factors)\n",
    "    \n",
    "    basis_expansion = {}\n",
    "    for scale_factor, coeff in zip(scale_factors, coeffs):\n",
    "        scaled_op = NoisyOperation(scale_circuit(ideal_operation, scale_factor))\n",
    "        basis_expansion[scaled_op] = coeff\n",
    "    \n",
    "    return OperationRepresentation(ideal_operation, basis_expansion)\n",
    "\n",
    "# Examples\n",
    "q = LineQubit(0)\n",
    "print(represent_operation_with_nepec(Circuit(X(q)), scale_factors=[1, 3]))\n",
    "print(represent_operation_with_nepec(Circuit(Y(q)), scale_factors=[1, 7]))\n",
    "print(represent_operation_with_nepec(Circuit(Z(q)), scale_factors=[1, 3, 5]))"
   ]
  },
  {
   "cell_type": "markdown",
   "metadata": {},
   "source": [
    "## The error mitigation problem"
   ]
  },
  {
   "cell_type": "markdown",
   "metadata": {},
   "source": [
    "Let us define a function which executes a circuit with depolarizing noise and returns an expectation value."
   ]
  },
  {
   "cell_type": "code",
   "execution_count": 6,
   "metadata": {},
   "outputs": [],
   "source": [
    "def ideal_executor(circ: Circuit) -> float:\n",
    "    \"\"\"Simulates a circuit without noise and returns the expectation value\n",
    "    of the projector |00...><00...|.\n",
    "    \"\"\"\n",
    "    rho = DensityMatrixSimulator().simulate(circ).final_density_matrix\n",
    "    return np.real(rho[0, 0]) \n",
    "\n",
    "def noisy_executor(circ: Circuit, noise_level, shot_noise=0) -> float:\n",
    "    \"\"\"Simulates a circuit with depolarizing noise and returns the expectation value\n",
    "    of the projector |00...><00...|.\n",
    "    \"\"\"\n",
    "    noisy_circuit = circ.with_noise(depolarize(noise_level))\n",
    "    return ideal_executor(noisy_circuit) + rnd_state.normal(scale=shot_noise)"
   ]
  },
  {
   "cell_type": "markdown",
   "metadata": {},
   "source": [
    "Let us first define a simple RB circuit (ideally equal to the identity):"
   ]
  },
  {
   "cell_type": "code",
   "execution_count": 7,
   "metadata": {},
   "outputs": [
    {
     "name": "stdout",
     "output_type": "stream",
     "text": [
      "Circuit under consideration: \n",
      " 0: ───Y───X^-0.5───Y───X───X───Y^0.5───X^0.5───Y^-0.5───X───Y^-0.5───Y^-0.5───X^-0.5───Y^0.5───\n",
      "Circuit under consideration (operations): \n",
      " [cirq.Y(cirq.LineQubit(0)), (cirq.X**-0.5).on(cirq.LineQubit(0)), cirq.Y(cirq.LineQubit(0)), cirq.X(cirq.LineQubit(0)), cirq.X(cirq.LineQubit(0)), (cirq.Y**0.5).on(cirq.LineQubit(0)), (cirq.X**0.5).on(cirq.LineQubit(0)), (cirq.Y**-0.5).on(cirq.LineQubit(0)), cirq.X(cirq.LineQubit(0)), (cirq.Y**-0.5).on(cirq.LineQubit(0)), (cirq.Y**-0.5).on(cirq.LineQubit(0)), (cirq.X**-0.5).on(cirq.LineQubit(0)), (cirq.Y**0.5).on(cirq.LineQubit(0))]\n",
      "Number of gates: 13\n",
      "Ideal expectation value: 1.0\n",
      "Noisy expectation value: 0.5778122544288635\n"
     ]
    }
   ],
   "source": [
    "ideal_circuit = generate_rb_circuits(n_qubits=1, num_cliffords=5)[0]\n",
    "\n",
    "print(\"Circuit under consideration: \\n\", ideal_circuit)\n",
    "print(\"Circuit under consideration (operations): \\n\", list(ideal_circuit.all_operations()))\n",
    "print(\"Number of gates:\", len(list(ideal_circuit.all_operations())))\n",
    "print(\"Ideal expectation value:\", ideal_executor(ideal_circuit))\n",
    "print(\"Noisy expectation value:\", noisy_executor(ideal_circuit, noise_level=0.1))"
   ]
  },
  {
   "cell_type": "markdown",
   "metadata": {},
   "source": [
    "For reproducibility, we hard code one of the random circuits produced by the previous cell."
   ]
  },
  {
   "cell_type": "code",
   "execution_count": 8,
   "metadata": {},
   "outputs": [
    {
     "name": "stdout",
     "output_type": "stream",
     "text": [
      "Circuit under consideration: \n",
      " 0: ───X^0.5───Y^-0.5───X^-0.5───Y^0───X^-0.5───Y^0.5───X^0.5───Y^0───Y^-0.5───X^0.5───Y^-0.5───Y^0.5───X^0.5───Y^0.5───\n",
      "Circuit under consideration (operations): \n",
      " [(cirq.X**0.5).on(cirq.LineQubit(0)), (cirq.Y**-0.5).on(cirq.LineQubit(0)), (cirq.X**-0.5).on(cirq.LineQubit(0)), (cirq.Y**0.0).on(cirq.LineQubit(0)), (cirq.X**-0.5).on(cirq.LineQubit(0)), (cirq.Y**0.5).on(cirq.LineQubit(0)), (cirq.X**0.5).on(cirq.LineQubit(0)), (cirq.Y**0.0).on(cirq.LineQubit(0)), (cirq.Y**-0.5).on(cirq.LineQubit(0)), (cirq.X**0.5).on(cirq.LineQubit(0)), (cirq.Y**-0.5).on(cirq.LineQubit(0)), (cirq.Y**0.5).on(cirq.LineQubit(0)), (cirq.X**0.5).on(cirq.LineQubit(0)), (cirq.Y**0.5).on(cirq.LineQubit(0))]\n",
      "Number of gates: 14\n",
      "Ideal expectation value: 1.0\n",
      "Noisy expectation value: 0.5674375295639038\n"
     ]
    }
   ],
   "source": [
    "ideal_circuit = Circuit([(cirq.X**0.5).on(cirq.LineQubit(0)), (cirq.Y**-0.5).on(cirq.LineQubit(0)), (cirq.X**-0.5).on(cirq.LineQubit(0)), (cirq.Y**0.0).on(cirq.LineQubit(0)), (cirq.X**-0.5).on(cirq.LineQubit(0)), (cirq.Y**0.5).on(cirq.LineQubit(0)), (cirq.X**0.5).on(cirq.LineQubit(0)), (cirq.Y**0.0).on(cirq.LineQubit(0)), (cirq.Y**-0.5).on(cirq.LineQubit(0)), (cirq.X**0.5).on(cirq.LineQubit(0)), (cirq.Y**-0.5).on(cirq.LineQubit(0)), (cirq.Y**0.5).on(cirq.LineQubit(0)), (cirq.X**0.5).on(cirq.LineQubit(0)), (cirq.Y**0.5).on(cirq.LineQubit(0))])\n",
    "print(\"Circuit under consideration: \\n\", ideal_circuit)\n",
    "print(\"Circuit under consideration (operations): \\n\", list(ideal_circuit.all_operations()))\n",
    "print(\"Number of gates:\", len(list(ideal_circuit.all_operations())))\n",
    "print(\"Ideal expectation value:\", ideal_executor(ideal_circuit))\n",
    "print(\"Noisy expectation value:\", noisy_executor(ideal_circuit, noise_level=0.1))"
   ]
  },
  {
   "cell_type": "markdown",
   "metadata": {},
   "source": [
    "## Define quasi-probability representations for standard PEC and noise-agnostic PEC"
   ]
  },
  {
   "cell_type": "markdown",
   "metadata": {},
   "source": [
    "Set the hyperparameters of the problem."
   ]
  },
  {
   "cell_type": "code",
   "execution_count": 9,
   "metadata": {},
   "outputs": [
    {
     "name": "stdout",
     "output_type": "stream",
     "text": [
      "Hyperparameters:\n",
      "num_samples: 5000\n",
      "estimated_noise: 0.01\n",
      "scale_factors: [1, 51]\n",
      "noise_levels: [0.0, 0.0025, 0.005, 0.0075, 0.01, 0.0125, 0.015, 0.0175, 0.02]\n"
     ]
    }
   ],
   "source": [
    "# Set the assumed noise level to be used for standard PEC. This is is not used by noise-agnostic PEC.\n",
    "estimated_noise = 0.01   \n",
    "# Set the noise scale factors to be used for gate extrapolation.\n",
    "scale_factors = [1, 51]\n",
    "# The actual noise level of the device to loop over\n",
    "noise_levels = [0.0, 0.0025, 0.005, 0.0075, 0.01, 0.0125, 0.015, 0.0175, 0.02]\n",
    "\n",
    "print(\"Hyperparameters:\")\n",
    "print(\"num_samples:\", num_samples)\n",
    "print(\"estimated_noise:\", estimated_noise)\n",
    "print(\"scale_factors:\", scale_factors)\n",
    "print(\"noise_levels:\", noise_levels)"
   ]
  },
  {
   "cell_type": "markdown",
   "metadata": {},
   "source": [
    "We must define an `OperationRepresentation` for each operation of the ideal circuit. The way of representing\n",
    "an ideal operation is different depending on whether we use PEC or NEPEC. "
   ]
  },
  {
   "cell_type": "code",
   "execution_count": 10,
   "metadata": {},
   "outputs": [
    {
     "name": "stdout",
     "output_type": "stream",
     "text": [
      "5 PEC representations generated assuming a depolarizing noise level of 0.01.\n",
      "Norm of the first PEC representation: 1.02027027027027\n",
      "5 NEPEC approximate representations generated with scale factors [1, 51] without assuming any noise model.\n",
      "Norm of the first NEPEC representation: 1.04\n"
     ]
    }
   ],
   "source": [
    "pec_representations = []\n",
    "nepec_representations = []\n",
    "for op in set(ideal_circuit.all_operations()):\n",
    "    pec_rep = represent_operation_with_local_depolarizing_noise(Circuit(op), estimated_noise)\n",
    "    nepec_rep = represent_operation_with_nepec(Circuit(op), scale_factors)\n",
    "    pec_representations.append(pec_rep)\n",
    "    nepec_representations.append(nepec_rep)\n",
    "\n",
    "print(\n",
    "    f\"{len(pec_representations)} PEC representations generated assuming a\"\n",
    "    f\" depolarizing noise level of {estimated_noise}.\"\n",
    ")\n",
    "print(\"Norm of the first PEC representation:\", pec_representations[0].norm)\n",
    "print(f\"{len(nepec_representations)} NEPEC approximate representations generated\"\n",
    "      f\" with scale factors {scale_factors} without assuming any noise model.\"\n",
    ")\n",
    "print(\"Norm of the first NEPEC representation:\", nepec_representations[0].norm)"
   ]
  },
  {
   "cell_type": "markdown",
   "metadata": {},
   "source": [
    "## Run PEC and NEPEC error mitigation for different (actual) noise levels\n",
    "Compared to PEC, NEPEC should be more robust to noise characterization errors. To test this fact, for each set of  gate representations, we loop over different hardware noise levels."
   ]
  },
  {
   "cell_type": "code",
   "execution_count": 11,
   "metadata": {},
   "outputs": [
    {
     "name": "stdout",
     "output_type": "stream",
     "text": [
      "noise_level: 0.0\n",
      "noise_level: 0.0025\n",
      "noise_level: 0.005\n",
      "noise_level: 0.0075\n",
      "noise_level: 0.01\n",
      "noise_level: 0.0125\n",
      "noise_level: 0.015\n",
      "noise_level: 0.0175\n",
      "noise_level: 0.02\n",
      "Execution time: 1563 seconds\n",
      "unmitigated_values:\n",
      "[1.0, 0.9771649837493896, 0.9553019404411316, 0.9343726634979248, 0.9143394827842712, 0.8951672911643982, 0.8768202662467957, 0.8592677116394043, 0.8424772024154663]\n",
      "pec_values:\n",
      "[1.1037399004925463, 1.0710962557251942, 1.0441431804011696, 1.0171574927661557, 0.9900251727790881, 0.9821376730077583, 0.9734147430444995, 0.9325036642754185, 0.9179650973609916]\n",
      "nepec_values:\n",
      "[1.0022943278725032, 0.9914572396688774, 0.9800362219341194, 0.9740868290281771, 0.9961705000775363, 0.9785262910414021, 0.9367166210811602, 0.9430686185923336, 0.8967033957276255]\n"
     ]
    }
   ],
   "source": [
    "if RUN_SIMULATION:\n",
    "    pre_time = time.time()\n",
    "    unmitigated_values = []\n",
    "    pec_values = []\n",
    "    nepec_values = []\n",
    "    for noise_level in noise_levels:\n",
    "        executor = partial(noisy_executor, noise_level=noise_level)\n",
    "        unmitigated_value = executor(ideal_circuit)\n",
    "        pec_expectation_value = pec.execute_with_pec(\n",
    "            ideal_circuit, executor, pec_representations, num_samples=num_samples, random_state=rnd_state,\n",
    "        )\n",
    "        nepec_expectation_value = pec.execute_with_pec(\n",
    "            ideal_circuit, executor, nepec_representations, num_samples=num_samples, random_state=rnd_state,\n",
    "        )\n",
    "        # Store data\n",
    "        unmitigated_values.append(unmitigated_value)\n",
    "        pec_values.append(pec_expectation_value)\n",
    "        nepec_values.append(nepec_expectation_value)\n",
    "        print(\"noise_level:\", noise_level)\n",
    "\n",
    "    print(f\"Execution time: {round(time.time() - pre_time)} seconds\")\n",
    "    print(\"unmitigated_values:\")\n",
    "    print(unmitigated_values)\n",
    "    print(\"pec_values:\")\n",
    "    print(pec_values)\n",
    "    print(\"nepec_values:\")\n",
    "    print(nepec_values)"
   ]
  },
  {
   "cell_type": "markdown",
   "metadata": {},
   "source": [
    "# Visualize data"
   ]
  },
  {
   "cell_type": "code",
   "execution_count": 12,
   "metadata": {
    "scrolled": true
   },
   "outputs": [
    {
     "data": {
      "image/png": "[encoded data removed]",
      "text/plain": [
       "<Figure size 576x360 with 1 Axes>"
      ]
     },
     "metadata": {
      "needs_background": "light"
     },
     "output_type": "display_data"
    }
   ],
   "source": [
    "def plot_results(save_to_pdf: bool):\n",
    "    \n",
    "    plt.rcParams.update({\"font.family\": \"serif\", \"font.size\": 13})\n",
    "\n",
    "    plt.figure(figsize=(8, 5))\n",
    "\n",
    "    # Limits for the dotted line\n",
    "    max_y = 1.15 * max(unmitigated_values + pec_values + nepec_values)\n",
    "    min_y = 0.9 * min(unmitigated_values + pec_values + nepec_values)\n",
    "\n",
    "    markersize = 50\n",
    "    alpha = 0.7\n",
    "    axis_title_size = 17\n",
    "\n",
    "    plt.hlines(1, noise_levels[0], noise_levels[-1], label=\"Ideal value\",  linewidth=2, color=\"gray\", linestyle=\"dashed\")\n",
    "    plt.vlines(estimated_noise, min_y, max_y, colors=\"red\", linewidth=2, linestyles=\"dotted\", label=\"Estimated noise\")\n",
    "\n",
    "    plt.scatter(noise_levels, unmitigated_values, label=\"Unmitigated\", s=markersize, alpha=alpha)\n",
    "    plt.scatter(noise_levels, pec_values, label=f\"PEC (assuming $p=${estimated_noise})\", s=markersize * 1.4, alpha=alpha, marker=\"^\")\n",
    "    plt.scatter(noise_levels, nepec_values, label=\"NEPEC (noise-agnostic)\", s=markersize* 0.98, alpha=alpha, marker=\"s\")\n",
    "    plt.xlabel(\"Actual noise level\", size=axis_title_size)\n",
    "    plt.ylabel(\"Expectation value\", size=axis_title_size)\n",
    "    tick_label_size=14\n",
    "    \n",
    "    noise_levels_strings = [str(x) for x in noise_levels]\n",
    "    plt.xticks(noise_levels, noise_levels_strings, size=tick_label_size)\n",
    "    plt.yticks(size=tick_label_size)\n",
    "    plt.legend()\n",
    "    if save_to_pdf:\n",
    "        plt.savefig(\"noise_agnostic_pec.pdf\")\n",
    "    plt.show()\n",
    "\n",
    "if RUN_SIMULATION:\n",
    "    plot_results(save_to_pdf=False)"
   ]
  },
  {
   "cell_type": "markdown",
   "metadata": {},
   "source": [
    "# Exactly reproduce the figure of the paper\n",
    "When running the original simulation that is reported in the figure of the paper, unfortunately the seed rnd_state was not used. This means that the plot above may be similar but not exactly equal to the plot of the paper.\n",
    "\n",
    "If one is interested in exactly reproducing the figure of the paper, one can manually set the results of the original simulation executing the next cell."
   ]
  },
  {
   "cell_type": "code",
   "execution_count": 13,
   "metadata": {},
   "outputs": [
    {
     "data": {
      "image/png": "[encoded data removed]",
      "text/plain": [
       "<Figure size 576x360 with 1 Axes>"
      ]
     },
     "metadata": {
      "needs_background": "light"
     },
     "output_type": "display_data"
    }
   ],
   "source": [
    "# Copied and pasted from the results of the original simulation\n",
    "estimated_noise = 0.01\n",
    "noise_levels = [0.0, 0.0025, 0.005, 0.0075, 0.01, 0.0125, 0.015, 0.0175, 0.02]\n",
    "\n",
    "unmitigated_values = [1.0, 0.9771649837493896, 0.9553019404411316, 0.9343726634979248, 0.9143394827842712, 0.8951672911643982, 0.8768202662467957, 0.8592677116394043, 0.8424772024154663]\n",
    "pec_values = [1.0960584852983337, 1.0853695043192624, 1.0303496725029109, 1.0233014296449234, 1.007734938518927, 0.978401611707598, 0.9496199737039019, 0.9333176714050502, 0.9162332037002223]\n",
    "nepec_values = [0.9912115986078454, 1.0033896985521815, 0.9889737214304639, 0.9819374507223545, 0.9901931989592324, 0.9585728679844749, 0.9763846412773582, 0.9556384601575977, 0.8822034714765001]\n",
    "\n",
    "plot_results(save_to_pdf=False)"
   ]
  },
  {
   "cell_type": "code",
   "execution_count": null,
   "metadata": {},
   "outputs": [],
   "source": [
    "import mitiq\n",
    "\n",
    "mitiq.about()"
   ]
  }
 ],
 "metadata": {
  "kernelspec": {
   "display_name": "Python 3",
   "language": "python",
   "name": "python3"
  },
  "language_info": {
   "codemirror_mode": {
    "name": "ipython",
    "version": 3
   },
   "file_extension": ".py",
   "mimetype": "text/x-python",
   "name": "python",
   "nbconvert_exporter": "python",
   "pygments_lexer": "ipython3",
   "version": "3.7.7"
  }
 },
 "nbformat": 4,
 "nbformat_minor": 2
}
