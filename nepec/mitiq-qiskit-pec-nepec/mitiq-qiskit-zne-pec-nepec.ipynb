{
 "cells": [
  {
   "cell_type": "markdown",
   "id": "5e0dfbd2",
   "metadata": {},
   "source": [
    "# Using Mitiq with Qiskit quantum programs\n",
    "\n",
    "This notebook shows how to use Mitiq to mitigate errors in Qiskit quantum programs.\n",
    "\n",
    "The main sections are:\n",
    "* **Section 1: Computing quantum expectation values without error mitigation**\n",
    "* **Section 2: Applying zero-noise extrapolation (ZNE)**\n",
    "* **Section 3: Applying probabilistic error cancellation (PEC)**\n",
    "\n",
    "Useful links:\n",
    "* Qiskit repository: https://github.com/Qiskit/qiskit\n",
    "* Qiskit documentation: https://qiskit.org/documentation/\n",
    "* IBMQ portal: https://www.ibm.com/quantum-computing/\n",
    "\n",
    "\n",
    "* Mitiq repository: https://github.com/unitaryfoundation/mitiq\n",
    "* Mitiq documentation: https://mitiq.readthedocs.io/en/stable/\n",
    "* Mitiq white paper: https://mitiq.readthedocs.io/en/stable/\n",
    "* Unitary Foundation:  https://unitary.foundation/"
   ]
  },
  {
   "cell_type": "markdown",
   "id": "6575702b",
   "metadata": {},
   "source": [
    "This notebook requires the Python packages: `qiskit` and `mitiq`. If necessary, uncomment the next code cell to install them."
   ]
  },
  {
   "cell_type": "code",
   "execution_count": 1,
   "id": "1893c653",
   "metadata": {},
   "outputs": [],
   "source": [
    "!pip install qiskit --quiet\n",
    "!pip install mitiq --quiet"
   ]
  },
  {
   "cell_type": "code",
   "execution_count": 2,
   "id": "c43ff597",
   "metadata": {},
   "outputs": [],
   "source": [
    "import warnings\n",
    "\n",
    "warnings.filterwarnings(action='ignore') # Optional warning filter"
   ]
  },
  {
   "cell_type": "markdown",
   "id": "8fc8ad7a",
   "metadata": {},
   "source": [
    "## Section 1: Computing quantum expectation values without error mitigation"
   ]
  },
  {
   "cell_type": "markdown",
   "id": "1a96f2bc",
   "metadata": {},
   "source": [
    "### Define the circuit of interest"
   ]
  },
  {
   "cell_type": "markdown",
   "id": "3b89b21a",
   "metadata": {},
   "source": [
    "We first define an arbitrary circuit of interest. For simplicity, in this example we use\n",
    "a two-qubit randomized-benchmarking circuit whose ideal execution is equivalent to the\n",
    "identity operation."
   ]
  },
  {
   "cell_type": "code",
   "execution_count": 5,
   "id": "0c6c7565",
   "metadata": {},
   "outputs": [
    {
     "name": "stdout",
     "output_type": "stream",
     "text": [
      "Randomized benchmarking circuit with 211 gates generated.\n"
     ]
    }
   ],
   "source": [
    "import qiskit\n",
    "import qiskit.ignis.verification.randomized_benchmarking as rb\n",
    "from qiskit.transpiler.passes import RemoveBarriers, RemoveFinalMeasurements\n",
    "from mitiq.interface import convert_to_mitiq, convert_from_mitiq\n",
    "\n",
    "n_qubits = 2\n",
    "depth = 20\n",
    "\n",
    "qiskit_circuit = rb.randomized_benchmarking_seq(\n",
    "    length_vector=[depth], rb_pattern=[range(n_qubits)], group_gates=\"0\", rand_seed=1,\n",
    ")[0][0][0]\n",
    "\n",
    "# Remove Barriers\n",
    "qiskit_circuit=RemoveBarriers()(qiskit_circuit)\n",
    "# Remove Measurements\n",
    "qiskit_circuit=RemoveFinalMeasurements()(qiskit_circuit)\n",
    "# Double conversion trick to rename qubit register\n",
    "circuit = convert_from_mitiq(convert_to_mitiq(qiskit_circuit)[0], \"qiskit\")\n",
    "\n",
    "print(f\"Randomized benchmarking circuit with {len(circuit)} gates generated.\")\n",
    "# print(circuit)"
   ]
  },
  {
   "cell_type": "markdown",
   "id": "5c72a789",
   "metadata": {},
   "source": [
    "### Execute the circuit with an noiseless backend"
   ]
  },
  {
   "cell_type": "code",
   "execution_count": 6,
   "id": "7a42c100",
   "metadata": {},
   "outputs": [
    {
     "data": {
      "text/plain": [
       "1.0"
      ]
     },
     "execution_count": 6,
     "metadata": {},
     "output_type": "execute_result"
    }
   ],
   "source": [
    "# Set the number of shots \n",
    "shots = 10 ** 5\n",
    "\n",
    "# Initialize ideal backend (classical noiseless simulator)\n",
    "ideal_backend = qiskit.Aer.get_backend('aer_simulator')\n",
    "\n",
    "# Append measurements\n",
    "circuit_to_run = circuit.copy()\n",
    "circuit_to_run.measure_all()\n",
    "\n",
    "# Run and get count\n",
    "job = ideal_backend.run(circuit_to_run, shots=shots)\n",
    "counts = job.result().get_counts()\n",
    "\n",
    "# Expectation value of A=|00><00|\n",
    "ideal_value = counts[\"00\"] / shots\n",
    "ideal_value"
   ]
  },
  {
   "cell_type": "markdown",
   "id": "0e57a055",
   "metadata": {},
   "source": [
    "### Execute the circuit with an noisy backend (without error mitigation)"
   ]
  },
  {
   "cell_type": "code",
   "execution_count": 7,
   "id": "8aa79887",
   "metadata": {},
   "outputs": [
    {
     "name": "stdout",
     "output_type": "stream",
     "text": [
      "Executing circuit with 211 gates using 100000 shots.\n"
     ]
    },
    {
     "data": {
      "text/plain": [
       "0.75779"
      ]
     },
     "execution_count": 7,
     "metadata": {},
     "output_type": "execute_result"
    }
   ],
   "source": [
    "from qiskit.test.mock import FakeLima\n",
    "from qiskit.providers.aer.noise import NoiseModel\n",
    "\n",
    "# Set the number of shots \n",
    "shots = 10 ** 5\n",
    "\n",
    "# Select a noisy backend\n",
    "# noisy_backend = qiskit.IBMQ.load_account().get_backend(\"ibmq_lima\")\n",
    "noisy_backend = FakeLima() # Simulator with noise model similar to \"ibmq_lima\"\n",
    "\n",
    "# Append measurements\n",
    "circuit_to_run = circuit.copy()\n",
    "circuit_to_run.measure_all()\n",
    "\n",
    "# Run and get counts\n",
    "print(f\"Executing circuit with {len(circuit)} gates using {shots} shots.\")\n",
    "job = noisy_backend.run(circuit_to_run, shots=shots)\n",
    "counts = job.result().get_counts()\n",
    "\n",
    "# Compute expectation value of the observable A=|0><0|\n",
    "noisy_value = counts[\"00\"] / shots\n",
    "noisy_value"
   ]
  },
  {
   "cell_type": "markdown",
   "id": "8dbc201e",
   "metadata": {},
   "source": [
    "## Section 2: Applying zero-noise extrapolation (ZNE)"
   ]
  },
  {
   "cell_type": "markdown",
   "id": "5d23b58e",
   "metadata": {},
   "source": [
    "### Define an executor function"
   ]
  },
  {
   "cell_type": "markdown",
   "id": "f7ce55e6",
   "metadata": {},
   "source": [
    "We rewrite the last code cell of the previous section as a function that we call `executor`.\n",
    "This function takes as input a Qiskit circuit and returns the final noisy expectation value.\n",
    "\n",
    "Hint: It is usually better, but not necessary, to set `optimization_level=0` to avoid automatic circuit optimizations."
   ]
  },
  {
   "cell_type": "code",
   "execution_count": 13,
   "id": "72273e28",
   "metadata": {},
   "outputs": [],
   "source": [
    "def executor(circuit, shots=10 ** 5):\n",
    "    \"\"\"Executes the input circuit and returns the noisy expectation value <A>, where A=|00>00|.\n",
    "    \"\"\"\n",
    "    # Select a noisy backend\n",
    "    # noisy_backend = qiskit.IBMQ.load_account().get_backend(\"ibmq_lima\")\n",
    "    noisy_backend = FakeLima() # Simulator with noise model similar to \"ibmq_lima\"\n",
    "\n",
    "    # Append measurements\n",
    "    circuit_to_run = circuit.copy()\n",
    "    circuit_to_run.measure_all()\n",
    "\n",
    "    # Run and get counts\n",
    "    print(f\"Executing circuit with {len(circuit)} gates using {shots} shots.\")\n",
    "    job = noisy_backend.run(circuit_to_run, shots=shots)\n",
    "    counts = job.result().get_counts()\n",
    "\n",
    "    # Compute expectation value of the observable A=|0><0|\n",
    "    noisy_value = counts[\"00\"] / shots\n",
    "    return noisy_value  "
   ]
  },
  {
   "cell_type": "code",
   "execution_count": 14,
   "id": "80a0d5c7",
   "metadata": {},
   "outputs": [
    {
     "name": "stdout",
     "output_type": "stream",
     "text": [
      "Executing circuit with 211 gates using 100000 shots.\n"
     ]
    },
    {
     "data": {
      "text/plain": [
       "0.75789"
      ]
     },
     "execution_count": 14,
     "metadata": {},
     "output_type": "execute_result"
    }
   ],
   "source": [
    "noisy_value = executor(circuit)\n",
    "noisy_value"
   ]
  },
  {
   "cell_type": "markdown",
   "id": "e4f78900",
   "metadata": {},
   "source": [
    "### Run zero-noise extrapolation with Mitiq"
   ]
  },
  {
   "cell_type": "code",
   "execution_count": 15,
   "id": "5042f5d9",
   "metadata": {},
   "outputs": [
    {
     "name": "stdout",
     "output_type": "stream",
     "text": [
      "Executing circuit with 211 gates using 100000 shots.\n",
      "Executing circuit with 421 gates using 100000 shots.\n",
      "Executing circuit with 633 gates using 100000 shots.\n",
      "Estimation error without Mitiq   : 0.24211000000000005\n",
      "Estimation error with Mitiq (ZNE): 0.05457999999999974\n"
     ]
    }
   ],
   "source": [
    "from mitiq import zne\n",
    "\n",
    "zne_value = zne.execute_with_zne(circuit, executor)\n",
    "\n",
    "unmitigated_error = abs(ideal_value - noisy_value)\n",
    "zne_error = abs(ideal_value - zne_value)\n",
    "print(f\"Estimation error without Mitiq   : {unmitigated_error}\")\n",
    "print(f\"Estimation error with Mitiq (ZNE): {zne_error}\")"
   ]
  },
  {
   "cell_type": "code",
   "execution_count": 16,
   "id": "412229f4",
   "metadata": {},
   "outputs": [
    {
     "name": "stdout",
     "output_type": "stream",
     "text": [
      "ZNE reduced the estimation error by 77.5%.\n"
     ]
    }
   ],
   "source": [
    "print(f\"ZNE reduced the estimation error by {(unmitigated_error - zne_error) / unmitigated_error :.1%}.\")"
   ]
  },
  {
   "cell_type": "markdown",
   "id": "4d2ea58c",
   "metadata": {},
   "source": [
    "Below we show how to select different options for zero-noise extrapolation."
   ]
  },
  {
   "cell_type": "markdown",
   "id": "23c14d22",
   "metadata": {},
   "source": [
    "### Select a noise scaling method"
   ]
  },
  {
   "cell_type": "code",
   "execution_count": 17,
   "id": "fea50ad8",
   "metadata": {},
   "outputs": [],
   "source": [
    "# Choise a unitary folding function\n",
    "noise_scaling_function = zne.scaling.fold_global"
   ]
  },
  {
   "cell_type": "markdown",
   "id": "ae8f2f67",
   "metadata": {},
   "source": [
    "Let's check the effect of the noise scaling function on the input circuit:"
   ]
  },
  {
   "cell_type": "code",
   "execution_count": 19,
   "id": "c6f22aa5",
   "metadata": {},
   "outputs": [
    {
     "name": "stdout",
     "output_type": "stream",
     "text": [
      "The input circuit has 211 gates\n",
      "The scaled circuit has 423 gates\n"
     ]
    }
   ],
   "source": [
    "noise_scaled_circuit = noise_scaling_function(circuit, scale_factor=2)\n",
    "\n",
    "print(f\"The input circuit has {len(circuit)} gates\")\n",
    "print(f\"The scaled circuit has {len(noise_scaled_circuit)} gates\")"
   ]
  },
  {
   "cell_type": "markdown",
   "id": "9807fe86",
   "metadata": {},
   "source": [
    "### Select an extrapolation model"
   ]
  },
  {
   "cell_type": "code",
   "execution_count": 21,
   "id": "2ff3b526",
   "metadata": {},
   "outputs": [],
   "source": [
    "factory = zne.inference.AdaExpFactory(steps=10, asymptote=0.25)\n",
    "\n",
    "# Examples:\n",
    "\n",
    "# Richardson extrapolation\n",
    "# factory = zne.inference.RichardsonFactory(scale_factors = [1, 2, 3])\n",
    "\n",
    "# Exponential extrapolation\n",
    "# factory = zne.inference.ExpFactory(scale_factors = [1, 2, 3], asymptote=0.25)\n",
    "\n",
    "# Exponential adaptive extrapolation\n",
    "# factory = zne.inference.AdaExpFactory(steps=10, asymptote=0.25)"
   ]
  },
  {
   "cell_type": "markdown",
   "id": "4e64880a",
   "metadata": {},
   "source": [
    "### Apply ZNE with non-default options"
   ]
  },
  {
   "cell_type": "code",
   "execution_count": 22,
   "id": "a35eb598",
   "metadata": {},
   "outputs": [
    {
     "name": "stdout",
     "output_type": "stream",
     "text": [
      "Executing circuit with 211 gates using 100000 shots.\n",
      "Executing circuit with 423 gates using 100000 shots.\n",
      "Executing circuit with 943 gates using 100000 shots.\n",
      "Executing circuit with 981 gates using 100000 shots.\n",
      "Executing circuit with 983 gates using 100000 shots.\n",
      "Executing circuit with 987 gates using 100000 shots.\n",
      "Executing circuit with 989 gates using 100000 shots.\n",
      "Executing circuit with 987 gates using 100000 shots.\n",
      "Executing circuit with 989 gates using 100000 shots.\n",
      "Executing circuit with 989 gates using 100000 shots.\n",
      "Estimation error without Mitiq   : 0.24211000000000005\n",
      "Estimation error with Mitiq (ZNE): 0.03939425167038613\n"
     ]
    }
   ],
   "source": [
    "zne_value = zne.execute_with_zne(circuit, executor, scale_noise=noise_scaling_function, factory=factory)\n",
    "\n",
    "unmitigated_error = abs(ideal_value - noisy_value)\n",
    "zne_error = abs(ideal_value - zne_value)\n",
    "print(f\"Estimation error without Mitiq   : {unmitigated_error}\")\n",
    "print(f\"Estimation error with Mitiq (ZNE): {zne_error}\")"
   ]
  },
  {
   "cell_type": "code",
   "execution_count": 23,
   "id": "f539d7a1",
   "metadata": {},
   "outputs": [
    {
     "name": "stdout",
     "output_type": "stream",
     "text": [
      "ZNE reduced the estimation error by 83.7%.\n"
     ]
    }
   ],
   "source": [
    "print(f\"ZNE reduced the estimation error by {(unmitigated_error - zne_error) / unmitigated_error :.1%}.\")"
   ]
  },
  {
   "cell_type": "markdown",
   "id": "7212d423",
   "metadata": {},
   "source": [
    "### Analize and visualize ZNE data "
   ]
  },
  {
   "cell_type": "code",
   "execution_count": 24,
   "id": "0d375386",
   "metadata": {},
   "outputs": [
    {
     "data": {
      "image/png": "[encoded data removed]",
      "text/plain": [
       "<Figure size 504x360 with 1 Axes>"
      ]
     },
     "metadata": {
      "needs_background": "light"
     },
     "output_type": "display_data"
    }
   ],
   "source": [
    "_ = factory.plot_fit()"
   ]
  },
  {
   "cell_type": "code",
   "execution_count": 25,
   "id": "b47ba6ea",
   "metadata": {},
   "outputs": [
    {
     "data": {
      "text/plain": [
       "array([0.75585, 0.59994, 0.40038, 0.39116, 0.39232, 0.39106, 0.38722,\n",
       "       0.39403, 0.38875, 0.38865])"
      ]
     },
     "execution_count": 25,
     "metadata": {},
     "output_type": "execute_result"
    }
   ],
   "source": [
    "factory.get_expectation_values()"
   ]
  },
  {
   "cell_type": "code",
   "execution_count": 26,
   "id": "4b9ff3ed",
   "metadata": {},
   "outputs": [
    {
     "data": {
      "text/plain": [
       "array([1.        , 2.        , 4.46956499, 4.65002695, 4.66240918,\n",
       "       4.67994465, 4.68665802, 4.67488215, 4.69063002, 4.68714552])"
      ]
     },
     "execution_count": 26,
     "metadata": {},
     "output_type": "execute_result"
    }
   ],
   "source": [
    "factory.get_scale_factors()"
   ]
  },
  {
   "cell_type": "code",
   "execution_count": 27,
   "id": "09b98717",
   "metadata": {},
   "outputs": [
    {
     "data": {
      "text/plain": [
       "0.9606057483296139"
      ]
     },
     "execution_count": 27,
     "metadata": {},
     "output_type": "execute_result"
    }
   ],
   "source": [
    "factory.get_zero_noise_limit()"
   ]
  },
  {
   "cell_type": "markdown",
   "id": "0fd32caa",
   "metadata": {},
   "source": [
    "## Section 3:  Applying probabilistic error cancellation (PEC)"
   ]
  },
  {
   "cell_type": "code",
   "execution_count": 28,
   "id": "39516289",
   "metadata": {},
   "outputs": [],
   "source": [
    "from mitiq import pec"
   ]
  },
  {
   "cell_type": "markdown",
   "id": "9fe2687b",
   "metadata": {},
   "source": [
    "### Build quasi-probability representation for CNOT gate"
   ]
  },
  {
   "cell_type": "markdown",
   "id": "086c9a8b",
   "metadata": {},
   "source": [
    "For simplicity, we assume that:\n",
    "    \n",
    "* Only CNOT gates are affected by noise;\n",
    "* The noise is depolarizing.\n",
    "\n",
    "Even within these assumptions, we still need to know how strong the noise is. A good approximation is the error probability of the CNOT gate."
   ]
  },
  {
   "cell_type": "code",
   "execution_count": 32,
   "id": "efde7be4",
   "metadata": {},
   "outputs": [
    {
     "data": {
      "text/plain": [
       "0.008339674869236618"
      ]
     },
     "execution_count": 32,
     "metadata": {},
     "output_type": "execute_result"
    }
   ],
   "source": [
    "# Print error probability of CNOT gate\n",
    "cnot_error_prob = noisy_backend.properties().gate_error(\"cx\", qubits=(0, 1))\n",
    "cnot_error_prob\n",
    "\n",
    "# print(qiskit.transpile(circuit, backend=noisy_backend))"
   ]
  },
  {
   "cell_type": "markdown",
   "id": "46f4eef1",
   "metadata": {},
   "source": [
    "We now build a quasi-probability representation based on the previous assumptions. I.e., we represent the ideal CNOT as a linear combination of noisy operations:\n",
    "\n",
    "$$ \\mathcal G_{\\rm CNOT} = \\sum_\\alpha \\eta_\\alpha \\mathcal O_\\alpha, \\quad \\eta_\\alpha \\in \\mathbb R, \\quad \\{ \\mathcal O_\\alpha \\} = \\text{Noisy implementable operations}.$$"
   ]
  },
  {
   "cell_type": "code",
   "execution_count": 35,
   "id": "5c93da56",
   "metadata": {},
   "outputs": [
    {
     "name": "stdout",
     "output_type": "stream",
     "text": [
      "Quasi-probability representation with one-norm 1.01683 generated.\n"
     ]
    }
   ],
   "source": [
    "from mitiq.pec.representations.depolarizing import represent_operation_with_global_depolarizing_noise\n",
    "\n",
    "# Define ideal operation that we aim to represent\n",
    "cnot_circuit = qiskit.QuantumCircuit(qiskit.QuantumRegister(2, name=\"q\")) \n",
    "cnot_circuit.cx(0, 1)\n",
    "\n",
    "# Build representation\n",
    "cnot_rep = represent_operation_with_global_depolarizing_noise(cnot_circuit, noise_level=cnot_error_prob)\n",
    "\n",
    "print(f\"Quasi-probability representation with one-norm {cnot_rep.norm :g} generated.\")\n",
    "# print(cnot_rep)"
   ]
  },
  {
   "cell_type": "markdown",
   "id": "48c9a537",
   "metadata": {},
   "source": [
    "### Run PEC"
   ]
  },
  {
   "cell_type": "code",
   "execution_count": 36,
   "id": "29d77951",
   "metadata": {},
   "outputs": [
    {
     "name": "stdout",
     "output_type": "stream",
     "text": [
      "Executing circuit with 211 gates using 1000 shots.\n",
      "Executing circuit with 211 gates using 1000 shots.\n",
      "Executing circuit with 211 gates using 1000 shots.\n",
      "Executing circuit with 211 gates using 1000 shots.\n",
      "Executing circuit with 211 gates using 1000 shots.\n",
      "Executing circuit with 211 gates using 1000 shots.\n",
      "Executing circuit with 211 gates using 1000 shots.\n",
      "Executing circuit with 211 gates using 1000 shots.\n",
      "Executing circuit with 211 gates using 1000 shots.\n",
      "Executing circuit with 211 gates using 1000 shots.\n",
      "Executing circuit with 211 gates using 1000 shots.\n",
      "Executing circuit with 211 gates using 1000 shots.\n",
      "Executing circuit with 211 gates using 1000 shots.\n",
      "Executing circuit with 211 gates using 1000 shots.\n",
      "Executing circuit with 211 gates using 1000 shots.\n",
      "Executing circuit with 211 gates using 1000 shots.\n",
      "Executing circuit with 211 gates using 1000 shots.\n",
      "Executing circuit with 211 gates using 1000 shots.\n",
      "Executing circuit with 211 gates using 1000 shots.\n",
      "Executing circuit with 214 gates using 1000 shots.\n",
      "Executing circuit with 211 gates using 1000 shots.\n",
      "Executing circuit with 211 gates using 1000 shots.\n",
      "Executing circuit with 214 gates using 1000 shots.\n",
      "Executing circuit with 211 gates using 1000 shots.\n",
      "Executing circuit with 211 gates using 1000 shots.\n",
      "Executing circuit with 213 gates using 1000 shots.\n",
      "Executing circuit with 211 gates using 1000 shots.\n",
      "Executing circuit with 213 gates using 1000 shots.\n",
      "Executing circuit with 213 gates using 1000 shots.\n",
      "Executing circuit with 211 gates using 1000 shots.\n",
      "Executing circuit with 211 gates using 1000 shots.\n",
      "Executing circuit with 211 gates using 1000 shots.\n",
      "Executing circuit with 211 gates using 1000 shots.\n",
      "Executing circuit with 211 gates using 1000 shots.\n",
      "Executing circuit with 211 gates using 1000 shots.\n",
      "Executing circuit with 212 gates using 1000 shots.\n",
      "Executing circuit with 213 gates using 1000 shots.\n",
      "Executing circuit with 211 gates using 1000 shots.\n",
      "Executing circuit with 211 gates using 1000 shots.\n",
      "Executing circuit with 211 gates using 1000 shots.\n",
      "Executing circuit with 211 gates using 1000 shots.\n",
      "Executing circuit with 211 gates using 1000 shots.\n",
      "Executing circuit with 211 gates using 1000 shots.\n",
      "Executing circuit with 211 gates using 1000 shots.\n",
      "Executing circuit with 211 gates using 1000 shots.\n",
      "Executing circuit with 211 gates using 1000 shots.\n",
      "Executing circuit with 211 gates using 1000 shots.\n",
      "Executing circuit with 211 gates using 1000 shots.\n",
      "Executing circuit with 211 gates using 1000 shots.\n",
      "Executing circuit with 215 gates using 1000 shots.\n",
      "Executing circuit with 212 gates using 1000 shots.\n",
      "Executing circuit with 214 gates using 1000 shots.\n",
      "Executing circuit with 211 gates using 1000 shots.\n",
      "Executing circuit with 211 gates using 1000 shots.\n",
      "Executing circuit with 213 gates using 1000 shots.\n",
      "Executing circuit with 211 gates using 1000 shots.\n",
      "Executing circuit with 211 gates using 1000 shots.\n",
      "Executing circuit with 213 gates using 1000 shots.\n",
      "Executing circuit with 211 gates using 1000 shots.\n",
      "Executing circuit with 211 gates using 1000 shots.\n",
      "Executing circuit with 211 gates using 1000 shots.\n",
      "Executing circuit with 211 gates using 1000 shots.\n",
      "Executing circuit with 211 gates using 1000 shots.\n",
      "Executing circuit with 211 gates using 1000 shots.\n",
      "Executing circuit with 211 gates using 1000 shots.\n",
      "Executing circuit with 211 gates using 1000 shots.\n",
      "Executing circuit with 214 gates using 1000 shots.\n",
      "Executing circuit with 211 gates using 1000 shots.\n",
      "Executing circuit with 211 gates using 1000 shots.\n",
      "Executing circuit with 211 gates using 1000 shots.\n",
      "Executing circuit with 211 gates using 1000 shots.\n",
      "Executing circuit with 211 gates using 1000 shots.\n",
      "Executing circuit with 211 gates using 1000 shots.\n",
      "Executing circuit with 211 gates using 1000 shots.\n",
      "Executing circuit with 213 gates using 1000 shots.\n",
      "Executing circuit with 211 gates using 1000 shots.\n",
      "Executing circuit with 211 gates using 1000 shots.\n",
      "Executing circuit with 211 gates using 1000 shots.\n",
      "Executing circuit with 212 gates using 1000 shots.\n",
      "Executing circuit with 211 gates using 1000 shots.\n",
      "Executing circuit with 211 gates using 1000 shots.\n",
      "Executing circuit with 211 gates using 1000 shots.\n",
      "Executing circuit with 211 gates using 1000 shots.\n",
      "Executing circuit with 211 gates using 1000 shots.\n",
      "Executing circuit with 211 gates using 1000 shots.\n",
      "Executing circuit with 211 gates using 1000 shots.\n",
      "Executing circuit with 211 gates using 1000 shots.\n",
      "Executing circuit with 211 gates using 1000 shots.\n",
      "Executing circuit with 213 gates using 1000 shots.\n",
      "Executing circuit with 211 gates using 1000 shots.\n",
      "Executing circuit with 211 gates using 1000 shots.\n",
      "Executing circuit with 211 gates using 1000 shots.\n",
      "Executing circuit with 211 gates using 1000 shots.\n",
      "Executing circuit with 211 gates using 1000 shots.\n",
      "Executing circuit with 211 gates using 1000 shots.\n",
      "Executing circuit with 213 gates using 1000 shots.\n",
      "Executing circuit with 211 gates using 1000 shots.\n",
      "Executing circuit with 211 gates using 1000 shots.\n",
      "Executing circuit with 213 gates using 1000 shots.\n",
      "Executing circuit with 211 gates using 1000 shots.\n",
      "Estimation error without Mitiq   : 0.24211000000000005\n",
      "Estimation error with Mitiq (PEC): 0.0006080661539451526\n"
     ]
    }
   ],
   "source": [
    "from functools import partial\n",
    "\n",
    "# Set number of probabilistically generated circuits\n",
    "num_samples = 100\n",
    "\n",
    "# Distribute budget of shots among all circuits\n",
    "shots_per_circuit = shots // num_samples\n",
    "pec_executor = partial(executor, shots=shots_per_circuit)\n",
    "\n",
    "# Run PEC\n",
    "pec_value = pec.execute_with_pec(\n",
    "    circuit, pec_executor, representations = [cnot_rep], num_samples=num_samples, random_state=0,\n",
    ")\n",
    "\n",
    "unmitigated_error = abs(ideal_value - noisy_value)\n",
    "pec_error = abs(ideal_value - pec_value)\n",
    "print(f\"Estimation error without Mitiq   : {unmitigated_error}\")\n",
    "print(f\"Estimation error with Mitiq (PEC): {pec_error}\")"
   ]
  },
  {
   "cell_type": "code",
   "execution_count": 37,
   "id": "6641c820",
   "metadata": {},
   "outputs": [
    {
     "name": "stdout",
     "output_type": "stream",
     "text": [
      "PEC reduced the estimation error by 99.7%.\n"
     ]
    }
   ],
   "source": [
    "print(f\"PEC reduced the estimation error by {(unmitigated_error - pec_error) / unmitigated_error :.1%}.\")"
   ]
  },
  {
   "cell_type": "markdown",
   "id": "6e562e94",
   "metadata": {},
   "source": [
    "### Build a noise-agnostic quasi-probability representation for CNOT gate\n",
    "\n",
    "Instead of a assuming a depolarizing nose model with some given error rate, we now try to use a noise-agnostic representation based on the NEPEC framework introduced in  https://arxiv.org/abs/2108.02237 (Section V). \n",
    "More details can be found in the notebook at [this link](https://github.com/unitaryfund/research/blob/main/nepec/noise-agnostic-pec/noise_agnostic_pec.ipynb)."
   ]
  },
  {
   "cell_type": "code",
   "execution_count": 38,
   "id": "70852158",
   "metadata": {},
   "outputs": [],
   "source": [
    "from mitiq.pec import NoisyOperation, OperationRepresentation\n",
    "\n",
    "\n",
    "def get_richardson_coefficients(scale_factors):\n",
    "    \"\"\"Returns the array of Richardson extrapolation coefficients associated\n",
    "    to the input array of scale factors.\"\"\"\n",
    "    \n",
    "    # This is based on the Lagrange interpolation formula\n",
    "    richardson_coeffs = []\n",
    "    for l in scale_factors:\n",
    "        coeff = 1.0\n",
    "        for l_prime in scale_factors:\n",
    "            if l_prime == l:\n",
    "                continue\n",
    "            coeff *= l_prime / (l_prime - l)\n",
    "        richardson_coeffs.append(coeff)\n",
    "\n",
    "    return richardson_coeffs\n",
    "\n",
    "def represent_operation_with_nepec(ideal_operation, scale_factors):\n",
    "    \"\"\"Returns the OperationRepresentation contructed by noise scaling and extrapolation.\"\"\"\n",
    "    \n",
    "    coeffs = get_richardson_coefficients(scale_factors)\n",
    "    \n",
    "    basis_expansion = {}\n",
    "    for scale_factor, coeff in zip(scale_factors, coeffs):\n",
    "        scaled_op = NoisyOperation(noise_scaling_function(ideal_operation, scale_factor))\n",
    "        basis_expansion[scaled_op] = coeff\n",
    "    \n",
    "    return OperationRepresentation(ideal_operation, basis_expansion)"
   ]
  },
  {
   "cell_type": "code",
   "execution_count": 42,
   "id": "02e1caf7",
   "metadata": {},
   "outputs": [
    {
     "name": "stdout",
     "output_type": "stream",
     "text": [
      "NEPEC quasi-probability representation with one-norm 1.02 generated.\n"
     ]
    }
   ],
   "source": [
    "scale_factors = [1, 101]  # Large scale factors reduce the PEC sampling cost.\n",
    "# scale_factors = [1, 3, 9]\n",
    "\n",
    "agn_rep = represent_operation_with_nepec(cnot_circuit, scale_factors)\n",
    "print(f\"NEPEC quasi-probability representation with one-norm {agn_rep.norm :g} generated.\")\n",
    "# print(agn_rep)"
   ]
  },
  {
   "cell_type": "markdown",
   "id": "3a8ce8cc",
   "metadata": {},
   "source": [
    "### Run NEPEC (noise-extended PEC)"
   ]
  },
  {
   "cell_type": "code",
   "execution_count": 43,
   "id": "d2bfc8ca",
   "metadata": {},
   "outputs": [
    {
     "name": "stdout",
     "output_type": "stream",
     "text": [
      "Executing circuit with 211 gates using 1000 shots.\n",
      "Executing circuit with 211 gates using 1000 shots.\n",
      "Executing circuit with 211 gates using 1000 shots.\n",
      "Executing circuit with 211 gates using 1000 shots.\n",
      "Executing circuit with 411 gates using 1000 shots.\n",
      "Executing circuit with 211 gates using 1000 shots.\n",
      "Executing circuit with 211 gates using 1000 shots.\n",
      "Executing circuit with 211 gates using 1000 shots.\n",
      "Executing circuit with 211 gates using 1000 shots.\n",
      "Executing circuit with 211 gates using 1000 shots.\n",
      "Executing circuit with 311 gates using 1000 shots.\n",
      "Executing circuit with 211 gates using 1000 shots.\n",
      "Executing circuit with 211 gates using 1000 shots.\n",
      "Executing circuit with 211 gates using 1000 shots.\n",
      "Executing circuit with 211 gates using 1000 shots.\n",
      "Executing circuit with 211 gates using 1000 shots.\n",
      "Executing circuit with 211 gates using 1000 shots.\n",
      "Executing circuit with 211 gates using 1000 shots.\n",
      "Executing circuit with 211 gates using 1000 shots.\n",
      "Executing circuit with 411 gates using 1000 shots.\n",
      "Executing circuit with 211 gates using 1000 shots.\n",
      "Executing circuit with 311 gates using 1000 shots.\n",
      "Executing circuit with 511 gates using 1000 shots.\n",
      "Executing circuit with 211 gates using 1000 shots.\n",
      "Executing circuit with 211 gates using 1000 shots.\n",
      "Executing circuit with 311 gates using 1000 shots.\n",
      "Executing circuit with 211 gates using 1000 shots.\n",
      "Executing circuit with 311 gates using 1000 shots.\n",
      "Executing circuit with 311 gates using 1000 shots.\n",
      "Executing circuit with 211 gates using 1000 shots.\n",
      "Executing circuit with 211 gates using 1000 shots.\n",
      "Executing circuit with 211 gates using 1000 shots.\n",
      "Executing circuit with 211 gates using 1000 shots.\n",
      "Executing circuit with 211 gates using 1000 shots.\n",
      "Executing circuit with 311 gates using 1000 shots.\n",
      "Executing circuit with 311 gates using 1000 shots.\n",
      "Executing circuit with 311 gates using 1000 shots.\n",
      "Executing circuit with 211 gates using 1000 shots.\n",
      "Executing circuit with 211 gates using 1000 shots.\n",
      "Executing circuit with 211 gates using 1000 shots.\n",
      "Executing circuit with 211 gates using 1000 shots.\n",
      "Executing circuit with 211 gates using 1000 shots.\n",
      "Executing circuit with 211 gates using 1000 shots.\n",
      "Executing circuit with 211 gates using 1000 shots.\n",
      "Executing circuit with 211 gates using 1000 shots.\n",
      "Executing circuit with 211 gates using 1000 shots.\n",
      "Executing circuit with 211 gates using 1000 shots.\n",
      "Executing circuit with 211 gates using 1000 shots.\n",
      "Executing circuit with 211 gates using 1000 shots.\n",
      "Executing circuit with 411 gates using 1000 shots.\n",
      "Executing circuit with 311 gates using 1000 shots.\n",
      "Executing circuit with 411 gates using 1000 shots.\n",
      "Executing circuit with 211 gates using 1000 shots.\n",
      "Executing circuit with 211 gates using 1000 shots.\n",
      "Executing circuit with 311 gates using 1000 shots.\n",
      "Executing circuit with 211 gates using 1000 shots.\n",
      "Executing circuit with 211 gates using 1000 shots.\n",
      "Executing circuit with 311 gates using 1000 shots.\n",
      "Executing circuit with 211 gates using 1000 shots.\n",
      "Executing circuit with 211 gates using 1000 shots.\n",
      "Executing circuit with 211 gates using 1000 shots.\n",
      "Executing circuit with 211 gates using 1000 shots.\n",
      "Executing circuit with 211 gates using 1000 shots.\n",
      "Executing circuit with 211 gates using 1000 shots.\n",
      "Executing circuit with 211 gates using 1000 shots.\n",
      "Executing circuit with 211 gates using 1000 shots.\n",
      "Executing circuit with 411 gates using 1000 shots.\n",
      "Executing circuit with 211 gates using 1000 shots.\n",
      "Executing circuit with 211 gates using 1000 shots.\n",
      "Executing circuit with 211 gates using 1000 shots.\n",
      "Executing circuit with 211 gates using 1000 shots.\n",
      "Executing circuit with 211 gates using 1000 shots.\n",
      "Executing circuit with 211 gates using 1000 shots.\n",
      "Executing circuit with 211 gates using 1000 shots.\n",
      "Executing circuit with 311 gates using 1000 shots.\n",
      "Executing circuit with 211 gates using 1000 shots.\n",
      "Executing circuit with 211 gates using 1000 shots.\n",
      "Executing circuit with 211 gates using 1000 shots.\n",
      "Executing circuit with 311 gates using 1000 shots.\n",
      "Executing circuit with 211 gates using 1000 shots.\n",
      "Executing circuit with 211 gates using 1000 shots.\n",
      "Executing circuit with 211 gates using 1000 shots.\n",
      "Executing circuit with 211 gates using 1000 shots.\n",
      "Executing circuit with 211 gates using 1000 shots.\n",
      "Executing circuit with 211 gates using 1000 shots.\n",
      "Executing circuit with 211 gates using 1000 shots.\n",
      "Executing circuit with 211 gates using 1000 shots.\n",
      "Executing circuit with 211 gates using 1000 shots.\n",
      "Executing circuit with 311 gates using 1000 shots.\n",
      "Executing circuit with 211 gates using 1000 shots.\n",
      "Executing circuit with 211 gates using 1000 shots.\n",
      "Executing circuit with 211 gates using 1000 shots.\n",
      "Executing circuit with 211 gates using 1000 shots.\n",
      "Executing circuit with 211 gates using 1000 shots.\n",
      "Executing circuit with 211 gates using 1000 shots.\n",
      "Executing circuit with 311 gates using 1000 shots.\n",
      "Executing circuit with 211 gates using 1000 shots.\n",
      "Executing circuit with 211 gates using 1000 shots.\n",
      "Executing circuit with 311 gates using 1000 shots.\n",
      "Executing circuit with 211 gates using 1000 shots.\n",
      "Estimation error without Mitiq     : 0.24211000000000005\n",
      "Estimation error with Mitiq (NEPEC): 0.011558459442957192\n"
     ]
    }
   ],
   "source": [
    "nepec_value = pec.execute_with_pec(\n",
    "    circuit, pec_executor, representations = [agn_rep], num_samples=num_samples, random_state=0,\n",
    ")\n",
    "\n",
    "unmitigated_error = abs(ideal_value - noisy_value)\n",
    "nepec_error = abs(ideal_value - nepec_value)\n",
    "print(f\"Estimation error without Mitiq     : {unmitigated_error}\")\n",
    "print(f\"Estimation error with Mitiq (NEPEC): {nepec_error}\")"
   ]
  },
  {
   "cell_type": "code",
   "execution_count": 45,
   "id": "5b2cfdfd",
   "metadata": {},
   "outputs": [
    {
     "name": "stdout",
     "output_type": "stream",
     "text": [
      "NEPEC reduced the estimation error by 95.2%.\n"
     ]
    }
   ],
   "source": [
    "print(f\"NEPEC reduced the estimation error by {(unmitigated_error - nepec_error) / unmitigated_error :.1%}.\")"
   ]
  }
 ],
 "metadata": {
  "jupytext": {
   "text_representation": {
    "extension": ".myst",
    "format_name": "myst",
    "format_version": 0.13,
    "jupytext_version": "1.11.1"
   }
  },
  "kernelspec": {
   "display_name": "Python 3",
   "language": "python",
   "name": "python3"
  },
  "language_info": {
   "codemirror_mode": {
    "name": "ipython",
    "version": 3
   },
   "file_extension": ".py",
   "mimetype": "text/x-python",
   "name": "python",
   "nbconvert_exporter": "python",
   "pygments_lexer": "ipython3",
   "version": "3.7.7"
  }
 },
 "nbformat": 4,
 "nbformat_minor": 5
}
