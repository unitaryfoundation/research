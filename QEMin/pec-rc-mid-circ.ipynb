{
 "cells": [
  {
   "cell_type": "markdown",
   "metadata": {},
   "source": [
    "# Benchmarking Quasi-Probabilistic Readout Correction of Mid-Circuit Measurements with Randomized Benchmarking (RB) Circuits"
   ]
  },
  {
   "cell_type": "code",
   "execution_count": 1,
   "metadata": {},
   "outputs": [],
   "source": [
    "import cirq\n",
    "import numpy as np"
   ]
  },
  {
   "cell_type": "markdown",
   "metadata": {},
   "source": [
    "1. Construct error-corrected RB circuits from Cirq functions"
   ]
  },
  {
   "cell_type": "code",
   "execution_count": 30,
   "metadata": {},
   "outputs": [],
   "source": [
    "from cirq import InsertStrategy\n",
    "from cirq.experiments.qubit_characterizations import (\n",
    "    _find_inv_matrix,\n",
    "    _single_qubit_cliffords,\n",
    "    _two_qubit_clifford,\n",
    "    _two_qubit_clifford_matrices,\n",
    ")"
   ]
  },
  {
   "cell_type": "markdown",
   "metadata": {},
   "source": [
    "We'll use 2-qubit RB circuits and 3-qubit repetition code. Use a single, shallow circuit for testing and visualization purposes. "
   ]
  },
  {
   "cell_type": "code",
   "execution_count": 3,
   "metadata": {},
   "outputs": [],
   "source": [
    "num_logical = 2\n",
    "physical_qubits = 3 * num_logical # repetition code\n",
    "ancillas = 2 * num_logical\n",
    "n_qubits = physical_qubits + ancillas\n",
    "seed = 1\n",
    "num_cliffords = 3\n",
    "qubits = cirq.LineQubit.range(n_qubits)\n",
    "cliffords = _single_qubit_cliffords()\n",
    "rng = np.random.RandomState(seed)\n",
    "trials = 1"
   ]
  },
  {
   "cell_type": "markdown",
   "metadata": {},
   "source": [
    "Set up encoding with 3-qubit repetition code"
   ]
  },
  {
   "cell_type": "code",
   "execution_count": 23,
   "metadata": {},
   "outputs": [],
   "source": [
    "q0, q1, q2, q3, q4, q5, q6, q7, q8, q9 = list(qubits)\n",
    "encoded_subcircuit0_tree= cirq.CNOT(q0, q1), cirq.CNOT(q0, q2)\n",
    "encoded_subcircuit1_tree = cirq.CNOT(q5, q6), cirq.CNOT(q5, q7)\n",
    "encoded_subcircuit = cirq.Circuit([encoded_subcircuit0_tree, encoded_subcircuit1_tree])"
   ]
  },
  {
   "cell_type": "markdown",
   "metadata": {},
   "source": [
    "Construct detection subcircuit to be inserted into RB circuit"
   ]
  },
  {
   "cell_type": "code",
   "execution_count": 21,
   "metadata": {},
   "outputs": [],
   "source": [
    "detect_subcircuit0_tree = [cirq.CNOT(q0, q4), cirq.CNOT(q1, q4), cirq.CNOT(q1, q3), cirq.CNOT(q2, q3), cirq.CNOT(q3, q4), cirq.measure([q3, q4])]\n",
    "detect_subcircuit1_tree = [cirq.CNOT(q5, q9), cirq.CNOT(q6, q9), cirq.CNOT(q6, q8), cirq.CNOT(q7, q8), cirq.CNOT(q8, q9), cirq.measure([q8, q9])]\n",
    "detect_subcircuit = cirq.Circuit([detect_subcircuit0_tree, detect_subcircuit1_tree])"
   ]
  },
  {
   "cell_type": "markdown",
   "metadata": {},
   "source": [
    "Specify the circuit with random Cliffords, append the detection operations, append the inverse circuit operations, and append a second round of detection. "
   ]
  },
  {
   "cell_type": "code",
   "execution_count": 32,
   "metadata": {},
   "outputs": [],
   "source": [
    "clifford_group_size = 11520\n",
    "log_qubits = [qubits[0], qubits[int((physical_qubits + ancillas)/num_logical)]]\n",
    "cfd_matrices = _two_qubit_clifford_matrices(\n",
    "            log_qubits[0],\n",
    "            log_qubits[1],\n",
    "            cliffords,\n",
    "        )\n",
    "rb_circuits = []\n",
    "for _ in range(trials):\n",
    "    idx_list = list(rng.choice(clifford_group_size, num_cliffords))\n",
    "    rb_circuit = cirq.Circuit()\n",
    "    for idx in idx_list:\n",
    "        rb_circuit.append(\n",
    "            _two_qubit_clifford(log_qubits[0], log_qubits[1], idx, cliffords)\n",
    "        )\n",
    "    inv_idx = _find_inv_matrix(\n",
    "        cirq.protocols.unitary(rb_circuit), cfd_matrices\n",
    "    )\n",
    "    rb_circuit.append(detect_subcircuit)\n",
    "    rb_circuit.append(\n",
    "        _two_qubit_clifford(log_qubits[0], log_qubits[1], inv_idx, cliffords), strategy=InsertStrategy.INLINE,\n",
    "    )\n",
    "    rb_circuit.append(detect_subcircuit)\n",
    "    rb_circuits.append(rb_circuit)"
   ]
  },
  {
   "cell_type": "markdown",
   "metadata": {},
   "source": [
    "Combine the sub-circuits and print the circuit."
   ]
  },
  {
   "cell_type": "code",
   "execution_count": 33,
   "metadata": {},
   "outputs": [
    {
     "data": {
      "text/html": [
       "<pre style=\"overflow: auto; white-space: pre;\">0: ───@───@───Y^-0.5───X^0.5────Y^0.5───@───Y^0.5────@───Y────────X^0.5───Y───────X^0.5───@───X^-0.5───Y^-0.5───X─────Y^0.5───@───X^-0.5───Y^-0.5───@───────────────────Y^-0.5───X^0.5────────────@───Y^0.5────@───Y^0.5───@───────────────────────\n",
       "      │   │                             │            │                                    │                                   │                     │                                             │            │           │\n",
       "1: ───X───┼─────────────────────────────┼────────────┼────────────────────────────────────┼───────────────────────────────────┼─────────────────────┼───@───@─────────────────────────────────────┼────────────┼───────────┼───@───@───────────────\n",
       "          │                             │            │                                    │                                   │                     │   │   │                                     │            │           │   │   │\n",
       "2: ───────X─────────────────────────────┼────────────┼────────────────────────────────────┼───────────────────────────────────┼─────────────────────┼───┼───┼───@─────────────────────────────────┼────────────┼───────────┼───┼───┼───@───────────\n",
       "                                        │            │                                    │                                   │                     │   │   │   │                                 │            │           │   │   │   │\n",
       "3: ─────────────────────────────────────┼────────────┼────────────────────────────────────┼───────────────────────────────────┼─────────────────────┼───┼───X───X───@───M─────────────────────────┼────────────┼───────────┼───┼───X───X───@───M───\n",
       "                                        │            │                                    │                                   │                     │   │           │   │                         │            │           │   │           │   │\n",
       "4: ─────────────────────────────────────┼────────────┼────────────────────────────────────┼───────────────────────────────────┼─────────────────────X───X───────────X───M─────────────────────────┼────────────┼───────────X───X───────────X───M───\n",
       "                                        │            │                                    │                                   │                                                                   │            │\n",
       "5: ───@───@───Y────────X^-0.5───────────@───X^-0.5───@───Y^-0.5───Y^0.5───X^0.5───Y^0.5───@───Y^0.5────Y^0.5────X^0───────────@───Y────────X^0.5────@────────────────────────────Y^0.5───X^-0.5───@───X^-0.5───@───X^0.5───@───────────────────────\n",
       "      │   │                                                                                                                                         │                                                                      │\n",
       "6: ───X───┼─────────────────────────────────────────────────────────────────────────────────────────────────────────────────────────────────────────┼───@───@──────────────────────────────────────────────────────────────┼───@───@───────────────\n",
       "          │                                                                                                                                         │   │   │                                                              │   │   │\n",
       "7: ───────X─────────────────────────────────────────────────────────────────────────────────────────────────────────────────────────────────────────┼───┼───┼───@──────────────────────────────────────────────────────────┼───┼───┼───@───────────\n",
       "                                                                                                                                                    │   │   │   │                                                          │   │   │   │\n",
       "8: ─────────────────────────────────────────────────────────────────────────────────────────────────────────────────────────────────────────────────┼───┼───X───X───@───M──────────────────────────────────────────────────┼───┼───X───X───@───M───\n",
       "                                                                                                                                                    │   │           │   │                                                  │   │           │   │\n",
       "9: ─────────────────────────────────────────────────────────────────────────────────────────────────────────────────────────────────────────────────X───X───────────X───M──────────────────────────────────────────────────X───X───────────X───M───</pre>"
      ],
      "text/plain": [
       "0: ───@───@───Y^-0.5───X^0.5────Y^0.5───@───Y^0.5────@───Y────────X^0.5───Y───────X^0.5───@───X^-0.5───Y^-0.5───X─────Y^0.5───@───X^-0.5───Y^-0.5───@───────────────────Y^-0.5───X^0.5────────────@───Y^0.5────@───Y^0.5───@───────────────────────\n",
       "      │   │                             │            │                                    │                                   │                     │                                             │            │           │\n",
       "1: ───X───┼─────────────────────────────┼────────────┼────────────────────────────────────┼───────────────────────────────────┼─────────────────────┼───@───@─────────────────────────────────────┼────────────┼───────────┼───@───@───────────────\n",
       "          │                             │            │                                    │                                   │                     │   │   │                                     │            │           │   │   │\n",
       "2: ───────X─────────────────────────────┼────────────┼────────────────────────────────────┼───────────────────────────────────┼─────────────────────┼───┼───┼───@─────────────────────────────────┼────────────┼───────────┼───┼───┼───@───────────\n",
       "                                        │            │                                    │                                   │                     │   │   │   │                                 │            │           │   │   │   │\n",
       "3: ─────────────────────────────────────┼────────────┼────────────────────────────────────┼───────────────────────────────────┼─────────────────────┼───┼───X───X───@───M─────────────────────────┼────────────┼───────────┼───┼───X───X───@───M───\n",
       "                                        │            │                                    │                                   │                     │   │           │   │                         │            │           │   │           │   │\n",
       "4: ─────────────────────────────────────┼────────────┼────────────────────────────────────┼───────────────────────────────────┼─────────────────────X───X───────────X───M─────────────────────────┼────────────┼───────────X───X───────────X───M───\n",
       "                                        │            │                                    │                                   │                                                                   │            │\n",
       "5: ───@───@───Y────────X^-0.5───────────@───X^-0.5───@───Y^-0.5───Y^0.5───X^0.5───Y^0.5───@───Y^0.5────Y^0.5────X^0───────────@───Y────────X^0.5────@────────────────────────────Y^0.5───X^-0.5───@───X^-0.5───@───X^0.5───@───────────────────────\n",
       "      │   │                                                                                                                                         │                                                                      │\n",
       "6: ───X───┼─────────────────────────────────────────────────────────────────────────────────────────────────────────────────────────────────────────┼───@───@──────────────────────────────────────────────────────────────┼───@───@───────────────\n",
       "          │                                                                                                                                         │   │   │                                                              │   │   │\n",
       "7: ───────X─────────────────────────────────────────────────────────────────────────────────────────────────────────────────────────────────────────┼───┼───┼───@──────────────────────────────────────────────────────────┼───┼───┼───@───────────\n",
       "                                                                                                                                                    │   │   │   │                                                          │   │   │   │\n",
       "8: ─────────────────────────────────────────────────────────────────────────────────────────────────────────────────────────────────────────────────┼───┼───X───X───@───M──────────────────────────────────────────────────┼───┼───X───X───@───M───\n",
       "                                                                                                                                                    │   │           │   │                                                  │   │           │   │\n",
       "9: ─────────────────────────────────────────────────────────────────────────────────────────────────────────────────────────────────────────────────X───X───────────X───M──────────────────────────────────────────────────X───X───────────X───M───"
      ]
     },
     "execution_count": 33,
     "metadata": {},
     "output_type": "execute_result"
    }
   ],
   "source": [
    "corrected_circ = cirq.Circuit([encoded_subcircuit, rb_circuit])\n",
    "corrected_circ"
   ]
  },
  {
   "cell_type": "markdown",
   "metadata": {},
   "source": [
    "2. Add coherent measurement errors"
   ]
  },
  {
   "cell_type": "markdown",
   "metadata": {},
   "source": [
    "3. Apply Randomized Compiling before measurement"
   ]
  },
  {
   "cell_type": "markdown",
   "metadata": {},
   "source": [
    "4. Apply PEC after RC and before measurement"
   ]
  },
  {
   "cell_type": "markdown",
   "metadata": {},
   "source": [
    "5. Once this workflow is working, try noise scaling at, e.g. different sampling overheads, noise levels in representations, etc."
   ]
  }
 ],
 "metadata": {
  "interpreter": {
   "hash": "a2bfaf3203c43218cca0039323443e7f8a5a075bcf5e96560d09863a3bb970ba"
  },
  "kernelspec": {
   "display_name": "Python 3.10.4 64-bit ('stim-ds-zne')",
   "language": "python",
   "name": "python3"
  },
  "language_info": {
   "codemirror_mode": {
    "name": "ipython",
    "version": 3
   },
   "file_extension": ".py",
   "mimetype": "text/x-python",
   "name": "python",
   "nbconvert_exporter": "python",
   "pygments_lexer": "ipython3",
   "version": "3.10.4"
  },
  "orig_nbformat": 4
 },
 "nbformat": 4,
 "nbformat_minor": 2
}
