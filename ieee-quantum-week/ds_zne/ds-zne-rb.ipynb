{
 "cells": [
  {
   "cell_type": "code",
   "execution_count": 1,
   "metadata": {},
   "outputs": [],
   "source": [
    "from typing import List\n",
    "from functools import partial\n",
    "import os\n",
    "\n",
    "import numpy as np\n",
    "from matplotlib import pyplot as plt\n",
    "import cirq\n",
    "from cirq import(\n",
    "    I,\n",
    "    Circuit,\n",
    "    NoiseModel,\n",
    "    DensityMatrixSimulator,\n",
    "    BitFlipChannel,\n",
    "    PhaseFlipChannel,\n",
    "    measure,\n",
    "\n",
    ")\n",
    "\n",
    "from mitiq import zne\n",
    "from mitiq.benchmarks import generate_rb_circuits\n",
    "from mitiq.zne.scaling import fold_global"
   ]
  },
  {
   "cell_type": "code",
   "execution_count": 52,
   "metadata": {},
   "outputs": [
    {
     "ename": "NotADirectoryError",
     "evalue": "[Errno 20] Not a directory: 'latex'",
     "output_type": "error",
     "traceback": [
      "\u001b[0;31m---------------------------------------------------------------------------\u001b[0m",
      "\u001b[0;31mNotADirectoryError\u001b[0m                        Traceback (most recent call last)",
      "\u001b[1;32m/Users/mistywahl/Documents/GitHub/research/ds-zne-rb.ipynb Cell 2'\u001b[0m in \u001b[0;36m<cell line: 4>\u001b[0;34m()\u001b[0m\n\u001b[1;32m      <a href='vscode-notebook-cell:/Users/mistywahl/Documents/GitHub/research/ds-zne-rb.ipynb#ch0000036?line=1'>2</a>\u001b[0m os\u001b[39m.\u001b[39menviron[\u001b[39m\"\u001b[39m\u001b[39mPATH\u001b[39m\u001b[39m\"\u001b[39m] \u001b[39m+\u001b[39m\u001b[39m=\u001b[39m os\u001b[39m.\u001b[39mpathsep \u001b[39m+\u001b[39m \u001b[39m'\u001b[39m\u001b[39m/usr/local/texlive/2023/bin/universal-darwin/man/man1/latex.1\u001b[39m\u001b[39m'\u001b[39m \n\u001b[1;32m      <a href='vscode-notebook-cell:/Users/mistywahl/Documents/GitHub/research/ds-zne-rb.ipynb#ch0000036?line=2'>3</a>\u001b[0m \u001b[39mimport\u001b[39;00m \u001b[39msubprocess\u001b[39;00m\n\u001b[0;32m----> <a href='vscode-notebook-cell:/Users/mistywahl/Documents/GitHub/research/ds-zne-rb.ipynb#ch0000036?line=3'>4</a>\u001b[0m subprocess\u001b[39m.\u001b[39;49mcheck_call([\u001b[39m\"\u001b[39;49m\u001b[39mlatex\u001b[39;49m\u001b[39m\"\u001b[39;49m])\n",
      "File \u001b[0;32m~/.pyenv/versions/3.8.13/lib/python3.8/subprocess.py:359\u001b[0m, in \u001b[0;36mcheck_call\u001b[0;34m(*popenargs, **kwargs)\u001b[0m\n\u001b[1;32m    <a href='file:///Users/mistywahl/.pyenv/versions/3.8.13/lib/python3.8/subprocess.py?line=348'>349</a>\u001b[0m \u001b[39mdef\u001b[39;00m \u001b[39mcheck_call\u001b[39m(\u001b[39m*\u001b[39mpopenargs, \u001b[39m*\u001b[39m\u001b[39m*\u001b[39mkwargs):\n\u001b[1;32m    <a href='file:///Users/mistywahl/.pyenv/versions/3.8.13/lib/python3.8/subprocess.py?line=349'>350</a>\u001b[0m     \u001b[39m\"\"\"Run command with arguments.  Wait for command to complete.  If\u001b[39;00m\n\u001b[1;32m    <a href='file:///Users/mistywahl/.pyenv/versions/3.8.13/lib/python3.8/subprocess.py?line=350'>351</a>\u001b[0m \u001b[39m    the exit code was zero then return, otherwise raise\u001b[39;00m\n\u001b[1;32m    <a href='file:///Users/mistywahl/.pyenv/versions/3.8.13/lib/python3.8/subprocess.py?line=351'>352</a>\u001b[0m \u001b[39m    CalledProcessError.  The CalledProcessError object will have the\u001b[39;00m\n\u001b[0;32m   (...)\u001b[0m\n\u001b[1;32m    <a href='file:///Users/mistywahl/.pyenv/versions/3.8.13/lib/python3.8/subprocess.py?line=356'>357</a>\u001b[0m \u001b[39m    check_call([\"ls\", \"-l\"])\u001b[39;00m\n\u001b[1;32m    <a href='file:///Users/mistywahl/.pyenv/versions/3.8.13/lib/python3.8/subprocess.py?line=357'>358</a>\u001b[0m \u001b[39m    \"\"\"\u001b[39;00m\n\u001b[0;32m--> <a href='file:///Users/mistywahl/.pyenv/versions/3.8.13/lib/python3.8/subprocess.py?line=358'>359</a>\u001b[0m     retcode \u001b[39m=\u001b[39m call(\u001b[39m*\u001b[39;49mpopenargs, \u001b[39m*\u001b[39;49m\u001b[39m*\u001b[39;49mkwargs)\n\u001b[1;32m    <a href='file:///Users/mistywahl/.pyenv/versions/3.8.13/lib/python3.8/subprocess.py?line=359'>360</a>\u001b[0m     \u001b[39mif\u001b[39;00m retcode:\n\u001b[1;32m    <a href='file:///Users/mistywahl/.pyenv/versions/3.8.13/lib/python3.8/subprocess.py?line=360'>361</a>\u001b[0m         cmd \u001b[39m=\u001b[39m kwargs\u001b[39m.\u001b[39mget(\u001b[39m\"\u001b[39m\u001b[39margs\u001b[39m\u001b[39m\"\u001b[39m)\n",
      "File \u001b[0;32m~/.pyenv/versions/3.8.13/lib/python3.8/subprocess.py:340\u001b[0m, in \u001b[0;36mcall\u001b[0;34m(timeout, *popenargs, **kwargs)\u001b[0m\n\u001b[1;32m    <a href='file:///Users/mistywahl/.pyenv/versions/3.8.13/lib/python3.8/subprocess.py?line=331'>332</a>\u001b[0m \u001b[39mdef\u001b[39;00m \u001b[39mcall\u001b[39m(\u001b[39m*\u001b[39mpopenargs, timeout\u001b[39m=\u001b[39m\u001b[39mNone\u001b[39;00m, \u001b[39m*\u001b[39m\u001b[39m*\u001b[39mkwargs):\n\u001b[1;32m    <a href='file:///Users/mistywahl/.pyenv/versions/3.8.13/lib/python3.8/subprocess.py?line=332'>333</a>\u001b[0m     \u001b[39m\"\"\"Run command with arguments.  Wait for command to complete or\u001b[39;00m\n\u001b[1;32m    <a href='file:///Users/mistywahl/.pyenv/versions/3.8.13/lib/python3.8/subprocess.py?line=333'>334</a>\u001b[0m \u001b[39m    timeout, then return the returncode attribute.\u001b[39;00m\n\u001b[1;32m    <a href='file:///Users/mistywahl/.pyenv/versions/3.8.13/lib/python3.8/subprocess.py?line=334'>335</a>\u001b[0m \n\u001b[0;32m   (...)\u001b[0m\n\u001b[1;32m    <a href='file:///Users/mistywahl/.pyenv/versions/3.8.13/lib/python3.8/subprocess.py?line=337'>338</a>\u001b[0m \u001b[39m    retcode = call([\"ls\", \"-l\"])\u001b[39;00m\n\u001b[1;32m    <a href='file:///Users/mistywahl/.pyenv/versions/3.8.13/lib/python3.8/subprocess.py?line=338'>339</a>\u001b[0m \u001b[39m    \"\"\"\u001b[39;00m\n\u001b[0;32m--> <a href='file:///Users/mistywahl/.pyenv/versions/3.8.13/lib/python3.8/subprocess.py?line=339'>340</a>\u001b[0m     \u001b[39mwith\u001b[39;00m Popen(\u001b[39m*\u001b[39;49mpopenargs, \u001b[39m*\u001b[39;49m\u001b[39m*\u001b[39;49mkwargs) \u001b[39mas\u001b[39;00m p:\n\u001b[1;32m    <a href='file:///Users/mistywahl/.pyenv/versions/3.8.13/lib/python3.8/subprocess.py?line=340'>341</a>\u001b[0m         \u001b[39mtry\u001b[39;00m:\n\u001b[1;32m    <a href='file:///Users/mistywahl/.pyenv/versions/3.8.13/lib/python3.8/subprocess.py?line=341'>342</a>\u001b[0m             \u001b[39mreturn\u001b[39;00m p\u001b[39m.\u001b[39mwait(timeout\u001b[39m=\u001b[39mtimeout)\n",
      "File \u001b[0;32m~/.pyenv/versions/3.8.13/lib/python3.8/subprocess.py:858\u001b[0m, in \u001b[0;36mPopen.__init__\u001b[0;34m(self, args, bufsize, executable, stdin, stdout, stderr, preexec_fn, close_fds, shell, cwd, env, universal_newlines, startupinfo, creationflags, restore_signals, start_new_session, pass_fds, encoding, errors, text)\u001b[0m\n\u001b[1;32m    <a href='file:///Users/mistywahl/.pyenv/versions/3.8.13/lib/python3.8/subprocess.py?line=853'>854</a>\u001b[0m         \u001b[39mif\u001b[39;00m \u001b[39mself\u001b[39m\u001b[39m.\u001b[39mtext_mode:\n\u001b[1;32m    <a href='file:///Users/mistywahl/.pyenv/versions/3.8.13/lib/python3.8/subprocess.py?line=854'>855</a>\u001b[0m             \u001b[39mself\u001b[39m\u001b[39m.\u001b[39mstderr \u001b[39m=\u001b[39m io\u001b[39m.\u001b[39mTextIOWrapper(\u001b[39mself\u001b[39m\u001b[39m.\u001b[39mstderr,\n\u001b[1;32m    <a href='file:///Users/mistywahl/.pyenv/versions/3.8.13/lib/python3.8/subprocess.py?line=855'>856</a>\u001b[0m                     encoding\u001b[39m=\u001b[39mencoding, errors\u001b[39m=\u001b[39merrors)\n\u001b[0;32m--> <a href='file:///Users/mistywahl/.pyenv/versions/3.8.13/lib/python3.8/subprocess.py?line=857'>858</a>\u001b[0m     \u001b[39mself\u001b[39;49m\u001b[39m.\u001b[39;49m_execute_child(args, executable, preexec_fn, close_fds,\n\u001b[1;32m    <a href='file:///Users/mistywahl/.pyenv/versions/3.8.13/lib/python3.8/subprocess.py?line=858'>859</a>\u001b[0m                         pass_fds, cwd, env,\n\u001b[1;32m    <a href='file:///Users/mistywahl/.pyenv/versions/3.8.13/lib/python3.8/subprocess.py?line=859'>860</a>\u001b[0m                         startupinfo, creationflags, shell,\n\u001b[1;32m    <a href='file:///Users/mistywahl/.pyenv/versions/3.8.13/lib/python3.8/subprocess.py?line=860'>861</a>\u001b[0m                         p2cread, p2cwrite,\n\u001b[1;32m    <a href='file:///Users/mistywahl/.pyenv/versions/3.8.13/lib/python3.8/subprocess.py?line=861'>862</a>\u001b[0m                         c2pread, c2pwrite,\n\u001b[1;32m    <a href='file:///Users/mistywahl/.pyenv/versions/3.8.13/lib/python3.8/subprocess.py?line=862'>863</a>\u001b[0m                         errread, errwrite,\n\u001b[1;32m    <a href='file:///Users/mistywahl/.pyenv/versions/3.8.13/lib/python3.8/subprocess.py?line=863'>864</a>\u001b[0m                         restore_signals, start_new_session)\n\u001b[1;32m    <a href='file:///Users/mistywahl/.pyenv/versions/3.8.13/lib/python3.8/subprocess.py?line=864'>865</a>\u001b[0m \u001b[39mexcept\u001b[39;00m:\n\u001b[1;32m    <a href='file:///Users/mistywahl/.pyenv/versions/3.8.13/lib/python3.8/subprocess.py?line=865'>866</a>\u001b[0m     \u001b[39m# Cleanup if the child failed starting.\u001b[39;00m\n\u001b[1;32m    <a href='file:///Users/mistywahl/.pyenv/versions/3.8.13/lib/python3.8/subprocess.py?line=866'>867</a>\u001b[0m     \u001b[39mfor\u001b[39;00m f \u001b[39min\u001b[39;00m \u001b[39mfilter\u001b[39m(\u001b[39mNone\u001b[39;00m, (\u001b[39mself\u001b[39m\u001b[39m.\u001b[39mstdin, \u001b[39mself\u001b[39m\u001b[39m.\u001b[39mstdout, \u001b[39mself\u001b[39m\u001b[39m.\u001b[39mstderr)):\n",
      "File \u001b[0;32m~/.pyenv/versions/3.8.13/lib/python3.8/subprocess.py:1704\u001b[0m, in \u001b[0;36mPopen._execute_child\u001b[0;34m(self, args, executable, preexec_fn, close_fds, pass_fds, cwd, env, startupinfo, creationflags, shell, p2cread, p2cwrite, c2pread, c2pwrite, errread, errwrite, restore_signals, start_new_session)\u001b[0m\n\u001b[1;32m   <a href='file:///Users/mistywahl/.pyenv/versions/3.8.13/lib/python3.8/subprocess.py?line=1701'>1702</a>\u001b[0m     \u001b[39mif\u001b[39;00m errno_num \u001b[39m!=\u001b[39m \u001b[39m0\u001b[39m:\n\u001b[1;32m   <a href='file:///Users/mistywahl/.pyenv/versions/3.8.13/lib/python3.8/subprocess.py?line=1702'>1703</a>\u001b[0m         err_msg \u001b[39m=\u001b[39m os\u001b[39m.\u001b[39mstrerror(errno_num)\n\u001b[0;32m-> <a href='file:///Users/mistywahl/.pyenv/versions/3.8.13/lib/python3.8/subprocess.py?line=1703'>1704</a>\u001b[0m     \u001b[39mraise\u001b[39;00m child_exception_type(errno_num, err_msg, err_filename)\n\u001b[1;32m   <a href='file:///Users/mistywahl/.pyenv/versions/3.8.13/lib/python3.8/subprocess.py?line=1704'>1705</a>\u001b[0m \u001b[39mraise\u001b[39;00m child_exception_type(err_msg)\n",
      "\u001b[0;31mNotADirectoryError\u001b[0m: [Errno 20] Not a directory: 'latex'"
     ]
    }
   ],
   "source": [
    "import os \n",
    "os.environ[\"PATH\"] += os.pathsep + '/usr/local/texlive/2023/bin/universal-darwin/man/man1/latex.1' \n",
    "import subprocess\n",
    "subprocess.check_call([\"latex\"])"
   ]
  },
  {
   "cell_type": "code",
   "execution_count": 3,
   "metadata": {},
   "outputs": [],
   "source": [
    "def execute(circuit, shots, correct_bitstring):\n",
    "    \"\"\"Executes the input circuit(s) and returns ⟨A⟩, where\n",
    "    A = |correct_bitstring⟩⟨correct_bitstring| for each circuit.\n",
    "    \"\"\"\n",
    "    circuit_to_run = circuit.copy()\n",
    "\n",
    "    circuit_to_run += measure(*sorted(circuit.all_qubits()), key=\"m\")\n",
    "    backend = DensityMatrixSimulator()\n",
    "\n",
    "    result = backend.run(circuit_to_run, repetitions=shots)\n",
    "    expval = result.measurements[\"m\"].tolist().count(correct_bitstring) / shots\n",
    "    return expval"
   ]
  },
  {
   "cell_type": "markdown",
   "metadata": {},
   "source": [
    "Pauli errors are applied with probability of the logcial error rate, which is related to the code distance by $$L_{ERR}=0.03*(P_{ERR}/P_{TH})^{(D+1)/2}$$\n",
    "\n",
    "where $P_{ERR}$ is the physical error rate and $P_{TH}$ is a threshold error rate."
   ]
  },
  {
   "cell_type": "code",
   "execution_count": 2,
   "metadata": {},
   "outputs": [],
   "source": [
    "def gen_noise_model(PERR, distance):\n",
    "    \"\"\"Create sweepable Pauli noise model.\"\"\"\n",
    "    PTH = 0.009\n",
    "    LERR = 0.03 * (PERR / PTH) ** int((distance + 1) / 2)\n",
    "    return LERR # model as single-qubit errors remaining after correction \n",
    "\n",
    "\n",
    "class PauliNoiseModel(NoiseModel):\n",
    "\n",
    "    def __init__(self, error_rate):\n",
    "        self.error_rate = error_rate\n",
    "\n",
    "    def noisy_operation(self, op):\n",
    "        error_rate = self.error_rate\n",
    "        channel = BitFlipChannel(error_rate).on_each(op.qubits)\n",
    "        channel += PhaseFlipChannel(error_rate).on_each(op.qubits)\n",
    "        return [op, channel]"
   ]
  },
  {
   "cell_type": "code",
   "execution_count": 5,
   "metadata": {},
   "outputs": [],
   "source": [
    "def merge_func(op1, op2):\n",
    "    return True"
   ]
  },
  {
   "cell_type": "code",
   "execution_count": 5,
   "metadata": {},
   "outputs": [],
   "source": [
    "def noisy_execute(circ, noise_level, shots, correct_bitstring):\n",
    "    qubits = circ.all_qubits()\n",
    "    copy = Circuit()\n",
    "    for moment in circ.moments:\n",
    "        idle = False\n",
    "        for q in qubits:\n",
    "            # every moment every qubit gets a single-qubit noise op\n",
    "            if not moment.operates_on_single_qubit(q):\n",
    "                idle = True\n",
    "                op_to_circ = Circuit(PauliNoiseModel(noise_level).noisy_operation(cirq.I(q)))\n",
    "                merged_op = cirq.merge_operations_to_circuit_op(op_to_circ, merge_func)\n",
    "                copy.append(moment.with_operations(merged_op.all_operations()))\n",
    "                break\n",
    "        if not idle:\n",
    "            copy.append(moment)\n",
    "    noisy_circ = copy.with_noise(PauliNoiseModel(noise_level))\n",
    "    return execute(noisy_circ, shots=shots, correct_bitstring=correct_bitstring)"
   ]
  },
  {
   "cell_type": "code",
   "execution_count": 6,
   "metadata": {},
   "outputs": [],
   "source": [
    "def distance_scaled_execute(circ, distance, base_noise_level, shots, correct_bitstring):\n",
    "    LERR = gen_noise_model(base_noise_level, distance)\n",
    "    return noisy_execute(circ, LERR, shots, correct_bitstring)"
   ]
  },
  {
   "cell_type": "code",
   "execution_count": 3,
   "metadata": {},
   "outputs": [],
   "source": [
    "def distance_extrapolation(distance_scale_factors, ds_expectation_values):\n",
    "    fac = zne.PolyFactory(scale_factors=distance_scale_factors, order=3)\n",
    "    for s, v in zip(distance_scale_factors, ds_expectation_values):\n",
    "        fac.push({\"scale_factor\": s}, v)\n",
    "    result = fac.reduce()\n",
    "    # _ = fac.plot_fit()\n",
    "    return result"
   ]
  },
  {
   "cell_type": "code",
   "execution_count": 12,
   "metadata": {},
   "outputs": [],
   "source": [
    "def scale_shots(num_device_qubits, scaled_distance, base_shots, n_qubits_circuit):\n",
    "    used_qubits = n_qubits_circuit * scaled_distance ** 2\n",
    "    return base_shots * int(num_device_qubits / used_qubits)"
   ]
  },
  {
   "cell_type": "code",
   "execution_count": 4,
   "metadata": {},
   "outputs": [],
   "source": [
    "num_trials = 100\n",
    "\n",
    "base_shots = 10000\n",
    "device_size = 1200\n",
    "p_err=0.006\n",
    "n_qubits = 2\n",
    "correct_bitstring = [0] * n_qubits\n",
    "depth = 20\n",
    "\n",
    "scale_factors = [1, 3, 5, 7]\n",
    "fac = zne.PolyFactory(scale_factors, order=3)\n",
    "\n",
    "d_array = [21, 19, 17, 15, 13, 11, 9, 7, 5, 3]"
   ]
  },
  {
   "cell_type": "code",
   "execution_count": null,
   "metadata": {},
   "outputs": [],
   "source": [
    "circuits = generate_rb_circuits(n_qubits, depth, trials=num_trials)\n",
    "trial_results = np.zeros((num_trials, 5, len(d_array) - 3)) # row: trial, column: scaling technique, page: distance (high to low)\n",
    "\n",
    "for d_ind in range(len(d_array) - 3):\n",
    "    print(f\"On distance {d_array[d_ind]}\") \n",
    "    for trial in range(num_trials):\n",
    "        if trial in np.linspace(0, num_trials, 11):\n",
    "            print(f\"    On trial {trial}\")  \n",
    "        executor = partial(distance_scaled_execute, distance=d_array[d_ind], base_noise_level=p_err, shots=scale_shots(device_size, d_array[d_ind], base_shots, n_qubits), correct_bitstring=correct_bitstring)\n",
    "        fac.run(circuits[trial], executor, scale_noise=fold_global)\n",
    "        trial_results[trial, :-1, d_ind] = fac.get_expectation_values()\n",
    "        trial_results[trial, -1, d_ind] = distance_scaled_execute(circuits[trial], d_array[d_ind], p_err, 4 * scale_shots(device_size, d_array[d_ind], base_shots, n_qubits), correct_bitstring)\n",
    "    p_err_string = str(p_err).replace(\".\", \"\")[1:]\n",
    "    np.savetxt(os.path.join(\n",
    "                f\"/Users/mistywahl/Documents/GitHub/zne-distance-scaling/notebooks/data_scale_shots_perr_{p_err_string}\",\n",
    "                f\"depth{depth}_distance{d_array[d_ind]}.txt\",\n",
    "            ),\n",
    "            trial_results[:, :, d_ind],\n",
    "        )"
   ]
  },
  {
   "cell_type": "code",
   "execution_count": null,
   "metadata": {},
   "outputs": [],
   "source": [
    "unscaled_results = np.zeros((num_trials, 2, 3))\n",
    "result_ind = 0\n",
    "for d_ind in range(len(d_array) - 3, len(d_array)):\n",
    "    print(f\"On distance {d_array[d_ind]}\") \n",
    "    for trial in range(num_trials):\n",
    "        if trial in np.linspace(0, num_trials, 11):\n",
    "            print(f\"   On trial {trial}\") \n",
    "        unscaled_results[trial, 0, result_ind] = distance_scaled_execute(circuits[trial], d_array[d_ind], base_noise_level=p_err, shots=scale_shots(device_size, d_array[d_ind], base_shots, n_qubits), correct_bitstring=correct_bitstring)\n",
    "        unscaled_results[trial, 1, result_ind] = distance_scaled_execute(circuits[trial], d_array[d_ind], base_noise_level=p_err, shots=4 * scale_shots(device_size, d_array[d_ind], base_shots, n_qubits), correct_bitstring=correct_bitstring)\n",
    "    p_err_string = str(p_err).replace(\".\", \"\")[1:]\n",
    "    np.savetxt(os.path.join(\n",
    "                f\"/Users/mistywahl/Documents/GitHub/zne-distance-scaling/notebooks/data_scale_shots_perr_{p_err_string}\",\n",
    "                f\"depth{depth}_distance{d_array[d_ind]}.txt\",\n",
    "            ),\n",
    "            unscaled_results[:, :, result_ind],\n",
    "        )\n",
    "    result_ind += 1"
   ]
  },
  {
   "cell_type": "code",
   "execution_count": 6,
   "metadata": {},
   "outputs": [],
   "source": [
    "ideal_values = 1 * np.ones((num_trials, 1))\n",
    "\n",
    "p_err_string = str(p_err).replace(\".\", \"\")[1:]\n",
    "exp_vals_depth20_d21 = np.loadtxt(os.path.join(\"./ieee-quantum-week/ds_zne/data\", f\"depth{depth}_distance21.txt\"))\n",
    "exp_vals_depth20_d19 = np.loadtxt(os.path.join(\"./ieee-quantum-week/ds_zne/data\", f\"depth{depth}_distance19.txt\"))\n",
    "exp_vals_depth20_d17 = np.loadtxt(os.path.join(\"./ieee-quantum-week/ds_zne/data\", f\"depth{depth}_distance17.txt\"))\n",
    "exp_vals_depth20_d15 = np.loadtxt(os.path.join(\"./ieee-quantum-week/ds_zne/data\", f\"depth{depth}_distance15.txt\"))\n",
    "exp_vals_depth20_d13 = np.loadtxt(os.path.join(\"./ieee-quantum-week/ds_zne/data\", f\"depth{depth}_distance13.txt\"))\n",
    "exp_vals_depth20_d11 = np.loadtxt(os.path.join(\"./ieee-quantum-week/ds_zne/data\", f\"depth{depth}_distance11.txt\"))\n",
    "exp_vals_depth20_d9 = np.loadtxt(os.path.join(\"./ieee-quantum-week/ds_zne/data\", f\"depth{depth}_distance9.txt\"))\n",
    "exp_vals_depth20_d7 = np.loadtxt(os.path.join(\"./ieee-quantum-week/ds_zne/data\", f\"depth{depth}_distance7.txt\"))\n",
    "exp_vals_depth20_d5 = np.loadtxt(os.path.join(\"./ieee-quantum-week/ds_zne/data\", f\"depth{depth}_distance5.txt\"))\n",
    "\n",
    "folding_value_depth20_d21 = np.zeros((num_trials, 1))\n",
    "folding_value_depth20_d19 = np.zeros((num_trials, 1))\n",
    "folding_value_depth20_d17 = np.zeros((num_trials, 1)) \n",
    "folding_value_depth20_d15 = np.zeros((num_trials, 1))\n",
    "folding_value_depth20_d13 = np.zeros((num_trials, 1))\n",
    "folding_value_depth20_d11 = np.zeros((num_trials, 1))\n",
    "\n",
    "\n",
    "for trial in range(num_trials):\n",
    "    folding_value_depth20_d21[trial] = fac.extrapolate(scale_factors, exp_vals_depth20_d21[trial, : -1], order=3)\n",
    "    folding_value_depth20_d19[trial] = fac.extrapolate(scale_factors, exp_vals_depth20_d19[trial, : -1], order=3)\n",
    "    folding_value_depth20_d17[trial] = fac.extrapolate(scale_factors, exp_vals_depth20_d17[trial, : -1], order=3)\n",
    "    folding_value_depth20_d15[trial] = fac.extrapolate(scale_factors, exp_vals_depth20_d15[trial, : -1], order=3)\n",
    "    folding_value_depth20_d13[trial] = fac.extrapolate(scale_factors, exp_vals_depth20_d13[trial, : -1], order=3)\n",
    "    folding_value_depth20_d11[trial] = fac.extrapolate(scale_factors, exp_vals_depth20_d11[trial, : -1], order=3)\n",
    "\n",
    "\n",
    "folding_mean_exp_val_depth20_d21 = np.mean(folding_value_depth20_d21)\n",
    "folding_std_exp_val_depth20_d21 = np.std(folding_value_depth20_d21)\n",
    "folding_error_depth20_d21 = ideal_values - folding_value_depth20_d21\n",
    "\n",
    "folding_mean_exp_val_depth20_d19 = np.mean(folding_value_depth20_d19)\n",
    "folding_std_exp_val_depth20_d19 = np.std(folding_value_depth20_d19)\n",
    "folding_error_depth20_d19 = ideal_values - folding_value_depth20_d19\n",
    "\n",
    "folding_mean_exp_val_depth20_d17 = np.mean(folding_value_depth20_d17)\n",
    "folding_std_exp_val_depth20_d17 = np.std(folding_value_depth20_d17)\n",
    "folding_error_depth20_d17 = ideal_values - folding_value_depth20_d17\n",
    "\n",
    "folding_mean_exp_val_depth20_d15 = np.mean(folding_value_depth20_d15)\n",
    "folding_std_exp_val_depth20_d15 = np.std(folding_value_depth20_d15)\n",
    "folding_error_depth20_d15 = ideal_values - folding_value_depth20_d15\n",
    "\n",
    "folding_mean_exp_val_depth20_d13 = np.mean(folding_value_depth20_d13)\n",
    "folding_std_exp_val_depth20_d13 = np.std(folding_value_depth20_d13)\n",
    "folding_error_depth20_d13 = ideal_values - folding_value_depth20_d13\n",
    "\n",
    "folding_mean_exp_val_depth20_d11 = np.mean(folding_value_depth20_d11)\n",
    "folding_std_exp_val_depth20_d11 = np.std(folding_value_depth20_d11)\n",
    "folding_error_depth20_d11 = ideal_values - folding_value_depth20_d11"
   ]
  },
  {
   "cell_type": "code",
   "execution_count": 46,
   "metadata": {},
   "outputs": [
    {
     "name": "stderr",
     "output_type": "stream",
     "text": [
      "/var/folders/mc/x5spc52d2nq_q5x2xpg3r77m0000gn/T/ipykernel_1282/4114548968.py:2: MatplotlibDeprecationWarning: Support for setting an rcParam that expects a str value to a non-str value is deprecated since 3.5 and support will be removed two minor releases later.\n",
      "  plt.rcParams['text.latex.preamble'] = [r'\\usepackage{mathptmx}']\n"
     ]
    }
   ],
   "source": [
    "# LaTeX setup\n",
    "plt.rcParams['text.latex.preamble'] = [r'\\usepackage{mathptmx}']  \n",
    "plt.rcParams['font.family'] = 'serif'  \n",
    "plt.rcParams['text.usetex'] = True"
   ]
  },
  {
   "cell_type": "code",
   "execution_count": 9,
   "metadata": {},
   "outputs": [
    {
     "name": "stderr",
     "output_type": "stream",
     "text": [
      "WARNING - The PostScript backend does not support transparency; partially transparent artists will be rendered opaque.\n"
     ]
    },
    {
     "data": {
      "image/png": "[encoded data removed]",
      "text/plain": [
       "<Figure size 432x288 with 1 Axes>"
      ]
     },
     "metadata": {
      "needs_background": "light"
     },
     "output_type": "display_data"
    }
   ],
   "source": [
    "distance_indices = [[0, 1, 2, 3], [1, 2, 3, 4], [2, 3, 4, 5], [3, 4, 5, 6], [4, 5, 6, 7], [5, 6, 7, 8]]\n",
    "ds_value_depth20_d21 = np.zeros((num_trials, 1)) \n",
    "ds_value_depth20_d19 = np.zeros((num_trials, 1))\n",
    "ds_value_depth20_d17 = np.zeros((num_trials, 1))\n",
    "ds_value_depth20_d15 = np.zeros((num_trials, 1))\n",
    "ds_value_depth20_d13 = np.zeros((num_trials, 1))\n",
    "ds_value_depth20_d11 = np.zeros((num_trials, 1))\n",
    "\n",
    "distance_scale_factors = [gen_noise_model(p_err, d_array[d]) / gen_noise_model(p_err, d_array[distance_indices[0][0]]) for d in distance_indices[0]]\n",
    "\n",
    "for trial in range(num_trials):\n",
    "\n",
    "    ds_value_depth20_d21[trial] = distance_extrapolation(distance_scale_factors, [exp_vals_depth20_d21[trial, 0], exp_vals_depth20_d19[trial, 0], exp_vals_depth20_d17[trial, 0], exp_vals_depth20_d15[trial, 0]])\n",
    "    ds_value_depth20_d19[trial] = distance_extrapolation(distance_scale_factors, [exp_vals_depth20_d19[trial, 0], exp_vals_depth20_d17[trial, 0], exp_vals_depth20_d15[trial, 0], exp_vals_depth20_d13[trial, 0]])\n",
    "    ds_value_depth20_d17[trial] = distance_extrapolation(distance_scale_factors, [exp_vals_depth20_d17[trial, 0], exp_vals_depth20_d15[trial, 0], exp_vals_depth20_d13[trial, 0], exp_vals_depth20_d11[trial, 0]])\n",
    "    ds_value_depth20_d15[trial] = distance_extrapolation(distance_scale_factors, [exp_vals_depth20_d15[trial, 0], exp_vals_depth20_d13[trial, 0], exp_vals_depth20_d11[trial, 0], exp_vals_depth20_d9[trial, 0]])\n",
    "    ds_value_depth20_d13[trial] = distance_extrapolation(distance_scale_factors, [exp_vals_depth20_d13[trial, 0], exp_vals_depth20_d11[trial, 0], exp_vals_depth20_d9[trial, 0], exp_vals_depth20_d7[trial, 0]])\n",
    "    ds_value_depth20_d11[trial] = distance_extrapolation(distance_scale_factors, [exp_vals_depth20_d11[trial, 0], exp_vals_depth20_d9[trial, 0], exp_vals_depth20_d7[trial, 0], exp_vals_depth20_d5[trial, 0]])\n",
    "\n",
    "\n",
    "ds_mean_exp_val_depth20_d21 = np.mean(ds_value_depth20_d21)\n",
    "ds_std_exp_val_depth20_d21 = np.std(ds_value_depth20_d21)\n",
    "ds_error_depth20_d21 = ideal_values - ds_value_depth20_d21\n",
    "\n",
    "ds_mean_exp_val_depth20_d19 = np.mean(ds_value_depth20_d19)\n",
    "ds_std_exp_val_depth20_d19 = np.std(ds_value_depth20_d19)\n",
    "ds_error_depth20_d19 = ideal_values - ds_value_depth20_d19\n",
    "\n",
    "ds_mean_exp_val_depth20_d17 = np.mean(ds_value_depth20_d17)\n",
    "ds_std_exp_val_depth20_d17 = np.std(ds_value_depth20_d17)\n",
    "ds_error_depth20_d17 = ideal_values - ds_value_depth20_d17\n",
    "\n",
    "ds_mean_exp_val_depth20_d15 = np.mean(ds_value_depth20_d15)\n",
    "ds_std_exp_val_depth20_d15 = np.std(ds_value_depth20_d15)\n",
    "ds_error_depth20_d15 = ideal_values - ds_value_depth20_d15\n",
    "\n",
    "ds_mean_exp_val_depth20_d13 = np.mean(ds_value_depth20_d13)\n",
    "ds_std_exp_val_depth20_d13 = np.std(ds_value_depth20_d13)\n",
    "ds_error_depth20_d13 = ideal_values - ds_value_depth20_d13\n",
    "\n",
    "ds_mean_exp_val_depth20_d11 = np.mean(ds_value_depth20_d11)\n",
    "ds_std_exp_val_depth20_d11 = np.std(ds_value_depth20_d11)\n",
    "ds_error_depth20_d11 = ideal_values - ds_value_depth20_d11\n",
    "\n",
    "## Plot of expectation values for each set of distances\n",
    "plt.errorbar(d_array[0:6], [ds_mean_exp_val_depth20_d21, ds_mean_exp_val_depth20_d19, ds_mean_exp_val_depth20_d17, ds_mean_exp_val_depth20_d15, ds_mean_exp_val_depth20_d13, ds_mean_exp_val_depth20_d11], yerr=[ds_std_exp_val_depth20_d21, ds_std_exp_val_depth20_d19, ds_std_exp_val_depth20_d17, ds_std_exp_val_depth20_d15, ds_std_exp_val_depth20_d13, ds_std_exp_val_depth20_d11], ls='--', label='Distance scaling', lw=2)\n",
    "plt.errorbar(d_array[0:6], [folding_mean_exp_val_depth20_d21, folding_mean_exp_val_depth20_d19, folding_mean_exp_val_depth20_d17, folding_mean_exp_val_depth20_d15, folding_mean_exp_val_depth20_d13, folding_mean_exp_val_depth20_d11], yerr=[folding_std_exp_val_depth20_d21, folding_std_exp_val_depth20_d19, folding_std_exp_val_depth20_d17, folding_std_exp_val_depth20_d15, folding_std_exp_val_depth20_d13, folding_std_exp_val_depth20_d11], ls = '-.',label='Folding')\n",
    "plt.errorbar(d_array[0:6], [np.mean(exp_vals_depth20_d21[:, 4]), np.mean(exp_vals_depth20_d19[:, 4]), np.mean(exp_vals_depth20_d17[:, 4]), np.mean(exp_vals_depth20_d15[:, 4]), np.mean(exp_vals_depth20_d13[:, 4]), np.mean(exp_vals_depth20_d11[:, 4])], yerr=[ np.std(exp_vals_depth20_d21[:, 4]), np.std(exp_vals_depth20_d19[:, 4]), np.std(exp_vals_depth20_d17[:, 4]), np.std(exp_vals_depth20_d15[:, 4]), np.std(exp_vals_depth20_d13[:, 4]), np.std(exp_vals_depth20_d11[:, 4])], label='Unmitigated')\n",
    "\n",
    "import matplotlib.font_manager as font_manager\n",
    "font = font_manager.FontProperties(family='serif', style='normal', size=12)\n",
    "plt.xlabel(r'Maximum code distance, $d_{i,0}$', family='serif', fontsize=16)\n",
    "plt.ylabel(r'Expectation value, $E$', family='serif', fontsize=16)\n",
    "plt.xticks(ticks = [11, 13, 15, 17, 19, 21], family='serif', fontsize=14)\n",
    "plt.yticks(family='serif', fontsize=14)\n",
    "plt.legend(loc='lower right', prop=font)\n",
    "plt.text(10.7, 1.03,'Clifford depth: $m = 20$', family='serif', fontsize=12)\n",
    "plt.text(8.7, 1.13, \"(a)\", weight='bold', fontsize=14, family='serif')\n",
    "plt.savefig(\"./ieee-quantum-week/ds_zne/depth_20_exp_vals.eps\",format = 'eps', bbox_inches=\"tight\")\n",
    "plt.show()\n"
   ]
  },
  {
   "cell_type": "code",
   "execution_count": 15,
   "metadata": {},
   "outputs": [],
   "source": [
    "num_trials = 100\n",
    "\n",
    "base_shots = 10000\n",
    "device_size = 1200\n",
    "p_err=0.006\n",
    "n_qubits = 2\n",
    "correct_bitstring = [0] * n_qubits\n",
    "depth = 30\n",
    "\n",
    "scale_factors = [1, 3, 5, 7]\n",
    "fac = zne.PolyFactory(scale_factors, order=3)\n",
    "\n",
    "d_array = [21, 19, 17, 15, 13, 11, 9, 7, 5]"
   ]
  },
  {
   "cell_type": "code",
   "execution_count": null,
   "metadata": {},
   "outputs": [],
   "source": [
    "circuits = generate_rb_circuits(n_qubits, depth, trials=num_trials)\n",
    "trial_results = np.zeros((num_trials, 5, len(d_array) - 3)) # row: trial, column: scaling technique, page: distance (high to low)\n",
    "for d_ind in range(len(d_array) - 3):\n",
    "    print(f\"On distance {d_array[d_ind]}\") \n",
    "    for trial in range(num_trials):\n",
    "        if trial in np.linspace(0, num_trials, 11):\n",
    "            print(f\"    On trial {trial}\")  \n",
    "        executor = partial(distance_scaled_execute, distance=d_array[d_ind], base_noise_level=p_err, shots=scale_shots(device_size, d_array[d_ind], base_shots, n_qubits), correct_bitstring=correct_bitstring)\n",
    "        fac.run(circuits[trial], executor, scale_noise=fold_global)\n",
    "        trial_results[trial, :-1, d_ind] = fac.get_expectation_values()\n",
    "        trial_results[trial, -1, d_ind] = distance_scaled_execute(circuits[trial], d_array[d_ind], p_err, 4 * scale_shots(device_size, d_array[d_ind], base_shots, n_qubits), correct_bitstring)\n",
    "    p_err_string = str(p_err).replace(\".\", \"\")[1:]\n",
    "    np.savetxt(os.path.join(\n",
    "                f\"/Users/mistywahl/Documents/GitHub/zne-distance-scaling/notebooks/data_scale_shots_perr_{p_err_string}\",\n",
    "                f\"depth{depth}_distance{d_array[d_ind]}.txt\",\n",
    "            ),\n",
    "            trial_results[:, :, d_ind],\n",
    "        )"
   ]
  },
  {
   "cell_type": "code",
   "execution_count": null,
   "metadata": {},
   "outputs": [],
   "source": [
    "unscaled_results = np.zeros((num_trials, 2, 3))\n",
    "result_ind = 0\n",
    "for d_ind in range(len(d_array) - 3, len(d_array)):\n",
    "    print(f\"On distance {d_array[d_ind]}\") \n",
    "    for trial in range(num_trials):\n",
    "        if trial in np.linspace(0, num_trials, 11):\n",
    "            print(f\"   On trial {trial}\") \n",
    "        unscaled_results[trial, 0, result_ind] = distance_scaled_execute(circuits[trial], d_array[d_ind], base_noise_level=p_err, shots=scale_shots(device_size, d_array[d_ind], base_shots, n_qubits), correct_bitstring=correct_bitstring)\n",
    "        unscaled_results[trial, 1, result_ind] = distance_scaled_execute(circuits[trial], d_array[d_ind], base_noise_level=p_err, shots=4 * scale_shots(device_size, d_array[d_ind], base_shots, n_qubits), correct_bitstring=correct_bitstring)\n",
    "    p_err_string = str(p_err).replace(\".\", \"\")[1:]\n",
    "    np.savetxt(os.path.join(\n",
    "                f\"/Users/mistywahl/Documents/GitHub/zne-distance-scaling/notebooks/data_scale_shots_perr_{p_err_string}\",\n",
    "                f\"depth{depth}_distance{d_array[d_ind]}.txt\",\n",
    "            ),\n",
    "            unscaled_results[:, :, result_ind],\n",
    "        )\n",
    "    result_ind += 1"
   ]
  },
  {
   "cell_type": "code",
   "execution_count": 16,
   "metadata": {},
   "outputs": [],
   "source": [
    "ideal_values = 1 * np.ones((num_trials, 1))\n",
    "\n",
    "exp_vals_depth30_d21 = np.loadtxt(os.path.join(\"./ieee-quantum-week/ds_zne/data\", f\"depth{depth}_distance21.txt\"))\n",
    "exp_vals_depth30_d19 = np.loadtxt(os.path.join(\"./ieee-quantum-week/ds_zne/data\", f\"depth{depth}_distance19.txt\"))\n",
    "exp_vals_depth30_d17 = np.loadtxt(os.path.join(\"./ieee-quantum-week/ds_zne/data\", f\"depth{depth}_distance17.txt\"))\n",
    "exp_vals_depth30_d15 = np.loadtxt(os.path.join(\"./ieee-quantum-week/ds_zne/data\", f\"depth{depth}_distance15.txt\"))\n",
    "exp_vals_depth30_d13 = np.loadtxt(os.path.join(\"./ieee-quantum-week/ds_zne/data\", f\"depth{depth}_distance13.txt\"))\n",
    "exp_vals_depth30_d11 = np.loadtxt(os.path.join(\"./ieee-quantum-week/ds_zne/data\", f\"depth{depth}_distance11.txt\"))\n",
    "exp_vals_depth30_d9 = np.loadtxt(os.path.join(\"./ieee-quantum-week/ds_zne/data\", f\"depth{depth}_distance9.txt\"))\n",
    "exp_vals_depth30_d7 = np.loadtxt(os.path.join(\"./ieee-quantum-week/ds_zne/data\", f\"depth{depth}_distance7.txt\"))\n",
    "exp_vals_depth30_d5 = np.loadtxt(os.path.join(\"./ieee-quantum-week/ds_zne/data\", f\"depth{depth}_distance5.txt\"))\n",
    "\n",
    "\n",
    "folding_value_depth30_d21 = np.zeros((num_trials, 1))\n",
    "folding_value_depth30_d19 = np.zeros((num_trials, 1))\n",
    "folding_value_depth30_d17 = np.zeros((num_trials, 1)) \n",
    "folding_value_depth30_d15 = np.zeros((num_trials, 1))\n",
    "folding_value_depth30_d13 = np.zeros((num_trials, 1))\n",
    "folding_value_depth30_d11 = np.zeros((num_trials, 1))\n",
    "\n",
    "\n",
    "for trial in range(num_trials):\n",
    "    folding_value_depth30_d21[trial] = fac.extrapolate(scale_factors, exp_vals_depth30_d21[trial, : -1], order=3)\n",
    "    folding_value_depth30_d19[trial] = fac.extrapolate(scale_factors, exp_vals_depth30_d19[trial, : -1], order=3)\n",
    "    folding_value_depth30_d17[trial] = fac.extrapolate(scale_factors, exp_vals_depth30_d17[trial, : -1], order=3)\n",
    "    folding_value_depth30_d15[trial] = fac.extrapolate(scale_factors, exp_vals_depth30_d15[trial, : -1], order=3)\n",
    "    folding_value_depth30_d13[trial] = fac.extrapolate(scale_factors, exp_vals_depth30_d13[trial, : -1], order=3)\n",
    "    folding_value_depth30_d11[trial] = fac.extrapolate(scale_factors, exp_vals_depth30_d11[trial, : -1], order=3)\n",
    "\n",
    "\n",
    "folding_mean_exp_val_depth30_d21 = np.mean(folding_value_depth30_d21)\n",
    "folding_std_exp_val_depth30_d21 = np.std(folding_value_depth30_d21)\n",
    "folding_error_depth30_d21 = ideal_values - folding_value_depth30_d21\n",
    "\n",
    "folding_mean_exp_val_depth30_d19 = np.mean(folding_value_depth30_d19)\n",
    "folding_std_exp_val_depth30_d19 = np.std(folding_value_depth30_d19)\n",
    "folding_error_depth30_d19 = ideal_values - folding_value_depth30_d19\n",
    "\n",
    "folding_mean_exp_val_depth30_d17 = np.mean(folding_value_depth30_d17)\n",
    "folding_std_exp_val_depth30_d17 = np.std(folding_value_depth30_d17)\n",
    "folding_error_depth30_d17 = ideal_values - folding_value_depth30_d17\n",
    "\n",
    "folding_mean_exp_val_depth30_d15 = np.mean(folding_value_depth30_d15)\n",
    "folding_std_exp_val_depth30_d15 = np.std(folding_value_depth30_d15)\n",
    "folding_error_depth30_d15 = ideal_values - folding_value_depth30_d15\n",
    "\n",
    "folding_mean_exp_val_depth30_d13 = np.mean(folding_value_depth30_d13)\n",
    "folding_std_exp_val_depth30_d13 = np.std(folding_value_depth30_d13)\n",
    "folding_error_depth30_d13 = ideal_values - folding_value_depth30_d13\n",
    "\n",
    "folding_mean_exp_val_depth30_d11 = np.mean(folding_value_depth30_d11)\n",
    "folding_std_exp_val_depth30_d11 = np.std(folding_value_depth30_d11)\n",
    "folding_error_depth30_d11 = ideal_values - folding_value_depth30_d11"
   ]
  },
  {
   "cell_type": "code",
   "execution_count": 17,
   "metadata": {},
   "outputs": [
    {
     "name": "stderr",
     "output_type": "stream",
     "text": [
      "WARNING - The PostScript backend does not support transparency; partially transparent artists will be rendered opaque.\n"
     ]
    },
    {
     "data": {
      "image/png": "[encoded data removed]",
      "text/plain": [
       "<Figure size 432x288 with 1 Axes>"
      ]
     },
     "metadata": {
      "needs_background": "light"
     },
     "output_type": "display_data"
    }
   ],
   "source": [
    "distance_indices = [[0, 1, 2, 3], [1, 2, 3, 4], [2, 3, 4, 5], [3, 4, 5, 6], [4, 5, 6, 7], [5, 6, 7, 8]]\n",
    "ds_value_depth30_d21 = np.zeros((num_trials, 1)) \n",
    "ds_value_depth30_d19 = np.zeros((num_trials, 1))\n",
    "ds_value_depth30_d17 = np.zeros((num_trials, 1))\n",
    "ds_value_depth30_d15 = np.zeros((num_trials, 1))\n",
    "ds_value_depth30_d13 = np.zeros((num_trials, 1))\n",
    "ds_value_depth30_d11 = np.zeros((num_trials, 1))\n",
    "\n",
    "distance_scale_factors = [gen_noise_model(p_err, d_array[d]) / gen_noise_model(p_err, d_array[distance_indices[0][0]]) for d in distance_indices[0]]\n",
    "\n",
    "for trial in range(num_trials):\n",
    "\n",
    "    ds_value_depth30_d21[trial] = distance_extrapolation(distance_scale_factors, [exp_vals_depth30_d21[trial, 0], exp_vals_depth30_d19[trial, 0], exp_vals_depth30_d17[trial, 0], exp_vals_depth30_d15[trial, 0]])\n",
    "    ds_value_depth30_d19[trial] = distance_extrapolation(distance_scale_factors, [exp_vals_depth30_d19[trial, 0], exp_vals_depth30_d17[trial, 0], exp_vals_depth30_d15[trial, 0], exp_vals_depth30_d13[trial, 0]])\n",
    "    ds_value_depth30_d17[trial] = distance_extrapolation(distance_scale_factors, [exp_vals_depth30_d17[trial, 0], exp_vals_depth30_d15[trial, 0], exp_vals_depth30_d13[trial, 0], exp_vals_depth30_d11[trial, 0]])\n",
    "    ds_value_depth30_d15[trial] = distance_extrapolation(distance_scale_factors, [exp_vals_depth30_d15[trial, 0], exp_vals_depth30_d13[trial, 0], exp_vals_depth30_d11[trial, 0], exp_vals_depth30_d9[trial, 0]])\n",
    "    ds_value_depth30_d13[trial] = distance_extrapolation(distance_scale_factors, [exp_vals_depth30_d13[trial, 0], exp_vals_depth30_d11[trial, 0], exp_vals_depth30_d9[trial, 0], exp_vals_depth30_d7[trial, 0]])\n",
    "    ds_value_depth30_d11[trial] = distance_extrapolation(distance_scale_factors, [exp_vals_depth30_d11[trial, 0], exp_vals_depth30_d9[trial, 0], exp_vals_depth30_d7[trial, 0], exp_vals_depth30_d5[trial, 0]])\n",
    "\n",
    "\n",
    "ds_mean_exp_val_depth30_d21 = np.mean(ds_value_depth30_d21)\n",
    "ds_std_exp_val_depth30_d21 = np.std(ds_value_depth30_d21)\n",
    "ds_error_depth30_d21 = ideal_values - ds_value_depth30_d21\n",
    "\n",
    "ds_mean_exp_val_depth30_d19 = np.mean(ds_value_depth30_d19)\n",
    "ds_std_exp_val_depth30_d19 = np.std(ds_value_depth30_d19)\n",
    "ds_error_depth30_d19 = ideal_values - ds_value_depth30_d19\n",
    "\n",
    "ds_mean_exp_val_depth30_d17 = np.mean(ds_value_depth30_d17)\n",
    "ds_std_exp_val_depth30_d17 = np.std(ds_value_depth30_d17)\n",
    "ds_error_depth30_d17 = ideal_values - ds_value_depth30_d17\n",
    "\n",
    "ds_mean_exp_val_depth30_d15 = np.mean(ds_value_depth30_d15)\n",
    "ds_std_exp_val_depth30_d15 = np.std(ds_value_depth30_d15)\n",
    "ds_error_depth30_d15 = ideal_values - ds_value_depth30_d15\n",
    "\n",
    "ds_mean_exp_val_depth30_d13 = np.mean(ds_value_depth30_d13)\n",
    "ds_std_exp_val_depth30_d13 = np.std(ds_value_depth30_d13)\n",
    "ds_error_depth30_d13 = ideal_values - ds_value_depth30_d13\n",
    "\n",
    "ds_mean_exp_val_depth30_d11 = np.mean(ds_value_depth30_d11)\n",
    "ds_std_exp_val_depth30_d11 = np.std(ds_value_depth30_d11)\n",
    "ds_error_depth30_d11 = ideal_values - ds_value_depth30_d11\n",
    "\n",
    "## Plot of expectation values for each set of distances\n",
    "plt.errorbar(d_array[0:6], [ds_mean_exp_val_depth30_d21, ds_mean_exp_val_depth30_d19, ds_mean_exp_val_depth30_d17, ds_mean_exp_val_depth30_d15, ds_mean_exp_val_depth30_d13, ds_mean_exp_val_depth30_d11], yerr=[ds_std_exp_val_depth30_d21, ds_std_exp_val_depth30_d19, ds_std_exp_val_depth30_d17, ds_std_exp_val_depth30_d15, ds_std_exp_val_depth30_d13, ds_std_exp_val_depth30_d11], ls='--', label='Distance scaling', lw=2)\n",
    "plt.errorbar(d_array[0:6], [folding_mean_exp_val_depth30_d21, folding_mean_exp_val_depth30_d19, folding_mean_exp_val_depth30_d17, folding_mean_exp_val_depth30_d15, folding_mean_exp_val_depth30_d13, folding_mean_exp_val_depth30_d11], yerr=[folding_std_exp_val_depth30_d21, folding_std_exp_val_depth30_d19, folding_std_exp_val_depth30_d17, folding_std_exp_val_depth30_d15, folding_std_exp_val_depth30_d13, folding_std_exp_val_depth30_d11], ls = '-.',label='Folding')\n",
    "plt.errorbar(d_array[0:6], [np.mean(exp_vals_depth30_d21[:, 4]), np.mean(exp_vals_depth30_d19[:, 4]), np.mean(exp_vals_depth30_d17[:, 4]), np.mean(exp_vals_depth30_d15[:, 4]), np.mean(exp_vals_depth30_d13[:, 4]), np.mean(exp_vals_depth30_d11[:, 4])], yerr=[np.std(exp_vals_depth30_d21[:, 4]), np.std(exp_vals_depth30_d19[:, 4]), np.std(exp_vals_depth30_d17[:, 4]), np.std(exp_vals_depth30_d15[:, 4]), np.std(exp_vals_depth30_d13[:, 4]), np.std(exp_vals_depth30_d11[:, 4])], label='Unmitigated')\n",
    "\n",
    "import matplotlib.font_manager as font_manager\n",
    "font = font_manager.FontProperties(family='serif', style='normal', size=12)\n",
    "plt.xlabel(r'Maximum code distance, $d_{i,0}$', family='serif', fontsize=16)\n",
    "plt.ylabel(r'Expectation value, $E$', family='serif', fontsize=16)\n",
    "plt.xticks(ticks = [11, 13, 15, 17, 19, 21], family='serif', fontsize=12)\n",
    "plt.yticks(family='serif', fontsize=12)\n",
    "plt.legend(loc='lower right', prop=font)\n",
    "# plt.title(f'Expectation values at depth = {depth}, 100 trials')\n",
    "plt.text(10.7, 1.03,'Clifford depth: $m = 30$', family='serif', fontsize=12)\n",
    "plt.text(8.7, 1.13, \"(b)\", weight='bold', fontsize=14, family='serif')\n",
    "plt.savefig(\"./ieee-quantum-week/ds_zne/depth_30_exp_vals.eps\", format = 'eps', bbox_inches=\"tight\")\n",
    "plt.show()\n"
   ]
  },
  {
   "cell_type": "code",
   "execution_count": 12,
   "metadata": {},
   "outputs": [
    {
     "name": "stderr",
     "output_type": "stream",
     "text": [
      "/var/folders/mc/x5spc52d2nq_q5x2xpg3r77m0000gn/T/ipykernel_1282/3920024954.py:29: UserWarning: FixedFormatter should only be used together with FixedLocator\n",
      "  ax.collections[0].colorbar.set_ticklabels(ticklabels=[0, 10, 20, 30, 40, 50], fontfamily=\"serif\", fontsize=9)\n"
     ]
    },
    {
     "data": {
      "image/png": "[encoded data removed]",
      "text/plain": [
       "<Figure size 432x288 with 2 Axes>"
      ]
     },
     "metadata": {},
     "output_type": "display_data"
    }
   ],
   "source": [
    "import seaborn as sns\n",
    "\n",
    "\n",
    "sns.set_theme(style=\"white\")\n",
    "\n",
    "\n",
    "d = np.linspace(11, 21, 6, dtype=int)\n",
    "d_prime = d - 8 * np.ones(len(d), dtype=int)\n",
    "inv_d_prime_sq = 1 / (d_prime)**2\n",
    "\n",
    "cores = np.floor(np.outer((d**2), (inv_d_prime_sq))).transpose()\n",
    "\n",
    "# Generate a mask for the upper triangle\n",
    "mask = np.zeros_like(cores, dtype=bool)\n",
    "\n",
    "mask[-1, 0] = True\n",
    "\n",
    "\n",
    "# Generate a custom diverging colormap\n",
    "cmap = sns.diverging_palette(230, 20, as_cmap=True)\n",
    "ax = sns.heatmap(cores, cmap=cmap, mask=mask, vmin=0, vmax=50,\n",
    "             square=True, linewidths=.5, cbar_kws={\"shrink\": .75}, annot=True, annot_kws={\"fontfamily\": \"serif\", \"fontsize\": 9})\n",
    "ax.invert_yaxis()\n",
    "ax.set_xticklabels(d, fontfamily=\"serif\", fontsize=11)\n",
    "ax.set_yticklabels(d_prime, fontfamily=\"serif\", fontsize=11)\n",
    "ax.set_xlabel(r\"Code distance, $d$\", fontfamily=\"serif\", fontsize=14)\n",
    "ax.set_ylabel(r\"Reduced code distance, $d'$\", fontfamily=\"serif\", fontsize=14)\n",
    "ax.collections[0].colorbar.set_label(r\"Virtual cores, $N_{VC}$\", fontfamily=\"serif\", labelpad=8, fontsize=14)\n",
    "ax.collections[0].colorbar.set_ticklabels(ticklabels=[0, 10, 20, 30, 40, 50], fontfamily=\"serif\", fontsize=9)\n",
    "plt.savefig(\"heatmap.eps\", format = 'eps', bbox_inches=\"tight\")\n"
   ]
  },
  {
   "cell_type": "code",
   "execution_count": 18,
   "metadata": {},
   "outputs": [],
   "source": [
    "ds_vals20 = np.array([ds_mean_exp_val_depth20_d21, ds_mean_exp_val_depth20_d19, ds_mean_exp_val_depth20_d17, ds_mean_exp_val_depth20_d15, ds_mean_exp_val_depth20_d13, ds_mean_exp_val_depth20_d11]) \n",
    "unmitigated_vals20 = np.array([np.mean(exp_vals_depth20_d21[:, 4]), np.mean(exp_vals_depth20_d19[:, 4]), np.mean(exp_vals_depth20_d17[:, 4]), np.mean(exp_vals_depth20_d15[:, 4]), np.mean(exp_vals_depth20_d13[:, 4]), np.mean(exp_vals_depth20_d11[:, 4])])"
   ]
  },
  {
   "cell_type": "code",
   "execution_count": 19,
   "metadata": {},
   "outputs": [],
   "source": [
    "folding_vals20 = np.array([folding_mean_exp_val_depth20_d21, folding_mean_exp_val_depth20_d19, folding_mean_exp_val_depth20_d17, folding_mean_exp_val_depth20_d15, folding_mean_exp_val_depth20_d13, folding_mean_exp_val_depth20_d11])"
   ]
  },
  {
   "cell_type": "code",
   "execution_count": 20,
   "metadata": {},
   "outputs": [],
   "source": [
    "ds_error20 = np.abs(np.ones((len(ds_vals20))) - ds_vals20)\n",
    "folding_error20 = np.abs(np.ones((len(folding_vals20))) - folding_vals20)"
   ]
  },
  {
   "cell_type": "code",
   "execution_count": 21,
   "metadata": {},
   "outputs": [
    {
     "data": {
      "text/plain": [
       "array([-0.00322708, -0.00693182, -0.03570561, -0.08058442, -0.15506858,\n",
       "       -0.20554115])"
      ]
     },
     "execution_count": 21,
     "metadata": {},
     "output_type": "execute_result"
    }
   ],
   "source": [
    "delta_error20 = ds_error20 - folding_error20\n",
    "delta_error20"
   ]
  },
  {
   "cell_type": "code",
   "execution_count": 22,
   "metadata": {},
   "outputs": [
    {
     "data": {
      "text/plain": [
       "array([-0.63672502, -0.63049885, -0.89229507, -0.71851742, -0.62718286,\n",
       "       -0.47740719])"
      ]
     },
     "execution_count": 22,
     "metadata": {},
     "output_type": "execute_result"
    }
   ],
   "source": [
    "np.divide(delta_error20, folding_error20)"
   ]
  },
  {
   "cell_type": "code",
   "execution_count": 23,
   "metadata": {},
   "outputs": [
    {
     "data": {
      "text/plain": [
       "array([-0.96438885, -0.94576068, -0.85819087, -0.7052121 , -0.49613545,\n",
       "       -0.27873276])"
      ]
     },
     "execution_count": 23,
     "metadata": {},
     "output_type": "execute_result"
    }
   ],
   "source": [
    "unmitigated_error20 = np.abs(np.ones(len(unmitigated_vals20))-unmitigated_vals20)\n",
    "folding_improvement20 = np.divide((folding_error20 - unmitigated_error20), unmitigated_error20)\n",
    "folding_improvement20"
   ]
  },
  {
   "cell_type": "code",
   "execution_count": 24,
   "metadata": {},
   "outputs": [
    {
     "data": {
      "text/plain": [
       "array([-0.98706336, -0.97995851, -0.98472646, -0.91702234, -0.81215066,\n",
       "       -0.62307093])"
      ]
     },
     "execution_count": 24,
     "metadata": {},
     "output_type": "execute_result"
    }
   ],
   "source": [
    "ds_improvement20 = np.divide((ds_error20 - unmitigated_error20), unmitigated_error20)\n",
    "ds_improvement20"
   ]
  },
  {
   "cell_type": "code",
   "execution_count": 25,
   "metadata": {},
   "outputs": [
    {
     "data": {
      "text/plain": [
       "array([404.75273569, 249.31201547, 162.68189409, 123.2825153 ,\n",
       "        86.67656952, 154.77303404])"
      ]
     },
     "execution_count": 25,
     "metadata": {},
     "output_type": "execute_result"
    }
   ],
   "source": [
    "ds_std20 = [ds_std_exp_val_depth20_d21, ds_std_exp_val_depth20_d19, ds_std_exp_val_depth20_d17, ds_std_exp_val_depth20_d15, ds_std_exp_val_depth20_d13, ds_std_exp_val_depth20_d11]\n",
    "folding_std20 = [folding_std_exp_val_depth20_d21, folding_std_exp_val_depth20_d19, folding_std_exp_val_depth20_d17, folding_std_exp_val_depth20_d15, folding_std_exp_val_depth20_d13, folding_std_exp_val_depth20_d11]\n",
    "unmitigated_std20 = [np.std(exp_vals_depth20_d21[:, 4]), np.std(exp_vals_depth20_d19[:, 4]), np.std(exp_vals_depth20_d17[:, 4]), np.std(exp_vals_depth20_d15[:, 4]), np.std(exp_vals_depth20_d13[:, 4]), np.std(exp_vals_depth20_d11[:, 4])]\n",
    "\n",
    "100 * np.divide(np.array(ds_std20) - np.array(unmitigated_std20), np.array(unmitigated_std20))"
   ]
  },
  {
   "cell_type": "code",
   "execution_count": 26,
   "metadata": {},
   "outputs": [
    {
     "data": {
      "text/plain": [
       "array([6.14951561, 4.21976524, 2.93193864, 2.26273633, 2.77526713,\n",
       "       4.02360993])"
      ]
     },
     "execution_count": 26,
     "metadata": {},
     "output_type": "execute_result"
    }
   ],
   "source": [
    "ds_std30 = [ds_std_exp_val_depth30_d21, ds_std_exp_val_depth30_d19, ds_std_exp_val_depth30_d17, ds_std_exp_val_depth30_d15, ds_std_exp_val_depth30_d13, ds_std_exp_val_depth30_d11]\n",
    "folding_std30 = [folding_std_exp_val_depth30_d21, folding_std_exp_val_depth30_d19, folding_std_exp_val_depth30_d17, folding_std_exp_val_depth30_d15, folding_std_exp_val_depth30_d13, folding_std_exp_val_depth30_d11]\n",
    "unmitigated_std30 = [np.std(exp_vals_depth30_d21[:, 4]), np.std(exp_vals_depth30_d19[:, 4]), np.std(exp_vals_depth30_d17[:, 4]), np.std(exp_vals_depth30_d15[:, 4]), np.std(exp_vals_depth30_d13[:, 4]), np.std(exp_vals_depth30_d11[:, 4])]\n",
    "\n",
    "np.divide(np.array(ds_std30), np.array(unmitigated_std30))"
   ]
  },
  {
   "cell_type": "code",
   "execution_count": 27,
   "metadata": {},
   "outputs": [
    {
     "data": {
      "text/plain": [
       "array([3.94143964, 3.18580168, 2.38881678, 1.37052001, 1.36678569,\n",
       "       1.78978168])"
      ]
     },
     "execution_count": 27,
     "metadata": {},
     "output_type": "execute_result"
    }
   ],
   "source": [
    "np.divide(np.array(ds_std30), np.array(folding_std30))"
   ]
  },
  {
   "cell_type": "code",
   "execution_count": 28,
   "metadata": {},
   "outputs": [
    {
     "data": {
      "text/plain": [
       "array([3.64460008, 2.78640537, 2.99826351, 1.92079907, 1.24984931,\n",
       "       1.26706423])"
      ]
     },
     "execution_count": 28,
     "metadata": {},
     "output_type": "execute_result"
    }
   ],
   "source": [
    "np.divide(np.array(ds_std20), np.array(folding_std20))"
   ]
  },
  {
   "cell_type": "code",
   "execution_count": 34,
   "metadata": {},
   "outputs": [
    {
     "data": {
      "text/plain": [
       "array([ 0.0052899 , -0.03468021, -0.07790229, -0.15739532, -0.20392586,\n",
       "       -0.17341338])"
      ]
     },
     "execution_count": 34,
     "metadata": {},
     "output_type": "execute_result"
    }
   ],
   "source": [
    "ds_vals30 = np.array([ds_mean_exp_val_depth30_d21, ds_mean_exp_val_depth30_d19, ds_mean_exp_val_depth30_d17, ds_mean_exp_val_depth30_d15, ds_mean_exp_val_depth30_d13, ds_mean_exp_val_depth30_d11]) \n",
    "unmitigated_vals30 = np.array([np.mean(exp_vals_depth30_d21[:, 4]), np.mean(exp_vals_depth30_d19[:, 4]), np.mean(exp_vals_depth30_d17[:, 4]), np.mean(exp_vals_depth30_d15[:, 4]), np.mean(exp_vals_depth30_d13[:, 4]), np.mean(exp_vals_depth30_d11[:, 4])])\n",
    "folding_vals30 = np.array([folding_mean_exp_val_depth30_d21, folding_mean_exp_val_depth30_d19, folding_mean_exp_val_depth30_d17, folding_mean_exp_val_depth30_d15, folding_mean_exp_val_depth30_d13, folding_mean_exp_val_depth30_d11])\n",
    "folding_error30 = np.abs(np.ones((len(folding_vals30))) - folding_vals30)\n",
    "ds_error30 = np.abs(np.ones((len(ds_vals30))) - ds_vals30)\n",
    "delta_error30 = ds_error30 - folding_error30\n",
    "delta_error30"
   ]
  },
  {
   "cell_type": "code",
   "execution_count": 35,
   "metadata": {},
   "outputs": [
    {
     "data": {
      "text/plain": [
       "array([ 0.38423437, -0.91576399, -0.71388533, -0.64382997, -0.47809254,\n",
       "       -0.29015647])"
      ]
     },
     "execution_count": 35,
     "metadata": {},
     "output_type": "execute_result"
    }
   ],
   "source": [
    "np.divide(delta_error30, folding_error30)"
   ]
  },
  {
   "cell_type": "code",
   "execution_count": 39,
   "metadata": {},
   "outputs": [
    {
     "data": {
      "text/plain": [
       "array([-0.93158669, -0.86493771, -0.71164702, -0.49947208, -0.28342428,\n",
       "       -0.12046068])"
      ]
     },
     "execution_count": 39,
     "metadata": {},
     "output_type": "execute_result"
    }
   ],
   "source": [
    "unmitigated_error30 = np.abs(np.ones(len(unmitigated_vals30))-unmitigated_vals30)\n",
    "folding_improvement30 = np.divide((folding_error30 - unmitigated_error30), unmitigated_error30)\n",
    "folding_improvement30"
   ]
  },
  {
   "cell_type": "code",
   "execution_count": 41,
   "metadata": {},
   "outputs": [
    {
     "data": {
      "text/plain": [
       "array([-0.90529994, -0.98862289, -0.91749798, -0.82172696, -0.62601379,\n",
       "       -0.3756647 ])"
      ]
     },
     "execution_count": 41,
     "metadata": {},
     "output_type": "execute_result"
    }
   ],
   "source": [
    "ds_improvement30 = np.divide((ds_error30 - unmitigated_error30), unmitigated_error30)\n",
    "ds_improvement30"
   ]
  }
 ],
 "metadata": {
  "interpreter": {
   "hash": "992c44e14009e3623432b51dfa0ccb8179e6507fb1569359de12ac98f26b40e8"
  },
  "kernelspec": {
   "display_name": "Python 3.8.13 64-bit ('venv_mitiq_learnrepspec')",
   "language": "python",
   "name": "python3"
  },
  "language_info": {
   "codemirror_mode": {
    "name": "ipython",
    "version": 3
   },
   "file_extension": ".py",
   "mimetype": "text/x-python",
   "name": "python",
   "nbconvert_exporter": "python",
   "pygments_lexer": "ipython3",
   "version": "3.8.13"
  },
  "orig_nbformat": 4
 },
 "nbformat": 4,
 "nbformat_minor": 2
}
