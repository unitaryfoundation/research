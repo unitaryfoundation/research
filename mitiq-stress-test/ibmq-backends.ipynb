{
 "cells": [
  {
   "cell_type": "markdown",
   "id": "9f3d1f75",
   "metadata": {},
   "source": [
    "# Error mitigation on IBMQ backends with Qiskit\n"
   ]
  },
  {
   "cell_type": "code",
   "execution_count": 2,
   "id": "acb7eb76",
   "metadata": {},
   "outputs": [],
   "source": [
    "import qiskit\n",
    "from qiskit_aer import QasmSimulator\n",
    "from qiskit_ibm_runtime import SamplerV2 as Sampler, QiskitRuntimeService\n",
    "\n",
    "from mitiq import zne\n",
    "from mitiq.interface.mitiq_qiskit.qiskit_utils import initialized_depolarizing_noise"
   ]
  },
  {
   "cell_type": "markdown",
   "id": "e0a69a70",
   "metadata": {},
   "source": [
    "## Setup: Defining a circuit\n"
   ]
  },
  {
   "cell_type": "code",
   "execution_count": 39,
   "id": "4a973c42",
   "metadata": {},
   "outputs": [
    {
     "name": "stdout",
     "output_type": "stream",
     "text": [
      "                                                                     »\n",
      "q_0: ────────────────────────────────────────────────────────────────»\n",
      "                                                                     »\n",
      "q_1: ────────────────────────────────────────────────────────────────»\n",
      "                                    ┌───┐┌──────────┐┌───┐┌─────────┐»\n",
      "q_2: ───────────────────────────────┤ X ├┤ Rz(-π/4) ├┤ X ├┤ Rz(π/4) ├»\n",
      "     ┌─────────┐┌───────┐┌─────────┐└─┬─┘└──────────┘└─┬─┘├─────────┤»\n",
      "q_3: ┤ Ry(π/2) ├┤ Rx(π) ├┤ Rz(π/4) ├──■────────────────■──┤ Rz(π/8) ├»\n",
      "     └─────────┘└───────┘└─────────┘                      └─────────┘»\n",
      "«                                                                  ┌───┐»\n",
      "«q_0: ─────────────────────────────────────────────────────────────┤ X ├»\n",
      "«                ┌───┐┌──────────┐           ┌───┐┌─────────┐ ┌───┐└─┬─┘»\n",
      "«q_1: ───────────┤ X ├┤ Rz(-π/8) ├───────────┤ X ├┤ Rz(π/8) ├─┤ X ├──┼──»\n",
      "«     ┌─────────┐└─┬─┘└┬───────┬─┘┌─────────┐└─┬─┘└─────────┘ └─┬─┘  │  »\n",
      "«q_2: ┤ Ry(π/2) ├──┼───┤ Rx(π) ├──┤ Rz(π/4) ├──┼────────────────■────┼──»\n",
      "«     └─────────┘  │   └───────┘  └─────────┘  │  ┌──────────┐       │  »\n",
      "«q_3: ─────────────■───────────────────────────■──┤ Rz(π/16) ├───────■──»\n",
      "«                                                 └──────────┘          »\n",
      "«     ┌───────────┐     ┌───┐┌──────────┐           ┌───┐┌──────────┐»\n",
      "«q_0: ┤ Rz(-π/16) ├─────┤ X ├┤ Rz(π/16) ├───────────┤ X ├┤ Rz(-π/8) ├»\n",
      "«     └┬──────────┤┌───┐└─┬─┘├─────────┬┘┌─────────┐└─┬─┘└┬───────┬─┘»\n",
      "«q_1: ─┤ Rz(-π/4) ├┤ X ├──┼──┤ Rz(π/4) ├─┤ Ry(π/2) ├──┼───┤ Rx(π) ├──»\n",
      "«      └──────────┘└─┬─┘  │  ├─────────┤ └─────────┘  │   └───────┘  »\n",
      "«q_2: ───────────────■────┼──┤ Rz(π/8) ├──────────────■──────────────»\n",
      "«                         │  └─────────┘                             »\n",
      "«q_3: ────────────────────■──────────────────────────────────────────»\n",
      "«                                                                    »\n",
      "«                ┌───┐┌─────────┐┌───┐┌──────────┐┌───┐┌─────────┐┌─────────┐»\n",
      "«q_0: ───────────┤ X ├┤ Rz(π/8) ├┤ X ├┤ Rz(-π/4) ├┤ X ├┤ Rz(π/4) ├┤ Ry(π/2) ├»\n",
      "«     ┌─────────┐└─┬─┘└─────────┘└─┬─┘└──────────┘└─┬─┘└─────────┘└──┬───┬──┘»\n",
      "«q_1: ┤ Rz(π/4) ├──┼───────────────■────────────────■───────■────────┤ X ├───»\n",
      "«     └─────────┘  │                                      ┌─┴─┐      └─┬─┘   »\n",
      "«q_2: ─────────────■──────────────────────────────────────┤ X ├────────■─────»\n",
      "«                                                         └───┘              »\n",
      "«q_3: ───────────────────────────────────────────────────────────────────────»\n",
      "«                                                                            »\n",
      "«     ┌───────┐     ┌───┐     \n",
      "«q_0: ┤ Rx(π) ├──■──┤ X ├──■──\n",
      "«     └───────┘  │  └─┬─┘  │  \n",
      "«q_1: ────■──────┼────┼────┼──\n",
      "«       ┌─┴─┐    │    │    │  \n",
      "«q_2: ──┤ X ├────┼────┼────┼──\n",
      "«       └───┘  ┌─┴─┐  │  ┌─┴─┐\n",
      "«q_3: ─────────┤ X ├──■──┤ X ├\n",
      "«              └───┘     └───┘\n",
      "44\n"
     ]
    }
   ],
   "source": [
    "num_qubits = 4  # 9, 16, 25, 36, 49 (available through benchpress)\n",
    "# qasm_path = f\"square-heisenberg-{num_qubits}.qasm\"\n",
    "qasm_path = f\"qft-{num_qubits}.qasm\"\n",
    "circuit = qiskit.qasm2.load(qasm_path)\n",
    "# circuit.measure_all()\n",
    "\n",
    "print(circuit)\n",
    "print(len(circuit))"
   ]
  },
  {
   "cell_type": "markdown",
   "id": "b0f7f1ac",
   "metadata": {},
   "source": [
    "We will use the probability of the ground state as our observable to mitigate, the expectation value of which should\n",
    "evaluate to one in the noiseless setting.\n",
    "\n",
    "## High-level usage\n",
    "\n",
    "To use Mitiq with just a few lines of code, we simply need to define a function which inputs a circuit and outputs\n",
    "the expectation value to mitigate. This function will:\n",
    "\n",
    "1. [Optionally] Add measurement(s) to the circuit.\n",
    "2. Run the circuit.\n",
    "3. Convert from raw measurement statistics (or a different output format) to an expectation value.\n",
    "\n",
    "We define this function in the following code block. Because we are using IBMQ backends, we first load our account.\n"
   ]
  },
  {
   "cell_type": "markdown",
   "id": "f8e21775",
   "metadata": {},
   "source": [
    "**Note:** Using an IBM quantum computer requires a valid IBMQ account. See <https://quantum-computing.ibm.com/>\n",
    "for instructions to create an account, save credentials, and see online quantum computers.\n"
   ]
  },
  {
   "cell_type": "code",
   "execution_count": 35,
   "id": "7446183d",
   "metadata": {},
   "outputs": [
    {
     "name": "stdout",
     "output_type": "stream",
     "text": [
      "<IBMBackend('ibm_kyiv')>\n"
     ]
    }
   ],
   "source": [
    "from qiskit_aer.noise import NoiseModel\n",
    "\n",
    "\n",
    "# HARDWARE\n",
    "service = QiskitRuntimeService()\n",
    "hard_backend = service.least_busy(operational=True, simulator=False)\n",
    "print(hard_backend)\n",
    "\n",
    "\n",
    "# SIMULATOR\n",
    "noise_model = NoiseModel.from_backend(hard_backend)\n",
    "sim_backend = QasmSimulator(method=\"density_matrix\", noise_model=noise_model)\n",
    "\n",
    "sim_backend_ideal = QasmSimulator()"
   ]
  },
  {
   "cell_type": "code",
   "execution_count": 45,
   "id": "4ae47424",
   "metadata": {},
   "outputs": [],
   "source": [
    "def ibmq_executor(circuit: qiskit.QuantumCircuit, backend, shots: int = 1024) -> float:\n",
    "    \"\"\"Returns the expectation value to be mitigated.\n",
    "\n",
    "    Args:\n",
    "        circuit: Circuit to run (assumes no measurements).\n",
    "        shots: Number of times to execute the circuit to compute the expectation value.\n",
    "    \"\"\"\n",
    "    # Transpile the circuit so it can be properly run\n",
    "    exec_circuit = qiskit.transpile(\n",
    "        circuit,\n",
    "        backend=backend,\n",
    "        basis_gates=None,\n",
    "        optimization_level=0,  # Important to preserve folded gates.\n",
    "    )\n",
    "    exec_circuit.measure_active()\n",
    "\n",
    "    num_qubits = circuit.num_qubits\n",
    "    print(\"num_qubits\", num_qubits)\n",
    "    # Run the circuit\n",
    "    sampler = Sampler(mode=backend)\n",
    "    job = sampler.run([exec_circuit], shots=shots)\n",
    "\n",
    "    # Convert from raw measurement counts to the expectation value\n",
    "    counts = job.result()[0].data.measure.get_counts()\n",
    "    print(counts)\n",
    "    ground_state = \"0\" * num_qubits\n",
    "    expectation_value = counts.get(ground_state, 0.0) / shots\n",
    "    return expectation_value\n",
    "\n",
    "\n",
    "def qasm_simulator_executor(circuit: qiskit.QuantumCircuit, shots: int = 1024) -> float:\n",
    "    \"\"\"Returns the expectation value to be mitigated.\n",
    "\n",
    "    Args:\n",
    "        circuit: Circuit to run.\n",
    "        shots: Number of times to execute the circuit to compute the expectation value.\n",
    "    \"\"\"\n",
    "    # Transpile the circuit so it can be properly run\n",
    "    exec_circuit = qiskit.transpile(\n",
    "        circuit,\n",
    "        backend=QasmSimulator(),\n",
    "        basis_gates=None,\n",
    "        optimization_level=0,  # Important to preserve folded gates.\n",
    "    )\n",
    "    exec_circuit.measure_active()\n",
    "\n",
    "    num_qubits = exec_circuit.num_qubits\n",
    "    # Run the circuit\n",
    "    sampler = Sampler(mode=QasmSimulator())\n",
    "    job = sampler.run([exec_circuit], shots=shots)\n",
    "\n",
    "    # Convert from raw measurement counts to the expectation value\n",
    "    # counts = job.result().get_counts()\n",
    "    counts = job.result()[0].data.measure.get_counts()\n",
    "    ground_state = \"0\" * num_qubits\n",
    "    expectation_value = counts.get(ground_state, 0.0) / shots\n",
    "    return expectation_value"
   ]
  },
  {
   "cell_type": "code",
   "execution_count": 46,
   "id": "428d19a1",
   "metadata": {},
   "outputs": [
    {
     "name": "stdout",
     "output_type": "stream",
     "text": [
      "num_qubits 4\n",
      "{'1100': 81, '1000': 59, '1111': 63, '1010': 65, '0100': 62, '0000': 72, '0111': 71, '0011': 60, '1001': 76, '0110': 55, '0101': 63, '1101': 61, '0001': 52, '1011': 58, '0010': 58, '1110': 68}\n",
      "num_qubits 4\n",
      "{'1011': 77, '1111': 68, '1110': 73, '1000': 61, '1101': 73, '0010': 54, '1100': 63, '0000': 58, '0100': 79, '0110': 47, '0101': 55, '1001': 63, '0011': 59, '0001': 74, '0111': 59, '1010': 61}\n",
      "num_qubits 4\n",
      "{'1011': 65, '0001': 53, '1000': 58, '1111': 74, '1100': 76, '1110': 56, '0101': 102, '0100': 110, '0111': 49, '1101': 80, '0110': 47, '0010': 45, '1001': 63, '0000': 60, '1010': 48, '0011': 38}\n",
      "ideal: 0.0703125\n",
      "noisy: 0.056640625\n",
      "hardware: 0.05859375\n"
     ]
    }
   ],
   "source": [
    "ideal = ibmq_executor(circuit, sim_backend_ideal)\n",
    "noisy = ibmq_executor(circuit, sim_backend)\n",
    "noisy_hardware = ibmq_executor(circuit, hard_backend)\n",
    "\n",
    "print(\"ideal:\", ideal)\n",
    "print(\"noisy:\", noisy)\n",
    "print(\"hardware:\", noisy_hardware)"
   ]
  },
  {
   "cell_type": "code",
   "execution_count": 17,
   "id": "5601a2a2",
   "metadata": {},
   "outputs": [
    {
     "data": {
      "text/plain": [
       "<IBMBackend('ibm_kyiv')>"
      ]
     },
     "execution_count": 17,
     "metadata": {},
     "output_type": "execute_result"
    }
   ],
   "source": [
    "backend"
   ]
  },
  {
   "cell_type": "markdown",
   "id": "26d37095",
   "metadata": {},
   "source": [
    "At this point, the circuit can be executed to return a mitigated expectation value by running {func}`zne.execute_with_zne`,\n",
    "as follows.\n"
   ]
  },
  {
   "cell_type": "code",
   "execution_count": 58,
   "id": "75eeab96",
   "metadata": {},
   "outputs": [
    {
     "name": "stdout",
     "output_type": "stream",
     "text": [
      "num_qubits 4\n",
      "{'0101': 81, '0110': 115, '0001': 59, '1001': 58, '1101': 83, '0111': 30, '0011': 58, '1010': 51, '0010': 88, '0100': 88, '1110': 45, '1000': 63, '1011': 45, '1100': 63, '1111': 42, '0000': 55}\n",
      "num_qubits 4\n",
      "{'1001': 61, '0010': 109, '0000': 63, '0011': 49, '1000': 52, '0110': 104, '1100': 65, '1010': 47, '0101': 78, '0100': 80, '1111': 38, '1011': 52, '1101': 57, '0111': 60, '1110': 54, '0001': 55}\n",
      "num_qubits 4\n",
      "{'0100': 98, '0010': 83, '0000': 108, '0001': 53, '1101': 42, '1000': 70, '1010': 86, '0110': 96, '1111': 37, '1100': 72, '0101': 63, '1110': 56, '1011': 48, '0011': 34, '1001': 42, '0111': 36}\n",
      "num_qubits 4\n",
      "{'0101': 51, '0001': 53, '0000': 104, '0111': 59, '1010': 56, '0110': 79, '0010': 124, '1110': 45, '1011': 45, '1100': 69, '1000': 93, '0100': 89, '1101': 38, '1001': 26, '1111': 28, '0011': 65}\n",
      "num_qubits 4\n",
      "{'0001': 47, '0000': 78, '1001': 47, '0010': 63, '1100': 63, '0111': 62, '1110': 92, '1011': 29, '1101': 41, '1000': 63, '0110': 84, '0101': 92, '1111': 38, '0011': 62, '1010': 54, '0100': 109}\n",
      "num_qubits 4\n",
      "{'1000': 50, '0110': 96, '0011': 56, '0101': 82, '1011': 14, '0111': 89, '0100': 115, '0010': 67, '1110': 83, '1010': 68, '0001': 73, '1101': 39, '1001': 27, '1100': 86, '0000': 53, '1111': 26}\n",
      "num_qubits 4\n",
      "{'0110': 97, '0011': 46, '0101': 99, '1101': 86, '0111': 76, '0100': 144, '0010': 62, '1100': 80, '0001': 41, '0000': 42, '1111': 51, '1010': 46, '1110': 65, '1001': 31, '1000': 45, '1011': 13}\n",
      "num_qubits 4\n",
      "{'1000': 56, '1101': 90, '1100': 94, '1110': 61, '0110': 64, '1111': 51, '0100': 118, '0101': 86, '0000': 71, '0001': 68, '0010': 52, '1011': 40, '1010': 35, '0011': 43, '0111': 53, '1001': 42}\n",
      "num_qubits 4\n",
      "{'0011': 79, '0110': 83, '1110': 70, '1101': 36, '0001': 104, '0101': 69, '0010': 62, '0100': 67, '0000': 57, '1100': 111, '1010': 73, '1011': 35, '0111': 48, '1111': 37, '1000': 56, '1001': 37}\n",
      "num_qubits 4\n",
      "{'1111': 84, '1000': 75, '1110': 65, '0100': 118, '0000': 52, '0011': 51, '1010': 86, '1100': 66, '0101': 71, '0110': 64, '1101': 77, '1011': 48, '1001': 40, '0111': 64, '0001': 45, '0010': 18}\n",
      "num_qubits 4\n",
      "{'1100': 97, '0011': 44, '0101': 150, '0100': 111, '1101': 91, '0001': 60, '1001': 24, '0000': 51, '1111': 62, '0110': 64, '1000': 37, '1110': 51, '0010': 48, '0111': 76, '1011': 20, '1010': 38}\n",
      "num_qubits 4\n",
      "{'1010': 47, '0010': 109, '1001': 42, '1111': 38, '0000': 107, '0100': 63, '1011': 54, '1110': 68, '0111': 43, '1100': 81, '0110': 125, '0101': 51, '0011': 40, '1101': 36, '0001': 56, '1000': 64}\n",
      "num_qubits 4\n",
      "{'1000': 105, '0001': 75, '1010': 61, '0100': 79, '0010': 74, '0101': 61, '1111': 51, '0000': 41, '1100': 131, '1110': 55, '0111': 66, '0011': 57, '0110': 67, '1001': 41, '1101': 44, '1011': 16}\n",
      "num_qubits 4\n",
      "{'1110': 58, '0001': 100, '1010': 49, '0000': 52, '0111': 79, '1001': 67, '1101': 75, '1011': 52, '0101': 78, '0010': 71, '0100': 48, '1000': 55, '0011': 81, '0110': 41, '1100': 49, '1111': 69}\n",
      "num_qubits 4\n",
      "{'0001': 66, '0100': 53, '0011': 118, '0111': 88, '1011': 63, '0000': 83, '1100': 30, '1010': 67, '0101': 34, '1101': 26, '0110': 92, '0010': 132, '1111': 46, '1000': 51, '1001': 29, '1110': 46}\n",
      "num_qubits 4\n",
      "{'1000': 54, '0000': 129, '1011': 53, '1100': 39, '0011': 52, '0110': 123, '0100': 117, '0111': 43, '1111': 41, '0001': 38, '1110': 42, '0010': 108, '1010': 56, '0101': 55, '1101': 39, '1001': 35}\n",
      "num_qubits 4\n",
      "{'1011': 58, '0001': 52, '0111': 54, '0101': 81, '1111': 81, '0000': 82, '1000': 54, '1110': 40, '0100': 98, '0011': 49, '1001': 62, '0110': 62, '0010': 70, '1010': 37, '1100': 62, '1101': 82}\n",
      "num_qubits 4\n",
      "{'1100': 94, '1011': 52, '0101': 75, '1010': 82, '1001': 68, '1110': 60, '0110': 60, '1000': 93, '0111': 61, '0000': 40, '0011': 57, '1101': 75, '1111': 56, '0100': 43, '0010': 56, '0001': 52}\n",
      "num_qubits 4\n",
      "{'1110': 73, '0010': 75, '0111': 37, '1111': 66, '1001': 41, '1010': 58, '0000': 71, '1011': 17, '1100': 112, '0001': 63, '0101': 62, '0011': 59, '0100': 62, '0110': 59, '1101': 98, '1000': 71}\n",
      "num_qubits 4\n",
      "{'0011': 61, '0010': 72, '0111': 39, '0110': 25, '1001': 77, '0100': 66, '1110': 34, '0101': 87, '1011': 49, '1111': 29, '1000': 104, '0001': 145, '0000': 103, '1010': 47, '1100': 48, '1101': 38}\n",
      "num_qubits 4\n",
      "{'0100': 112, '0110': 140, '0101': 103, '0001': 47, '1111': 30, '0010': 105, '0000': 64, '1010': 52, '1100': 55, '1110': 57, '0111': 56, '1000': 38, '1101': 67, '1001': 43, '1011': 24, '0011': 31}\n",
      "num_qubits 4\n",
      "{'1110': 48, '0101': 53, '0100': 77, '1001': 46, '0001': 78, '1000': 57, '0110': 98, '0000': 119, '1111': 40, '1100': 49, '0011': 60, '0111': 66, '0010': 114, '1011': 51, '1101': 28, '1010': 40}\n",
      "num_qubits 4\n",
      "{'0011': 47, '0100': 70, '0010': 116, '1000': 86, '0101': 40, '1110': 68, '0110': 93, '1010': 129, '0001': 75, '1001': 44, '1111': 23, '1100': 42, '1011': 18, '0000': 104, '0111': 35, '1101': 34}\n",
      "num_qubits 4\n",
      "{'0100': 92, '1001': 57, '0000': 99, '1110': 69, '0001': 95, '1111': 36, '0110': 71, '0101': 75, '0010': 43, '1000': 124, '1010': 36, '1100': 110, '1101': 30, '0111': 43, '1011': 19, '0011': 25}\n",
      "num_qubits 4\n",
      "{'0001': 91, '1000': 70, '0110': 76, '0000': 79, '1101': 44, '1011': 36, '1110': 59, '0011': 93, '0100': 79, '1100': 49, '1010': 89, '0101': 61, '0010': 90, '1001': 45, '0111': 44, '1111': 19}\n",
      "num_qubits 4\n",
      "{'0110': 84, '1101': 58, '1011': 30, '1000': 114, '0101': 86, '0001': 71, '0000': 82, '1001': 59, '1100': 93, '1110': 42, '1111': 45, '0011': 21, '0100': 106, '1010': 41, '0010': 33, '0111': 59}\n",
      "num_qubits 4\n",
      "{'0111': 55, '0011': 35, '0100': 143, '0010': 43, '0000': 64, '1000': 49, '0001': 61, '1010': 44, '0110': 67, '1101': 61, '1110': 46, '0101': 116, '1100': 84, '1011': 41, '1001': 70, '1111': 45}\n",
      "num_qubits 4\n",
      "{'0011': 59, '1111': 35, '0110': 76, '1010': 87, '0001': 53, '0000': 76, '0100': 92, '0010': 88, '1000': 76, '1001': 23, '1100': 93, '1101': 44, '0101': 70, '1011': 26, '0111': 66, '1110': 60}\n",
      "num_qubits 4\n",
      "{'1010': 42, '0100': 91, '0011': 71, '0001': 49, '0010': 39, '1101': 47, '0110': 76, '0101': 87, '0111': 68, '1110': 69, '1111': 104, '1011': 46, '1100': 78, '0000': 70, '1001': 42, '1000': 45}\n",
      "num_qubits 4\n",
      "{'1110': 70, '0100': 47, '1111': 54, '1101': 40, '1100': 47, '1000': 52, '0111': 72, '0101': 67, '0011': 102, '0010': 94, '1011': 74, '0001': 63, '1010': 66, '1001': 48, '0000': 64, '0110': 64}\n",
      "num_qubits 4\n",
      "{'1100': 59, '0110': 97, '0001': 57, '1000': 53, '0111': 71, '1110': 46, '0101': 73, '0100': 84, '0010': 138, '1111': 47, '1011': 33, '1101': 30, '0000': 102, '1010': 65, '0011': 52, '1001': 17}\n",
      "num_qubits 4\n",
      "{'0010': 92, '0000': 89, '0111': 51, '1111': 68, '1110': 48, '0001': 69, '1011': 44, '0110': 110, '1000': 33, '1101': 71, '0101': 61, '1100': 50, '1001': 38, '0100': 102, '1010': 48, '0011': 50}\n",
      "num_qubits 4\n",
      "{'1101': 56, '0110': 80, '1001': 40, '0101': 72, '1011': 39, '1100': 97, '1010': 58, '0000': 69, '1110': 77, '0100': 108, '1111': 50, '0111': 55, '0011': 48, '1000': 51, '0010': 82, '0001': 42}\n",
      "num_qubits 4\n",
      "{'1001': 62, '1101': 51, '0100': 86, '0111': 59, '0101': 75, '0110': 61, '0011': 79, '0001': 42, '1010': 41, '1100': 65, '0000': 89, '1000': 64, '1011': 44, '0010': 96, '1111': 44, '1110': 66}\n",
      "num_qubits 4\n",
      "{'1111': 49, '1010': 113, '0001': 50, '0000': 55, '1101': 54, '1000': 111, '0110': 60, '1011': 54, '1001': 40, '1100': 99, '0100': 40, '0011': 41, '1110': 93, '0111': 55, '0101': 58, '0010': 52}\n",
      "num_qubits 4\n",
      "{'0001': 56, '1010': 52, '0110': 141, '1110': 54, '1111': 19, '1101': 57, '0111': 47, '0000': 65, '1001': 55, '0101': 94, '1000': 58, '0010': 104, '0011': 33, '1100': 57, '0100': 105, '1011': 27}\n",
      "num_qubits 4\n",
      "{'0000': 109, '1000': 86, '1010': 48, '0101': 54, '0010': 104, '1100': 67, '0011': 73, '1111': 34, '1011': 55, '1110': 25, '1101': 39, '0100': 88, '0111': 44, '1001': 66, '0110': 64, '0001': 68}\n",
      "num_qubits 4\n",
      "{'0000': 93, '1010': 39, '1111': 59, '0001': 74, '1001': 66, '0110': 64, '0010': 94, '1011': 53, '0011': 77, '1101': 38, '1100': 37, '0100': 101, '0111': 52, '0101': 69, '1110': 50, '1000': 58}\n",
      "num_qubits 4\n",
      "{'0111': 63, '0010': 144, '0000': 87, '0001': 101, '1001': 36, '1111': 31, '0110': 99, '1000': 46, '0101': 110, '0100': 87, '1010': 36, '0011': 35, '1011': 16, '1100': 54, '1110': 41, '1101': 38}\n",
      "num_qubits 4\n",
      "{'1000': 53, '0101': 56, '1010': 66, '0010': 113, '0110': 60, '0111': 43, '0000': 166, '0100': 92, '0001': 114, '1100': 41, '0011': 82, '1001': 32, '1011': 32, '1110': 42, '1111': 12, '1101': 20}\n",
      "num_qubits 4\n",
      "{'1100': 90, '0000': 87, '0010': 113, '1110': 108, '0110': 67, '0001': 46, '0101': 30, '0100': 87, '1011': 33, '1000': 83, '1001': 49, '1010': 103, '0011': 34, '0111': 33, '1111': 22, '1101': 39}\n",
      "num_qubits 4\n",
      "{'1001': 93, '0111': 96, '1101': 82, '0010': 45, '0001': 139, '0011': 102, '1011': 57, '1111': 49, '0101': 100, '0100': 33, '1110': 31, '0000': 52, '1100': 28, '0110': 20, '1000': 63, '1010': 34}\n",
      "num_qubits 4\n",
      "{'1000': 96, '1001': 45, '0111': 80, '1111': 19, '1010': 89, '0100': 82, '0001': 64, '0101': 134, '0010': 56, '1101': 19, '0000': 41, '0011': 52, '1110': 91, '0110': 89, '1100': 48, '1011': 19}\n",
      "num_qubits 4\n",
      "{'0011': 83, '0001': 108, '1100': 67, '1000': 60, '1111': 40, '1101': 78, '0000': 69, '0110': 34, '0100': 71, '0010': 61, '0111': 82, '1001': 70, '1110': 39, '0101': 87, '1011': 40, '1010': 35}\n",
      "num_qubits 4\n",
      "{'0010': 64, '1011': 53, '0110': 76, '0111': 65, '0101': 61, '0100': 45, '0000': 41, '0001': 50, '1010': 96, '1001': 46, '1000': 147, '1101': 49, '1110': 39, '0011': 52, '1111': 36, '1100': 104}\n",
      "num_qubits 4\n",
      "{'1101': 74, '0101': 71, '1010': 53, '1000': 55, '1110': 50, '1001': 82, '0001': 80, '1111': 31, '1100': 59, '0100': 103, '1011': 37, '0010': 79, '0000': 62, '0111': 49, '0110': 98, '0011': 41}\n",
      "num_qubits 4\n",
      "{'1001': 23, '0100': 133, '1110': 35, '0000': 170, '1111': 42, '0011': 48, '1101': 33, '0110': 83, '0010': 97, '1000': 74, '0111': 45, '1100': 99, '0001': 42, '0101': 37, '1010': 42, '1011': 21}\n",
      "num_qubits 4\n",
      "{'1011': 79, '0011': 90, '0111': 102, '0001': 138, '1101': 91, '0101': 97, '1001': 71, '1100': 66, '1000': 69, '0000': 35, '1111': 44, '0110': 38, '1010': 25, '0010': 22, '1110': 25, '0100': 32}\n",
      "num_qubits 4\n",
      "{'1001': 77, '0111': 101, '0000': 19, '0011': 110, '1000': 53, '0101': 112, '1100': 54, '1101': 103, '0001': 93, '1111': 90, '0110': 26, '1110': 29, '1011': 83, '0010': 26, '1010': 32, '0100': 16}\n",
      "num_qubits 4\n",
      "{'1110': 77, '0011': 57, '1100': 101, '1111': 57, '0010': 87, '0100': 74, '1101': 53, '0110': 105, '0001': 55, '0101': 49, '1010': 64, '1000': 71, '1011': 38, '1001': 34, '0111': 43, '0000': 59}\n",
      "num_qubits 4\n",
      "{'1010': 59, '1100': 72, '0010': 34, '0011': 113, '0000': 66, '1111': 21, '1110': 62, '1000': 79, '0110': 35, '0100': 60, '0111': 126, '0101': 109, '1101': 26, '1001': 28, '0001': 92, '1011': 42}\n",
      "num_qubits 4\n",
      "{'0001': 49, '1101': 104, '1000': 117, '1100': 108, '1110': 101, '0010': 53, '1001': 71, '0110': 41, '0101': 52, '1111': 67, '0000': 30, '0011': 42, '0100': 35, '1010': 86, '1011': 45, '0111': 23}\n",
      "num_qubits 4\n",
      "{'0000': 94, '0101': 55, '0011': 71, '1100': 89, '1010': 79, '0010': 101, '1001': 43, '1000': 97, '1101': 38, '0100': 80, '0111': 52, '1111': 51, '0110': 26, '1011': 38, '0001': 70, '1110': 40}\n",
      "num_qubits 4\n",
      "{'1010': 79, '0111': 65, '0010': 73, '0011': 112, '1011': 52, '0001': 120, '0110': 60, '0000': 78, '0101': 52, '1000': 78, '0100': 63, '1110': 57, '1100': 51, '1101': 21, '1111': 36, '1001': 27}\n",
      "num_qubits 4\n",
      "{'1010': 55, '0000': 98, '0010': 80, '1011': 59, '1001': 75, '1111': 31, '0001': 133, '1000': 82, '0101': 66, '0011': 87, '1100': 46, '0100': 73, '1101': 37, '0110': 32, '0111': 55, '1110': 15}\n",
      "num_qubits 4\n",
      "{'0101': 109, '1100': 50, '1000': 126, '0100': 110, '0001': 111, '0111': 45, '0000': 120, '1001': 76, '1101': 40, '1111': 26, '0110': 41, '1010': 32, '0010': 43, '0011': 38, '1011': 37, '1110': 20}\n",
      "num_qubits 4\n",
      "{'0001': 77, '0000': 109, '0010': 106, '1000': 107, '1101': 45, '0100': 87, '1100': 70, '1111': 21, '1001': 77, '0110': 64, '0101': 68, '1110': 41, '1011': 37, '1010': 71, '0011': 26, '0111': 18}\n",
      "Unmitigated result 0.054\n",
      "Mitigated result -0.001\n"
     ]
    }
   ],
   "source": [
    "from mitiq import lre\n",
    "from functools import partial\n",
    "\n",
    "hardware_executor = partial(ibmq_executor, backend=hard_backend)\n",
    "\n",
    "unmitigated = ibmq_executor(circuit, hard_backend)\n",
    "mitigated = lre.execute_with_lre(\n",
    "    circuit, hardware_executor, degree=3, fold_multiplier=2, num_chunks=5\n",
    ")\n",
    "print(f\"Unmitigated result {unmitigated:.3f}\")\n",
    "print(f\"Mitigated result {mitigated:.3f}\")"
   ]
  },
  {
   "cell_type": "code",
   "execution_count": 59,
   "id": "23842378",
   "metadata": {},
   "outputs": [
    {
     "name": "stdout",
     "output_type": "stream",
     "text": [
      "num_qubits 4\n",
      "{'0111': 58, '0101': 60, '1110': 72, '1010': 63, '1000': 59, '1101': 62, '0100': 68, '0001': 49, '1011': 75, '1111': 73, '0000': 69, '0110': 47, '1100': 83, '0011': 59, '0010': 66, '1001': 61}\n",
      "ideal result 0.0673828125\n"
     ]
    }
   ],
   "source": [
    "print(f\"ideal result {ibmq_executor(circuit, sim_backend_ideal)}\")"
   ]
  },
  {
   "cell_type": "markdown",
   "id": "dc4193fa",
   "metadata": {},
   "source": [
    "As long as a circuit and a function for executing the circuit are defined, the {func}`zne.execute_with_zne` function can\n",
    "be called as above to return zero-noise extrapolated expectation value(s).\n",
    "\n",
    "## Options\n",
    "\n",
    "Different options for noise scaling and extrapolation can be passed into the {func}`zne.execute_with_zne` function.\n",
    "By default, noise is scaled by locally folding gates at random, and the default extrapolation is Richardson.\n",
    "\n",
    "To specify a different extrapolation technique, we can pass a different {class}`.Factory` object to {func}`zne.execute_with_zne`. The\n",
    "following code block shows an example of using linear extrapolation with five different (noise) scale factors.\n"
   ]
  },
  {
   "cell_type": "code",
   "execution_count": 6,
   "id": "a514840d",
   "metadata": {},
   "outputs": [
    {
     "name": "stdout",
     "output_type": "stream",
     "text": [
      "Mitigated result 0.977\n"
     ]
    }
   ],
   "source": [
    "linear_factory = zne.inference.LinearFactory(scale_factors=[1.0, 1.5, 2.0, 2.5, 3.0])\n",
    "mitigated = zne.execute_with_zne(circuit, ibmq_executor, factory=linear_factory)\n",
    "print(f\"Mitigated result {mitigated:.3f}\")"
   ]
  },
  {
   "cell_type": "markdown",
   "id": "22126ddb",
   "metadata": {},
   "source": [
    "To specify a different noise scaling method, we can pass a different function for the argument `scale_noise`. This\n",
    "function should input a circuit and scale factor and return a circuit. The following code block shows an example of\n",
    "scaling noise by global folding (instead of local folding, the default behavior for\n",
    "{func}`zne.execute_with_zne`).\n"
   ]
  },
  {
   "cell_type": "code",
   "execution_count": 7,
   "id": "163c4885",
   "metadata": {},
   "outputs": [
    {
     "name": "stdout",
     "output_type": "stream",
     "text": [
      "Mitigated result 0.962\n"
     ]
    }
   ],
   "source": [
    "mitigated = zne.execute_with_zne(\n",
    "    circuit, ibmq_executor, scale_noise=zne.scaling.fold_global\n",
    ")\n",
    "print(f\"Mitigated result {mitigated:.3f}\")"
   ]
  },
  {
   "cell_type": "markdown",
   "id": "c6a10ab9",
   "metadata": {},
   "source": [
    "Any different combination of noise scaling and extrapolation technique can be passed as arguments to\n",
    "{func}`zne.execute_with_zne`.\n",
    "\n",
    "## Lower-level usage\n",
    "\n",
    "Here, we give more detailed usage of the Mitiq library which mimics what happens in the call to\n",
    "{func}`zne.execute_with_zne` in the previous example. In addition to showing more of the Mitiq library, this\n",
    "example explains the code in the previous section in more detail.\n",
    "\n",
    "First, we define factors to scale the circuit length by and fold the circuit using the `fold_gates_at_random`\n",
    "local folding method.\n"
   ]
  },
  {
   "cell_type": "code",
   "execution_count": 8,
   "id": "15976e4c",
   "metadata": {},
   "outputs": [
    {
     "name": "stdout",
     "output_type": "stream",
     "text": [
      "Number of gates of folded circuit 0 scaled by: 1.000\n",
      "Number of gates of folded circuit 1 scaled by: 1.364\n",
      "Number of gates of folded circuit 2 scaled by: 1.909\n",
      "Number of gates of folded circuit 3 scaled by: 2.273\n",
      "Number of gates of folded circuit 4 scaled by: 2.818\n"
     ]
    }
   ],
   "source": [
    "scale_factors = [1.0, 1.5, 2.0, 2.5, 3.0]\n",
    "folded_circuits = [\n",
    "    zne.scaling.fold_gates_at_random(circuit, scale) for scale in scale_factors\n",
    "]\n",
    "\n",
    "# Check that the circuit depth is (approximately) scaled as expected\n",
    "for j, c in enumerate(folded_circuits):\n",
    "    print(\n",
    "        f\"Number of gates of folded circuit {j} scaled by: {len(c) / len(circuit):.3f}\"\n",
    "    )"
   ]
  },
  {
   "cell_type": "markdown",
   "id": "32664179",
   "metadata": {},
   "source": [
    "For a noiseless simulation, the expectation of this observable should be 1.0 because our circuit compiles to the identity.\n",
    "For a noisy simulation, the value will be smaller than one. Because folding introduces more gates and thus more noise,\n",
    "the expectation value will decrease as the length (scale factor) of the folded circuits increase. By fitting this to\n",
    "a curve, we can extrapolate to the zero-noise limit and obtain a better estimate.\n",
    "\n",
    "Below we execute the folded circuits using the `backend` defined at the start of this example.\n"
   ]
  },
  {
   "cell_type": "code",
   "execution_count": 9,
   "id": "e2761728",
   "metadata": {},
   "outputs": [],
   "source": [
    "shots = 8192\n",
    "\n",
    "# Transpile the circuit so it can be properly run\n",
    "exec_circuit = qiskit.transpile(\n",
    "    folded_circuits,\n",
    "    backend=backend,\n",
    "    basis_gates=noise_model.basis_gates if noise_model else None,\n",
    "    optimization_level=0,  # Important to preserve folded gates.\n",
    ")\n",
    "\n",
    "# Run the circuit\n",
    "job = backend.run(exec_circuit, shots=shots)"
   ]
  },
  {
   "cell_type": "markdown",
   "id": "71190faf",
   "metadata": {},
   "source": [
    "**Note:** We set the `optimization_level=0` to prevent any compilation by Qiskit transpilers.\n",
    "\n",
    "Once the job has finished executing, we can convert the raw measurement statistics to observable values by running the\n",
    "following code block.\n"
   ]
  },
  {
   "cell_type": "code",
   "execution_count": 10,
   "id": "16eab1e5",
   "metadata": {},
   "outputs": [
    {
     "name": "stdout",
     "output_type": "stream",
     "text": [
      "Expectation values:\n",
      "[0.9044189453125, 0.877197265625, 0.8328857421875, 0.810546875, 0.76708984375]\n"
     ]
    }
   ],
   "source": [
    "all_counts = [job.result().get_counts(i) for i in range(len(folded_circuits))]\n",
    "expectation_values = [counts.get(\"0\") / shots for counts in all_counts]\n",
    "print(f\"Expectation values:\\n{expectation_values}\")"
   ]
  },
  {
   "cell_type": "markdown",
   "id": "3bb1900b",
   "metadata": {},
   "source": [
    "We can now see the unmitigated observable value by printing the first element of `expectation_values`. (This value\n",
    "corresponds to a circuit with scale factor one, i.e., the original circuit.)\n"
   ]
  },
  {
   "cell_type": "code",
   "execution_count": 11,
   "id": "e59f9f4b",
   "metadata": {},
   "outputs": [
    {
     "name": "stdout",
     "output_type": "stream",
     "text": [
      "Unmitigated expectation value: 0.904\n"
     ]
    }
   ],
   "source": [
    "print(\"Unmitigated expectation value:\", round(expectation_values[0], 3))"
   ]
  },
  {
   "cell_type": "markdown",
   "id": "9fb5b137",
   "metadata": {},
   "source": [
    "Now we can use the static `extrapolate` method of {class}`zne.inference.Factory` objects to extrapolate to the zero-noise limit. Below we use an exponential fit and print out the extrapolated zero-noise value.\n"
   ]
  },
  {
   "cell_type": "code",
   "execution_count": 12,
   "id": "2f179f57",
   "metadata": {},
   "outputs": [
    {
     "name": "stdout",
     "output_type": "stream",
     "text": [
      "Extrapolated zero-noise value: 1.002\n"
     ]
    }
   ],
   "source": [
    "zero_noise_value = zne.ExpFactory.extrapolate(\n",
    "    scale_factors, expectation_values, asymptote=0.5\n",
    ")\n",
    "print(f\"Extrapolated zero-noise value:\", round(zero_noise_value, 3))"
   ]
  }
 ],
 "metadata": {
  "jupytext": {
   "text_representation": {
    "extension": ".md",
    "format_name": "myst",
    "format_version": 0.13,
    "jupytext_version": "1.16.1"
   }
  },
  "kernelspec": {
   "display_name": "mitiq-hardware",
   "language": "python",
   "name": "python3"
  },
  "language_info": {
   "codemirror_mode": {
    "name": "ipython",
    "version": 3
   },
   "file_extension": ".py",
   "mimetype": "text/x-python",
   "name": "python",
   "nbconvert_exporter": "python",
   "pygments_lexer": "ipython3",
   "version": "3.12.8"
  },
  "source_map": [
   12,
   24,
   31,
   35,
   37,
   41,
   45,
   52,
   70,
   75,
   112,
   117,
   122,
   137,
   141,
   148,
   151,
   166,
   176,
   185,
   198,
   206,
   210,
   215,
   217,
   221
  ]
 },
 "nbformat": 4,
 "nbformat_minor": 5
}
