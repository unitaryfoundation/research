{
 "cells": [
  {
   "cell_type": "markdown",
   "metadata": {},
   "source": [
    "# LRE on Hardware"
   ]
  },
  {
   "cell_type": "markdown",
   "metadata": {},
   "source": [
    "## Executor and Backend Setup\n",
    "\n",
    "First import all required libraries and modules."
   ]
  },
  {
   "cell_type": "code",
   "execution_count": 1,
   "metadata": {},
   "outputs": [],
   "source": [
    "import json\n",
    "import pandas as pd\n",
    "import os\n",
    "import time\n",
    "import matplotlib.pyplot as plt\n",
    "import numpy as np\n",
    "\n",
    "from functools import partial\n",
    "import qiskit\n",
    "from qiskit_aer import QasmSimulator\n",
    "from qiskit_aer import AerSimulator\n",
    "from qiskit_ibm_runtime import SamplerV2 as Sampler, QiskitRuntimeService\n",
    "from qiskit_aer.noise import NoiseModel\n",
    "\n",
    "import cache_utils\n",
    "\n",
    "from mitiq import lre\n",
    "from mitiq.interface.mitiq_qiskit.qiskit_utils import initialized_depolarizing_noise\n",
    "from mitiq.lre.multivariate_scaling.layerwise_folding import _get_num_layers_without_measurements"
   ]
  },
  {
   "cell_type": "markdown",
   "metadata": {},
   "source": [
    "Define an executor "
   ]
  },
  {
   "cell_type": "code",
   "execution_count": 2,
   "metadata": {},
   "outputs": [],
   "source": [
    "def ibmq_executor(circuit: qiskit.QuantumCircuit, backend, shots: int = 100) -> float:\n",
    "    \"\"\"Returns the expectation value to be mitigated.\n",
    "\n",
    "    Args:\n",
    "        circuit: Circuit to run (assumes no measurements).\n",
    "        shots: Number of times to execute the circuit to compute the expectation value.\n",
    "    \"\"\"\n",
    "    # Transpile the circuit so it can be properly run\n",
    "    exec_circuit = qiskit.transpile(\n",
    "        circuit,\n",
    "        backend=backend,\n",
    "        basis_gates=None,\n",
    "        optimization_level=0,  # Important to preserve folded gates.\n",
    "    )\n",
    "    exec_circuit.measure_active()\n",
    "\n",
    "    num_qubits = circuit.num_qubits\n",
    "\n",
    "    # Run the circuit\n",
    "    sampler = Sampler(mode=backend)\n",
    "    job = sampler.run([exec_circuit], shots=shots)\n",
    "\n",
    "    # Convert from raw measurement counts to the expectation value\n",
    "    counts = job.result()[0].data.measure.get_counts()\n",
    "    ground_state = \"0\" * num_qubits\n",
    "    expectation_value = counts.get(ground_state, 0.0) / shots\n",
    "    return expectation_value"
   ]
  },
  {
   "cell_type": "code",
   "execution_count": 3,
   "metadata": {},
   "outputs": [
    {
     "name": "stdout",
     "output_type": "stream",
     "text": [
      "<IBMBackend('ibm_sherbrooke')>\n"
     ]
    }
   ],
   "source": [
    "#################################################\n",
    "# HARDWARE\n",
    "#################################################\n",
    "service = QiskitRuntimeService()\n",
    "# hard_backend = service.least_busy(operational=True, simulator=False)\n",
    "hard_backend = service.backend(\"ibm_sherbrooke\")\n",
    "print(hard_backend)\n",
    "hardware_executor = partial(ibmq_executor, backend=hard_backend)\n",
    "\n",
    "#################################################\n",
    "# SIMULATOR\n",
    "#################################################\n",
    "noise_model = NoiseModel.from_backend(hard_backend)\n",
    "sim_backend = AerSimulator.from_backend(hard_backend)\n",
    "\n",
    "# old_sim_backend = QasmSimulator(method=\"density_matrix\", noise_model=noise_model)\n",
    "# new_sim_backend = AerSimulator(method=\"density_matrix\", noise_model=noise_model)\n",
    "\n",
    "sim_backend_ideal = QasmSimulator()\n",
    "simulator_executor = partial(ibmq_executor, backend=sim_backend)"
   ]
  },
  {
   "cell_type": "markdown",
   "metadata": {},
   "source": [
    "## Hyperparameter Tuning\n",
    "\n",
    "First step is to do tests on simulators for hyperparamter tuning. With LRE, the primary paramters that can be adjusted are `degree` and `fold_multiplier`. Due to performance, it has been noted that `num_chunks` will also be critical for testing."
   ]
  },
  {
   "cell_type": "markdown",
   "metadata": {},
   "source": [
    "### Manual Example for testing"
   ]
  },
  {
   "cell_type": "code",
   "execution_count": 4,
   "metadata": {},
   "outputs": [
    {
     "name": "stdout",
     "output_type": "stream",
     "text": [
      "ideal=1.000 unmitigated=0.710\n"
     ]
    }
   ],
   "source": [
    "num_qubits = 4 # 9, 16, 25, 36, 49 (available through benchpress)\n",
    "qasm_filename = f\"square-heisenberg-{num_qubits}\"\n",
    "# qasm_filename = f\"qft-{num_qubits}\"\n",
    "circuit = qiskit.qasm2.load(f\"{qasm_filename}.qasm\")\n",
    "\n",
    "CIRCUIT_NAME = qasm_filename\n",
    "DEGREE = 3\n",
    "FOLD_MULTIPLIER = 2\n",
    "NUM_CHUNKS = 0\n",
    "\n",
    "ideal = ibmq_executor(circuit, sim_backend_ideal)\n",
    "unmitigated = ibmq_executor(circuit, sim_backend)\n",
    "# new_unmitigated = ibmq_executor(circuit, new_sim_backend)\n",
    "# old_unmitigated = ibmq_executor(circuit, old_sim_backend)\n",
    "\n",
    "\n",
    "\n",
    "mitigated = lre.execute_with_lre(\n",
    "    circuit, simulator_executor, degree=1, fold_multiplier=1, num_chunks=6\n",
    ")\n",
    "\n",
    "\n",
    "print(f\"ideal={ideal:.3f} unmitigated={unmitigated:.3f}\")\n",
    "# print(f\"ideal={ideal:.3f} unmitigated={unmitigated:.3f} mitigiated={mitigated:.3f}\")\n",
    "\n",
    "#################################################\n",
    "# save ideal(time = 0.0) and unmitigated(time = 1.0)\n",
    "#################################################\n",
    "ideal_res = [ qasm_filename, sim_backend.name, ideal, 0, 0, 0, 0]\n",
    "unmitigated_res = [ qasm_filename, sim_backend.name, unmitigated, 0, 0, 0, 1]\n",
    "# cache_utils.save_result(ideal_res)\n",
    "# cache_utils.save_result(unmitigated_res)\n"
   ]
  },
  {
   "cell_type": "code",
   "execution_count": 6,
   "metadata": {},
   "outputs": [],
   "source": [
    "mitigated = lre.execute_with_lre(\n",
    "    circuit, simulator_executor, degree=1, fold_multiplier=1, num_chunks=7\n",
    ")"
   ]
  },
  {
   "cell_type": "code",
   "execution_count": null,
   "metadata": {},
   "outputs": [],
   "source": [
    "df = pd.read_csv('results/cached_results.csv')\n",
    "df = df.sort_values(by=[\"circuit\", \"backend\", \"fold_multiplier\"])\n",
    "df"
   ]
  },
  {
   "cell_type": "code",
   "execution_count": null,
   "metadata": {},
   "outputs": [],
   "source": [
    "cache_res = [\n",
    "                   qasm_filename,\n",
    "                   sim_backend.name,\n",
    "                   np.nan,\n",
    "                   0,\n",
    "                   0,\n",
    "                   0,\n",
    "                   99999 \n",
    "                ]\n",
    "cache_utils.save_result(cache_res)"
   ]
  },
  {
   "cell_type": "code",
   "execution_count": null,
   "metadata": {},
   "outputs": [],
   "source": [
    "print(circuit)\n",
    "print(len(circuit))"
   ]
  },
  {
   "cell_type": "markdown",
   "metadata": {},
   "source": [
    "### Automated Example with Saving Results\n",
    "\n",
    "First setup the parameters to test including: degree, fold_multiplier, and num_chunks."
   ]
  },
  {
   "cell_type": "code",
   "execution_count": 7,
   "metadata": {},
   "outputs": [],
   "source": [
    "MAX_DEGREE = 10\n",
    "MAX_FOLD_MULTIPLIER = 2 \n",
    "MAX_NUM_CHUNKS = 10 \n",
    "\n",
    "# num_qubits = [4, 9, 16, 25, 36, 49]\n",
    "num_qubits = [4]\n",
    "qasm_filenames = [f\"square-heisenberg-{num_qubit}\" for num_qubit in num_qubits]\n",
    "# qasm_filenames = [f\"qft-{num_qubit}\" for num_qubit in num_qubits]\n",
    "\n",
    "# Setup all of the different values/circuits to test\n",
    "circuits = [qiskit.qasm2.load(f\"{qasm_filename}.qasm\") for qasm_filename in qasm_filenames]\n",
    "degrees = list(range(1,MAX_DEGREE+1))\n",
    "fold_multipliers = list(range(1, MAX_FOLD_MULTIPLIER+1))\n",
    "num_chunks = list(range(1, MAX_NUM_CHUNKS+1))\n"
   ]
  },
  {
   "cell_type": "markdown",
   "metadata": {},
   "source": [
    "Run experiments on a noisy simulator to get results and store them into a results/cached_results.csv for later analysis."
   ]
  },
  {
   "cell_type": "code",
   "execution_count": null,
   "metadata": {},
   "outputs": [
    {
     "name": "stderr",
     "output_type": "stream",
     "text": [
      "Exception ignored in: <bound method IPythonKernel._clean_thread_parent_frames of <ipykernel.ipkernel.IPythonKernel object at 0x1204b5dc0>>\n",
      "Traceback (most recent call last):\n",
      "  File \"/Users/briangoldsmith/anaconda3/envs/mitiqMain/lib/python3.12/site-packages/ipykernel/ipkernel.py\", line 775, in _clean_thread_parent_frames\n",
      "    def _clean_thread_parent_frames(\n",
      "\n",
      "KeyboardInterrupt: \n"
     ]
    }
   ],
   "source": [
    "for i in range(len(circuits)):\n",
    "    circuit = circuits[i]\n",
    "    for fold_multiplier in fold_multipliers:\n",
    "        for degree in degrees:\n",
    "            for num_chunk in num_chunks:\n",
    "                if num_chunk >= len(circuit):\n",
    "                    print(f\"NUM_CHUNKS: fold={fold_multiplier} degree={degree} num_chunk={num_chunk} lenght={len(circuit)}\")\n",
    "                    break\n",
    "                t0 = time.time()\n",
    "                try:\n",
    "                    res = lre.execute_with_lre(circuit, simulator_executor, degree=degree, fold_multiplier=fold_multiplier, num_chunks=num_chunk)\n",
    "                except RuntimeWarning as w:\n",
    "                    print(f\"RUNTIME degree={degree} fold_multiplier={fold_multiplier} num_chunks={num_chunks}: {w}\")\n",
    "                    break\n",
    "                except ValueError as e:\n",
    "                    print(f\"VALUEERROR: {e}\")\n",
    "                    if \"Determinant of sample matrix cannot be calculated as the matrix is too large\" in str(e):\n",
    "                        t0 = time.time()-t0\n",
    "                        cache_res = [\n",
    "                            qasm_filenames[i],\n",
    "                            sim_backend.name,\n",
    "                            np.nan,\n",
    "                            degree,\n",
    "                            fold_multiplier,\n",
    "                            num_chunk,\n",
    "                            t0\n",
    "                        ]\n",
    "                        cache_utils.save_result(cache_res)\n",
    "\n",
    "                        break  # Go to the next iteration of the loop\n",
    "                    else:  # Re-raise if it's a different ValueError\n",
    "                        raise  # Important: Don't silently ignore other ValueErrors!\n",
    "                except Exception as e: #Catch other exceptions\n",
    "                    print(f\"EXCEPTION {e}\")\n",
    "                    raise #Reraise the exception\n",
    "\n",
    "                t0 = time.time()-t0\n",
    "                cache_res = [\n",
    "                   qasm_filenames[i],\n",
    "                   sim_backend.name,\n",
    "                   res,\n",
    "                   degree,\n",
    "                   fold_multiplier,\n",
    "                   num_chunk,\n",
    "                   t0\n",
    "                ]\n",
    "                cache_utils.save_result(cache_res)"
   ]
  },
  {
   "cell_type": "code",
   "execution_count": null,
   "metadata": {},
   "outputs": [],
   "source": []
  },
  {
   "cell_type": "code",
   "execution_count": null,
   "metadata": {},
   "outputs": [],
   "source": [
    "# Read from CSV results\n",
    "file_name = 'results/cached_results.csv'\n",
    "df = pd.read_csv(file_name)\n",
    "df.sort_values(by=[\"circuit, result\"])\n",
    "squareh_4 = df.loc[(df[\"circuit\"] == \"square-heisenberg-4\") & (df[\"backend\"] == \"aer_simulator_from(ibm_sherbrooke)\")]\n",
    "degrees = squareh_4[\"degree\"]\n",
    "fold_multipliers = squareh_4[\"fold_multiplier\"]\n",
    "num_chunks = squareh_4[\"num_chunks\"]\n",
    "results = squareh_4[\"result\"]\n",
    "\n",
    "plt.figure(figsize=(8,6))\n",
    "scatter = plt.scatter(degrees, fold_multipliers, c=num_chunks, cmap=\"viridis\", s = (1-results)*100)\n",
    "\n",
    "plt.xlabel(\"degree\")\n",
    "plt.ylabel(\"fold_multiplier\")\n",
    "plt.title(\"Hyperparameter tuning for LRE for square-heisenberg-4\")\n",
    "plt.colorbar(scatter, label=\"num_chunks\")\n",
    "\n",
    "plt.grid(True)\n",
    "plt.tight_layout()\n",
    "plt.show()"
   ]
  },
  {
   "cell_type": "code",
   "execution_count": null,
   "metadata": {},
   "outputs": [],
   "source": [
    "squareh_4.loc[squareh_4[\"result\"] = ideal - squareh_4[\"result\"]"
   ]
  },
  {
   "cell_type": "code",
   "execution_count": null,
   "metadata": {},
   "outputs": [],
   "source": [
    "squareh_4"
   ]
  },
  {
   "cell_type": "code",
   "execution_count": null,
   "metadata": {},
   "outputs": [],
   "source": []
  }
 ],
 "metadata": {
  "kernelspec": {
   "display_name": "mitiqMain",
   "language": "python",
   "name": "python3"
  },
  "language_info": {
   "codemirror_mode": {
    "name": "ipython",
    "version": 3
   },
   "file_extension": ".py",
   "mimetype": "text/x-python",
   "name": "python",
   "nbconvert_exporter": "python",
   "pygments_lexer": "ipython3",
   "version": "3.12.7"
  }
 },
 "nbformat": 4,
 "nbformat_minor": 2
}
