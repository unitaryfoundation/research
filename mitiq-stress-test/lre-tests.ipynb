{
 "cells": [
  {
   "cell_type": "markdown",
   "metadata": {},
   "source": [
    "# LRE on Hardware\n",
    "\n",
    "This is a notebook for testing LRE on IBM Hardware"
   ]
  },
  {
   "cell_type": "markdown",
   "metadata": {},
   "source": [
    "## Executor and Backend Setup\n",
    "\n",
    "First import all required libraries and modules."
   ]
  },
  {
   "cell_type": "code",
   "execution_count": 6,
   "metadata": {},
   "outputs": [],
   "source": [
    "import json\n",
    "import pandas as pd\n",
    "import os\n",
    "from datetime import date\n",
    "import time\n",
    "import matplotlib.pyplot as plt\n",
    "import numpy as np\n",
    "from typing import List\n",
    "\n",
    "from functools import partial\n",
    "import qiskit\n",
    "from qiskit_aer import QasmSimulator\n",
    "from qiskit_aer import AerSimulator\n",
    "from qiskit_ibm_runtime import SamplerV2 as Sampler, QiskitRuntimeService\n",
    "from qiskit_aer.noise import NoiseModel\n",
    "\n",
    "import cache_utils\n",
    "\n",
    "from mitiq import lre, zne, Executor\n",
    "from mitiq.interface.mitiq_qiskit.qiskit_utils import initialized_depolarizing_noise\n",
    "from mitiq.lre.multivariate_scaling.layerwise_folding import _get_num_layers_without_measurements"
   ]
  },
  {
   "cell_type": "markdown",
   "metadata": {},
   "source": [
    "Define an executor that processes circuits serially."
   ]
  },
  {
   "cell_type": "code",
   "execution_count": 7,
   "metadata": {},
   "outputs": [],
   "source": [
    "def ibmq_executor(circuit: qiskit.QuantumCircuit, backend, shots: int = 1000) -> float:\n",
    "    \"\"\"Returns the expectation value to be mitigated.\n",
    "\n",
    "    Args:\n",
    "        circuit: Circuit to run (assumes no measurements).\n",
    "        shots: Number of times to execute the circuit to compute the expectation value.\n",
    "    \"\"\"\n",
    "    # Transpile the circuit so it can be properly run\n",
    "    exec_circuit = qiskit.transpile(\n",
    "        circuit,\n",
    "        backend=backend,\n",
    "        basis_gates=None,\n",
    "        optimization_level=0,  # Important to preserve folded gates.\n",
    "    )\n",
    "    exec_circuit.measure_active()\n",
    "\n",
    "    num_qubits = circuit.num_qubits\n",
    "\n",
    "    # Run the circuit\n",
    "    sampler = Sampler(mode=backend)\n",
    "    job = sampler.run([exec_circuit], shots=shots)\n",
    "\n",
    "    # Convert from raw measurement counts to the expectation value\n",
    "    counts = job.result()[0].data.measure.get_counts()\n",
    "    ground_state = \"0\" * num_qubits\n",
    "    expectation_value = counts.get(ground_state, 0.0) / shots\n",
    "    return expectation_value"
   ]
  },
  {
   "cell_type": "markdown",
   "metadata": {},
   "source": [
    "Define a batch executor."
   ]
  },
  {
   "cell_type": "code",
   "execution_count": 8,
   "metadata": {},
   "outputs": [],
   "source": [
    "def batched_ibmq_executor(circuits: List[qiskit.QuantumCircuit], backend, shots: int = 1000) -> List[float]:\n",
    "    \"\"\"Returns the expectation value to be mitigated.\n",
    "\n",
    "    Args:\n",
    "        circuit: Circuit to run (assumes no measurements).\n",
    "        shots: Number of times to execute the circuit to compute the expectation value.\n",
    "    \"\"\"\n",
    "\n",
    "    num_qubits = len(circuits[0].qubits)\n",
    "\n",
    "    final_circuits = []\n",
    "    final_exp_values = []\n",
    "\n",
    "    # Transpile the circuit so it can be properly run\n",
    "    for circuit in circuits:\n",
    "        exec_circuit = qiskit.transpile(\n",
    "            circuit,\n",
    "            backend=backend,\n",
    "            basis_gates=None,\n",
    "            optimization_level=0,  # Important to preserve folded gates.\n",
    "        )\n",
    "        exec_circuit.measure_active()\n",
    "        final_circuits.append(exec_circuit)\n",
    "\n",
    "    # Run the circuit\n",
    "    sampler = Sampler(mode=backend)\n",
    "    job = sampler.run(final_circuits, shots=shots)\n",
    "\n",
    "    # Convert from raw measurement counts to the expectation value\n",
    "    for result in job.result():\n",
    "        counts = result.data.measure.get_counts()\n",
    "        ground_state = \"0\" * num_qubits\n",
    "        expectation_value = counts.get(ground_state, 0.0) / shots\n",
    "        final_exp_values.append(expectation_value)\n",
    "    return final_exp_values"
   ]
  },
  {
   "cell_type": "code",
   "execution_count": 9,
   "metadata": {},
   "outputs": [
    {
     "name": "stdout",
     "output_type": "stream",
     "text": [
      "<IBMBackend('ibm_sherbrooke')>\n"
     ]
    }
   ],
   "source": [
    "#################################################\n",
    "# HARDWARE\n",
    "#################################################\n",
    "service = QiskitRuntimeService()\n",
    "hard_backend = service.least_busy(operational=True, simulator=False)\n",
    "# hard_backend = service.backend(\"ibm_sherbrooke\")\n",
    "print(hard_backend)\n",
    "hardware_executor = partial(ibmq_executor, backend=hard_backend)\n",
    "\n",
    "\n",
    "#################################################\n",
    "# SIMULATOR\n",
    "#################################################\n",
    "noise_model = NoiseModel.from_backend(hard_backend)\n",
    "sim_backend = AerSimulator.from_backend(hard_backend)\n",
    "simulator_executor = partial(ibmq_executor, backend=sim_backend)\n",
    "partial_batched = partial(batched_ibmq_executor, backend=sim_backend)\n",
    "batched_simulator_executor = Executor(partial_batched) # default max_batched_size= 75\n",
    "\n",
    "# old_sim_backend = QasmSimulator(method=\"density_matrix\", noise_model=noise_model)\n",
    "# new_sim_backend = AerSimulator(method=\"density_matrix\", noise_model=noise_model)\n",
    "\n",
    "sim_backend_ideal = QasmSimulator()"
   ]
  },
  {
   "cell_type": "code",
   "execution_count": null,
   "metadata": {},
   "outputs": [],
   "source": [
    "batched_simulator_executor.can_batch"
   ]
  },
  {
   "cell_type": "markdown",
   "metadata": {},
   "source": []
  },
  {
   "cell_type": "markdown",
   "metadata": {},
   "source": [
    "## Hyperparameter Tuning\n",
    "\n",
    "First step is to do tests on simulators for hyperparamter tuning. With LRE, the primary paramters that can be adjusted are `degree` and `fold_multiplier`. Due to performance, it has been noted that `num_chunks` will also be critical for testing."
   ]
  },
  {
   "cell_type": "markdown",
   "metadata": {},
   "source": [
    "### Manual Example for testing"
   ]
  },
  {
   "cell_type": "code",
   "execution_count": 12,
   "metadata": {},
   "outputs": [
    {
     "name": "stderr",
     "output_type": "stream",
     "text": [
      "/Users/briangoldsmith/anaconda3/envs/mitiqMain/lib/python3.12/site-packages/numpy/linalg/linalg.py:2180: RuntimeWarning: overflow encountered in det\n",
      "  r = _umath_linalg.det(a, signature=signature)\n"
     ]
    },
    {
     "ename": "ValueError",
     "evalue": "Determinant of sample matrix cannot be calculated as the matrix is too large. Consider chunking your input circuit. ",
     "output_type": "error",
     "traceback": [
      "\u001b[0;31m---------------------------------------------------------------------------\u001b[0m",
      "\u001b[0;31mValueError\u001b[0m                                Traceback (most recent call last)",
      "Cell \u001b[0;32mIn[12], line 18\u001b[0m\n\u001b[1;32m     12\u001b[0m unmitigated \u001b[38;5;241m=\u001b[39m ibmq_executor(circuit, sim_backend)\n\u001b[1;32m     13\u001b[0m \u001b[38;5;66;03m# new_unmitigated = ibmq_executor(circuit, new_sim_backend)\u001b[39;00m\n\u001b[1;32m     14\u001b[0m \u001b[38;5;66;03m# old_unmitigated = ibmq_executor(circuit, old_sim_backend)\u001b[39;00m\n\u001b[0;32m---> 18\u001b[0m mitigated \u001b[38;5;241m=\u001b[39m \u001b[43mlre\u001b[49m\u001b[38;5;241;43m.\u001b[39;49m\u001b[43mexecute_with_lre\u001b[49m\u001b[43m(\u001b[49m\n\u001b[1;32m     19\u001b[0m \u001b[43m    \u001b[49m\u001b[43mcircuit\u001b[49m\u001b[43m,\u001b[49m\u001b[43m \u001b[49m\u001b[43mbatched_simulator_executor\u001b[49m\u001b[43m,\u001b[49m\u001b[43m \u001b[49m\u001b[43mdegree\u001b[49m\u001b[38;5;241;43m=\u001b[39;49m\u001b[38;5;241;43m10\u001b[39;49m\u001b[43m,\u001b[49m\u001b[43m \u001b[49m\u001b[43mfold_multiplier\u001b[49m\u001b[38;5;241;43m=\u001b[39;49m\u001b[38;5;241;43m10\u001b[39;49m\u001b[43m,\u001b[49m\u001b[43m \u001b[49m\u001b[43mnum_chunks\u001b[49m\u001b[38;5;241;43m=\u001b[39;49m\u001b[38;5;241;43m2\u001b[39;49m\n\u001b[1;32m     20\u001b[0m \u001b[43m)\u001b[49m\n\u001b[1;32m     22\u001b[0m \u001b[38;5;66;03m# mitigated = zne.execute_with_zne(\u001b[39;00m\n\u001b[1;32m     23\u001b[0m \u001b[38;5;66;03m#     circuit, batched_simulator_executor\u001b[39;00m\n\u001b[1;32m     24\u001b[0m \u001b[38;5;66;03m# )\u001b[39;00m\n\u001b[1;32m     25\u001b[0m \n\u001b[1;32m     26\u001b[0m \u001b[38;5;66;03m# print(f\"ideal={ideal:.3f} unmitigated={unmitigated:.3f}\")\u001b[39;00m\n\u001b[1;32m     27\u001b[0m \u001b[38;5;28mprint\u001b[39m(\u001b[38;5;124mf\u001b[39m\u001b[38;5;124m\"\u001b[39m\u001b[38;5;124mideal=\u001b[39m\u001b[38;5;132;01m{\u001b[39;00mideal\u001b[38;5;132;01m:\u001b[39;00m\u001b[38;5;124m.3f\u001b[39m\u001b[38;5;132;01m}\u001b[39;00m\u001b[38;5;124m unmitigated=\u001b[39m\u001b[38;5;132;01m{\u001b[39;00munmitigated\u001b[38;5;132;01m:\u001b[39;00m\u001b[38;5;124m.3f\u001b[39m\u001b[38;5;132;01m}\u001b[39;00m\u001b[38;5;124m mitigiated=\u001b[39m\u001b[38;5;132;01m{\u001b[39;00mmitigated\u001b[38;5;132;01m:\u001b[39;00m\u001b[38;5;124m.3f\u001b[39m\u001b[38;5;132;01m}\u001b[39;00m\u001b[38;5;124m\"\u001b[39m)\n",
      "File \u001b[0;32m~/Documents/Mitiq/mitiq_bg/mitiq/lre/lre.py:71\u001b[0m, in \u001b[0;36mexecute_with_lre\u001b[0;34m(input_circuit, executor, degree, fold_multiplier, folding_method, num_chunks)\u001b[0m\n\u001b[1;32m     65\u001b[0m     executor \u001b[38;5;241m=\u001b[39m Executor(executor)\n\u001b[1;32m     67\u001b[0m noise_scaled_circuits \u001b[38;5;241m=\u001b[39m multivariate_layer_scaling(\n\u001b[1;32m     68\u001b[0m     input_circuit, degree, fold_multiplier, num_chunks, folding_method\n\u001b[1;32m     69\u001b[0m )\n\u001b[0;32m---> 71\u001b[0m linear_combination_coeffs \u001b[38;5;241m=\u001b[39m \u001b[43mmultivariate_richardson_coefficients\u001b[49m\u001b[43m(\u001b[49m\n\u001b[1;32m     72\u001b[0m \u001b[43m    \u001b[49m\u001b[43minput_circuit\u001b[49m\u001b[43m,\u001b[49m\u001b[43m \u001b[49m\u001b[43mdegree\u001b[49m\u001b[43m,\u001b[49m\u001b[43m \u001b[49m\u001b[43mfold_multiplier\u001b[49m\u001b[43m,\u001b[49m\u001b[43m \u001b[49m\u001b[43mnum_chunks\u001b[49m\n\u001b[1;32m     73\u001b[0m \u001b[43m\u001b[49m\u001b[43m)\u001b[49m\n\u001b[1;32m     75\u001b[0m \u001b[38;5;66;03m# verify the linear combination coefficients and the calculated expectation\u001b[39;00m\n\u001b[1;32m     76\u001b[0m \u001b[38;5;66;03m# values have the same length\u001b[39;00m\n\u001b[1;32m     77\u001b[0m \u001b[38;5;28;01mif\u001b[39;00m \u001b[38;5;28mlen\u001b[39m(noise_scaled_circuits) \u001b[38;5;241m!=\u001b[39m \u001b[38;5;28mlen\u001b[39m(  \u001b[38;5;66;03m# pragma: no cover\u001b[39;00m\n\u001b[1;32m     78\u001b[0m     linear_combination_coeffs\n\u001b[1;32m     79\u001b[0m ):\n",
      "File \u001b[0;32m~/Documents/Mitiq/mitiq_bg/mitiq/interface/conversions.py:230\u001b[0m, in \u001b[0;36maccept_any_qprogram_as_input.<locals>.accept_any_qprogram_function\u001b[0;34m(circuit, *args, **kwargs)\u001b[0m\n\u001b[1;32m    225\u001b[0m \u001b[38;5;129m@wraps\u001b[39m(accept_cirq_circuit_function)\n\u001b[1;32m    226\u001b[0m \u001b[38;5;28;01mdef\u001b[39;00m \u001b[38;5;21maccept_any_qprogram_function\u001b[39m(\n\u001b[1;32m    227\u001b[0m     circuit: QPROGRAM, \u001b[38;5;241m*\u001b[39margs: P\u001b[38;5;241m.\u001b[39margs, \u001b[38;5;241m*\u001b[39m\u001b[38;5;241m*\u001b[39mkwargs: P\u001b[38;5;241m.\u001b[39mkwargs\n\u001b[1;32m    228\u001b[0m ) \u001b[38;5;241m-\u001b[39m\u001b[38;5;241m>\u001b[39m R:\n\u001b[1;32m    229\u001b[0m     cirq_circuit, _ \u001b[38;5;241m=\u001b[39m convert_to_mitiq(circuit)\n\u001b[0;32m--> 230\u001b[0m     \u001b[38;5;28;01mreturn\u001b[39;00m \u001b[43maccept_cirq_circuit_function\u001b[49m\u001b[43m(\u001b[49m\u001b[43mcirq_circuit\u001b[49m\u001b[43m,\u001b[49m\u001b[43m \u001b[49m\u001b[38;5;241;43m*\u001b[39;49m\u001b[43margs\u001b[49m\u001b[43m,\u001b[49m\u001b[43m \u001b[49m\u001b[38;5;241;43m*\u001b[39;49m\u001b[38;5;241;43m*\u001b[39;49m\u001b[43mkwargs\u001b[49m\u001b[43m)\u001b[49m\n",
      "File \u001b[0;32m~/Documents/Mitiq/mitiq_bg/mitiq/lre/inference/multivariate_richardson.py:182\u001b[0m, in \u001b[0;36mmultivariate_richardson_coefficients\u001b[0;34m(input_circuit, degree, fold_multiplier, num_chunks)\u001b[0m\n\u001b[1;32m    179\u001b[0m     det \u001b[38;5;241m=\u001b[39m sign \u001b[38;5;241m*\u001b[39m np\u001b[38;5;241m.\u001b[39mexp(logdet)  \u001b[38;5;66;03m# pragma: no cover\u001b[39;00m\n\u001b[1;32m    181\u001b[0m \u001b[38;5;28;01mif\u001b[39;00m np\u001b[38;5;241m.\u001b[39misinf(det):\n\u001b[0;32m--> 182\u001b[0m     \u001b[38;5;28;01mraise\u001b[39;00m \u001b[38;5;167;01mValueError\u001b[39;00m(  \u001b[38;5;66;03m# pragma: no cover\u001b[39;00m\n\u001b[1;32m    183\u001b[0m         \u001b[38;5;124m\"\u001b[39m\u001b[38;5;124mDeterminant of sample matrix cannot be calculated as \u001b[39m\u001b[38;5;124m\"\u001b[39m\n\u001b[1;32m    184\u001b[0m         \u001b[38;5;241m+\u001b[39m \u001b[38;5;124m\"\u001b[39m\u001b[38;5;124mthe matrix is too large. Consider chunking your\u001b[39m\u001b[38;5;124m\"\u001b[39m\n\u001b[1;32m    185\u001b[0m         \u001b[38;5;241m+\u001b[39m \u001b[38;5;124m\"\u001b[39m\u001b[38;5;124m input circuit. \u001b[39m\u001b[38;5;124m\"\u001b[39m\n\u001b[1;32m    186\u001b[0m     )\n\u001b[1;32m    187\u001b[0m \u001b[38;5;28;01massert\u001b[39;00m det \u001b[38;5;241m!=\u001b[39m \u001b[38;5;241m0.0\u001b[39m\n\u001b[1;32m    188\u001b[0m coeff_list \u001b[38;5;241m=\u001b[39m []\n",
      "\u001b[0;31mValueError\u001b[0m: Determinant of sample matrix cannot be calculated as the matrix is too large. Consider chunking your input circuit. "
     ]
    }
   ],
   "source": [
    "num_qubits = 4 # 4, 9, 16, 25, 36, 49 (available through benchpress)\n",
    "# qasm_filename = f\"square-heisenberg-{num_qubits}\"\n",
    "qasm_filename = f\"qft-{num_qubits}\"\n",
    "circuit = qiskit.qasm2.load(f\"{qasm_filename}.qasm\")\n",
    "\n",
    "CIRCUIT_NAME = qasm_filename\n",
    "DEGREE = 3\n",
    "FOLD_MULTIPLIER = 2\n",
    "NUM_CHUNKS = 0\n",
    "\n",
    "ideal = ibmq_executor(circuit, sim_backend_ideal)\n",
    "unmitigated = ibmq_executor(circuit, sim_backend)\n",
    "# new_unmitigated = ibmq_executor(circuit, new_sim_backend)\n",
    "# old_unmitigated = ibmq_executor(circuit, old_sim_backend)\n",
    "\n",
    "\n",
    "\n",
    "mitigated = lre.execute_with_lre(\n",
    "    circuit, batched_simulator_executor, degree=10, fold_multiplier=10, num_chunks=2\n",
    ")\n",
    "\n",
    "# mitigated = zne.execute_with_zne(\n",
    "#     circuit, batched_simulator_executor\n",
    "# )\n",
    "\n",
    "# print(f\"ideal={ideal:.3f} unmitigated={unmitigated:.3f}\")\n",
    "print(f\"ideal={ideal:.3f} unmitigated={unmitigated:.3f} mitigiated={mitigated:.3f}\")\n",
    "\n",
    "#################################################\n",
    "# save ideal(time = 0.0) and unmitigated(time = 1.0)\n",
    "#################################################\n",
    "# ideal_res = [ qasm_filename, sim_backend.name, ideal, 0, 0, 0, 0]\n",
    "# unmitigated_res = [ qasm_filename, sim_backend.name, unmitigated, 0, 0, 0, 1]\n",
    "# cache_utils.save_result(ideal_res, f\"results/{qasm_filename}_{date.today().strftime(\"%m-%d-%y\")}_results.csv\")\n",
    "# cache_utils.save_result(unmitigated_res, f\"results/{qasm_filename}_{date.today().strftime(\"%m-%d-%y\")}_results.csv\")\n"
   ]
  },
  {
   "cell_type": "code",
   "execution_count": null,
   "metadata": {},
   "outputs": [],
   "source": [
    "print(circuit)\n",
    "print(len(circuit))"
   ]
  },
  {
   "cell_type": "markdown",
   "metadata": {},
   "source": [
    "### Automated Example with Saving Results\n",
    "\n",
    "First setup the parameters to test including: degree, fold_multiplier, and num_chunks."
   ]
  },
  {
   "cell_type": "markdown",
   "metadata": {},
   "source": []
  },
  {
   "cell_type": "code",
   "execution_count": 4,
   "metadata": {},
   "outputs": [],
   "source": [
    "MAX_DEGREE = 10\n",
    "MAX_FOLD_MULTIPLIER = 5 \n",
    "MAX_NUM_CHUNKS = 10 \n",
    "\n",
    "# num_qubits = [4, 9, 16, 25, 36, 49]\n",
    "num_qubits = [9]\n",
    "qasm_filenames = [f\"square-heisenberg-{num_qubit}\" for num_qubit in num_qubits]\n",
    "# qasm_filenames = [f\"qft-{num_qubit}\" for num_qubit in num_qubits]\n",
    "\n",
    "# Setup all of the different values/circuits to test\n",
    "circuits = [qiskit.qasm2.load(f\"{qasm_filename}.qasm\") for qasm_filename in qasm_filenames]\n",
    "degrees = list(range(1,MAX_DEGREE+1))\n",
    "fold_multipliers = list(range(1, MAX_FOLD_MULTIPLIER+1))\n",
    "num_chunks = list(range(1, MAX_NUM_CHUNKS+1))\n"
   ]
  },
  {
   "cell_type": "markdown",
   "metadata": {},
   "source": [
    "Run experiments on a noisy simulator to get results and store them into a results/cached_results.csv for later analysis."
   ]
  },
  {
   "cell_type": "code",
   "execution_count": null,
   "metadata": {},
   "outputs": [],
   "source": [
    "for i in range(len(circuits)):\n",
    "    circuit = circuits[i]\n",
    "    for fold_multiplier in fold_multipliers:\n",
    "        for degree in degrees:\n",
    "            for num_chunk in num_chunks:\n",
    "                if num_chunk >= len(circuit):\n",
    "                    # print(f\"NUM_CHUNKS: fold={fold_multiplier} degree={degree} num_chunk={num_chunk} lenght={len(circuit)}\")\n",
    "                    break\n",
    "                t0 = time.time()\n",
    "                try:\n",
    "                    res = lre.execute_with_lre(circuit, simulator_executor, degree=degree, fold_multiplier=fold_multiplier, num_chunks=num_chunk)\n",
    "                except RuntimeWarning as w:\n",
    "                    # print(f\"RUNTIME degree={degree} fold_multiplier={fold_multiplier} num_chunks={num_chunks}: {w}\")\n",
    "                    break\n",
    "                except ValueError as e:\n",
    "                    # print(f\"VALUEERROR: {e}\")\n",
    "                    if \"Determinant of sample matrix cannot be calculated as the matrix is too large\" in str(e):\n",
    "                        t0 = time.time()-t0\n",
    "                        cache_res = [\n",
    "                            qasm_filenames[i],\n",
    "                            sim_backend.name,\n",
    "                            np.nan,\n",
    "                            degree,\n",
    "                            fold_multiplier,\n",
    "                            num_chunk,\n",
    "                            t0\n",
    "                        ]\n",
    "                        cache_utils.save_result(cache_res, f\"results/{qasm_filenames[i]}_{date.today().strftime(\"%m-%d-%y\")}_results.csv\")\n",
    "\n",
    "                        break  # Go to the next iteration of the loop\n",
    "                    else:  # Re-raise if it's a different ValueError\n",
    "                        raise  # Important: Don't silently ignore other ValueErrors!\n",
    "                except Exception as e: #Catch other exceptions\n",
    "                    # print(f\"EXCEPTION {e}\")\n",
    "                    raise #Reraise the exception\n",
    "\n",
    "                t0 = time.time()-t0\n",
    "                cache_res = [\n",
    "                   qasm_filenames[i],\n",
    "                   sim_backend.name,\n",
    "                   res,\n",
    "                   degree,\n",
    "                   fold_multiplier,\n",
    "                   num_chunk,\n",
    "                   t0\n",
    "                ]\n",
    "                # cache_utils.save_result(cache_res)\n",
    "                cache_utils.save_result(cache_res, f\"results/{qasm_filenames[i]}_{date.today().strftime(\"%m-%d-%y\")}_results.csv\")"
   ]
  },
  {
   "cell_type": "code",
   "execution_count": 9,
   "metadata": {},
   "outputs": [],
   "source": [
    "# use actual hardware\n",
    "# \n",
    "\n",
    "unmitigated = ibmq_executor(circuit, hard_backend)\n"
   ]
  },
  {
   "cell_type": "code",
   "execution_count": 10,
   "metadata": {},
   "outputs": [],
   "source": [
    "cache_res = [\n",
    "                   qasm_filenames[i],\n",
    "                   hard_backend.name,\n",
    "                   unmitigated,\n",
    "                   0,\n",
    "                   0,\n",
    "                   0,\n",
    "                   1.0 \n",
    "                ]\n",
    "\n",
    "cache_utils.save_result(unmitigated_res, f\"results/{hard_backend.name}_{date.today().strftime(\"%m-%d-%y\")}_results.csv\")"
   ]
  },
  {
   "cell_type": "code",
   "execution_count": null,
   "metadata": {},
   "outputs": [],
   "source": [
    "ibmq_executor"
   ]
  },
  {
   "cell_type": "code",
   "execution_count": null,
   "metadata": {},
   "outputs": [],
   "source": [
    "cache_res = [\n",
    "                   qasm_filenames[i],\n",
    "                   hard_backend.name,\n",
    "                   mitigated,\n",
    "                   2,\n",
    "                   2,\n",
    "                   7,\n",
    "                   1.0 \n",
    "                ]\n",
    "\n",
    "cache_utils.save_result(unmitigated_res, f\"results/{hard_backend.name}_{date.today().strftime(\"%m-%d-%y\")}_results.csv\")"
   ]
  },
  {
   "cell_type": "code",
   "execution_count": null,
   "metadata": {},
   "outputs": [],
   "source": [
    "# Read from CSV results\n",
    "file_name = 'results/cached_results.csv'\n",
    "df = pd.read_csv(file_name)\n",
    "df.sort_values(by=[\"circuit, result\"])\n",
    "squareh_4 = df.loc[(df[\"circuit\"] == \"square-heisenberg-4\") & (df[\"backend\"] == \"aer_simulator_from(ibm_sherbrooke)\")]\n",
    "degrees = squareh_4[\"degree\"]\n",
    "fold_multipliers = squareh_4[\"fold_multiplier\"]\n",
    "num_chunks = squareh_4[\"num_chunks\"]\n",
    "results = squareh_4[\"result\"]\n",
    "\n",
    "plt.figure(figsize=(8,6))\n",
    "scatter = plt.scatter(degrees, fold_multipliers, c=num_chunks, cmap=\"viridis\", s = (1-results)*100)\n",
    "\n",
    "plt.xlabel(\"degree\")\n",
    "plt.ylabel(\"fold_multiplier\")\n",
    "plt.title(\"Hyperparameter tuning for LRE for square-heisenberg-4\")\n",
    "plt.colorbar(scatter, label=\"num_chunks\")\n",
    "\n",
    "plt.grid(True)\n",
    "plt.tight_layout()\n",
    "plt.show()"
   ]
  }
 ],
 "metadata": {
  "kernelspec": {
   "display_name": "mitiqMain",
   "language": "python",
   "name": "python3"
  },
  "language_info": {
   "codemirror_mode": {
    "name": "ipython",
    "version": 3
   },
   "file_extension": ".py",
   "mimetype": "text/x-python",
   "name": "python",
   "nbconvert_exporter": "python",
   "pygments_lexer": "ipython3",
   "version": "3.12.7"
  }
 },
 "nbformat": 4,
 "nbformat_minor": 2
}
