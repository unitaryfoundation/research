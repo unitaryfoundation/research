{
 "cells": [
  {
   "cell_type": "markdown",
   "id": "5f57c8a3",
   "metadata": {},
   "source": [
    "# Volumetric heat maps"
   ]
  },
  {
   "cell_type": "code",
   "execution_count": 1,
   "id": "f5784430",
   "metadata": {},
   "outputs": [],
   "source": [
    "samples = 10\n",
    "widths = range(1, 29)"
   ]
  },
  {
   "cell_type": "code",
   "execution_count": 2,
   "id": "e4703d37",
   "metadata": {},
   "outputs": [],
   "source": [
    "import os\n",
    "import math\n",
    "import numpy as np\n",
    "import random\n",
    "import time\n",
    "from pyqrack import QrackSimulator"
   ]
  },
  {
   "cell_type": "code",
   "execution_count": 3,
   "id": "65faba42",
   "metadata": {},
   "outputs": [],
   "source": [
    "os.environ['QRACK_QUNITMULTI_DEVICES']='1'\n",
    "os.environ['QRACK_QPAGER_DEVICES']='1'\n",
    "os.environ['QRACK_QPAGER_DEVICES_HOST_POINTER']='0'\n",
    "os.environ['QRACK_MAX_ALLOC_MB']='147456,15872'\n",
    "os.environ['QRACK_MAX_PAGING_QB']='30'\n",
    "os.environ['QRACK_MAX_CPU_QB']='34'"
   ]
  },
  {
   "cell_type": "code",
   "execution_count": 4,
   "id": "98867026",
   "metadata": {},
   "outputs": [],
   "source": [
    "def mcx(circ, c, q):\n",
    "    circ.mcx([c], q)\n",
    "\n",
    "def mcy(circ, c, q):\n",
    "    circ.mcy([c], q)\n",
    "\n",
    "def mcz(circ, c, q):\n",
    "    circ.mcz([c], q)\n",
    "\n",
    "def macx(circ, c, q):\n",
    "    circ.macx([c], q)\n",
    "\n",
    "def macy(circ, c, q):\n",
    "    circ.macy([c], q)\n",
    "\n",
    "def macz(circ, c, q):\n",
    "    circ.macz([c], q)\n",
    "\n",
    "def rand_u3(circ, q):\n",
    "    th = random.uniform(0, 4 * math.pi)\n",
    "    ph = random.uniform(0, 4 * math.pi)\n",
    "    lm = random.uniform(0, 4 * math.pi)\n",
    "    circ.u(q, th, ph, lm)\n",
    "\n",
    "def generate_circuits(width, depth):\n",
    "    gateSequence = [ 0, 3, 2, 1, 2, 1, 0, 3 ]\n",
    "    two_qubit_gates = mcx, mcy, mcz, macx, macy, macz\n",
    "\n",
    "    # Nearest-neighbor couplers:\n",
    "    row_len = math.ceil(math.sqrt(width))\n",
    "\n",
    "    time_results = [0 for _ in range(depth)]\n",
    "    \n",
    "    qsim = QrackSimulator(width)\n",
    "\n",
    "    for t in range(samples):\n",
    "        qsim.reset_all()\n",
    "        d_time_results = []\n",
    "        start = time.perf_counter()\n",
    "        \n",
    "        for i in range(depth):\n",
    "            # Single bit gates\n",
    "            for j in range(width):\n",
    "                rand_u3(qsim, j)\n",
    "            \n",
    "            # Nearest-neighbor couplers:\n",
    "            ############################\n",
    "            # gate = gateSequence.pop(0)\n",
    "            # gateSequence.append(gate)\n",
    "            # for row in range(1, row_len, 2):\n",
    "            #     for col in range(row_len):\n",
    "            #         temp_row = row\n",
    "            #         temp_col = col\n",
    "            #         temp_row = temp_row + (1 if (gate & 2) else -1);\n",
    "            #         temp_col = temp_col + (1 if (gate & 1) else 0)\n",
    "            #\n",
    "            #         if (temp_row < 0) or (temp_col < 0) or (temp_row >= row_len) or (temp_col >= row_len):\n",
    "            #             continue\n",
    "            #\n",
    "            #         b1 = row * row_len + col\n",
    "            #         b2 = temp_row * row_len + temp_col\n",
    "            #\n",
    "            #         if (b1 >= width) or (b2 >= width):\n",
    "            #             continue\n",
    "            #\n",
    "            #         choice = random.choice(two_qubit_gates)\n",
    "            #         choice(qsim, b1, b2)\n",
    "\n",
    "            # Fully-connected couplers:\n",
    "            ###########################\n",
    "            unused_bits = list(range(width))\n",
    "            while len(unused_bits) > 1:\n",
    "                b1 = random.choice(unused_bits)\n",
    "                unused_bits.remove(b1)\n",
    "                b2 = random.choice(unused_bits)\n",
    "                unused_bits.remove(b2)\n",
    "            \n",
    "                # Two bit gates\n",
    "                choice = random.choice(two_qubit_gates)\n",
    "                choice(qsim, b1, b2)\n",
    "\n",
    "            d_time_results.append(time.perf_counter() - start)\n",
    "\n",
    "        for i in range(depth):\n",
    "            time_results[i] += d_time_results[i] / samples\n",
    "\n",
    "    return time_results"
   ]
  },
  {
   "cell_type": "code",
   "execution_count": 5,
   "id": "79659c1a",
   "metadata": {},
   "outputs": [
    {
     "name": "stdout",
     "output_type": "stream",
     "text": [
      "Width:  1\n",
      "Device #0, Loaded binary from: /home/iamu/.qrack/qrack_ocl_dev_Intel(R)_UHD_Graphics_[0x9bc4].ir\n",
      "Device #1, Loaded binary from: /home/iamu/.qrack/qrack_ocl_dev_NVIDIA_GeForce_RTX_3080_Laptop_GPU.ir\n",
      "Width:  2\n",
      "Width:  3\n",
      "Width:  4\n",
      "Width:  5\n",
      "Width:  6\n",
      "Width:  7\n",
      "Width:  8\n",
      "Width:  9\n",
      "Width:  10\n",
      "Width:  11\n",
      "Width:  12\n",
      "Width:  13\n",
      "Width:  14\n",
      "Width:  15\n",
      "Width:  16\n",
      "Width:  17\n",
      "Width:  18\n",
      "Width:  19\n",
      "Width:  20\n",
      "Width:  21\n",
      "Width:  22\n",
      "Width:  23\n",
      "Width:  24\n",
      "Width:  25\n",
      "Width:  26\n",
      "Width:  27\n",
      "Width:  28\n"
     ]
    }
   ],
   "source": [
    "qrack_time_results = {}\n",
    "for i in widths:\n",
    "    print(\"Width: \", i)\n",
    "    qrack_time_results[i] = generate_circuits(i, max(widths))"
   ]
  },
  {
   "cell_type": "markdown",
   "id": "86c9e143",
   "metadata": {},
   "source": [
    "## Results"
   ]
  },
  {
   "cell_type": "code",
   "execution_count": 17,
   "id": "976910d6",
   "metadata": {},
   "outputs": [
    {
     "data": {
      "image/png": "[encoded data removed]",
      "text/plain": [
       "<Figure size 648x648 with 2 Axes>"
      ]
     },
     "metadata": {
      "needs_background": "light"
     },
     "output_type": "display_data"
    }
   ],
   "source": [
    "import pandas as pd\n",
    "import matplotlib.pyplot as plt\n",
    "import matplotlib.colors as colors\n",
    "\n",
    "fig, ax = plt.subplots(figsize = (9, 9))\n",
    "# plt.title(\"Fidelity vs. layer depth, 54 qubits, A100 GPU\")\n",
    "plt.xlabel(\"# of qubits\")\n",
    "plt.ylabel(\"Circuit layer depth\")\n",
    "plt.rc('legend',fontsize=20)\n",
    "plt.rcParams.update({'font.size': 20, 'lines.markersize': 12})\n",
    "\n",
    "left = 0.5\n",
    "right = 28.5\n",
    "bottom = 28.5\n",
    "top = 1.5\n",
    "extent = [left, right, bottom, top]\n",
    "\n",
    "h = pd.DataFrame(qrack_time_results)\n",
    "\n",
    "c = plt.colorbar(plt.imshow(h, cmap='hot', interpolation='nearest', extent=extent, aspect=1.037037037, norm=colors.LogNorm()))\n",
    "c.set_label('Time (s)', rotation=270, labelpad=20)\n",
    "fig.axes[0].invert_yaxis()\n",
    "\n",
    "fig.savefig('heat_map_time.png', dpi=100)"
   ]
  },
  {
   "cell_type": "code",
   "execution_count": 7,
   "id": "bec59c1d",
   "metadata": {},
   "outputs": [
    {
     "name": "stdout",
     "output_type": "stream",
     "text": [
      "x86_64\n",
      "#43~22.04.1-Ubuntu SMP PREEMPT_DYNAMIC Fri Apr 21 16:51:08 UTC 2\n",
      "Linux-5.19.0-42-generic-x86_64-with-glibc2.35\n",
      "uname_result(system='Linux', node='sekhmet', release='5.19.0-42-generic', version='#43~22.04.1-Ubuntu SMP PREEMPT_DYNAMIC Fri Apr 21 16:51:08 UTC 2', machine='x86_64')\n",
      "Linux\n",
      "x86_64\n"
     ]
    }
   ],
   "source": [
    "import platform\n",
    "\n",
    "print(platform.machine())\n",
    "print(platform.version())\n",
    "print(platform.platform())\n",
    "print(platform.uname())\n",
    "print(platform.system())\n",
    "print(platform.processor())"
   ]
  },
  {
   "cell_type": "code",
   "execution_count": 8,
   "id": "174ee311",
   "metadata": {},
   "outputs": [
    {
     "name": "stdout",
     "output_type": "stream",
     "text": [
      "NVIDIA GeForce RTX 3080 Laptop GPU\n"
     ]
    }
   ],
   "source": [
    "import subprocess\n",
    "\n",
    "line_as_bytes = subprocess.check_output(\"nvidia-smi -L\", shell=True)\n",
    "line = line_as_bytes.decode(\"ascii\")\n",
    "_, line = line.split(\":\", 1)\n",
    "line, _ = line.split(\"(\")\n",
    "print(line.strip())"
   ]
  },
  {
   "cell_type": "code",
   "execution_count": 9,
   "id": "92fd5924",
   "metadata": {},
   "outputs": [
    {
     "data": {
      "text/plain": [
       "'Intel(R) Core(TM) i9-10980HK CPU @ 2.40GHz'"
      ]
     },
     "execution_count": 9,
     "metadata": {},
     "output_type": "execute_result"
    }
   ],
   "source": [
    "import cpuinfo\n",
    "cpuinfo.get_cpu_info()['brand_raw']"
   ]
  }
 ],
 "metadata": {
  "kernelspec": {
   "display_name": "Python 3 (ipykernel)",
   "language": "python",
   "name": "python3"
  },
  "language_info": {
   "codemirror_mode": {
    "name": "ipython",
    "version": 3
   },
   "file_extension": ".py",
   "mimetype": "text/x-python",
   "name": "python",
   "nbconvert_exporter": "python",
   "pygments_lexer": "ipython3",
   "version": "3.10.6"
  }
 },
 "nbformat": 4,
 "nbformat_minor": 5
}
