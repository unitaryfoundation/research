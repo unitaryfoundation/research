{
 "cells": [
  {
   "cell_type": "markdown",
   "id": "5f57c8a3",
   "metadata": {},
   "source": [
    "# Volumetric heat maps"
   ]
  },
  {
   "cell_type": "code",
   "execution_count": null,
   "id": "79659c1a",
   "metadata": {},
   "outputs": [],
   "source": [
    "qrack_time_results = {}\n",
    "qrack_fidelity_results = {}\n",
    "print(qrack_time_results, qrack_fidelity_results)"
   ]
  },
  {
   "cell_type": "markdown",
   "id": "86c9e143",
   "metadata": {},
   "source": [
    "## Results"
   ]
  },
  {
   "cell_type": "code",
   "execution_count": null,
   "id": "976910d6",
   "metadata": {},
   "outputs": [],
   "source": [
    "import matplotlib.pyplot as plt\n",
    "\n",
    "fig, ax = plt.subplots(figsize = (9, 9))\n",
    "# plt.title(\"Fidelity vs. layer depth, 54 qubits, A100 GPU\")\n",
    "plt.xlabel(\"Circuit layers\")\n",
    "plt.ylabel(\"SDRP\")\n",
    "\n",
    "left = 1\n",
    "right = 36\n",
    "bottom = 0.0125\n",
    "top = 1\n",
    "extent = [left, right, bottom, top]\n",
    "\n",
    "h = qrack_time_results[36]\n",
    "\n",
    "plt.imshow(h, cmap='hot', interpolation='nearest', extent=extent, aspect=36.455696203)\n",
    "\n",
    "fig.savefig('heat_map_time_36.png', dpi=100)"
   ]
  },
  {
   "cell_type": "code",
   "execution_count": null,
   "id": "0faefcf9",
   "metadata": {},
   "outputs": [],
   "source": [
    "import matplotlib.pyplot as plt\n",
    "\n",
    "fig, ax = plt.subplots(figsize = (9, 9))\n",
    "# plt.title(\"Fidelity vs. layer depth, 54 qubits, A100 GPU\")\n",
    "plt.xlabel(\"Circuit layers\")\n",
    "plt.ylabel(\"SDRP\")\n",
    "\n",
    "left = 1\n",
    "right = 49\n",
    "bottom = 0.0125\n",
    "top = 1\n",
    "extent = [left, right, bottom, top]\n",
    "\n",
    "h = qrack_time_results[49]\n",
    "\n",
    "plt.imshow(h, cmap='hot', interpolation='nearest', extent=extent, aspect=49.620253165)\n",
    "\n",
    "fig.savefig('heat_map_time_49.png', dpi=100)"
   ]
  },
  {
   "cell_type": "code",
   "execution_count": null,
   "id": "57a2680e",
   "metadata": {},
   "outputs": [],
   "source": [
    "import matplotlib.pyplot as plt\n",
    "\n",
    "fig, ax = plt.subplots(figsize = (9, 9))\n",
    "# plt.title(\"Fidelity vs. layer depth, 54 qubits, A100 GPU\")\n",
    "plt.xlabel(\"Circuit layers\")\n",
    "plt.ylabel(\"SDRP\")\n",
    "\n",
    "left = 1\n",
    "right = 64\n",
    "bottom = 0.0125\n",
    "top = 1\n",
    "extent = [left, right, bottom, top]\n",
    "\n",
    "h = qrack_time_results[64]\n",
    "\n",
    "plt.imshow(h, cmap='hot', interpolation='nearest', extent=extent, aspect=64.810126582)\n",
    "\n",
    "fig.savefig('heat_map_time_64.png', dpi=100)"
   ]
  },
  {
   "cell_type": "code",
   "execution_count": null,
   "id": "efe3b422",
   "metadata": {},
   "outputs": [],
   "source": [
    "import matplotlib.pyplot as plt\n",
    "\n",
    "fig, ax = plt.subplots(figsize = (9, 9))\n",
    "# plt.title(\"Fidelity vs. layer depth, 54 qubits, A100 GPU\")\n",
    "plt.xlabel(\"Circuit layers\")\n",
    "plt.ylabel(\"SDRP\")\n",
    "\n",
    "left = 1\n",
    "right = 81\n",
    "bottom = 0.0125\n",
    "top = 1\n",
    "extent = [left, right, bottom, top]\n",
    "\n",
    "h = qrack_time_results[81]\n",
    "\n",
    "plt.imshow(h, cmap='hot', interpolation='nearest', extent=extent, aspect=82.025316456)\n",
    "\n",
    "fig.savefig('heat_map_time_81.png', dpi=100)"
   ]
  },
  {
   "cell_type": "code",
   "execution_count": null,
   "id": "e7262530",
   "metadata": {},
   "outputs": [],
   "source": [
    "import matplotlib.pyplot as plt\n",
    "\n",
    "fig, ax = plt.subplots(figsize = (9, 9))\n",
    "# plt.title(\"Fidelity vs. layer depth, 54 qubits, A100 GPU\")\n",
    "plt.xlabel(\"Circuit layers\")\n",
    "plt.ylabel(\"SDRP\")\n",
    "\n",
    "left = 1\n",
    "right = 100\n",
    "bottom = 0.0125\n",
    "top = 1\n",
    "extent = [left, right, bottom, top]\n",
    "\n",
    "h = qrack_time_results[100]\n",
    "\n",
    "plt.imshow(h, cmap='hot', interpolation='nearest', extent=extent, aspect=101.2658)\n",
    "\n",
    "fig.savefig('heat_map_time_100.png', dpi=100)"
   ]
  },
  {
   "cell_type": "code",
   "execution_count": null,
   "id": "1eae148b",
   "metadata": {},
   "outputs": [],
   "source": [
    "import matplotlib.pyplot as plt\n",
    "\n",
    "fig, ax = plt.subplots(figsize = (9, 9))\n",
    "# plt.title(\"Fidelity vs. layer depth, 54 qubits, A100 GPU\")\n",
    "plt.xlabel(\"Circuit layers\")\n",
    "plt.ylabel(\"SDRP\")\n",
    "\n",
    "left = 1\n",
    "right = 36\n",
    "bottom = 0.0125\n",
    "top = 1\n",
    "extent = [left, right, bottom, top]\n",
    "\n",
    "h = qrack_fidelity_results[36]\n",
    "\n",
    "plt.imshow(h, cmap='hot', interpolation='nearest', extent=extent, aspect=36.455696203)\n",
    "\n",
    "fig.savefig('heat_map_fidelity_36.png', dpi=100)"
   ]
  },
  {
   "cell_type": "code",
   "execution_count": null,
   "id": "44b48a7c",
   "metadata": {},
   "outputs": [],
   "source": [
    "import matplotlib.pyplot as plt\n",
    "\n",
    "fig, ax = plt.subplots(figsize = (9, 9))\n",
    "# plt.title(\"Fidelity vs. layer depth, 54 qubits, A100 GPU\")\n",
    "plt.xlabel(\"Circuit layers\")\n",
    "plt.ylabel(\"SDRP\")\n",
    "\n",
    "left = 1\n",
    "right = 49\n",
    "bottom = 0.0125\n",
    "top = 1\n",
    "extent = [left, right, bottom, top]\n",
    "\n",
    "h = qrack_fidelity_results[49]\n",
    "\n",
    "plt.imshow(h, cmap='hot', interpolation='nearest', extent=extent, aspect=49.620253165)\n",
    "\n",
    "fig.savefig('heat_map_fidelity_49.png', dpi=100)"
   ]
  },
  {
   "cell_type": "code",
   "execution_count": null,
   "id": "57116aa1",
   "metadata": {},
   "outputs": [],
   "source": [
    "import matplotlib.pyplot as plt\n",
    "\n",
    "fig, ax = plt.subplots(figsize = (9, 9))\n",
    "# plt.title(\"Fidelity vs. layer depth, 54 qubits, A100 GPU\")\n",
    "plt.xlabel(\"Circuit layers\")\n",
    "plt.ylabel(\"SDRP\")\n",
    "\n",
    "left = 1\n",
    "right = 64\n",
    "bottom = 0.0125\n",
    "top = 1\n",
    "extent = [left, right, bottom, top]\n",
    "\n",
    "h = qrack_fidelity_results[64]\n",
    "\n",
    "plt.imshow(h, cmap='hot', interpolation='nearest', extent=extent, aspect=64.810126582)\n",
    "\n",
    "fig.savefig('heat_map_fidelity_64.png', dpi=100)"
   ]
  },
  {
   "cell_type": "code",
   "execution_count": null,
   "id": "9db28f15",
   "metadata": {},
   "outputs": [],
   "source": [
    "import matplotlib.pyplot as plt\n",
    "\n",
    "fig, ax = plt.subplots(figsize = (9, 9))\n",
    "# plt.title(\"Fidelity vs. layer depth, 54 qubits, A100 GPU\")\n",
    "plt.xlabel(\"Circuit layers\")\n",
    "plt.ylabel(\"SDRP\")\n",
    "\n",
    "left = 1\n",
    "right = 81\n",
    "bottom = 0.0125\n",
    "top = 1\n",
    "extent = [left, right, bottom, top]\n",
    "\n",
    "h = qrack_fidelity_results[81]\n",
    "\n",
    "plt.imshow(h, cmap='hot', interpolation='nearest', extent=extent, aspect=82.025316456)\n",
    "\n",
    "fig.savefig('heat_map_fidelity_81.png', dpi=100)"
   ]
  },
  {
   "cell_type": "code",
   "execution_count": null,
   "id": "66e23f27",
   "metadata": {},
   "outputs": [],
   "source": [
    "import matplotlib.pyplot as plt\n",
    "\n",
    "fig, ax = plt.subplots(figsize = (9, 9))\n",
    "# plt.title(\"Fidelity vs. layer depth, 54 qubits, A100 GPU\")\n",
    "plt.xlabel(\"Circuit layers\")\n",
    "plt.ylabel(\"SDRP\")\n",
    "\n",
    "left = 1\n",
    "right = 100\n",
    "bottom = 0.0125\n",
    "top = 1\n",
    "extent = [left, right, bottom, top]\n",
    "\n",
    "h = qrack_fidelity_results[100]\n",
    "\n",
    "plt.imshow(h, cmap='hot', interpolation='nearest', extent=extent, aspect=101.2658)\n",
    "\n",
    "fig.savefig('heat_map_fidelity_100.png', dpi=100)"
   ]
  },
  {
   "cell_type": "code",
   "execution_count": null,
   "id": "bec59c1d",
   "metadata": {},
   "outputs": [],
   "source": [
    "import platform\n",
    "\n",
    "print(platform.machine())\n",
    "print(platform.version())\n",
    "print(platform.platform())\n",
    "print(platform.uname())\n",
    "print(platform.system())\n",
    "print(platform.processor())"
   ]
  },
  {
   "cell_type": "code",
   "execution_count": null,
   "id": "174ee311",
   "metadata": {},
   "outputs": [],
   "source": [
    "import subprocess\n",
    "\n",
    "line_as_bytes = subprocess.check_output(\"nvidia-smi -L\", shell=True)\n",
    "line = line_as_bytes.decode(\"ascii\")\n",
    "_, line = line.split(\":\", 1)\n",
    "line, _ = line.split(\"(\")\n",
    "print(line.strip())"
   ]
  },
  {
   "cell_type": "code",
   "execution_count": null,
   "id": "92fd5924",
   "metadata": {},
   "outputs": [],
   "source": [
    "import cpuinfo\n",
    "cpuinfo.get_cpu_info()['brand_raw']"
   ]
  }
 ],
 "metadata": {
  "kernelspec": {
   "display_name": "Python 3 (ipykernel)",
   "language": "python",
   "name": "python3"
  },
  "language_info": {
   "codemirror_mode": {
    "name": "ipython",
    "version": 3
   },
   "file_extension": ".py",
   "mimetype": "text/x-python",
   "name": "python",
   "nbconvert_exporter": "python",
   "pygments_lexer": "ipython3",
   "version": "3.8.10"
  }
 },
 "nbformat": 4,
 "nbformat_minor": 5
}
