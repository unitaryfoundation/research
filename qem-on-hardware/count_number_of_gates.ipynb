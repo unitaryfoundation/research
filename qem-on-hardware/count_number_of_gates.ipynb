{
 "cells": [
  {
   "cell_type": "markdown",
   "id": "d97713d9",
   "metadata": {},
   "source": [
    "# Counting gates in benchmark circuits"
   ]
  },
  {
   "cell_type": "markdown",
   "id": "b62ba675",
   "metadata": {},
   "source": [
    "**Description**\n",
    "\n",
    "Estimates the number of two-qubit gates and single-qubit gates for different randomized benchmarking circuits and for different mirror circuits. Both types of circuits are generated for different values of the abstract depth parameter $d$. The aim of this notebook is to estimate a relationship between $d$ and the actual number of physical gates."
   ]
  },
  {
   "cell_type": "markdown",
   "id": "91eef3e0",
   "metadata": {},
   "source": [
    "## Setup"
   ]
  },
  {
   "cell_type": "code",
   "execution_count": 1,
   "id": "9a9db726",
   "metadata": {},
   "outputs": [
    {
     "data": {
      "application/javascript": [
       "\n",
       "            setTimeout(function() {\n",
       "                var nbb_cell_id = 1;\n",
       "                var nbb_unformatted_code = \"%load_ext nb_black\";\n",
       "                var nbb_formatted_code = \"%load_ext nb_black\";\n",
       "                var nbb_cells = Jupyter.notebook.get_cells();\n",
       "                for (var i = 0; i < nbb_cells.length; ++i) {\n",
       "                    if (nbb_cells[i].input_prompt_number == nbb_cell_id) {\n",
       "                        if (nbb_cells[i].get_text() == nbb_unformatted_code) {\n",
       "                             nbb_cells[i].set_text(nbb_formatted_code);\n",
       "                        }\n",
       "                        break;\n",
       "                    }\n",
       "                }\n",
       "            }, 500);\n",
       "            "
      ],
      "text/plain": [
       "<IPython.core.display.Javascript object>"
      ]
     },
     "metadata": {},
     "output_type": "display_data"
    }
   ],
   "source": [
    "%load_ext nb_black"
   ]
  },
  {
   "cell_type": "code",
   "execution_count": 2,
   "id": "cdac8249",
   "metadata": {},
   "outputs": [
    {
     "name": "stderr",
     "output_type": "stream",
     "text": [
      "/home/andrea/anaconda3/lib/python3.7/site-packages/ipykernel_launcher.py:20: DeprecationWarning: The qiskit.ignis package is deprecated and has been supersceded by the qiskit-experiments project. Refer to the migration guide: https://github.com/Qiskit/qiskit-ignis#migration-guide on how to migrate to the new project.\n"
     ]
    },
    {
     "data": {
      "application/javascript": [
       "\n",
       "            setTimeout(function() {\n",
       "                var nbb_cell_id = 2;\n",
       "                var nbb_unformatted_code = \"import os\\nimport functools\\nimport time\\nfrom typing import Dict, List, Tuple, Union\\n\\n# Plotting imports.\\nimport matplotlib.pyplot as plt\\n\\n%matplotlib inline\\nplt.rcParams.update({\\\"font.family\\\": \\\"serif\\\", \\\"font.size\\\": 12})\\n\\n# Third-party imports.\\nimport cirq\\nimport networkx as nx\\nimport numpy as np\\nimport pandas as pd\\n\\n# Qiskit imports.\\nimport qiskit\\nimport qiskit.ignis.verification.randomized_benchmarking as rb\\nfrom qiskit.transpiler.passes import RemoveBarriers, RemoveFinalMeasurements\\nfrom qiskit.circuit import Gate\\n\\n# Mitiq imports.\\nfrom mitiq.interface import convert_to_mitiq, convert_from_mitiq\\nfrom mitiq import benchmarks, pec, zne\\n\\n# For hardware device offerings.\\nfrom braket.aws import AwsDevice\\nfrom braket.devices import LocalSimulator\\nfrom braket.circuits import Circuit, gates, Noise\";\n",
       "                var nbb_formatted_code = \"import os\\nimport functools\\nimport time\\nfrom typing import Dict, List, Tuple, Union\\n\\n# Plotting imports.\\nimport matplotlib.pyplot as plt\\n\\n%matplotlib inline\\nplt.rcParams.update({\\\"font.family\\\": \\\"serif\\\", \\\"font.size\\\": 12})\\n\\n# Third-party imports.\\nimport cirq\\nimport networkx as nx\\nimport numpy as np\\nimport pandas as pd\\n\\n# Qiskit imports.\\nimport qiskit\\nimport qiskit.ignis.verification.randomized_benchmarking as rb\\nfrom qiskit.transpiler.passes import RemoveBarriers, RemoveFinalMeasurements\\nfrom qiskit.circuit import Gate\\n\\n# Mitiq imports.\\nfrom mitiq.interface import convert_to_mitiq, convert_from_mitiq\\nfrom mitiq import benchmarks, pec, zne\\n\\n# For hardware device offerings.\\nfrom braket.aws import AwsDevice\\nfrom braket.devices import LocalSimulator\\nfrom braket.circuits import Circuit, gates, Noise\";\n",
       "                var nbb_cells = Jupyter.notebook.get_cells();\n",
       "                for (var i = 0; i < nbb_cells.length; ++i) {\n",
       "                    if (nbb_cells[i].input_prompt_number == nbb_cell_id) {\n",
       "                        if (nbb_cells[i].get_text() == nbb_unformatted_code) {\n",
       "                             nbb_cells[i].set_text(nbb_formatted_code);\n",
       "                        }\n",
       "                        break;\n",
       "                    }\n",
       "                }\n",
       "            }, 500);\n",
       "            "
      ],
      "text/plain": [
       "<IPython.core.display.Javascript object>"
      ]
     },
     "metadata": {},
     "output_type": "display_data"
    }
   ],
   "source": [
    "import os\n",
    "import functools\n",
    "import time\n",
    "from typing import Dict, List, Tuple, Union\n",
    "\n",
    "# Plotting imports.\n",
    "import matplotlib.pyplot as plt\n",
    "\n",
    "%matplotlib inline\n",
    "plt.rcParams.update({\"font.family\": \"serif\", \"font.size\": 12})\n",
    "\n",
    "# Third-party imports.\n",
    "import cirq\n",
    "import networkx as nx\n",
    "import numpy as np\n",
    "import pandas as pd\n",
    "\n",
    "# Qiskit imports.\n",
    "import qiskit\n",
    "import qiskit.ignis.verification.randomized_benchmarking as rb\n",
    "from qiskit.transpiler.passes import RemoveBarriers, RemoveFinalMeasurements\n",
    "from qiskit.circuit import Gate\n",
    "\n",
    "# Mitiq imports.\n",
    "from mitiq.interface import convert_to_mitiq, convert_from_mitiq\n",
    "from mitiq import benchmarks, pec, zne\n",
    "\n",
    "# For hardware device offerings.\n",
    "from braket.aws import AwsDevice\n",
    "from braket.devices import LocalSimulator\n",
    "from braket.circuits import Circuit, gates, Noise"
   ]
  },
  {
   "cell_type": "markdown",
   "id": "49929d1d",
   "metadata": {},
   "source": [
    "### Parameters"
   ]
  },
  {
   "cell_type": "code",
   "execution_count": 3,
   "id": "e8b12ab9",
   "metadata": {},
   "outputs": [
    {
     "name": "stdout",
     "output_type": "stream",
     "text": [
      "Qubit indeces: [0, 1, 2]\n",
      "RB pattern: [[0, 1], [2]]\n"
     ]
    },
    {
     "data": {
      "application/javascript": [
       "\n",
       "            setTimeout(function() {\n",
       "                var nbb_cell_id = 3;\n",
       "                var nbb_unformatted_code = \"# Benchmark circuit type. Supported types are \\\"rb\\\" and \\\"mirror\\\".\\ncircuit_type: str = \\\"rb\\\"  \\n\\n# Qubits to use on the experiment. \\nnum_qubits = 3\\n\\nqubits = [j for j in range(num_qubits)]\\n\\n# Split qubits into 2-qubit pairs (assuming a chain connectivity). \\nrb_pattern = [[qa, qb] for qa, qb in zip(qubits[0:-1:2], qubits[1::2])]\\nif len(qubits) % 2 == 1:\\n    # For an odd number of qubits, append final individual qubit to the RB pattern.\\n    rb_pattern.append([qubits[-1]])\\nprint(\\\"Qubit indeces:\\\", qubits)\\nprint(\\\"RB pattern:\\\", rb_pattern)\";\n",
       "                var nbb_formatted_code = \"# Benchmark circuit type. Supported types are \\\"rb\\\" and \\\"mirror\\\".\\ncircuit_type: str = \\\"rb\\\"\\n\\n# Qubits to use on the experiment.\\nnum_qubits = 3\\n\\nqubits = [j for j in range(num_qubits)]\\n\\n# Split qubits into 2-qubit pairs (assuming a chain connectivity).\\nrb_pattern = [[qa, qb] for qa, qb in zip(qubits[0:-1:2], qubits[1::2])]\\nif len(qubits) % 2 == 1:\\n    # For an odd number of qubits, append final individual qubit to the RB pattern.\\n    rb_pattern.append([qubits[-1]])\\nprint(\\\"Qubit indeces:\\\", qubits)\\nprint(\\\"RB pattern:\\\", rb_pattern)\";\n",
       "                var nbb_cells = Jupyter.notebook.get_cells();\n",
       "                for (var i = 0; i < nbb_cells.length; ++i) {\n",
       "                    if (nbb_cells[i].input_prompt_number == nbb_cell_id) {\n",
       "                        if (nbb_cells[i].get_text() == nbb_unformatted_code) {\n",
       "                             nbb_cells[i].set_text(nbb_formatted_code);\n",
       "                        }\n",
       "                        break;\n",
       "                    }\n",
       "                }\n",
       "            }, 500);\n",
       "            "
      ],
      "text/plain": [
       "<IPython.core.display.Javascript object>"
      ]
     },
     "metadata": {},
     "output_type": "display_data"
    }
   ],
   "source": [
    "# Benchmark circuit type. Supported types are \"rb\" and \"mirror\".\n",
    "circuit_type: str = \"rb\"  \n",
    "\n",
    "# Qubits to use on the experiment. \n",
    "num_qubits = 3\n",
    "\n",
    "qubits = [j for j in range(num_qubits)]\n",
    "\n",
    "# Split qubits into 2-qubit pairs (assuming a chain connectivity). \n",
    "rb_pattern = [[qa, qb] for qa, qb in zip(qubits[0:-1:2], qubits[1::2])]\n",
    "if len(qubits) % 2 == 1:\n",
    "    # For an odd number of qubits, append final individual qubit to the RB pattern.\n",
    "    rb_pattern.append([qubits[-1]])\n",
    "print(\"Qubit indeces:\", qubits)\n",
    "print(\"RB pattern:\", rb_pattern)\n"
   ]
  },
  {
   "cell_type": "markdown",
   "id": "5c57056f",
   "metadata": {},
   "source": [
    "### Hardware parameters"
   ]
  },
  {
   "cell_type": "code",
   "execution_count": 4,
   "id": "36ebb12c",
   "metadata": {},
   "outputs": [
    {
     "data": {
      "application/javascript": [
       "\n",
       "            setTimeout(function() {\n",
       "                var nbb_cell_id = 4;\n",
       "                var nbb_unformatted_code = \"# Hardware backend device type. Supported types are \\\"rigetti\\\", \\\"ibmq\\\", and \\\"ionq\\\".\\nhardware_type: str = \\\"ibmq\\\"\";\n",
       "                var nbb_formatted_code = \"# Hardware backend device type. Supported types are \\\"rigetti\\\", \\\"ibmq\\\", and \\\"ionq\\\".\\nhardware_type: str = \\\"ibmq\\\"\";\n",
       "                var nbb_cells = Jupyter.notebook.get_cells();\n",
       "                for (var i = 0; i < nbb_cells.length; ++i) {\n",
       "                    if (nbb_cells[i].input_prompt_number == nbb_cell_id) {\n",
       "                        if (nbb_cells[i].get_text() == nbb_unformatted_code) {\n",
       "                             nbb_cells[i].set_text(nbb_formatted_code);\n",
       "                        }\n",
       "                        break;\n",
       "                    }\n",
       "                }\n",
       "            }, 500);\n",
       "            "
      ],
      "text/plain": [
       "<IPython.core.display.Javascript object>"
      ]
     },
     "metadata": {},
     "output_type": "display_data"
    }
   ],
   "source": [
    "# Hardware backend device type. Supported types are \"rigetti\", \"ibmq\", and \"ionq\".\n",
    "hardware_type: str = \"ibmq\""
   ]
  },
  {
   "cell_type": "markdown",
   "id": "a8f3f9a8",
   "metadata": {},
   "source": [
    "### Hardware architecture\n",
    "\n",
    "If the user selects the option to run on an actual hardware offering, define the architectural layout of the quantum device. Otherwise, invoke the appropriate simulator."
   ]
  },
  {
   "cell_type": "code",
   "execution_count": 5,
   "id": "d0ecec92",
   "metadata": {},
   "outputs": [
    {
     "name": "stdout",
     "output_type": "stream",
     "text": [
      "Computer connectivity (used only for mirror circuits): [(0, 1), (1, 0), (1, 2), (2, 1)]\n"
     ]
    },
    {
     "data": {
      "application/javascript": [
       "\n",
       "            setTimeout(function() {\n",
       "                var nbb_cell_id = 5;\n",
       "                var nbb_unformatted_code = \"computer = nx.Graph()\\n\\n# Assume chain-like connectivity\\ncomputer.add_edges_from([(qa, qb) for qa, qb in zip(qubits[:-1], qubits[1:])])\\n\\n# Add reversed edges to computer graph.\\n# This is important to represent CNOT gates with target and control reversed.\\ncomputer = nx.to_directed(computer)\\n\\n\\n# Check if RB-pattern is consistent with device topology.\\nfor edge in rb_pattern:\\n    if len(edge) == 2:\\n        if edge not in computer.edges:\\n            raise ValueError(\\n                \\\"The option rb_pattern is not consistent with the device topology.\\\"\\n            )\\n\\nprint(\\\"Computer connectivity (used only for mirror circuits):\\\", computer.edges)\";\n",
       "                var nbb_formatted_code = \"computer = nx.Graph()\\n\\n# Assume chain-like connectivity\\ncomputer.add_edges_from([(qa, qb) for qa, qb in zip(qubits[:-1], qubits[1:])])\\n\\n# Add reversed edges to computer graph.\\n# This is important to represent CNOT gates with target and control reversed.\\ncomputer = nx.to_directed(computer)\\n\\n\\n# Check if RB-pattern is consistent with device topology.\\nfor edge in rb_pattern:\\n    if len(edge) == 2:\\n        if edge not in computer.edges:\\n            raise ValueError(\\n                \\\"The option rb_pattern is not consistent with the device topology.\\\"\\n            )\\n\\nprint(\\\"Computer connectivity (used only for mirror circuits):\\\", computer.edges)\";\n",
       "                var nbb_cells = Jupyter.notebook.get_cells();\n",
       "                for (var i = 0; i < nbb_cells.length; ++i) {\n",
       "                    if (nbb_cells[i].input_prompt_number == nbb_cell_id) {\n",
       "                        if (nbb_cells[i].get_text() == nbb_unformatted_code) {\n",
       "                             nbb_cells[i].set_text(nbb_formatted_code);\n",
       "                        }\n",
       "                        break;\n",
       "                    }\n",
       "                }\n",
       "            }, 500);\n",
       "            "
      ],
      "text/plain": [
       "<IPython.core.display.Javascript object>"
      ]
     },
     "metadata": {},
     "output_type": "display_data"
    }
   ],
   "source": [
    "computer = nx.Graph()\n",
    "\n",
    "# Assume chain-like connectivity\n",
    "computer.add_edges_from([(qa, qb) for qa, qb in zip(qubits[:-1], qubits[1:])])\n",
    "\n",
    "# Add reversed edges to computer graph.\n",
    "# This is important to represent CNOT gates with target and control reversed.\n",
    "computer = nx.to_directed(computer)\n",
    "\n",
    "\n",
    "# Check if RB-pattern is consistent with device topology.\n",
    "for edge in rb_pattern:\n",
    "    if len(edge) == 2:\n",
    "        if edge not in computer.edges:\n",
    "            raise ValueError(\n",
    "                \"The option rb_pattern is not consistent with the device topology.\"\n",
    "            )\n",
    "\n",
    "print(\"Computer connectivity (used only for mirror circuits):\", computer.edges)"
   ]
  },
  {
   "cell_type": "markdown",
   "id": "59a7f99c",
   "metadata": {},
   "source": [
    "### Benchmark circuit"
   ]
  },
  {
   "cell_type": "code",
   "execution_count": 6,
   "id": "3210e6fd",
   "metadata": {},
   "outputs": [
    {
     "data": {
      "application/javascript": [
       "\n",
       "            setTimeout(function() {\n",
       "                var nbb_cell_id = 6;\n",
       "                var nbb_unformatted_code = \"def named_qubit_to_line_qubit(named_qubit: str) -> cirq.LineQubit:\\n    \\\"\\\"\\\"Extract qubit number assuming \\\"_\\\" is used as a word separator.\\\"\\\"\\\"\\n    digits = [int(s) for s in named_qubit.name.split(\\\"_\\\") if s.isdigit()]\\n    if len(digits) == 1:\\n        return cirq.LineQubit(digits[0])\\n    else:\\n        raise RuntimeError(\\\"Failed to identify qubit number.\\\")\";\n",
       "                var nbb_formatted_code = \"def named_qubit_to_line_qubit(named_qubit: str) -> cirq.LineQubit:\\n    \\\"\\\"\\\"Extract qubit number assuming \\\"_\\\" is used as a word separator.\\\"\\\"\\\"\\n    digits = [int(s) for s in named_qubit.name.split(\\\"_\\\") if s.isdigit()]\\n    if len(digits) == 1:\\n        return cirq.LineQubit(digits[0])\\n    else:\\n        raise RuntimeError(\\\"Failed to identify qubit number.\\\")\";\n",
       "                var nbb_cells = Jupyter.notebook.get_cells();\n",
       "                for (var i = 0; i < nbb_cells.length; ++i) {\n",
       "                    if (nbb_cells[i].input_prompt_number == nbb_cell_id) {\n",
       "                        if (nbb_cells[i].get_text() == nbb_unformatted_code) {\n",
       "                             nbb_cells[i].set_text(nbb_formatted_code);\n",
       "                        }\n",
       "                        break;\n",
       "                    }\n",
       "                }\n",
       "            }, 500);\n",
       "            "
      ],
      "text/plain": [
       "<IPython.core.display.Javascript object>"
      ]
     },
     "metadata": {},
     "output_type": "display_data"
    }
   ],
   "source": [
    "def named_qubit_to_line_qubit(named_qubit: str) -> cirq.LineQubit:\n",
    "    \"\"\"Extract qubit number assuming \"_\" is used as a word separator.\"\"\"\n",
    "    digits = [int(s) for s in named_qubit.name.split(\"_\") if s.isdigit()]\n",
    "    if len(digits) == 1:\n",
    "        return cirq.LineQubit(digits[0])\n",
    "    else:\n",
    "        raise RuntimeError(\"Failed to identify qubit number.\")"
   ]
  },
  {
   "cell_type": "code",
   "execution_count": 7,
   "id": "b2140186",
   "metadata": {},
   "outputs": [
    {
     "data": {
      "application/javascript": [
       "\n",
       "            setTimeout(function() {\n",
       "                var nbb_cell_id = 7;\n",
       "                var nbb_unformatted_code = \"def get_rb_circuit(\\n    depth: int, seed: int\\n) -> Union[Tuple[cirq.Circuit, str], Tuple[qiskit.QuantumCircuit, str]]:\\n    circuit = rb.randomized_benchmarking_seq(\\n        length_vector=[depth],\\n        rb_pattern=rb_pattern,\\n        group_gates=\\\"0\\\",\\n        rand_seed=seed,\\n    )[0][0][0]\\n\\n    # Remove barriers and measurements.\\n    circuit = RemoveFinalMeasurements()(RemoveBarriers()(circuit))\\n\\n    if hardware_type == \\\"ionq\\\" or hardware_type == \\\"rigetti\\\":\\n        # Qiskit --> Cirq.\\n        cirq_circuit, _ = convert_to_mitiq(circuit)\\n        circuit_with_linequbits = cirq_circuit.transform_qubits(\\n            named_qubit_to_line_qubit\\n        )\\n\\n        # Cirq --> Braket.\\n        return convert_from_mitiq(circuit_with_linequbits, \\\"braket\\\"), \\\"0\\\" * len(qubits)\\n\\n    elif hardware_type == \\\"ibmq\\\":\\n        # Hack: Remove classical register and rename qubit register.\\n        return convert_from_mitiq(convert_to_mitiq(circuit)[0], \\\"qiskit\\\"), \\\"0\\\" * len(\\n            qubits\\n        )\\n\\n\\ndef get_mirror_circuit(\\n    depth: int, seed: int\\n) -> Union[Tuple[cirq.Circuit, str], Tuple[qiskit.QuantumCircuit, str]]:\\n\\n    return_type = (\\n        \\\"braket\\\" if hardware_type == \\\"ionq\\\" or hardware_type == \\\"rigetti\\\" else \\\"qiskit\\\"\\n    )\\n    circuit, correct_bitstring = benchmarks.generate_mirror_circuit(\\n        nlayers=depth,\\n        two_qubit_gate_prob=1.0,\\n        connectivity_graph=computer,\\n        two_qubit_gate_name=\\\"CNOT\\\",\\n        seed=seed,\\n        return_type=return_type,\\n    )\\n\\n    if hardware_type == \\\"ionq\\\" or hardware_type == \\\"rigetti\\\":\\n        return circuit, correct_bitstring\\n    elif hardware_type == \\\"ibmq\\\":\\n        # Reversed because Qiskit is wrong endian.\\n        return circuit, \\\"\\\".join(map(str, correct_bitstring[::-1]))\";\n",
       "                var nbb_formatted_code = \"def get_rb_circuit(\\n    depth: int, seed: int\\n) -> Union[Tuple[cirq.Circuit, str], Tuple[qiskit.QuantumCircuit, str]]:\\n    circuit = rb.randomized_benchmarking_seq(\\n        length_vector=[depth],\\n        rb_pattern=rb_pattern,\\n        group_gates=\\\"0\\\",\\n        rand_seed=seed,\\n    )[0][0][0]\\n\\n    # Remove barriers and measurements.\\n    circuit = RemoveFinalMeasurements()(RemoveBarriers()(circuit))\\n\\n    if hardware_type == \\\"ionq\\\" or hardware_type == \\\"rigetti\\\":\\n        # Qiskit --> Cirq.\\n        cirq_circuit, _ = convert_to_mitiq(circuit)\\n        circuit_with_linequbits = cirq_circuit.transform_qubits(\\n            named_qubit_to_line_qubit\\n        )\\n\\n        # Cirq --> Braket.\\n        return convert_from_mitiq(circuit_with_linequbits, \\\"braket\\\"), \\\"0\\\" * len(qubits)\\n\\n    elif hardware_type == \\\"ibmq\\\":\\n        # Hack: Remove classical register and rename qubit register.\\n        return convert_from_mitiq(convert_to_mitiq(circuit)[0], \\\"qiskit\\\"), \\\"0\\\" * len(\\n            qubits\\n        )\\n\\n\\ndef get_mirror_circuit(\\n    depth: int, seed: int\\n) -> Union[Tuple[cirq.Circuit, str], Tuple[qiskit.QuantumCircuit, str]]:\\n\\n    return_type = (\\n        \\\"braket\\\" if hardware_type == \\\"ionq\\\" or hardware_type == \\\"rigetti\\\" else \\\"qiskit\\\"\\n    )\\n    circuit, correct_bitstring = benchmarks.generate_mirror_circuit(\\n        nlayers=depth,\\n        two_qubit_gate_prob=1.0,\\n        connectivity_graph=computer,\\n        two_qubit_gate_name=\\\"CNOT\\\",\\n        seed=seed,\\n        return_type=return_type,\\n    )\\n\\n    if hardware_type == \\\"ionq\\\" or hardware_type == \\\"rigetti\\\":\\n        return circuit, correct_bitstring\\n    elif hardware_type == \\\"ibmq\\\":\\n        # Reversed because Qiskit is wrong endian.\\n        return circuit, \\\"\\\".join(map(str, correct_bitstring[::-1]))\";\n",
       "                var nbb_cells = Jupyter.notebook.get_cells();\n",
       "                for (var i = 0; i < nbb_cells.length; ++i) {\n",
       "                    if (nbb_cells[i].input_prompt_number == nbb_cell_id) {\n",
       "                        if (nbb_cells[i].get_text() == nbb_unformatted_code) {\n",
       "                             nbb_cells[i].set_text(nbb_formatted_code);\n",
       "                        }\n",
       "                        break;\n",
       "                    }\n",
       "                }\n",
       "            }, 500);\n",
       "            "
      ],
      "text/plain": [
       "<IPython.core.display.Javascript object>"
      ]
     },
     "metadata": {},
     "output_type": "display_data"
    }
   ],
   "source": [
    "def get_rb_circuit(\n",
    "    depth: int, seed: int\n",
    ") -> Union[Tuple[cirq.Circuit, str], Tuple[qiskit.QuantumCircuit, str]]:\n",
    "    circuit = rb.randomized_benchmarking_seq(\n",
    "        length_vector=[depth],\n",
    "        rb_pattern=rb_pattern,\n",
    "        group_gates=\"0\",\n",
    "        rand_seed=seed,\n",
    "    )[0][0][0]\n",
    "\n",
    "    # Remove barriers and measurements.\n",
    "    circuit = RemoveFinalMeasurements()(RemoveBarriers()(circuit))\n",
    "\n",
    "    if hardware_type == \"ionq\" or hardware_type == \"rigetti\":\n",
    "        # Qiskit --> Cirq.\n",
    "        cirq_circuit, _ = convert_to_mitiq(circuit)\n",
    "        circuit_with_linequbits = cirq_circuit.transform_qubits(\n",
    "            named_qubit_to_line_qubit\n",
    "        )\n",
    "\n",
    "        # Cirq --> Braket.\n",
    "        return convert_from_mitiq(circuit_with_linequbits, \"braket\"), \"0\" * len(qubits)\n",
    "\n",
    "    elif hardware_type == \"ibmq\":\n",
    "        # Hack: Remove classical register and rename qubit register.\n",
    "        return convert_from_mitiq(convert_to_mitiq(circuit)[0], \"qiskit\"), \"0\" * len(\n",
    "            qubits\n",
    "        )\n",
    "\n",
    "\n",
    "def get_mirror_circuit(\n",
    "    depth: int, seed: int\n",
    ") -> Union[Tuple[cirq.Circuit, str], Tuple[qiskit.QuantumCircuit, str]]:\n",
    "\n",
    "    return_type = (\n",
    "        \"braket\" if hardware_type == \"ionq\" or hardware_type == \"rigetti\" else \"qiskit\"\n",
    "    )\n",
    "    circuit, correct_bitstring = benchmarks.generate_mirror_circuit(\n",
    "        nlayers=depth,\n",
    "        two_qubit_gate_prob=1.0,\n",
    "        connectivity_graph=computer,\n",
    "        two_qubit_gate_name=\"CNOT\",\n",
    "        seed=seed,\n",
    "        return_type=return_type,\n",
    "    )\n",
    "\n",
    "    if hardware_type == \"ionq\" or hardware_type == \"rigetti\":\n",
    "        return circuit, correct_bitstring\n",
    "    elif hardware_type == \"ibmq\":\n",
    "        # Reversed because Qiskit is wrong endian.\n",
    "        return circuit, \"\".join(map(str, correct_bitstring[::-1]))"
   ]
  },
  {
   "cell_type": "markdown",
   "id": "88f1838e",
   "metadata": {},
   "source": [
    "### Gateset compilation functions"
   ]
  },
  {
   "cell_type": "code",
   "execution_count": 8,
   "id": "552cb84f",
   "metadata": {},
   "outputs": [
    {
     "data": {
      "application/javascript": [
       "\n",
       "            setTimeout(function() {\n",
       "                var nbb_cell_id = 8;\n",
       "                var nbb_unformatted_code = \"def compile_to_rigetti_gateset(circuit: Circuit) -> Circuit:\\n    \\\"\\\"\\\"Compiles AWS gates to Rigetti gateset. Taken from:\\n    https://mitiq.readthedocs.io/en/stable/examples/braket_mirror_circuit.html\\\"\\\"\\\"\\n    compiled = Circuit()\\n\\n    for instr in circuit.instructions:\\n        if isinstance(instr.operator, gates.Vi):\\n            compiled.add_instruction(\\n                gates.Instruction(gates.Rx(-np.pi / 2), instr.target)\\n            )\\n        elif isinstance(instr.operator, gates.V):\\n            compiled.add_instruction(\\n                gates.Instruction(gates.Rx(np.pi / 2), instr.target)\\n            )\\n        elif isinstance(instr.operator, gates.Ry):\\n            compiled.add_instruction(\\n                gates.Instruction(gates.Rx(-np.pi / 2), instr.target)\\n            )\\n            compiled.add_instruction(\\n                gates.Instruction(gates.Rz(-instr.operator.angle), instr.target)\\n            )\\n            compiled.add_instruction(\\n                gates.Instruction(gates.Rx(np.pi / 2), instr.target)\\n            )\\n        elif isinstance(instr.operator, gates.Y):\\n            compiled.add_instruction(\\n                gates.Instruction(gates.Rx(-np.pi / 2), instr.target)\\n            )\\n            compiled.add_instruction(gates.Instruction(gates.Rz(np.pi), instr.target))\\n            compiled.add_instruction(\\n                gates.Instruction(gates.Rx(np.pi / 2), instr.target)\\n            )\\n        elif isinstance(instr.operator, gates.X):\\n            compiled.add_instruction(gates.Instruction(gates.Rx(np.pi), instr.target))\\n        elif isinstance(instr.operator, gates.Z):\\n            compiled.add_instruction(gates.Instruction(gates.Rz(np.pi), instr.target))\\n        elif isinstance(instr.operator, gates.S):\\n            compiled.add_instruction(\\n                gates.Instruction(gates.Rz(np.pi / 2), instr.target)\\n            )\\n        elif isinstance(instr.operator, gates.Si):\\n            compiled.add_instruction(\\n                gates.Instruction(gates.Rz(-np.pi / 2), instr.target)\\n            )\\n        elif isinstance(instr.operator, gates.H):\\n            compiled.add_instruction(\\n                gates.Instruction(gates.Rz(np.pi / 2), instr.target)\\n            )\\n            compiled.add_instruction(\\n                gates.Instruction(gates.Rx(np.pi / 2), instr.target)\\n            )\\n            compiled.add_instruction(\\n                gates.Instruction(gates.Rz(np.pi / 2), instr.target)\\n            )\\n        elif isinstance(instr.operator, gates.CNot):\\n            # First Hadamard\\n            compiled.add_instruction(\\n                gates.Instruction(gates.Rz(np.pi / 2), instr.target[1])\\n            )\\n            compiled.add_instruction(\\n                gates.Instruction(gates.Rx(np.pi / 2), instr.target[1])\\n            )\\n            compiled.add_instruction(\\n                gates.Instruction(gates.Rz(np.pi / 2), instr.target[1])\\n            )\\n\\n            # Controlled-Z\\n            compiled.add_instruction(gates.Instruction(gates.CZ(), instr.target))\\n\\n            # Second Hadamard\\n            compiled.add_instruction(\\n                gates.Instruction(gates.Rz(np.pi / 2), instr.target[1])\\n            )\\n            compiled.add_instruction(\\n                gates.Instruction(gates.Rx(np.pi / 2), instr.target[1])\\n            )\\n            compiled.add_instruction(\\n                gates.Instruction(gates.Rz(np.pi / 2), instr.target[1])\\n            )\\n        else:\\n            compiled.add_instruction(instr)\\n\\n    return compiled\";\n",
       "                var nbb_formatted_code = \"def compile_to_rigetti_gateset(circuit: Circuit) -> Circuit:\\n    \\\"\\\"\\\"Compiles AWS gates to Rigetti gateset. Taken from:\\n    https://mitiq.readthedocs.io/en/stable/examples/braket_mirror_circuit.html\\\"\\\"\\\"\\n    compiled = Circuit()\\n\\n    for instr in circuit.instructions:\\n        if isinstance(instr.operator, gates.Vi):\\n            compiled.add_instruction(\\n                gates.Instruction(gates.Rx(-np.pi / 2), instr.target)\\n            )\\n        elif isinstance(instr.operator, gates.V):\\n            compiled.add_instruction(\\n                gates.Instruction(gates.Rx(np.pi / 2), instr.target)\\n            )\\n        elif isinstance(instr.operator, gates.Ry):\\n            compiled.add_instruction(\\n                gates.Instruction(gates.Rx(-np.pi / 2), instr.target)\\n            )\\n            compiled.add_instruction(\\n                gates.Instruction(gates.Rz(-instr.operator.angle), instr.target)\\n            )\\n            compiled.add_instruction(\\n                gates.Instruction(gates.Rx(np.pi / 2), instr.target)\\n            )\\n        elif isinstance(instr.operator, gates.Y):\\n            compiled.add_instruction(\\n                gates.Instruction(gates.Rx(-np.pi / 2), instr.target)\\n            )\\n            compiled.add_instruction(gates.Instruction(gates.Rz(np.pi), instr.target))\\n            compiled.add_instruction(\\n                gates.Instruction(gates.Rx(np.pi / 2), instr.target)\\n            )\\n        elif isinstance(instr.operator, gates.X):\\n            compiled.add_instruction(gates.Instruction(gates.Rx(np.pi), instr.target))\\n        elif isinstance(instr.operator, gates.Z):\\n            compiled.add_instruction(gates.Instruction(gates.Rz(np.pi), instr.target))\\n        elif isinstance(instr.operator, gates.S):\\n            compiled.add_instruction(\\n                gates.Instruction(gates.Rz(np.pi / 2), instr.target)\\n            )\\n        elif isinstance(instr.operator, gates.Si):\\n            compiled.add_instruction(\\n                gates.Instruction(gates.Rz(-np.pi / 2), instr.target)\\n            )\\n        elif isinstance(instr.operator, gates.H):\\n            compiled.add_instruction(\\n                gates.Instruction(gates.Rz(np.pi / 2), instr.target)\\n            )\\n            compiled.add_instruction(\\n                gates.Instruction(gates.Rx(np.pi / 2), instr.target)\\n            )\\n            compiled.add_instruction(\\n                gates.Instruction(gates.Rz(np.pi / 2), instr.target)\\n            )\\n        elif isinstance(instr.operator, gates.CNot):\\n            # First Hadamard\\n            compiled.add_instruction(\\n                gates.Instruction(gates.Rz(np.pi / 2), instr.target[1])\\n            )\\n            compiled.add_instruction(\\n                gates.Instruction(gates.Rx(np.pi / 2), instr.target[1])\\n            )\\n            compiled.add_instruction(\\n                gates.Instruction(gates.Rz(np.pi / 2), instr.target[1])\\n            )\\n\\n            # Controlled-Z\\n            compiled.add_instruction(gates.Instruction(gates.CZ(), instr.target))\\n\\n            # Second Hadamard\\n            compiled.add_instruction(\\n                gates.Instruction(gates.Rz(np.pi / 2), instr.target[1])\\n            )\\n            compiled.add_instruction(\\n                gates.Instruction(gates.Rx(np.pi / 2), instr.target[1])\\n            )\\n            compiled.add_instruction(\\n                gates.Instruction(gates.Rz(np.pi / 2), instr.target[1])\\n            )\\n        else:\\n            compiled.add_instruction(instr)\\n\\n    return compiled\";\n",
       "                var nbb_cells = Jupyter.notebook.get_cells();\n",
       "                for (var i = 0; i < nbb_cells.length; ++i) {\n",
       "                    if (nbb_cells[i].input_prompt_number == nbb_cell_id) {\n",
       "                        if (nbb_cells[i].get_text() == nbb_unformatted_code) {\n",
       "                             nbb_cells[i].set_text(nbb_formatted_code);\n",
       "                        }\n",
       "                        break;\n",
       "                    }\n",
       "                }\n",
       "            }, 500);\n",
       "            "
      ],
      "text/plain": [
       "<IPython.core.display.Javascript object>"
      ]
     },
     "metadata": {},
     "output_type": "display_data"
    }
   ],
   "source": [
    "def compile_to_rigetti_gateset(circuit: Circuit) -> Circuit:\n",
    "    \"\"\"Compiles AWS gates to Rigetti gateset. Taken from:\n",
    "    https://mitiq.readthedocs.io/en/stable/examples/braket_mirror_circuit.html\"\"\"\n",
    "    compiled = Circuit()\n",
    "\n",
    "    for instr in circuit.instructions:\n",
    "        if isinstance(instr.operator, gates.Vi):\n",
    "            compiled.add_instruction(\n",
    "                gates.Instruction(gates.Rx(-np.pi / 2), instr.target)\n",
    "            )\n",
    "        elif isinstance(instr.operator, gates.V):\n",
    "            compiled.add_instruction(\n",
    "                gates.Instruction(gates.Rx(np.pi / 2), instr.target)\n",
    "            )\n",
    "        elif isinstance(instr.operator, gates.Ry):\n",
    "            compiled.add_instruction(\n",
    "                gates.Instruction(gates.Rx(-np.pi / 2), instr.target)\n",
    "            )\n",
    "            compiled.add_instruction(\n",
    "                gates.Instruction(gates.Rz(-instr.operator.angle), instr.target)\n",
    "            )\n",
    "            compiled.add_instruction(\n",
    "                gates.Instruction(gates.Rx(np.pi / 2), instr.target)\n",
    "            )\n",
    "        elif isinstance(instr.operator, gates.Y):\n",
    "            compiled.add_instruction(\n",
    "                gates.Instruction(gates.Rx(-np.pi / 2), instr.target)\n",
    "            )\n",
    "            compiled.add_instruction(gates.Instruction(gates.Rz(np.pi), instr.target))\n",
    "            compiled.add_instruction(\n",
    "                gates.Instruction(gates.Rx(np.pi / 2), instr.target)\n",
    "            )\n",
    "        elif isinstance(instr.operator, gates.X):\n",
    "            compiled.add_instruction(gates.Instruction(gates.Rx(np.pi), instr.target))\n",
    "        elif isinstance(instr.operator, gates.Z):\n",
    "            compiled.add_instruction(gates.Instruction(gates.Rz(np.pi), instr.target))\n",
    "        elif isinstance(instr.operator, gates.S):\n",
    "            compiled.add_instruction(\n",
    "                gates.Instruction(gates.Rz(np.pi / 2), instr.target)\n",
    "            )\n",
    "        elif isinstance(instr.operator, gates.Si):\n",
    "            compiled.add_instruction(\n",
    "                gates.Instruction(gates.Rz(-np.pi / 2), instr.target)\n",
    "            )\n",
    "        elif isinstance(instr.operator, gates.H):\n",
    "            compiled.add_instruction(\n",
    "                gates.Instruction(gates.Rz(np.pi / 2), instr.target)\n",
    "            )\n",
    "            compiled.add_instruction(\n",
    "                gates.Instruction(gates.Rx(np.pi / 2), instr.target)\n",
    "            )\n",
    "            compiled.add_instruction(\n",
    "                gates.Instruction(gates.Rz(np.pi / 2), instr.target)\n",
    "            )\n",
    "        elif isinstance(instr.operator, gates.CNot):\n",
    "            # First Hadamard\n",
    "            compiled.add_instruction(\n",
    "                gates.Instruction(gates.Rz(np.pi / 2), instr.target[1])\n",
    "            )\n",
    "            compiled.add_instruction(\n",
    "                gates.Instruction(gates.Rx(np.pi / 2), instr.target[1])\n",
    "            )\n",
    "            compiled.add_instruction(\n",
    "                gates.Instruction(gates.Rz(np.pi / 2), instr.target[1])\n",
    "            )\n",
    "\n",
    "            # Controlled-Z\n",
    "            compiled.add_instruction(gates.Instruction(gates.CZ(), instr.target))\n",
    "\n",
    "            # Second Hadamard\n",
    "            compiled.add_instruction(\n",
    "                gates.Instruction(gates.Rz(np.pi / 2), instr.target[1])\n",
    "            )\n",
    "            compiled.add_instruction(\n",
    "                gates.Instruction(gates.Rx(np.pi / 2), instr.target[1])\n",
    "            )\n",
    "            compiled.add_instruction(\n",
    "                gates.Instruction(gates.Rz(np.pi / 2), instr.target[1])\n",
    "            )\n",
    "        else:\n",
    "            compiled.add_instruction(instr)\n",
    "\n",
    "    return compiled"
   ]
  },
  {
   "cell_type": "markdown",
   "id": "8d22b993",
   "metadata": {},
   "source": [
    "### CNOT count utility functions"
   ]
  },
  {
   "cell_type": "code",
   "execution_count": 9,
   "id": "120631e4",
   "metadata": {},
   "outputs": [
    {
     "data": {
      "application/javascript": [
       "\n",
       "            setTimeout(function() {\n",
       "                var nbb_cell_id = 9;\n",
       "                var nbb_unformatted_code = \"def get_num_twoq_count(circuit: Union[cirq.Circuit, qiskit.QuantumCircuit]) -> int:\\n    \\\"\\\"\\\"Determine number of two-qubit gates in a given `Circuit` object.\\\"\\\"\\\"\\n\\n    # Count CNOT gates for `cirq`-type circuit objects:\\n    if hardware_type == \\\"ionq\\\" or hardware_type == \\\"rigetti\\\":\\n        num_cnots: int = 0\\n        for instruction in circuit.instructions:\\n            if isinstance(instruction.operator, gates.CNot) or isinstance(\\n                instruction.operator, gates.CZ\\n            ):\\n                num_cnots += 1\\n        return num_cnots\\n\\n    # Count CNOT gates for `qiskit`-type circuit objects:\\n    elif hardware_type == \\\"ibmq\\\":\\n        return circuit.count_ops().get(\\\"cx\\\")\\n\\n\\ndef get_oneq_count(circuit: Union[cirq.Circuit, qiskit.QuantumCircuit]) -> int:\\n    if hardware_type == \\\"ionq\\\" or hardware_type == \\\"rigetti\\\":\\n        return len(circuit.instructions) - get_num_twoq_count(circuit)\\n    elif hardware_type == \\\"ibmq\\\":\\n        return len(circuit) - get_num_twoq_count(circuit)\";\n",
       "                var nbb_formatted_code = \"def get_num_twoq_count(circuit: Union[cirq.Circuit, qiskit.QuantumCircuit]) -> int:\\n    \\\"\\\"\\\"Determine number of two-qubit gates in a given `Circuit` object.\\\"\\\"\\\"\\n\\n    # Count CNOT gates for `cirq`-type circuit objects:\\n    if hardware_type == \\\"ionq\\\" or hardware_type == \\\"rigetti\\\":\\n        num_cnots: int = 0\\n        for instruction in circuit.instructions:\\n            if isinstance(instruction.operator, gates.CNot) or isinstance(\\n                instruction.operator, gates.CZ\\n            ):\\n                num_cnots += 1\\n        return num_cnots\\n\\n    # Count CNOT gates for `qiskit`-type circuit objects:\\n    elif hardware_type == \\\"ibmq\\\":\\n        return circuit.count_ops().get(\\\"cx\\\")\\n\\n\\ndef get_oneq_count(circuit: Union[cirq.Circuit, qiskit.QuantumCircuit]) -> int:\\n    if hardware_type == \\\"ionq\\\" or hardware_type == \\\"rigetti\\\":\\n        return len(circuit.instructions) - get_num_twoq_count(circuit)\\n    elif hardware_type == \\\"ibmq\\\":\\n        return len(circuit) - get_num_twoq_count(circuit)\";\n",
       "                var nbb_cells = Jupyter.notebook.get_cells();\n",
       "                for (var i = 0; i < nbb_cells.length; ++i) {\n",
       "                    if (nbb_cells[i].input_prompt_number == nbb_cell_id) {\n",
       "                        if (nbb_cells[i].get_text() == nbb_unformatted_code) {\n",
       "                             nbb_cells[i].set_text(nbb_formatted_code);\n",
       "                        }\n",
       "                        break;\n",
       "                    }\n",
       "                }\n",
       "            }, 500);\n",
       "            "
      ],
      "text/plain": [
       "<IPython.core.display.Javascript object>"
      ]
     },
     "metadata": {},
     "output_type": "display_data"
    }
   ],
   "source": [
    "def get_num_twoq_count(circuit: Union[cirq.Circuit, qiskit.QuantumCircuit]) -> int:\n",
    "    \"\"\"Determine number of two-qubit gates in a given `Circuit` object.\"\"\"\n",
    "\n",
    "    # Count CNOT gates for `cirq`-type circuit objects:\n",
    "    if hardware_type == \"ionq\" or hardware_type == \"rigetti\":\n",
    "        num_cnots: int = 0\n",
    "        for instruction in circuit.instructions:\n",
    "            if isinstance(instruction.operator, gates.CNot) or isinstance(\n",
    "                instruction.operator, gates.CZ\n",
    "            ):\n",
    "                num_cnots += 1\n",
    "        return num_cnots\n",
    "\n",
    "    # Count CNOT gates for `qiskit`-type circuit objects:\n",
    "    elif hardware_type == \"ibmq\":\n",
    "        return circuit.count_ops().get(\"cx\")\n",
    "\n",
    "\n",
    "def get_oneq_count(circuit: Union[cirq.Circuit, qiskit.QuantumCircuit]) -> int:\n",
    "    if hardware_type == \"ionq\" or hardware_type == \"rigetti\":\n",
    "        return len(circuit.instructions) - get_num_twoq_count(circuit)\n",
    "    elif hardware_type == \"ibmq\":\n",
    "        return len(circuit) - get_num_twoq_count(circuit)"
   ]
  },
  {
   "cell_type": "markdown",
   "id": "d7105282",
   "metadata": {},
   "source": [
    "## Analyze the number of gates in RB circuits and in mirror circuits"
   ]
  },
  {
   "cell_type": "code",
   "execution_count": 10,
   "id": "8db26c58",
   "metadata": {},
   "outputs": [
    {
     "data": {
      "application/javascript": [
       "\n",
       "            setTimeout(function() {\n",
       "                var nbb_cell_id = 10;\n",
       "                var nbb_unformatted_code = \"def count_gates(circuit_type_to_analyze: str, num_trials=100, seed=0):\\n    \\\"\\\"\\\"Analyze the number of two-qubit and single-qubit gates.\\\"\\\"\\\"\\n\\n    depths = [1, 3, 5, 7, 9, 12]\\n\\n    num_twoq_gates = np.zeros(len(depths))\\n    num_oneq_gates = np.zeros(len(depths))\\n    for trial in range(num_trials):  # Average over different seeds\\n        num_twoq_gates_trial = []\\n        num_oneq_gates_trial = []\\n\\n        for depth in depths:\\n            if circuit_type_to_analyze == \\\"rb\\\":\\n                circuit, _ = get_rb_circuit(\\n                    depth=depth, seed=seed + (10**3) * depth + (10**6) * trial\\n                )\\n            elif circuit_type_to_analyze == \\\"mirror\\\":\\n                circuit, _ = get_mirror_circuit(\\n                    depth=depth, seed=seed + (10**3) * depth + (10**6) * trial\\n                )\\n\\n            # Compile to native gate set\\n            if hardware_type == \\\"rigetti\\\":\\n                circuit = compile_to_rigetti_gateset(circuit)\\n\\n            num_twoq_gates_trial.append(get_num_twoq_count(circuit))\\n            num_oneq_gates_trial.append(get_oneq_count(circuit))\\n        num_twoq_gates += np.array(num_twoq_gates_trial)\\n        num_oneq_gates += np.array(num_oneq_gates_trial)\\n\\n    num_twoq_gates /= num_trials\\n    num_oneq_gates /= num_trials\\n\\n    twoq_params = np.polyfit(depths, num_twoq_gates, 1)\\n    twoq_curve = np.poly1d(twoq_params)\\n\\n    oneq_params = np.polyfit(depths, num_oneq_gates, 1)\\n    oneq_curve = np.poly1d(oneq_params)\\n\\n    print(\\\"depth\\\\tnum. twoq\\\\tnum oneq\\\")\\n    print(\\\"-----------------------------------\\\")\\n\\n    for d, twoq, oneq in zip(depths, num_twoq_gates, num_oneq_gates):\\n        print(f\\\"{d}\\\\t{twoq}\\\\t\\\\t{oneq}\\\")\\n\\n    plt.ylabel(\\\"Number of two-qubit gates\\\")\\n    plt.xlabel(\\\"d\\\")\\n    plt.plot(\\n        depths,\\n        num_twoq_gates,\\n        \\\"*\\\",\\n        label=f\\\"Two-qubit gates in {circuit_type_to_analyze} circuits\\\",\\n    )\\n    plt.plot(\\n        depths,\\n        twoq_curve(depths),\\n        label=f\\\"best fit: y={twoq_params[0]:.3} x + {twoq_params[1]:.3}\\\",\\n    )\\n    plt.legend()\\n    plt.show()\\n\\n    plt.ylabel(\\\"Number of one-qubit gates\\\")\\n    plt.xlabel(\\\"d\\\")\\n    plt.plot(\\n        depths,\\n        num_oneq_gates,\\n        \\\"*\\\",\\n        label=f\\\"One-qubit gates in {circuit_type_to_analyze} circuits\\\",\\n    )\\n    plt.plot(\\n        depths,\\n        oneq_curve(depths),\\n        label=f\\\"best fit: y={oneq_params[0]:.3} x + {oneq_params[1]:.3}\\\",\\n    )\\n    plt.legend()\\n    plt.show()\";\n",
       "                var nbb_formatted_code = \"def count_gates(circuit_type_to_analyze: str, num_trials=100, seed=0):\\n    \\\"\\\"\\\"Analyze the number of two-qubit and single-qubit gates.\\\"\\\"\\\"\\n\\n    depths = [1, 3, 5, 7, 9, 12]\\n\\n    num_twoq_gates = np.zeros(len(depths))\\n    num_oneq_gates = np.zeros(len(depths))\\n    for trial in range(num_trials):  # Average over different seeds\\n        num_twoq_gates_trial = []\\n        num_oneq_gates_trial = []\\n\\n        for depth in depths:\\n            if circuit_type_to_analyze == \\\"rb\\\":\\n                circuit, _ = get_rb_circuit(\\n                    depth=depth, seed=seed + (10**3) * depth + (10**6) * trial\\n                )\\n            elif circuit_type_to_analyze == \\\"mirror\\\":\\n                circuit, _ = get_mirror_circuit(\\n                    depth=depth, seed=seed + (10**3) * depth + (10**6) * trial\\n                )\\n\\n            # Compile to native gate set\\n            if hardware_type == \\\"rigetti\\\":\\n                circuit = compile_to_rigetti_gateset(circuit)\\n\\n            num_twoq_gates_trial.append(get_num_twoq_count(circuit))\\n            num_oneq_gates_trial.append(get_oneq_count(circuit))\\n        num_twoq_gates += np.array(num_twoq_gates_trial)\\n        num_oneq_gates += np.array(num_oneq_gates_trial)\\n\\n    num_twoq_gates /= num_trials\\n    num_oneq_gates /= num_trials\\n\\n    twoq_params = np.polyfit(depths, num_twoq_gates, 1)\\n    twoq_curve = np.poly1d(twoq_params)\\n\\n    oneq_params = np.polyfit(depths, num_oneq_gates, 1)\\n    oneq_curve = np.poly1d(oneq_params)\\n\\n    print(\\\"depth\\\\tnum. twoq\\\\tnum oneq\\\")\\n    print(\\\"-----------------------------------\\\")\\n\\n    for d, twoq, oneq in zip(depths, num_twoq_gates, num_oneq_gates):\\n        print(f\\\"{d}\\\\t{twoq}\\\\t\\\\t{oneq}\\\")\\n\\n    plt.ylabel(\\\"Number of two-qubit gates\\\")\\n    plt.xlabel(\\\"d\\\")\\n    plt.plot(\\n        depths,\\n        num_twoq_gates,\\n        \\\"*\\\",\\n        label=f\\\"Two-qubit gates in {circuit_type_to_analyze} circuits\\\",\\n    )\\n    plt.plot(\\n        depths,\\n        twoq_curve(depths),\\n        label=f\\\"best fit: y={twoq_params[0]:.3} x + {twoq_params[1]:.3}\\\",\\n    )\\n    plt.legend()\\n    plt.show()\\n\\n    plt.ylabel(\\\"Number of one-qubit gates\\\")\\n    plt.xlabel(\\\"d\\\")\\n    plt.plot(\\n        depths,\\n        num_oneq_gates,\\n        \\\"*\\\",\\n        label=f\\\"One-qubit gates in {circuit_type_to_analyze} circuits\\\",\\n    )\\n    plt.plot(\\n        depths,\\n        oneq_curve(depths),\\n        label=f\\\"best fit: y={oneq_params[0]:.3} x + {oneq_params[1]:.3}\\\",\\n    )\\n    plt.legend()\\n    plt.show()\";\n",
       "                var nbb_cells = Jupyter.notebook.get_cells();\n",
       "                for (var i = 0; i < nbb_cells.length; ++i) {\n",
       "                    if (nbb_cells[i].input_prompt_number == nbb_cell_id) {\n",
       "                        if (nbb_cells[i].get_text() == nbb_unformatted_code) {\n",
       "                             nbb_cells[i].set_text(nbb_formatted_code);\n",
       "                        }\n",
       "                        break;\n",
       "                    }\n",
       "                }\n",
       "            }, 500);\n",
       "            "
      ],
      "text/plain": [
       "<IPython.core.display.Javascript object>"
      ]
     },
     "metadata": {},
     "output_type": "display_data"
    }
   ],
   "source": [
    "def count_gates(circuit_type_to_analyze: str, num_trials=100, seed=0):\n",
    "    \"\"\"Analyze the number of two-qubit and single-qubit gates.\"\"\"\n",
    "\n",
    "    depths = [1, 3, 5, 7, 9, 12]\n",
    "\n",
    "    num_twoq_gates = np.zeros(len(depths))\n",
    "    num_oneq_gates = np.zeros(len(depths))\n",
    "    for trial in range(num_trials):  # Average over different seeds\n",
    "        num_twoq_gates_trial = []\n",
    "        num_oneq_gates_trial = []\n",
    "\n",
    "        for depth in depths:\n",
    "            if circuit_type_to_analyze == \"rb\":\n",
    "                circuit, _ = get_rb_circuit(\n",
    "                    depth=depth, seed=seed + (10**3) * depth + (10**6) * trial\n",
    "                )\n",
    "            elif circuit_type_to_analyze == \"mirror\":\n",
    "                circuit, _ = get_mirror_circuit(\n",
    "                    depth=depth, seed=seed + (10**3) * depth + (10**6) * trial\n",
    "                )\n",
    "\n",
    "            # Compile to native gate set\n",
    "            if hardware_type == \"rigetti\":\n",
    "                circuit = compile_to_rigetti_gateset(circuit)\n",
    "\n",
    "            num_twoq_gates_trial.append(get_num_twoq_count(circuit))\n",
    "            num_oneq_gates_trial.append(get_oneq_count(circuit))\n",
    "        num_twoq_gates += np.array(num_twoq_gates_trial)\n",
    "        num_oneq_gates += np.array(num_oneq_gates_trial)\n",
    "\n",
    "    num_twoq_gates /= num_trials\n",
    "    num_oneq_gates /= num_trials\n",
    "\n",
    "    twoq_params = np.polyfit(depths, num_twoq_gates, 1)\n",
    "    twoq_curve = np.poly1d(twoq_params)\n",
    "\n",
    "    oneq_params = np.polyfit(depths, num_oneq_gates, 1)\n",
    "    oneq_curve = np.poly1d(oneq_params)\n",
    "\n",
    "    print(\"depth\\tnum. twoq\\tnum oneq\")\n",
    "    print(\"-----------------------------------\")\n",
    "\n",
    "    for d, twoq, oneq in zip(depths, num_twoq_gates, num_oneq_gates):\n",
    "        print(f\"{d}\\t{twoq}\\t\\t{oneq}\")\n",
    "\n",
    "    plt.ylabel(\"Number of two-qubit gates\")\n",
    "    plt.xlabel(\"d\")\n",
    "    plt.plot(\n",
    "        depths,\n",
    "        num_twoq_gates,\n",
    "        \"*\",\n",
    "        label=f\"Two-qubit gates in {circuit_type_to_analyze} circuits\",\n",
    "    )\n",
    "    plt.plot(\n",
    "        depths,\n",
    "        twoq_curve(depths),\n",
    "        label=f\"best fit: y={twoq_params[0]:.3} x + {twoq_params[1]:.3}\",\n",
    "    )\n",
    "    plt.legend()\n",
    "    plt.show()\n",
    "\n",
    "    plt.ylabel(\"Number of one-qubit gates\")\n",
    "    plt.xlabel(\"d\")\n",
    "    plt.plot(\n",
    "        depths,\n",
    "        num_oneq_gates,\n",
    "        \"*\",\n",
    "        label=f\"One-qubit gates in {circuit_type_to_analyze} circuits\",\n",
    "    )\n",
    "    plt.plot(\n",
    "        depths,\n",
    "        oneq_curve(depths),\n",
    "        label=f\"best fit: y={oneq_params[0]:.3} x + {oneq_params[1]:.3}\",\n",
    "    )\n",
    "    plt.legend()\n",
    "    plt.show()"
   ]
  },
  {
   "cell_type": "code",
   "execution_count": 11,
   "id": "69329068",
   "metadata": {},
   "outputs": [
    {
     "name": "stdout",
     "output_type": "stream",
     "text": [
      "depth\tnum. twoq\tnum oneq\n",
      "-----------------------------------\n",
      "1\t3.2\t\t22.4\n",
      "3\t6.2\t\t44.5\n",
      "5\t8.7\t\t64.3\n",
      "7\t11.6\t\t79.9\n",
      "9\t15.2\t\t107.9\n",
      "12\t18.5\t\t134.7\n"
     ]
    },
    {
     "data": {
      "image/png": "[encoded data removed]",
      "text/plain": [
       "<Figure size 432x288 with 1 Axes>"
      ]
     },
     "metadata": {
      "needs_background": "light"
     },
     "output_type": "display_data"
    },
    {
     "data": {
      "image/png": "[encoded data removed]",
      "text/plain": [
       "<Figure size 432x288 with 1 Axes>"
      ]
     },
     "metadata": {
      "needs_background": "light"
     },
     "output_type": "display_data"
    },
    {
     "data": {
      "application/javascript": [
       "\n",
       "            setTimeout(function() {\n",
       "                var nbb_cell_id = 11;\n",
       "                var nbb_unformatted_code = \"count_gates(\\\"rb\\\", num_trials=10, seed=0)\";\n",
       "                var nbb_formatted_code = \"count_gates(\\\"rb\\\", num_trials=10, seed=0)\";\n",
       "                var nbb_cells = Jupyter.notebook.get_cells();\n",
       "                for (var i = 0; i < nbb_cells.length; ++i) {\n",
       "                    if (nbb_cells[i].input_prompt_number == nbb_cell_id) {\n",
       "                        if (nbb_cells[i].get_text() == nbb_unformatted_code) {\n",
       "                             nbb_cells[i].set_text(nbb_formatted_code);\n",
       "                        }\n",
       "                        break;\n",
       "                    }\n",
       "                }\n",
       "            }, 500);\n",
       "            "
      ],
      "text/plain": [
       "<IPython.core.display.Javascript object>"
      ]
     },
     "metadata": {},
     "output_type": "display_data"
    }
   ],
   "source": [
    "count_gates(\"rb\", num_trials=10, seed=0)"
   ]
  },
  {
   "cell_type": "code",
   "execution_count": 12,
   "id": "1b0ae199",
   "metadata": {
    "scrolled": true
   },
   "outputs": [
    {
     "name": "stdout",
     "output_type": "stream",
     "text": [
      "depth\tnum. twoq\tnum oneq\n",
      "-----------------------------------\n",
      "1\t2.0\t\t26.2\n",
      "3\t6.0\t\t45.6\n",
      "5\t10.0\t\t67.6\n",
      "7\t14.0\t\t87.2\n",
      "9\t18.0\t\t108.4\n",
      "12\t24.0\t\t138.4\n"
     ]
    },
    {
     "data": {
      "image/png": "[encoded data removed]",
      "text/plain": [
       "<Figure size 432x288 with 1 Axes>"
      ]
     },
     "metadata": {
      "needs_background": "light"
     },
     "output_type": "display_data"
    },
    {
     "data": {
      "image/png": "[encoded data removed]",
      "text/plain": [
       "<Figure size 432x288 with 1 Axes>"
      ]
     },
     "metadata": {
      "needs_background": "light"
     },
     "output_type": "display_data"
    },
    {
     "data": {
      "application/javascript": [
       "\n",
       "            setTimeout(function() {\n",
       "                var nbb_cell_id = 12;\n",
       "                var nbb_unformatted_code = \"count_gates(\\\"mirror\\\", num_trials=10, seed=0)\";\n",
       "                var nbb_formatted_code = \"count_gates(\\\"mirror\\\", num_trials=10, seed=0)\";\n",
       "                var nbb_cells = Jupyter.notebook.get_cells();\n",
       "                for (var i = 0; i < nbb_cells.length; ++i) {\n",
       "                    if (nbb_cells[i].input_prompt_number == nbb_cell_id) {\n",
       "                        if (nbb_cells[i].get_text() == nbb_unformatted_code) {\n",
       "                             nbb_cells[i].set_text(nbb_formatted_code);\n",
       "                        }\n",
       "                        break;\n",
       "                    }\n",
       "                }\n",
       "            }, 500);\n",
       "            "
      ],
      "text/plain": [
       "<IPython.core.display.Javascript object>"
      ]
     },
     "metadata": {},
     "output_type": "display_data"
    }
   ],
   "source": [
    "count_gates(\"mirror\", num_trials=10, seed=0)"
   ]
  },
  {
   "cell_type": "code",
   "execution_count": null,
   "id": "3251808d",
   "metadata": {},
   "outputs": [],
   "source": []
  }
 ],
 "metadata": {
  "kernelspec": {
   "display_name": "Python 3",
   "language": "python",
   "name": "python3"
  },
  "language_info": {
   "codemirror_mode": {
    "name": "ipython",
    "version": 3
   },
   "file_extension": ".py",
   "mimetype": "text/x-python",
   "name": "python",
   "nbconvert_exporter": "python",
   "pygments_lexer": "ipython3",
   "version": "3.7.7"
  },
  "vscode": {
   "interpreter": {
    "hash": "0adcc2737ebf6a4a119f135174df96668767fca1ef1112612db5ecadf2b6d608"
   }
  }
 },
 "nbformat": 4,
 "nbformat_minor": 5
}
