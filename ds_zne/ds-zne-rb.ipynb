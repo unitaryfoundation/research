{
 "cells": [
  {
   "cell_type": "code",
   "execution_count": 1,
   "metadata": {},
   "outputs": [],
   "source": [
    "from functools import partial\n",
    "import os\n",
    "import numpy as np\n",
    "import cirq\n",
    "from cirq import(\n",
    "    I,\n",
    "    Circuit,\n",
    "    NoiseModel,\n",
    "    DensityMatrixSimulator,\n",
    "    BitFlipChannel,\n",
    "    PhaseFlipChannel,\n",
    "    measure,\n",
    ")\n",
    "\n",
    "from mitiq import zne\n",
    "from mitiq.benchmarks import generate_rb_circuits\n",
    "from mitiq.zne.scaling import fold_global"
   ]
  },
  {
   "cell_type": "code",
   "execution_count": 10,
   "metadata": {},
   "outputs": [],
   "source": [
    "def execute(circuit, shots, correct_bitstring):\n",
    "    \"\"\"Executes the input circuit(s) and returns ⟨A⟩, where\n",
    "    A = |correct_bitstring⟩⟨correct_bitstring| for each circuit.\n",
    "    \"\"\"\n",
    "    circuit_to_run = circuit.copy()\n",
    "\n",
    "    circuit_to_run += measure(*sorted(circuit.all_qubits()), key=\"m\")\n",
    "    backend = DensityMatrixSimulator()\n",
    "\n",
    "    result = backend.run(circuit_to_run, repetitions=shots)\n",
    "    expval = result.measurements[\"m\"].tolist().count(correct_bitstring) / shots\n",
    "    return expval"
   ]
  },
  {
   "cell_type": "markdown",
   "metadata": {},
   "source": [
    "Pauli errors are applied with probability of the logcial error rate, which is related to the code distance by $$L_{ERR}=0.03*(P_{ERR}/P_{TH})^{(D+1)/2}$$\n",
    "\n",
    "where $P_{ERR}$ is the physical error rate and $P_{TH}$ is a threshold error rate."
   ]
  },
  {
   "cell_type": "code",
   "execution_count": 3,
   "metadata": {},
   "outputs": [],
   "source": [
    "def gen_noise_model(PERR, distance):\n",
    "    \"\"\"Create sweepable Pauli noise model.\"\"\"\n",
    "    PTH = 0.009\n",
    "    LERR = 0.03 * (PERR / PTH) ** int((distance + 1) / 2)\n",
    "    return LERR # model as single-qubit errors remaining after correction \n",
    "\n",
    "\n",
    "class PauliNoiseModel(NoiseModel):\n",
    "\n",
    "    def __init__(self, error_rate):\n",
    "        self.error_rate = error_rate\n",
    "\n",
    "    def noisy_operation(self, op):\n",
    "        error_rate = self.error_rate\n",
    "        channel = BitFlipChannel(error_rate).on_each(op.qubits)\n",
    "        channel += PhaseFlipChannel(error_rate).on_each(op.qubits)\n",
    "        return [op, channel]"
   ]
  },
  {
   "cell_type": "code",
   "execution_count": 12,
   "metadata": {},
   "outputs": [],
   "source": [
    "def merge_func(op1, op2):\n",
    "    return True"
   ]
  },
  {
   "cell_type": "code",
   "execution_count": 13,
   "metadata": {},
   "outputs": [],
   "source": [
    "def noisy_execute(circ, noise_level, shots, correct_bitstring):\n",
    "    qubits = circ.all_qubits()\n",
    "    copy = Circuit()\n",
    "    for moment in circ.moments:\n",
    "        idle = False\n",
    "        for q in qubits:\n",
    "            # every moment every qubit gets a single-qubit noise op\n",
    "            if not moment.operates_on_single_qubit(q):\n",
    "                idle = True\n",
    "                op_to_circ = Circuit(PauliNoiseModel(noise_level).noisy_operation(cirq.I(q)))\n",
    "                merged_op = cirq.merge_operations_to_circuit_op(op_to_circ, merge_func)\n",
    "                copy.append(moment.with_operations(merged_op.all_operations()))\n",
    "                break\n",
    "        if not idle:\n",
    "            copy.append(moment)\n",
    "    noisy_circ = copy.with_noise(PauliNoiseModel(noise_level))\n",
    "    return execute(noisy_circ, shots=shots, correct_bitstring=correct_bitstring)"
   ]
  },
  {
   "cell_type": "code",
   "execution_count": 14,
   "metadata": {},
   "outputs": [],
   "source": [
    "def distance_scaled_execute(circ, distance, base_noise_level, shots, correct_bitstring):\n",
    "    LERR = gen_noise_model(base_noise_level, distance)\n",
    "    return noisy_execute(circ, LERR, shots, correct_bitstring)"
   ]
  },
  {
   "cell_type": "code",
   "execution_count": 16,
   "metadata": {},
   "outputs": [],
   "source": [
    "def scale_shots(num_device_qubits, scaled_distance, base_shots, n_qubits_circuit):\n",
    "    used_qubits = n_qubits_circuit * scaled_distance ** 2\n",
    "    return base_shots * int(num_device_qubits / used_qubits)"
   ]
  },
  {
   "cell_type": "code",
   "execution_count": 2,
   "metadata": {},
   "outputs": [],
   "source": [
    "num_trials = 100\n",
    "\n",
    "base_shots = 10000\n",
    "device_size = 1200\n",
    "p_err=0.006\n",
    "n_qubits = 2\n",
    "correct_bitstring = [0] * n_qubits\n",
    "depth = 20\n",
    "\n",
    "scale_factors = [1, 3, 5, 7]\n",
    "fac = zne.PolyFactory(scale_factors, order=3)\n",
    "\n",
    "d_array = [21, 19, 17, 15, 13, 11, 9, 7, 5]"
   ]
  },
  {
   "cell_type": "code",
   "execution_count": null,
   "metadata": {},
   "outputs": [],
   "source": [
    "circuits = generate_rb_circuits(n_qubits, depth, trials=num_trials)\n",
    "trial_results = np.zeros((num_trials, 5, len(d_array) - 3)) # row: trial, column: scaling technique, page: distance (high to low)\n",
    "\n",
    "for d_ind in range(len(d_array) - 3):\n",
    "    print(f\"On distance {d_array[d_ind]}\") \n",
    "    for trial in range(num_trials):\n",
    "        if trial in np.linspace(0, num_trials, 11):\n",
    "            print(f\"    On trial {trial}\")  \n",
    "        executor = partial(distance_scaled_execute, distance=d_array[d_ind], base_noise_level=p_err, shots=scale_shots(device_size, d_array[d_ind], base_shots, n_qubits), correct_bitstring=correct_bitstring)\n",
    "        fac.run(circuits[trial], executor, scale_noise=fold_global)\n",
    "        trial_results[trial, :-1, d_ind] = fac.get_expectation_values()\n",
    "        trial_results[trial, -1, d_ind] = distance_scaled_execute(circuits[trial], d_array[d_ind], p_err, 4 * scale_shots(device_size, d_array[d_ind], base_shots, n_qubits), correct_bitstring)\n",
    "    p_err_string = str(p_err).replace(\".\", \"\")[1:]\n",
    "    np.savetxt(os.path.join(\n",
    "                f\"/Users/mistywahl/Documents/GitHub/zne-distance-scaling/notebooks/data_scale_shots_perr_{p_err_string}\",\n",
    "                f\"depth{depth}_distance{d_array[d_ind]}.txt\",\n",
    "            ),\n",
    "            trial_results[:, :, d_ind],\n",
    "        )"
   ]
  },
  {
   "cell_type": "code",
   "execution_count": null,
   "metadata": {},
   "outputs": [],
   "source": [
    "unscaled_results = np.zeros((num_trials, 2, 3))\n",
    "result_ind = 0\n",
    "for d_ind in range(len(d_array) - 3, len(d_array)):\n",
    "    print(f\"On distance {d_array[d_ind]}\") \n",
    "    for trial in range(num_trials):\n",
    "        if trial in np.linspace(0, num_trials, 11):\n",
    "            print(f\"   On trial {trial}\") \n",
    "        unscaled_results[trial, 0, result_ind] = distance_scaled_execute(circuits[trial], d_array[d_ind], base_noise_level=p_err, shots=scale_shots(device_size, d_array[d_ind], base_shots, n_qubits), correct_bitstring=correct_bitstring)\n",
    "        unscaled_results[trial, 1, result_ind] = distance_scaled_execute(circuits[trial], d_array[d_ind], base_noise_level=p_err, shots=4 * scale_shots(device_size, d_array[d_ind], base_shots, n_qubits), correct_bitstring=correct_bitstring)\n",
    "    p_err_string = str(p_err).replace(\".\", \"\")[1:]\n",
    "    np.savetxt(os.path.join(\n",
    "                f\"/Users/mistywahl/Documents/GitHub/zne-distance-scaling/notebooks/data_scale_shots_perr_{p_err_string}\",\n",
    "                f\"depth{depth}_distance{d_array[d_ind]}.txt\",\n",
    "            ),\n",
    "            unscaled_results[:, :, result_ind],\n",
    "        )\n",
    "    result_ind += 1"
   ]
  },
  {
   "cell_type": "code",
   "execution_count": 4,
   "metadata": {},
   "outputs": [],
   "source": [
    "def calculate_folding_exp_vals(scale_factors, exp_vals, num_trials):\n",
    "    \"\"\"Perform extrapolation to zero noise limit on expectation values obtained\n",
    "    with noise scaling by unitary folding. Return mean and standard deviation\n",
    "    of the ZNE expectation values.\n",
    "    \"\"\"\n",
    "    folding_values = np.zeros((num_trials, 1))\n",
    "\n",
    "    for trial in range(num_trials):\n",
    "        folding_values[trial] = fac.extrapolate(scale_factors, exp_vals[trial, : -1], order=3)\n",
    "\n",
    "    return [np.mean(folding_values), np.std(folding_values)]"
   ]
  },
  {
   "cell_type": "code",
   "execution_count": 5,
   "metadata": {},
   "outputs": [],
   "source": [
    "def distance_extrapolation(distance_scale_factors, ds_expectation_values):\n",
    "    fac = zne.PolyFactory(scale_factors=distance_scale_factors, order=3)\n",
    "    for s, v in zip(distance_scale_factors, ds_expectation_values):\n",
    "        fac.push({\"scale_factor\": s}, v)\n",
    "    result = fac.reduce()\n",
    "    # _ = fac.plot_fit()\n",
    "    return result"
   ]
  },
  {
   "cell_type": "code",
   "execution_count": 6,
   "metadata": {},
   "outputs": [],
   "source": [
    "def calculate_ds_exp_vals(d_array, distance_indices, exp_vals, num_trials):\n",
    "    \"\"\"Perform extrapolation to zero noise limit on expectation values obtained\n",
    "    with noise scaling by unitary folding. Return mean and standard deviation\n",
    "    of the ZNE expectation values.\n",
    "    \"\"\"\n",
    "    ds_values = np.zeros((num_trials, len(distance_indices)))\n",
    "    # distance_scale_factors = [gen_noise_model(p_err, d_array[d]) / gen_noise_model(p_err, d_array[distance_indices[0][0]]) for d in distance_indices[0]]\n",
    "\n",
    "    for count, d_ind in enumerate(distance_indices):\n",
    "        distance_scale_factors = [gen_noise_model(p_err, d_array[di]) / gen_noise_model(p_err, d_array[d_ind[0]]) for di in d_ind]\n",
    "        for trial in range(num_trials):\n",
    "            ds_values[trial, count] = distance_extrapolation(distance_scale_factors, exp_vals[trial, d_ind])\n",
    "\n",
    "    return [np.mean(ds_values, axis=0), np.std(ds_values, axis=0)]\n"
   ]
  },
  {
   "cell_type": "code",
   "execution_count": 12,
   "metadata": {},
   "outputs": [],
   "source": [
    "num_trials = 100\n",
    "\n",
    "base_shots = 10000\n",
    "device_size = 1200\n",
    "p_err=0.006\n",
    "n_qubits = 2\n",
    "correct_bitstring = [0] * n_qubits\n",
    "depth = 30\n",
    "\n",
    "scale_factors = [1, 3, 5, 7]\n",
    "fac = zne.PolyFactory(scale_factors, order=3)\n",
    "\n",
    "d_array = [21, 19, 17, 15, 13, 11, 9, 7, 5]"
   ]
  },
  {
   "cell_type": "code",
   "execution_count": null,
   "metadata": {},
   "outputs": [],
   "source": [
    "circuits = generate_rb_circuits(n_qubits, depth, trials=num_trials)\n",
    "trial_results = np.zeros((num_trials, 5, len(d_array) - 3)) # row: trial, column: scaling technique, page: distance (high to low)\n",
    "for d_ind in range(len(d_array) - 3):\n",
    "    print(f\"On distance {d_array[d_ind]}\") \n",
    "    for trial in range(num_trials):\n",
    "        if trial in np.linspace(0, num_trials, 11):\n",
    "            print(f\"    On trial {trial}\")  \n",
    "        executor = partial(distance_scaled_execute, distance=d_array[d_ind], base_noise_level=p_err, shots=scale_shots(device_size, d_array[d_ind], base_shots, n_qubits), correct_bitstring=correct_bitstring)\n",
    "        fac.run(circuits[trial], executor, scale_noise=fold_global)\n",
    "        trial_results[trial, :-1, d_ind] = fac.get_expectation_values()\n",
    "        trial_results[trial, -1, d_ind] = distance_scaled_execute(circuits[trial], d_array[d_ind], p_err, 4 * scale_shots(device_size, d_array[d_ind], base_shots, n_qubits), correct_bitstring)\n",
    "    p_err_string = str(p_err).replace(\".\", \"\")[1:]\n",
    "    np.savetxt(os.path.join(\n",
    "                f\"/Users/mistywahl/Documents/GitHub/zne-distance-scaling/notebooks/data_scale_shots_perr_{p_err_string}\",\n",
    "                f\"depth{depth}_distance{d_array[d_ind]}.txt\",\n",
    "            ),\n",
    "            trial_results[:, :, d_ind],\n",
    "        )"
   ]
  },
  {
   "cell_type": "code",
   "execution_count": null,
   "metadata": {},
   "outputs": [],
   "source": [
    "unscaled_results = np.zeros((num_trials, 2, 3))\n",
    "result_ind = 0\n",
    "for d_ind in range(len(d_array) - 3, len(d_array)):\n",
    "    print(f\"On distance {d_array[d_ind]}\") \n",
    "    for trial in range(num_trials):\n",
    "        if trial in np.linspace(0, num_trials, 11):\n",
    "            print(f\"   On trial {trial}\") \n",
    "        unscaled_results[trial, 0, result_ind] = distance_scaled_execute(circuits[trial], d_array[d_ind], base_noise_level=p_err, shots=scale_shots(device_size, d_array[d_ind], base_shots, n_qubits), correct_bitstring=correct_bitstring)\n",
    "        unscaled_results[trial, 1, result_ind] = distance_scaled_execute(circuits[trial], d_array[d_ind], base_noise_level=p_err, shots=4 * scale_shots(device_size, d_array[d_ind], base_shots, n_qubits), correct_bitstring=correct_bitstring)\n",
    "    p_err_string = str(p_err).replace(\".\", \"\")[1:]\n",
    "    np.savetxt(os.path.join(\n",
    "                f\"/Users/mistywahl/Documents/GitHub/zne-distance-scaling/notebooks/data_scale_shots_perr_{p_err_string}\",\n",
    "                f\"depth{depth}_distance{d_array[d_ind]}.txt\",\n",
    "            ),\n",
    "            unscaled_results[:, :, result_ind],\n",
    "        )\n",
    "    result_ind += 1"
   ]
  }
 ],
 "metadata": {
  "interpreter": {
   "hash": "992c44e14009e3623432b51dfa0ccb8179e6507fb1569359de12ac98f26b40e8"
  },
  "kernelspec": {
   "display_name": "Python 3.8.13 64-bit ('venv_mitiq_learnrepspec')",
   "language": "python",
   "name": "python3"
  },
  "language_info": {
   "codemirror_mode": {
    "name": "ipython",
    "version": 3
   },
   "file_extension": ".py",
   "mimetype": "text/x-python",
   "name": "python",
   "nbconvert_exporter": "python",
   "pygments_lexer": "ipython3",
   "version": "3.8.13"
  },
  "orig_nbformat": 4
 },
 "nbformat": 4,
 "nbformat_minor": 2
}
