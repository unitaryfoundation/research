{
 "cells": [
  {
   "cell_type": "code",
   "execution_count": 1,
   "metadata": {},
   "outputs": [],
   "source": [
    "from functools import partial\n",
    "import os\n",
    "import numpy as np\n",
    "from matplotlib import pyplot as plt\n",
    "from matplotlib import rc\n",
    "import cirq\n",
    "from cirq import(\n",
    "    I,\n",
    "    Circuit,\n",
    "    NoiseModel,\n",
    "    DensityMatrixSimulator,\n",
    "    BitFlipChannel,\n",
    "    PhaseFlipChannel,\n",
    "    measure,\n",
    ")\n",
    "\n",
    "from mitiq import zne\n",
    "from mitiq.benchmarks import generate_rb_circuits\n",
    "from mitiq.zne.scaling import fold_global"
   ]
  },
  {
   "cell_type": "code",
   "execution_count": 10,
   "metadata": {},
   "outputs": [],
   "source": [
    "def execute(circuit, shots, correct_bitstring):\n",
    "    \"\"\"Executes the input circuit(s) and returns ⟨A⟩, where\n",
    "    A = |correct_bitstring⟩⟨correct_bitstring| for each circuit.\n",
    "    \"\"\"\n",
    "    circuit_to_run = circuit.copy()\n",
    "\n",
    "    circuit_to_run += measure(*sorted(circuit.all_qubits()), key=\"m\")\n",
    "    backend = DensityMatrixSimulator()\n",
    "\n",
    "    result = backend.run(circuit_to_run, repetitions=shots)\n",
    "    expval = result.measurements[\"m\"].tolist().count(correct_bitstring) / shots\n",
    "    return expval"
   ]
  },
  {
   "cell_type": "markdown",
   "metadata": {},
   "source": [
    "Pauli errors are applied with probability of the logcial error rate, which is related to the code distance by $$L_{ERR}=0.03*(P_{ERR}/P_{TH})^{(D+1)/2}$$\n",
    "\n",
    "where $P_{ERR}$ is the physical error rate and $P_{TH}$ is a threshold error rate."
   ]
  },
  {
   "cell_type": "code",
   "execution_count": 3,
   "metadata": {},
   "outputs": [],
   "source": [
    "def gen_noise_model(PERR, distance):\n",
    "    \"\"\"Create sweepable Pauli noise model.\"\"\"\n",
    "    PTH = 0.009\n",
    "    LERR = 0.03 * (PERR / PTH) ** int((distance + 1) / 2)\n",
    "    return LERR # model as single-qubit errors remaining after correction \n",
    "\n",
    "\n",
    "class PauliNoiseModel(NoiseModel):\n",
    "\n",
    "    def __init__(self, error_rate):\n",
    "        self.error_rate = error_rate\n",
    "\n",
    "    def noisy_operation(self, op):\n",
    "        error_rate = self.error_rate\n",
    "        channel = BitFlipChannel(error_rate).on_each(op.qubits)\n",
    "        channel += PhaseFlipChannel(error_rate).on_each(op.qubits)\n",
    "        return [op, channel]"
   ]
  },
  {
   "cell_type": "code",
   "execution_count": 12,
   "metadata": {},
   "outputs": [],
   "source": [
    "def merge_func(op1, op2):\n",
    "    return True"
   ]
  },
  {
   "cell_type": "code",
   "execution_count": 13,
   "metadata": {},
   "outputs": [],
   "source": [
    "def noisy_execute(circ, noise_level, shots, correct_bitstring):\n",
    "    qubits = circ.all_qubits()\n",
    "    copy = Circuit()\n",
    "    for moment in circ.moments:\n",
    "        idle = False\n",
    "        for q in qubits:\n",
    "            # every moment every qubit gets a single-qubit noise op\n",
    "            if not moment.operates_on_single_qubit(q):\n",
    "                idle = True\n",
    "                op_to_circ = Circuit(PauliNoiseModel(noise_level).noisy_operation(cirq.I(q)))\n",
    "                merged_op = cirq.merge_operations_to_circuit_op(op_to_circ, merge_func)\n",
    "                copy.append(moment.with_operations(merged_op.all_operations()))\n",
    "                break\n",
    "        if not idle:\n",
    "            copy.append(moment)\n",
    "    noisy_circ = copy.with_noise(PauliNoiseModel(noise_level))\n",
    "    return execute(noisy_circ, shots=shots, correct_bitstring=correct_bitstring)"
   ]
  },
  {
   "cell_type": "code",
   "execution_count": 14,
   "metadata": {},
   "outputs": [],
   "source": [
    "def distance_scaled_execute(circ, distance, base_noise_level, shots, correct_bitstring):\n",
    "    LERR = gen_noise_model(base_noise_level, distance)\n",
    "    return noisy_execute(circ, LERR, shots, correct_bitstring)"
   ]
  },
  {
   "cell_type": "code",
   "execution_count": 16,
   "metadata": {},
   "outputs": [],
   "source": [
    "def scale_shots(num_device_qubits, scaled_distance, base_shots, n_qubits_circuit):\n",
    "    used_qubits = n_qubits_circuit * scaled_distance ** 2\n",
    "    return base_shots * int(num_device_qubits / used_qubits)"
   ]
  },
  {
   "cell_type": "code",
   "execution_count": 2,
   "metadata": {},
   "outputs": [],
   "source": [
    "num_trials = 100\n",
    "\n",
    "base_shots = 10000\n",
    "device_size = 1200\n",
    "p_err=0.006\n",
    "n_qubits = 2\n",
    "correct_bitstring = [0] * n_qubits\n",
    "depth = 20\n",
    "\n",
    "scale_factors = [1, 3, 5, 7]\n",
    "fac = zne.PolyFactory(scale_factors, order=3)\n",
    "\n",
    "d_array = [21, 19, 17, 15, 13, 11, 9, 7, 5]"
   ]
  },
  {
   "cell_type": "code",
   "execution_count": null,
   "metadata": {},
   "outputs": [],
   "source": [
    "circuits = generate_rb_circuits(n_qubits, depth, trials=num_trials)\n",
    "trial_results = np.zeros((num_trials, 5, len(d_array) - 3)) # row: trial, column: scaling technique, page: distance (high to low)\n",
    "\n",
    "for d_ind in range(len(d_array) - 3):\n",
    "    print(f\"On distance {d_array[d_ind]}\") \n",
    "    for trial in range(num_trials):\n",
    "        if trial in np.linspace(0, num_trials, 11):\n",
    "            print(f\"    On trial {trial}\")  \n",
    "        executor = partial(distance_scaled_execute, distance=d_array[d_ind], base_noise_level=p_err, shots=scale_shots(device_size, d_array[d_ind], base_shots, n_qubits), correct_bitstring=correct_bitstring)\n",
    "        fac.run(circuits[trial], executor, scale_noise=fold_global)\n",
    "        trial_results[trial, :-1, d_ind] = fac.get_expectation_values()\n",
    "        trial_results[trial, -1, d_ind] = distance_scaled_execute(circuits[trial], d_array[d_ind], p_err, 4 * scale_shots(device_size, d_array[d_ind], base_shots, n_qubits), correct_bitstring)\n",
    "    p_err_string = str(p_err).replace(\".\", \"\")[1:]\n",
    "    np.savetxt(os.path.join(\n",
    "                f\"/Users/mistywahl/Documents/GitHub/zne-distance-scaling/notebooks/data_scale_shots_perr_{p_err_string}\",\n",
    "                f\"depth{depth}_distance{d_array[d_ind]}.txt\",\n",
    "            ),\n",
    "            trial_results[:, :, d_ind],\n",
    "        )"
   ]
  },
  {
   "cell_type": "code",
   "execution_count": null,
   "metadata": {},
   "outputs": [],
   "source": [
    "unscaled_results = np.zeros((num_trials, 2, 3))\n",
    "result_ind = 0\n",
    "for d_ind in range(len(d_array) - 3, len(d_array)):\n",
    "    print(f\"On distance {d_array[d_ind]}\") \n",
    "    for trial in range(num_trials):\n",
    "        if trial in np.linspace(0, num_trials, 11):\n",
    "            print(f\"   On trial {trial}\") \n",
    "        unscaled_results[trial, 0, result_ind] = distance_scaled_execute(circuits[trial], d_array[d_ind], base_noise_level=p_err, shots=scale_shots(device_size, d_array[d_ind], base_shots, n_qubits), correct_bitstring=correct_bitstring)\n",
    "        unscaled_results[trial, 1, result_ind] = distance_scaled_execute(circuits[trial], d_array[d_ind], base_noise_level=p_err, shots=4 * scale_shots(device_size, d_array[d_ind], base_shots, n_qubits), correct_bitstring=correct_bitstring)\n",
    "    p_err_string = str(p_err).replace(\".\", \"\")[1:]\n",
    "    np.savetxt(os.path.join(\n",
    "                f\"/Users/mistywahl/Documents/GitHub/zne-distance-scaling/notebooks/data_scale_shots_perr_{p_err_string}\",\n",
    "                f\"depth{depth}_distance{d_array[d_ind]}.txt\",\n",
    "            ),\n",
    "            unscaled_results[:, :, result_ind],\n",
    "        )\n",
    "    result_ind += 1"
   ]
  },
  {
   "cell_type": "code",
   "execution_count": 4,
   "metadata": {},
   "outputs": [],
   "source": [
    "def calculate_folding_exp_vals(scale_factors, exp_vals, num_trials):\n",
    "    \"\"\"Perform extrapolation to zero noise limit on expectation values obtained\n",
    "    with noise scaling by unitary folding. Return mean and standard deviation\n",
    "    of the ZNE expectation values.\n",
    "    \"\"\"\n",
    "    folding_values = np.zeros((num_trials, 1))\n",
    "\n",
    "    for trial in range(num_trials):\n",
    "        folding_values[trial] = fac.extrapolate(scale_factors, exp_vals[trial, : -1], order=3)\n",
    "\n",
    "    return [np.mean(folding_values), np.std(folding_values)]"
   ]
  },
  {
   "cell_type": "code",
   "execution_count": 5,
   "metadata": {},
   "outputs": [],
   "source": [
    "def distance_extrapolation(distance_scale_factors, ds_expectation_values):\n",
    "    fac = zne.PolyFactory(scale_factors=distance_scale_factors, order=3)\n",
    "    for s, v in zip(distance_scale_factors, ds_expectation_values):\n",
    "        fac.push({\"scale_factor\": s}, v)\n",
    "    result = fac.reduce()\n",
    "    # _ = fac.plot_fit()\n",
    "    return result"
   ]
  },
  {
   "cell_type": "code",
   "execution_count": 6,
   "metadata": {},
   "outputs": [],
   "source": [
    "def calculate_ds_exp_vals(d_array, distance_indices, exp_vals, num_trials):\n",
    "    \"\"\"Perform extrapolation to zero noise limit on expectation values obtained\n",
    "    with noise scaling by unitary folding. Return mean and standard deviation\n",
    "    of the ZNE expectation values.\n",
    "    \"\"\"\n",
    "    ds_values = np.zeros((num_trials, len(distance_indices)))\n",
    "    # distance_scale_factors = [gen_noise_model(p_err, d_array[d]) / gen_noise_model(p_err, d_array[distance_indices[0][0]]) for d in distance_indices[0]]\n",
    "\n",
    "    for count, d_ind in enumerate(distance_indices):\n",
    "        distance_scale_factors = [gen_noise_model(p_err, d_array[di]) / gen_noise_model(p_err, d_array[d_ind[0]]) for di in d_ind]\n",
    "        for trial in range(num_trials):\n",
    "            ds_values[trial, count] = distance_extrapolation(distance_scale_factors, exp_vals[trial, d_ind])\n",
    "\n",
    "    return [np.mean(ds_values, axis=0), np.std(ds_values, axis=0)]\n"
   ]
  },
  {
   "cell_type": "code",
   "execution_count": 7,
   "metadata": {},
   "outputs": [],
   "source": [
    "exp_vals_depth20 = np.zeros((num_trials, len(scale_factors) + 1, len(d_array)))\n",
    "\n",
    "folding_exp_vals_depth20 = np.zeros((len(d_array)-3, 2))\n",
    "distance_indices = [[0, 1, 2, 3], [1, 2, 3, 4], [2, 3, 4, 5], [3, 4, 5, 6], [4, 5, 6, 7], [5, 6, 7, 8]]\n",
    "for d_ind in range(len(d_array) - 3):\n",
    "    exp_vals_depth20[:, :, d_ind] = np.loadtxt(os.path.join(\"./data\", f\"depth20_distance{d_array[d_ind]}.txt\"))\n",
    "    folding_exp_vals_depth20[d_ind, :] = (calculate_folding_exp_vals(scale_factors, exp_vals_depth20[:, :, d_ind], num_trials))\n",
    "\n",
    "for d_ind in range(len(d_array)-3, len(d_array)):\n",
    "    exp_val = np.loadtxt(os.path.join(\"./data\", f\"depth20_distance{d_array[d_ind]}.txt\"))\n",
    "    exp_vals_depth20[:, 0, d_ind] = exp_val[:, 0]\n",
    "\n",
    "ds_exp_vals_depth20 = calculate_ds_exp_vals(d_array, distance_indices, exp_vals_depth20[:, 0, :], num_trials)"
   ]
  },
  {
   "cell_type": "code",
   "execution_count": 8,
   "metadata": {},
   "outputs": [
    {
     "name": "stderr",
     "output_type": "stream",
     "text": [
      "/var/folders/mc/x5spc52d2nq_q5x2xpg3r77m0000gn/T/ipykernel_86806/3975711429.py:3: MatplotlibDeprecationWarning: Support for setting an rcParam that expects a str value to a non-str value is deprecated since 3.5 and support will be removed two minor releases later.\n",
      "  plt.rcParams['text.latex.preamble'] = [r'\\usepackage{mathptmx}']\n"
     ]
    }
   ],
   "source": [
    "# LaTeX setup\n",
    "plt.rcParams['text.latex.preamble'] = [r'\\usepackage{mathptmx}']  \n",
    "plt.rcParams['font.family'] = 'serif'  \n",
    "plt.rcParams['text.usetex'] = True"
   ]
  },
  {
   "cell_type": "code",
   "execution_count": 9,
   "metadata": {},
   "outputs": [
    {
     "name": "stderr",
     "output_type": "stream",
     "text": [
      "WARNING - The PS backend determines usetex status solely based on rcParams['text.usetex'] and does not support having usetex=True only for some elements; this element will thus be rendered as if usetex=False.\n",
      "WARNING - The PostScript backend does not support transparency; partially transparent artists will be rendered opaque.\n"
     ]
    },
    {
     "data": {
      "image/png": "[encoded data removed]",
      "text/plain": [
       "<Figure size 432x288 with 1 Axes>"
      ]
     },
     "metadata": {
      "needs_background": "light"
     },
     "output_type": "display_data"
    }
   ],
   "source": [
    "## Plot of expectation values for each set of distances\n",
    "plt.errorbar(d_array[0:6], ds_exp_vals_depth20[0], yerr=ds_exp_vals_depth20[1], ls='--', label='Distance scaling', lw=2)\n",
    "plt.errorbar(d_array[0:6], folding_exp_vals_depth20[:, 0], yerr=folding_exp_vals_depth20[:, 1], ls = '-.',label='Folding')\n",
    "plt.errorbar(d_array[0:6], np.mean(exp_vals_depth20[:, 4, 0:6], axis=0), yerr=np.std(exp_vals_depth20[:, 4, 0:6], axis=0), label='Unmitigated')\n",
    "\n",
    "import matplotlib.font_manager as font_manager\n",
    "font = font_manager.FontProperties(family='serif', style='normal', size=12)\n",
    "plt.xlabel(r'Maximum code distance, $d_{i,0}$', family='serif', fontsize=16)\n",
    "plt.ylabel(r'Expectation value, $E$', family='serif', fontsize=16)\n",
    "plt.xticks(ticks = [11, 13, 15, 17, 19, 21], family='serif', fontsize=14)\n",
    "plt.yticks(family='serif', fontsize=14)\n",
    "plt.legend(loc='lower right', prop=font)\n",
    "plt.text(10.7, 1.03,'Clifford depth: $m = 20$', family='serif', fontsize=12)\n",
    "plt.text(8.7, 1.13, r\"\\textbf{(a)}\", weight='bold', fontsize=14, family='serif')\n",
    "rc('font', **{'family': 'serif', 'serif': ['Times']})\n",
    "rc('text', usetex=False)\n",
    "plt.savefig(\"depth_20_exp_vals.eps\",format = 'eps', bbox_inches=\"tight\")\n",
    "plt.show()"
   ]
  },
  {
   "cell_type": "code",
   "execution_count": 23,
   "metadata": {},
   "outputs": [],
   "source": [
    "def compare_numerical_results(ds_exp_vals, folding_exp_vals, unmitigated_exp_vals):\n",
    "    ds_error = np.abs(np.ones((len(ds_exp_vals[0]))) -  ds_exp_vals[0])\n",
    "    folding_error = np.abs(np.ones((len(folding_exp_vals[:, 0]))) - folding_exp_vals[:, 0])\n",
    "    delta_error = ds_error - folding_error\n",
    "    unmitigated_mean_vals = np.mean(unmitigated_exp_vals, axis=0)\n",
    "    unmitigated_error = np.abs(np.ones(len(unmitigated_mean_vals))-unmitigated_mean_vals)\n",
    "    ds_error_reduction = np.divide((ds_error - unmitigated_error), unmitigated_error)\n",
    "    folding_error_reduction = np.divide((folding_error - unmitigated_error), unmitigated_error)\n",
    "    ds_std = ds_exp_vals[1]\n",
    "    unmitigated_std = np.std(unmitigated_exp_vals, axis=0)\n",
    "    std_ratio = np.divide(np.array(ds_std) - np.array(unmitigated_std), np.array(unmitigated_std))\n",
    "    error_reduction_ratio = np.divide(delta_error, folding_error)\n",
    "    return np.min(ds_error_reduction), np.min(folding_error_reduction), np.min(error_reduction_ratio), np.max(std_ratio)"
   ]
  },
  {
   "cell_type": "code",
   "execution_count": 24,
   "metadata": {},
   "outputs": [
    {
     "data": {
      "text/plain": [
       "(-0.9870633604007159,\n",
       " -0.9643888506344681,\n",
       " -0.8922950725675699,\n",
       " 4.047527356882633)"
      ]
     },
     "execution_count": 24,
     "metadata": {},
     "output_type": "execute_result"
    }
   ],
   "source": [
    "compare_numerical_results(ds_exp_vals_depth20, folding_exp_vals_depth20, exp_vals_depth20[:, 4, 0:6])"
   ]
  },
  {
   "cell_type": "code",
   "execution_count": 12,
   "metadata": {},
   "outputs": [],
   "source": [
    "num_trials = 100\n",
    "\n",
    "base_shots = 10000\n",
    "device_size = 1200\n",
    "p_err=0.006\n",
    "n_qubits = 2\n",
    "correct_bitstring = [0] * n_qubits\n",
    "depth = 30\n",
    "\n",
    "scale_factors = [1, 3, 5, 7]\n",
    "fac = zne.PolyFactory(scale_factors, order=3)\n",
    "\n",
    "d_array = [21, 19, 17, 15, 13, 11, 9, 7, 5]"
   ]
  },
  {
   "cell_type": "code",
   "execution_count": null,
   "metadata": {},
   "outputs": [],
   "source": [
    "circuits = generate_rb_circuits(n_qubits, depth, trials=num_trials)\n",
    "trial_results = np.zeros((num_trials, 5, len(d_array) - 3)) # row: trial, column: scaling technique, page: distance (high to low)\n",
    "for d_ind in range(len(d_array) - 3):\n",
    "    print(f\"On distance {d_array[d_ind]}\") \n",
    "    for trial in range(num_trials):\n",
    "        if trial in np.linspace(0, num_trials, 11):\n",
    "            print(f\"    On trial {trial}\")  \n",
    "        executor = partial(distance_scaled_execute, distance=d_array[d_ind], base_noise_level=p_err, shots=scale_shots(device_size, d_array[d_ind], base_shots, n_qubits), correct_bitstring=correct_bitstring)\n",
    "        fac.run(circuits[trial], executor, scale_noise=fold_global)\n",
    "        trial_results[trial, :-1, d_ind] = fac.get_expectation_values()\n",
    "        trial_results[trial, -1, d_ind] = distance_scaled_execute(circuits[trial], d_array[d_ind], p_err, 4 * scale_shots(device_size, d_array[d_ind], base_shots, n_qubits), correct_bitstring)\n",
    "    p_err_string = str(p_err).replace(\".\", \"\")[1:]\n",
    "    np.savetxt(os.path.join(\n",
    "                f\"/Users/mistywahl/Documents/GitHub/zne-distance-scaling/notebooks/data_scale_shots_perr_{p_err_string}\",\n",
    "                f\"depth{depth}_distance{d_array[d_ind]}.txt\",\n",
    "            ),\n",
    "            trial_results[:, :, d_ind],\n",
    "        )"
   ]
  },
  {
   "cell_type": "code",
   "execution_count": null,
   "metadata": {},
   "outputs": [],
   "source": [
    "unscaled_results = np.zeros((num_trials, 2, 3))\n",
    "result_ind = 0\n",
    "for d_ind in range(len(d_array) - 3, len(d_array)):\n",
    "    print(f\"On distance {d_array[d_ind]}\") \n",
    "    for trial in range(num_trials):\n",
    "        if trial in np.linspace(0, num_trials, 11):\n",
    "            print(f\"   On trial {trial}\") \n",
    "        unscaled_results[trial, 0, result_ind] = distance_scaled_execute(circuits[trial], d_array[d_ind], base_noise_level=p_err, shots=scale_shots(device_size, d_array[d_ind], base_shots, n_qubits), correct_bitstring=correct_bitstring)\n",
    "        unscaled_results[trial, 1, result_ind] = distance_scaled_execute(circuits[trial], d_array[d_ind], base_noise_level=p_err, shots=4 * scale_shots(device_size, d_array[d_ind], base_shots, n_qubits), correct_bitstring=correct_bitstring)\n",
    "    p_err_string = str(p_err).replace(\".\", \"\")[1:]\n",
    "    np.savetxt(os.path.join(\n",
    "                f\"/Users/mistywahl/Documents/GitHub/zne-distance-scaling/notebooks/data_scale_shots_perr_{p_err_string}\",\n",
    "                f\"depth{depth}_distance{d_array[d_ind]}.txt\",\n",
    "            ),\n",
    "            unscaled_results[:, :, result_ind],\n",
    "        )\n",
    "    result_ind += 1"
   ]
  },
  {
   "cell_type": "code",
   "execution_count": 10,
   "metadata": {},
   "outputs": [],
   "source": [
    "exp_vals_depth30 = np.zeros((num_trials, len(scale_factors) + 1, len(d_array)))\n",
    "\n",
    "folding_exp_vals_depth_30 = np.zeros((len(d_array)-3, 2))\n",
    "distance_indices = [[0, 1, 2, 3], [1, 2, 3, 4], [2, 3, 4, 5], [3, 4, 5, 6], [4, 5, 6, 7], [5, 6, 7, 8]]\n",
    "\n",
    "for d_ind in range(len(d_array) - 3):\n",
    "    exp_vals_depth30[:, :, d_ind] = np.loadtxt(os.path.join(\"./data\", f\"depth30_distance{d_array[d_ind]}.txt\"))\n",
    "    folding_exp_vals_depth_30[d_ind, :] = (calculate_folding_exp_vals(scale_factors, exp_vals_depth30[:, :, d_ind], num_trials))\n",
    "\n",
    "for d_ind in range(len(d_array)-3, len(d_array)):\n",
    "    exp_val = np.loadtxt(os.path.join(\"./data\", f\"depth30_distance{d_array[d_ind]}.txt\"))\n",
    "    exp_vals_depth30[:, 0, d_ind] = exp_val[:, 0]\n",
    "\n",
    "ds_exp_vals_depth30 = calculate_ds_exp_vals(d_array, distance_indices, exp_vals_depth30[:, 0, :], num_trials)"
   ]
  },
  {
   "cell_type": "code",
   "execution_count": 12,
   "metadata": {},
   "outputs": [
    {
     "name": "stderr",
     "output_type": "stream",
     "text": [
      "WARNING - The PostScript backend does not support transparency; partially transparent artists will be rendered opaque.\n"
     ]
    },
    {
     "data": {
      "image/png": "[encoded data removed]",
      "text/plain": [
       "<Figure size 432x288 with 1 Axes>"
      ]
     },
     "metadata": {
      "needs_background": "light"
     },
     "output_type": "display_data"
    }
   ],
   "source": [
    "## Plot of expectation values for each set of distances\n",
    "plt.errorbar(d_array[0:6], ds_exp_vals_depth30[0], yerr=ds_exp_vals_depth30[1], ls='--', label='Distance scaling', lw=2)\n",
    "plt.errorbar(d_array[0:6], folding_exp_vals_depth_30[:, 0], yerr=folding_exp_vals_depth_30[:, 1], ls = '-.',label='Folding')\n",
    "plt.errorbar(d_array[0:6], np.mean(exp_vals_depth30[:, 4, 0:6], axis=0), yerr=np.std(exp_vals_depth30[:, 4, 0:6], axis=0), label='Unmitigated')\n",
    "\n",
    "import matplotlib.font_manager as font_manager\n",
    "font = font_manager.FontProperties( size=12)\n",
    "plt.xlabel(r'Maximum code distance, $d_{i,0}$', fontsize=16)\n",
    "plt.ylabel(r'Expectation value, $E$', fontsize=16)\n",
    "plt.xticks(ticks = [11, 13, 15, 17, 19, 21], fontsize=12)\n",
    "plt.yticks(family='serif', fontsize=12)\n",
    "plt.legend(loc='lower right', prop=font)\n",
    "plt.text(10.7, 1.03,'Clifford depth: $m = 30$', fontsize=12)\n",
    "plt.text(8.7, 1.13, r\"\\textbf{(b)}\", fontsize=14)\n",
    "rc('font', **{'family': 'serif', 'serif': ['Times']})\n",
    "rc('text', usetex=True)   # set to False if TeX not installed\n",
    "plt.savefig(\"depth_30_exp_vals.eps\", format = 'eps', bbox_inches=\"tight\")\n",
    "plt.show()"
   ]
  },
  {
   "cell_type": "code",
   "execution_count": 25,
   "metadata": {},
   "outputs": [
    {
     "data": {
      "text/plain": [
       "(-0.9886228923307586,\n",
       " -0.9315866889122667,\n",
       " -0.9157639942570703,\n",
       " 5.149515614378712)"
      ]
     },
     "execution_count": 25,
     "metadata": {},
     "output_type": "execute_result"
    }
   ],
   "source": [
    "compare_numerical_results(ds_exp_vals_depth30, folding_exp_vals_depth_30, exp_vals_depth30[:, 4, 0:6])"
   ]
  },
  {
   "cell_type": "code",
   "execution_count": null,
   "metadata": {},
   "outputs": [],
   "source": [
    "import seaborn as sns\n",
    "from matplotlib import rc\n",
    "\n",
    "sns.set_theme(style=\"white\")\n",
    "\n",
    "\n",
    "d = np.linspace(11, 21, 6, dtype=int)\n",
    "d_prime = d - 8 * np.ones(len(d), dtype=int)\n",
    "inv_d_prime_sq = 1 / (d_prime)**2\n",
    "\n",
    "cores = np.floor(np.outer((d**2), (inv_d_prime_sq))).transpose()\n",
    "\n",
    "# Generate a mask for the upper triangle\n",
    "mask = np.zeros_like(cores, dtype=bool)\n",
    "\n",
    "mask[-1, 0] = True\n",
    "\n",
    "\n",
    "# Generate a custom diverging colormap\n",
    "cmap = sns.diverging_palette(230, 20, as_cmap=True)\n",
    "ax = sns.heatmap(cores, cmap=cmap, mask=mask, vmin=0, vmax=50,\n",
    "             square=True, linewidths=.5, cbar_kws={\"shrink\": .75}, annot=True, annot_kws={\"fontfamily\": \"serif\", \"fontsize\": 9})\n",
    "ax.invert_yaxis()\n",
    "ax.set_xticklabels(d, fontfamily=\"serif\", fontsize=11)\n",
    "ax.set_yticklabels(d_prime, fontfamily=\"serif\", fontsize=11)\n",
    "ax.set_xlabel(r\"Code distance, $d$\", fontfamily=\"serif\", fontsize=14)\n",
    "ax.set_ylabel(r\"Reduced code distance, $d'$\", fontfamily=\"serif\", fontsize=14)\n",
    "ax.collections[0].colorbar.set_label(r\"Virtual cores, $N_{VC}$\", fontfamily=\"serif\", labelpad=8, fontsize=14)\n",
    "ax.collections[0].colorbar.set_ticklabels(ticklabels=[0, 10, 20, 30, 40, 50], fontfamily=\"serif\", fontsize=9)\n",
    "\n",
    "rc('font', **{'family': 'serif', 'serif': ['Times']})\n",
    "rc('text', usetex=True)\n",
    "plt.savefig(\"heatmap.eps\", format = 'eps', bbox_inches=\"tight\")\n"
   ]
  }
 ],
 "metadata": {
  "interpreter": {
   "hash": "992c44e14009e3623432b51dfa0ccb8179e6507fb1569359de12ac98f26b40e8"
  },
  "kernelspec": {
   "display_name": "Python 3.8.13 64-bit ('venv_mitiq_learnrepspec')",
   "language": "python",
   "name": "python3"
  },
  "language_info": {
   "codemirror_mode": {
    "name": "ipython",
    "version": 3
   },
   "file_extension": ".py",
   "mimetype": "text/x-python",
   "name": "python",
   "nbconvert_exporter": "python",
   "pygments_lexer": "ipython3",
   "version": "3.8.13"
  },
  "orig_nbformat": 4
 },
 "nbformat": 4,
 "nbformat_minor": 2
}
